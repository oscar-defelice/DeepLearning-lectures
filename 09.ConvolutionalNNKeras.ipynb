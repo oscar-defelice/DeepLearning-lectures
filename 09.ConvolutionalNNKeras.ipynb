{
 "cells": [
  {
   "cell_type": "markdown",
   "metadata": {},
   "source": [
    "![](https://www.domsoria.com/wp-content/uploads/2019/11/keras.png)"
   ]
  },
  {
   "cell_type": "markdown",
   "metadata": {},
   "source": [
    "# Convolutional Neural Networks\n",
    "\n",
    "One of the most exciting areas of deep learning is for sure _computer vision_. This is based on __Convolutional Neural Networks__.\n",
    "\n",
    "\n",
    "#### Big Data problem\n",
    "Computer vision is a big data problem. Indeed, dealing with images makes the number of features exploding.\n",
    "\n",
    "For instance, consider a $1000 \\times 1000$ pixels colourful image. \n",
    "The number of features is then\n",
    "$$1000 \\times 1000 \\times 3 \\sim 10^6$$\n",
    "And for a $1000$ hidden units layer, the number of weights for the first layer is $\\sim 10^9$. \n",
    "Hence, just for the first layer we have a billion of weights to train.\n",
    "\n",
    "### CNN layers ###\n",
    "\n",
    "#### Convolutional neural networks ####\n",
    "These are the best tool for image related task, basic ingredient for computer vision and actually by far the largest success of Deep Learning.\n",
    "However, they are quite complex objects and data demanding, indeed, people talk about _data hungry model_.\n",
    "\n",
    "**What is the convolution?**\n",
    "\n",
    "![title](images/conv_func.png)\n",
    "\n",
    "> Convolution is a mathematical operation on two functions (f and g) to produce a third function that expresses how the shape of one is modified by the other.\n",
    "\n",
    "![title](images/fgge.png)\n",
    "\n",
    "**Convolutional pass on an image**\n",
    "\n",
    "A matrix transformation on each element\n",
    "\n",
    "![title](images/convExample.png)\n",
    "\n",
    "Grey blocks values in the image below can be calculated by several operations, sum, average, max etc.\n",
    "\n",
    "![](https://miro.medium.com/max/2340/1*Fw-ehcNBR9byHtho-Rxbtw.gif)\n",
    "\n",
    "Here an explicit example\n",
    "\n",
    "![](https://media2.giphy.com/media/i4NjAwytgIRDW/200.gif)\n",
    "\n",
    "**max pooling (or average pooling)**\n",
    "\n",
    "![title](images/mpool.png)\n",
    "\n",
    "every portion of the matrix is averages (or max) by elements: helps transforming an image with large size to an image of smaller size\n",
    "    \n",
    "    1024 --> 512 --> 256 pixels"
   ]
  },
  {
   "cell_type": "markdown",
   "metadata": {},
   "source": [
    "## Edge Detection\n",
    "\n",
    "Consider a gray scale image (for simplicity), thus for example $X = 1000 \\times 1000 \\times 1$.\n",
    "\n",
    "Concretely let's take a very simple image\n",
    "\n",
    "![](images/VerticalEdge.jpg)\n",
    "\n"
   ]
  },
  {
   "cell_type": "markdown",
   "metadata": {},
   "source": [
    "**Question**\n",
    "\n",
    "> Find the matrix form of such image, knowing a black pixel has value 0, and a white one has value 100.\n",
    "\n",
    "**Answer**\n",
    "\n",
    "$$\\begin{pmatrix} 100 & \\ldots & 100 & 0 & \\ldots & 0 \\\\\n",
    "\\vdots  &  \\ddots &  \\vdots & \\vdots  & \\ddots &  \\vdots \\\\\n",
    "100 & \\ldots & 100 & 0 & \\ldots & 0 \\\\\n",
    "\\end{pmatrix}$$\n"
   ]
  },
  {
   "cell_type": "markdown",
   "metadata": {},
   "source": [
    "Now, a simple exercise to show how by a simple convolutional __filter__ (or __kernel__) one can implement an edge detector.\n",
    "\n",
    "The __edge detector kernel__ is made by the following $3 \\times 3$ matrix\n",
    "\n",
    "$$\\begin{pmatrix} 1 & 0 & -1 \\\\\n",
    "1 & 0 & -1 \\\\\n",
    "1 & 0 & -1 \\\\\n",
    "\\end{pmatrix}$$\n",
    "\n",
    "\n",
    "![](https://miro.medium.com/max/1920/1*D6iRfzDkz-sEzyjYoVZ73w.gif)\n",
    "\n",
    "**Excercise**\n",
    "\n",
    "Compute the convolution \n",
    "\n",
    "$$\\begin{pmatrix} 100 & 100 & 100 & 0 & 0 & 0  \\\\\n",
    "100 & 100 & 100 & 0 & 0 & 0 \\\\\n",
    "100 & 100 & 100 & 0 & 0 & 0 \\\\\n",
    "100 & 100 & 100 & 0 & 0 & 0 \\\\\n",
    "100 & 100 & 100 & 0 & 0 & 0 \\\\\n",
    "100 & 100 & 100 & 0 & 0 & 0 \\\\\n",
    "\\end{pmatrix} \\star \\begin{pmatrix} 1 & 0 & -1 \\\\\n",
    "1 & 0 & -1 \\\\\n",
    "1 & 0 & -1 \\\\\n",
    "\\end{pmatrix}$$\n",
    "\n",
    "**Answer**\n",
    "\n",
    "$$\\begin{pmatrix} 100 & 100 & 100 & 0 & 0 & 0  \\\\\n",
    "100 & 100 & 100 & 0 & 0 & 0 \\\\\n",
    "100 & 100 & 100 & 0 & 0 & 0 \\\\\n",
    "100 & 100 & 100 & 0 & 0 & 0 \\\\\n",
    "100 & 100 & 100 & 0 & 0 & 0 \\\\\n",
    "100 & 100 & 100 & 0 & 0 & 0 \\\\\n",
    "\\end{pmatrix} \\star \\begin{pmatrix} 1 & 0 & -1 \\\\\n",
    "1 & 0 & -1 \\\\\n",
    "1 & 0 & -1 \\\\\n",
    "\\end{pmatrix} = \\begin{pmatrix} 0 & 300 & 300 & 0  \\\\\n",
    "0 & 300 & 300 & 0  \\\\\n",
    "0 & 300 & 300 & 0  \\\\\n",
    "0 & 300 & 300 & 0  \\\\\n",
    "\\end{pmatrix} $$"
   ]
  },
  {
   "cell_type": "markdown",
   "metadata": {},
   "source": [
    "# Convolutional Neural Network\n",
    "\n",
    "We will build a Convolutional deep network, and study how this can be useful to work with images and computer vision tasks.\n",
    "\n",
    "**After this lecture you will be able to:**\n",
    "- Build and apply a deep convolutional neural network to supervised learning.\n",
    "\n",
    "Let's get started!"
   ]
  },
  {
   "cell_type": "code",
   "execution_count": 1,
   "metadata": {},
   "outputs": [],
   "source": [
    "# Import libraries\n",
    "import time\n",
    "import numpy as np\n",
    "import pandas as pd\n",
    "import h5py\n",
    "import matplotlib.pyplot as plt\n",
    "import scipy\n",
    "from PIL import Image\n",
    "from scipy import ndimage\n",
    "from utils.dnn_app_utils_v3 import *\n",
    "from sklearn.model_selection import train_test_split\n",
    "from sklearn.datasets import make_moons\n",
    "\n",
    "from tensorflow.keras import layers\n",
    "from tensorflow.keras.layers import Input, Add, Dense, Activation, Dropout, Conv2D, MaxPool2D, Flatten\n",
    "from tensorflow.keras.models import Model, load_model, Sequential\n",
    "from tensorflow.keras.preprocessing import image\n",
    "from tensorflow.keras.applications.imagenet_utils import preprocess_input\n",
    "from tensorflow.keras.optimizers import Adam\n",
    "import pydot\n",
    "from IPython.display import SVG\n",
    "from tensorflow.keras.utils import plot_model\n",
    "from utils.resnets_utils import *\n",
    "from tensorflow.keras.initializers import glorot_uniform\n",
    "from tensorflow.keras.regularizers import l2\n",
    "import scipy.misc\n",
    "from matplotlib.pyplot import imshow\n",
    "\n",
    "import tensorflow.keras.backend as K\n",
    "K.set_image_data_format('channels_last')\n",
    "\n",
    "import skimage.transform\n",
    "import imageio\n",
    "\n",
    "%matplotlib inline\n",
    "%config InlineBackend.figure_format = \"retina\"\n",
    "plt.rcParams['figure.figsize'] = (5.0, 4.0) # set default size of plots\n",
    "plt.rcParams['image.interpolation'] = 'nearest'\n",
    "plt.rcParams['image.cmap'] = 'gray'\n",
    "\n",
    "%load_ext autoreload\n",
    "%autoreload 2\n",
    "\n",
    "np.random.seed(1)"
   ]
  },
  {
   "cell_type": "markdown",
   "metadata": {},
   "source": [
    "# Convolution"
   ]
  },
  {
   "cell_type": "markdown",
   "metadata": {},
   "source": [
    "### SIGNS Dataset\n",
    "\n",
    "One afternoon, with some friends we decided to teach our computers to decipher sign language. We spent a few hours taking pictures in front of a white wall and came up with the following dataset. It's now your job to build an algorithm that would facilitate communications from a speech-impaired person to someone who doesn't understand sign language.\n",
    "\n",
    "- **Training set**: 1080 pictures (64 by 64 pixels) of signs representing numbers from 0 to 5 (180 pictures per number).\n",
    "- **Test set**: 120 pictures (64 by 64 pixels) of signs representing numbers from 0 to 5 (20 pictures per number).\n",
    "\n",
    "Note that this is a subset of the SIGNS dataset. The complete dataset contains many more signs.\n",
    "\n",
    "Here are examples for each number, and how an explanation of how we represent the labels. These are the original pictures, before we lowered the image resolutoion to 64 by 64 pixels.\n",
    "<img src=\"images/hands.png\" style=\"width:800px;height:350px;\"><caption><center> <u><font color='purple'> **Figure 1**</u><font color='purple'>: SIGNS dataset <br> <font color='black'> </center>"
   ]
  },
  {
   "cell_type": "markdown",
   "metadata": {},
   "source": [
    "The following cell loads the dataset."
   ]
  },
  {
   "cell_type": "code",
   "execution_count": 2,
   "metadata": {},
   "outputs": [],
   "source": [
    "# Loading the dataset\n",
    "X_train_orig, Y_train_orig, X_test_orig, Y_test_orig, classes = load_dataset()"
   ]
  },
  {
   "cell_type": "code",
   "execution_count": 3,
   "metadata": {},
   "outputs": [],
   "source": [
    "n_classes = len(classes)"
   ]
  },
  {
   "cell_type": "markdown",
   "metadata": {
    "colab_type": "text",
    "id": "JYimgnMbT12k"
   },
   "source": [
    "Change the index below and run the cell to visualize some examples in the dataset."
   ]
  },
  {
   "cell_type": "code",
   "execution_count": 4,
   "metadata": {
    "colab": {},
    "colab_type": "code",
    "id": "wG0QwVtJT12k"
   },
   "outputs": [
    {
     "name": "stdout",
     "output_type": "stream",
     "text": [
      "y = 5\n"
     ]
    },
    {
     "data": {
      "image/png": "[encoded data removed]",
      "text/plain": [
       "<Figure size 360x288 with 1 Axes>"
      ]
     },
     "metadata": {
      "needs_background": "light"
     },
     "output_type": "display_data"
    }
   ],
   "source": [
    "# Example of a picture\n",
    "index = 0\n",
    "plt.imshow(X_train_orig[index])\n",
    "print (\"y = \" + str(np.squeeze(Y_train_orig[:, index])))"
   ]
  },
  {
   "cell_type": "markdown",
   "metadata": {},
   "source": [
    "As you can see we have a set of hand signs indicating numbers."
   ]
  },
  {
   "cell_type": "markdown",
   "metadata": {},
   "source": [
    "#### Some preprocessing"
   ]
  },
  {
   "cell_type": "code",
   "execution_count": 5,
   "metadata": {},
   "outputs": [
    {
     "name": "stdout",
     "output_type": "stream",
     "text": [
      "number of training examples = 1080\n",
      "number of test examples = 120\n",
      "X_train shape: (1080, 64, 64, 3)\n",
      "Y_train shape: (1080, 6)\n",
      "X_test shape: (120, 64, 64, 3)\n",
      "Y_test shape: (120, 6)\n"
     ]
    }
   ],
   "source": [
    "# Normalize image vectors\n",
    "X_train = X_train_orig/255.\n",
    "X_test = X_test_orig/255.\n",
    "# Convert training and test labels to one hot matrices\n",
    "Y_train = convert_to_one_hot(Y_train_orig, 6).T\n",
    "Y_test = convert_to_one_hot(Y_test_orig, 6).T\n",
    "\n",
    "print (\"number of training examples = \" + str(X_train.shape[0]))\n",
    "print (\"number of test examples = \" + str(X_test.shape[0]))\n",
    "print (\"X_train shape: \" + str(X_train.shape))\n",
    "print (\"Y_train shape: \" + str(Y_train.shape))\n",
    "print (\"X_test shape: \" + str(X_test.shape))\n",
    "print (\"Y_test shape: \" + str(Y_test.shape))"
   ]
  },
  {
   "cell_type": "markdown",
   "metadata": {},
   "source": [
    "**Note** that 12288 comes from $64 \\times 64 \\times 3$. Each image is square, 64 by 64 pixels, and 3 is for the RGB colors. Please make sure all these shapes make sense to you before continuing.\n",
    "\n",
    "**Our goal** is to build an algorithm capable of recognizing a sign with high accuracy. To do so, you are going to build a Keras model that is almost the same as one you have previously built for cat recognition (but now using a softmax output). It is a great occasion to think about how we structure Deep network projects. \n",
    "\n",
    "**The model** is a convolutional model *CONV2D -> RELU -> MAXPOOL -> CONV2D -> RELU -> MAXPOOL -> FLATTEN -> SOFTMAX*. The SIGMOID output layer has been converted to a SOFTMAX. A SOFTMAX layer generalizes SIGMOID to when there are more than two classes. "
   ]
  },
  {
   "cell_type": "markdown",
   "metadata": {},
   "source": [
    "## The model"
   ]
  },
  {
   "cell_type": "code",
   "execution_count": 6,
   "metadata": {
    "scrolled": true
   },
   "outputs": [
    {
     "name": "stdout",
     "output_type": "stream",
     "text": [
      "Model: \"sequential_1\"\n",
      "_________________________________________________________________\n",
      "Layer (type)                 Output Shape              Param #   \n",
      "=================================================================\n",
      "conv2d_1 (Conv2D)            (None, 64, 64, 32)        896       \n",
      "_________________________________________________________________\n",
      "max_pooling2d_1 (MaxPooling2 (None, 8, 8, 32)          0         \n",
      "_________________________________________________________________\n",
      "conv2d_2 (Conv2D)            (None, 8, 8, 64)          18496     \n",
      "_________________________________________________________________\n",
      "max_pooling2d_2 (MaxPooling2 (None, 2, 2, 64)          0         \n",
      "_________________________________________________________________\n",
      "flatten_1 (Flatten)          (None, 256)               0         \n",
      "_________________________________________________________________\n",
      "dense_1 (Dense)              (None, 6)                 1542      \n",
      "=================================================================\n",
      "Total params: 20,934\n",
      "Trainable params: 20,934\n",
      "Non-trainable params: 0\n",
      "_________________________________________________________________\n"
     ]
    }
   ],
   "source": [
    "# model building\n",
    "input_shape = X_train.shape[1:] # number of features\n",
    "model = Sequential()\n",
    "model.add(Conv2D(32, kernel_size=(3, 3),\n",
    "                     activation='relu',\n",
    "                     padding = \"same\", \n",
    "                     input_shape=input_shape))\n",
    "model.add(MaxPool2D(pool_size=(8, 8), strides = (8,8), padding=\"same\"))\n",
    "model.add(Conv2D(64, kernel_size=(3, 3),\n",
    "                     activation='relu',\n",
    "                     padding = \"same\", \n",
    "                     input_shape=input_shape))\n",
    "model.add(MaxPool2D(pool_size=(4, 4), strides = (4, 4), padding=\"same\"))\n",
    "model.add(Flatten())\n",
    "model.add(Dense(n_classes, activation='sigmoid'))\n",
    "\n",
    "opt = Adam(lr=0.001)\n",
    "model.compile(loss='binary_crossentropy', optimizer=opt, metrics=['accuracy'])\n",
    "model.summary()"
   ]
  },
  {
   "cell_type": "code",
   "execution_count": 7,
   "metadata": {
    "scrolled": true
   },
   "outputs": [
    {
     "name": "stdout",
     "output_type": "stream",
     "text": [
      "Train on 864 samples, validate on 216 samples\n",
      "Epoch 1/25\n",
      "864/864 [==============================] - 2s 2ms/step - loss: 0.4870 - accuracy: 0.8187 - val_loss: 0.4517 - val_accuracy: 0.8333\n",
      "Epoch 2/25\n",
      "864/864 [==============================] - 1s 1ms/step - loss: 0.4491 - accuracy: 0.8333 - val_loss: 0.4466 - val_accuracy: 0.8333\n",
      "Epoch 3/25\n",
      "864/864 [==============================] - 1s 1ms/step - loss: 0.4409 - accuracy: 0.8333 - val_loss: 0.4363 - val_accuracy: 0.8333\n",
      "Epoch 4/25\n",
      "864/864 [==============================] - 1s 1ms/step - loss: 0.4319 - accuracy: 0.8333 - val_loss: 0.4250 - val_accuracy: 0.8333\n",
      "Epoch 5/25\n",
      "864/864 [==============================] - 1s 880us/step - loss: 0.4181 - accuracy: 0.8333 - val_loss: 0.4110 - val_accuracy: 0.8333\n",
      "Epoch 6/25\n",
      "864/864 [==============================] - 1s 1ms/step - loss: 0.3964 - accuracy: 0.8333 - val_loss: 0.3858 - val_accuracy: 0.8333\n",
      "Epoch 7/25\n",
      "864/864 [==============================] - 1s 715us/step - loss: 0.3686 - accuracy: 0.8349 - val_loss: 0.3585 - val_accuracy: 0.8341\n",
      "Epoch 8/25\n",
      "864/864 [==============================] - 1s 781us/step - loss: 0.3370 - accuracy: 0.8436 - val_loss: 0.3308 - val_accuracy: 0.8387\n",
      "Epoch 9/25\n",
      "864/864 [==============================] - 1s 898us/step - loss: 0.3114 - accuracy: 0.8592 - val_loss: 0.3126 - val_accuracy: 0.8457\n",
      "Epoch 10/25\n",
      "864/864 [==============================] - 1s 881us/step - loss: 0.2883 - accuracy: 0.8727 - val_loss: 0.3043 - val_accuracy: 0.8681\n",
      "Epoch 11/25\n",
      "864/864 [==============================] - 1s 993us/step - loss: 0.2741 - accuracy: 0.8810 - val_loss: 0.2785 - val_accuracy: 0.8750\n",
      "Epoch 12/25\n",
      "864/864 [==============================] - 1s 888us/step - loss: 0.2556 - accuracy: 0.8935 - val_loss: 0.2763 - val_accuracy: 0.8873\n",
      "Epoch 13/25\n",
      "864/864 [==============================] - 1s 1ms/step - loss: 0.2453 - accuracy: 0.9005 - val_loss: 0.2618 - val_accuracy: 0.8819\n",
      "Epoch 14/25\n",
      "864/864 [==============================] - 1s 690us/step - loss: 0.2301 - accuracy: 0.9051 - val_loss: 0.2459 - val_accuracy: 0.8889\n",
      "Epoch 15/25\n",
      "864/864 [==============================] - 1s 664us/step - loss: 0.2242 - accuracy: 0.9107 - val_loss: 0.2529 - val_accuracy: 0.8943\n",
      "Epoch 16/25\n",
      "864/864 [==============================] - 1s 733us/step - loss: 0.2106 - accuracy: 0.9103 - val_loss: 0.2272 - val_accuracy: 0.9043\n",
      "Epoch 17/25\n",
      "864/864 [==============================] - 1s 1ms/step - loss: 0.2017 - accuracy: 0.9178 - val_loss: 0.2217 - val_accuracy: 0.9113\n",
      "Epoch 18/25\n",
      "864/864 [==============================] - 1s 1ms/step - loss: 0.1880 - accuracy: 0.9280 - val_loss: 0.2213 - val_accuracy: 0.9128\n",
      "Epoch 19/25\n",
      "864/864 [==============================] - 1s 1ms/step - loss: 0.1821 - accuracy: 0.9302 - val_loss: 0.2065 - val_accuracy: 0.9144\n",
      "Epoch 20/25\n",
      "864/864 [==============================] - 1s 794us/step - loss: 0.1747 - accuracy: 0.9315 - val_loss: 0.2040 - val_accuracy: 0.9190\n",
      "Epoch 21/25\n",
      "864/864 [==============================] - 1s 1ms/step - loss: 0.1672 - accuracy: 0.9377 - val_loss: 0.1961 - val_accuracy: 0.9252\n",
      "Epoch 22/25\n",
      "864/864 [==============================] - 1s 892us/step - loss: 0.1617 - accuracy: 0.9383 - val_loss: 0.1927 - val_accuracy: 0.9205\n",
      "Epoch 23/25\n",
      "864/864 [==============================] - 1s 914us/step - loss: 0.1607 - accuracy: 0.9410 - val_loss: 0.1868 - val_accuracy: 0.9336\n",
      "Epoch 24/25\n",
      "864/864 [==============================] - 1s 921us/step - loss: 0.1473 - accuracy: 0.9460 - val_loss: 0.1880 - val_accuracy: 0.9321\n",
      "Epoch 25/25\n",
      "864/864 [==============================] - 1s 1ms/step - loss: 0.1445 - accuracy: 0.9500 - val_loss: 0.1806 - val_accuracy: 0.9275\n"
     ]
    }
   ],
   "source": [
    "# fit model\n",
    "history = model.fit(X_train, Y_train, batch_size=32, epochs=25, validation_split=0.2, shuffle=True)"
   ]
  },
  {
   "cell_type": "code",
   "execution_count": 8,
   "metadata": {},
   "outputs": [
    {
     "name": "stdout",
     "output_type": "stream",
     "text": [
      "dict_keys(['val_loss', 'val_accuracy', 'loss', 'accuracy'])\n"
     ]
    },
    {
     "data": {
      "image/png": "[encoded data removed]",
      "text/plain": [
       "<Figure size 1080x720 with 1 Axes>"
      ]
     },
     "metadata": {
      "needs_background": "light"
     },
     "output_type": "display_data"
    },
    {
     "data": {
      "image/png": "[encoded data removed]",
      "text/plain": [
       "<Figure size 1080x720 with 1 Axes>"
      ]
     },
     "metadata": {
      "needs_background": "light"
     },
     "output_type": "display_data"
    }
   ],
   "source": [
    "print(history.history.keys())\n",
    "\n",
    "plt.figure(figsize=(15,10))\n",
    "\n",
    "# summarize history for accuracy\n",
    "plt.plot(history.history['accuracy'])\n",
    "plt.plot(history.history['val_accuracy'])\n",
    "plt.title('model accuracy')\n",
    "plt.ylabel('accuracy')\n",
    "plt.xlabel('epoch')\n",
    "plt.legend(['train', 'test'], loc='upper left')\n",
    "plt.show()\n",
    "\n",
    "plt.figure(figsize=(15,10))\n",
    "# summarize history for loss\n",
    "plt.plot(history.history['loss'])\n",
    "plt.plot(history.history['val_loss'])\n",
    "plt.title('model loss')\n",
    "plt.ylabel('loss')\n",
    "plt.xlabel('epoch')\n",
    "plt.legend(['train', 'test'], loc='upper left')\n",
    "plt.show()"
   ]
  },
  {
   "cell_type": "code",
   "execution_count": 9,
   "metadata": {},
   "outputs": [
    {
     "name": "stdout",
     "output_type": "stream",
     "text": [
      "Training loss: 0.14926471886811432 \n",
      "Training accuracy: 0.943981409072876\n",
      "===================================\n",
      "Test loss: 0.17815489768981935 \n",
      "Test accuracy: 0.9347222447395325\n"
     ]
    }
   ],
   "source": [
    "train_metr = model.evaluate(X_train, Y_train, verbose=0)\n",
    "results = model.evaluate(X_test, Y_test, verbose=0)\n",
    "\n",
    "print(f'Training {model.metrics_names[0]}: {train_metr[0]} \\nTraining {model.metrics_names[1]}: {train_metr[1]}' )\n",
    "print('='*35)\n",
    "print(f'Test {model.metrics_names[0]}: {results[0]} \\nTest {model.metrics_names[1]}: {results[1]}' )"
   ]
  },
  {
   "cell_type": "markdown",
   "metadata": {},
   "source": [
    "We can see that the model has an accuracy of $92$-$94$%, not bad. Much nicer than a dense \"plain\" network."
   ]
  },
  {
   "cell_type": "markdown",
   "metadata": {},
   "source": [
    "## A further example: MNIST "
   ]
  },
  {
   "cell_type": "markdown",
   "metadata": {},
   "source": [
    "A very popular dataset (and problem) is the one of hand-written digits.\n",
    "\n",
    "We can see how a Deep Learning approach performs much better than a random forest classifier for example"
   ]
  },
  {
   "cell_type": "code",
   "execution_count": 10,
   "metadata": {},
   "outputs": [],
   "source": [
    "from tensorflow.keras.datasets import mnist\n",
    "from tensorflow.keras.utils import to_categorical\n",
    "from tensorflow.keras import backend as K\n",
    "from tensorflow.keras.optimizers import Adadelta\n",
    "from tensorflow.keras.layers import MaxPooling2D\n",
    "\n",
    "from sklearn.ensemble import RandomForestClassifier\n",
    "from sklearn.model_selection import StratifiedKFold\n",
    "from sklearn.model_selection import cross_val_score"
   ]
  },
  {
   "cell_type": "markdown",
   "metadata": {},
   "source": [
    "So we define a CNN model and a Random forest model to compare results"
   ]
  },
  {
   "cell_type": "code",
   "execution_count": 11,
   "metadata": {},
   "outputs": [],
   "source": [
    "def CNNModel(num_classes):\n",
    "    model = Sequential()\n",
    "    # add Convolutional layers\n",
    "    model.add(Conv2D(filters=32, kernel_size=(3,3), activation='relu', padding='same',\n",
    "                     input_shape=(image_height, image_width, num_channels)))\n",
    "    model.add(MaxPooling2D(pool_size=(2,2)))\n",
    "    model.add(Conv2D(filters=64, kernel_size=(3,3), activation='relu', padding='same'))\n",
    "    model.add(MaxPooling2D(pool_size=(2,2)))\n",
    "    model.add(Conv2D(filters=64, kernel_size=(3,3), activation='relu', padding='same'))\n",
    "    model.add(MaxPooling2D(pool_size=(2,2)))    \n",
    "    model.add(Flatten())\n",
    "    # Densely connected layers\n",
    "    model.add(Dense(128, activation='relu'))\n",
    "    # output layer\n",
    "    model.add(Dense(num_classes, activation='softmax'))\n",
    "    # compile with adam optimizer & categorical_crossentropy loss function\n",
    "    model.compile(optimizer='adam', loss='categorical_crossentropy', metrics=['accuracy'])\n",
    "    return model"
   ]
  },
  {
   "cell_type": "code",
   "execution_count": 12,
   "metadata": {},
   "outputs": [
    {
     "name": "stdout",
     "output_type": "stream",
     "text": [
      "x_train shape: (60000, 28, 28, 1)\n",
      "60000 train samples\n",
      "10000 test samples\n"
     ]
    }
   ],
   "source": [
    "# input image dimensions\n",
    "image_height, image_width, num_channels = 28, 28, 1\n",
    "img_rows, img_cols = 28, 28\n",
    "\n",
    "num_classes = 10\n",
    "\n",
    "# the data, split between train and test sets\n",
    "(x_train_orig, y_train_orig), (x_test_orig, y_test_orig) = mnist.load_data()\n",
    "\n",
    "if K.image_data_format() == 'channels_first':\n",
    "    x_train = x_train_orig.reshape(x_train_orig.shape[0], 1, img_rows, img_cols)\n",
    "    x_test = x_test_orig.reshape(x_test_orig.shape[0], 1, img_rows, img_cols)\n",
    "    input_shape = (1, img_rows, img_cols)\n",
    "else:\n",
    "    x_train = x_train_orig.reshape(x_train_orig.shape[0], img_rows, img_cols, 1)\n",
    "    x_test = x_test_orig.reshape(x_test_orig.shape[0], img_rows, img_cols, 1)\n",
    "    input_shape = (img_rows, img_cols, 1)\n",
    "\n",
    "x_train = x_train.astype('float32')\n",
    "x_test = x_test.astype('float32')\n",
    "x_train /= 255\n",
    "x_test /= 255\n",
    "print('x_train shape:', x_train.shape)\n",
    "print(x_train.shape[0], 'train samples')\n",
    "print(x_test.shape[0], 'test samples')\n",
    "\n",
    "# convert class vectors to binary class matrices\n",
    "y_train = to_categorical(y_train_orig, num_classes)\n",
    "y_test = to_categorical(y_test_orig, num_classes)"
   ]
  },
  {
   "cell_type": "markdown",
   "metadata": {},
   "source": [
    "Let's plot data"
   ]
  },
  {
   "cell_type": "code",
   "execution_count": 13,
   "metadata": {
    "scrolled": true
   },
   "outputs": [
    {
     "data": {
      "image/png": "[encoded data removed]",
      "text/plain": [
       "<Figure size 864x360 with 14 Axes>"
      ]
     },
     "metadata": {
      "needs_background": "light"
     },
     "output_type": "display_data"
    }
   ],
   "source": [
    "# display 14 random images from the training set\n",
    "np.random.seed(123)\n",
    "\n",
    "rand_14 = np.random.randint(0, x_train_orig.shape[0],14)\n",
    "sample_digits = x_train_orig[rand_14]\n",
    "sample_labels = y_train_orig[rand_14]\n",
    "# code to view the images\n",
    "num_rows, num_cols = 2, 7\n",
    "f, ax = plt.subplots(num_rows, num_cols, figsize=(12,5),\n",
    "                     gridspec_kw={'wspace':0.03, 'hspace':0.01}, \n",
    "                     squeeze=True)\n",
    "\n",
    "for r in range(num_rows):\n",
    "    for c in range(num_cols):\n",
    "        image_index = r * 7 + c\n",
    "        ax[r,c].axis(\"off\")\n",
    "        ax[r,c].imshow(sample_digits[image_index], cmap='gray')\n",
    "        ax[r,c].set_title('No. %d' % sample_labels[image_index])\n",
    "plt.show()\n",
    "plt.close()"
   ]
  },
  {
   "cell_type": "markdown",
   "metadata": {},
   "source": [
    "### Random forest comparisons ###"
   ]
  },
  {
   "cell_type": "code",
   "execution_count": 14,
   "metadata": {},
   "outputs": [
    {
     "data": {
      "text/plain": [
       "0.7774333333333333"
      ]
     },
     "execution_count": 14,
     "metadata": {},
     "output_type": "execute_result"
    }
   ],
   "source": [
    "# the data, split between train and test sets\n",
    "(x_train_rf, y_train_rf), (x_test_rf, y_test_rf) = mnist.load_data()\n",
    "\n",
    "\n",
    "# Transform data into flatten vectors\n",
    "\n",
    "xtrain_rf = []\n",
    "for x in x_train_rf:\n",
    "    xtrain_rf.append(x.flatten())\n",
    "\n",
    "clf = RandomForestClassifier(n_estimators=20, max_depth=4,random_state=0)\n",
    "\n",
    "kfold = StratifiedKFold(n_splits=3, shuffle=True, random_state=42)\n",
    "results = cross_val_score(estimator = clf , X=xtrain_rf,y=y_train_rf, cv=kfold)\n",
    "\n",
    "np.mean(results)"
   ]
  },
  {
   "cell_type": "markdown",
   "metadata": {},
   "source": [
    "### Convolutional model"
   ]
  },
  {
   "cell_type": "code",
   "execution_count": 15,
   "metadata": {},
   "outputs": [
    {
     "name": "stdout",
     "output_type": "stream",
     "text": [
      "Train on 60000 samples, validate on 10000 samples\n",
      "Epoch 1/4\n",
      "60000/60000 [==============================] - 21s 355us/step - loss: 0.2459 - accuracy: 0.9204 - val_loss: 0.0519 - val_accuracy: 0.9817\n",
      "Epoch 2/4\n",
      "60000/60000 [==============================] - 17s 281us/step - loss: 0.0524 - accuracy: 0.9840 - val_loss: 0.0300 - val_accuracy: 0.9894\n",
      "Epoch 3/4\n",
      "60000/60000 [==============================] - 18s 297us/step - loss: 0.0353 - accuracy: 0.9892 - val_loss: 0.0334 - val_accuracy: 0.9886\n",
      "Epoch 4/4\n",
      "60000/60000 [==============================] - 22s 359us/step - loss: 0.0263 - accuracy: 0.9919 - val_loss: 0.0443 - val_accuracy: 0.9864\n",
      "Diff = 77.89222431182861\n",
      "Test loss: 0.04429906178851379\n",
      "Test accuracy: 0.9864000082015991\n"
     ]
    }
   ],
   "source": [
    "batch_size = 128\n",
    "num_classes = 10\n",
    "epochs = 4\n",
    "\n",
    "model = CNNModel(num_classes)\n",
    "model.compile(loss='categorical_crossentropy',\n",
    "              optimizer=Adadelta(),\n",
    "              metrics=['accuracy'])\n",
    "\n",
    "t0 = time.time()\n",
    "model.fit(x_train, y_train,\n",
    "          batch_size=batch_size,\n",
    "          epochs=epochs,\n",
    "          verbose=1,\n",
    "          validation_data=(x_test, y_test))\n",
    "t1 = time.time()\n",
    "print(\"Diff =\", t1 - t0)\n",
    "\n",
    "score = model.evaluate(x_test, y_test, verbose=0)\n",
    "print('Test loss:', score[0])\n",
    "print('Test accuracy:', score[1])"
   ]
  },
  {
   "cell_type": "markdown",
   "metadata": {},
   "source": [
    "### References  \n",
    "\n",
    "- A quite nice and not too technical reading is [this medium blog post](https://towardsdatascience.com/handling-overfitting-in-deep-learning-models-c760ee047c6e)\n",
    "- Francois Chollet's GitHub repository: https://github.com/fchollet/deep-learning-models/blob/master/resnet50.py\n"
   ]
  }
 ],
 "metadata": {
  "kernelspec": {
   "display_name": "lectures",
   "language": "python",
   "name": "lectures"
  },
  "language_info": {
   "codemirror_mode": {
    "name": "ipython",
    "version": 3
   },
   "file_extension": ".py",
   "mimetype": "text/x-python",
   "name": "python",
   "nbconvert_exporter": "python",
   "pygments_lexer": "ipython3",
   "version": "3.8.0"
  }
 },
 "nbformat": 4,
 "nbformat_minor": 4
}
