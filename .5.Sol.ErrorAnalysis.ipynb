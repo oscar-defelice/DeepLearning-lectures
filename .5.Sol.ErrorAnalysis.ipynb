{
 "cells": [
  {
   "cell_type": "markdown",
   "metadata": {},
   "source": [
    "![](https://miro.medium.com/max/1200/0*3I4P4pkL1xySQS9B.png)"
   ]
  },
  {
   "cell_type": "markdown",
   "metadata": {},
   "source": [
    "# How to Structure a Machine Learning project\n",
    "\n",
    "Here we study the best strategies to work on a big problem in machine learning applications."
   ]
  },
  {
   "cell_type": "markdown",
   "metadata": {},
   "source": [
    "[Here](https://jamboard.google.com/d/1z45e4QmQ0iZAVbgoVi4QxD7DjhW9sX8i2-1_TKKkmlo/edit?usp=sharing) a brief case of study for this lecture."
   ]
  },
  {
   "cell_type": "markdown",
   "metadata": {},
   "source": [
    "## Cross Validation and Parameter Choice"
   ]
  },
  {
   "cell_type": "markdown",
   "metadata": {},
   "source": [
    "![title](https://www.researchgate.net/publication/307087929/figure/fig6/AS:399685689856008@1472303902570/For-cross-validation-and-cross-testing-data-are-divided-into-two-separate-sets-only.png)"
   ]
  },
  {
   "cell_type": "markdown",
   "metadata": {},
   "source": [
    "## Cross validation"
   ]
  },
  {
   "cell_type": "markdown",
   "metadata": {},
   "source": [
    "In the previous discussion, we left the validation set a bit apart. This is the moment to cope with it.\n",
    "\n",
    "The train/test split may introduce an error, due to the fact that we may exclude data that are crucial for the algorithm. For example, think about a binary classification problem, in the case the slit completely excludes a class.\n",
    "\n",
    "This will result in overfitting, even though we’re trying to avoid it! This is where cross validation comes in."
   ]
  },
  {
   "cell_type": "markdown",
   "metadata": {},
   "source": [
    "In order to avoid this, we can perform something called __cross validation__. It is very similar to train/test split, but it is applied to more subsets. Meaning, we split our data into $k$ subsets, and train on $k-1$ one of those subset. What we do is to hold the last subset for test. We’re able to do it for each of the subsets.\n",
    "\n",
    "There are several cross validation methods, we are going to go over two of them: the first is _K-Folds Cross Validation_ and the second is _Leave One Out Cross Validation_ (LOOCV)."
   ]
  },
  {
   "cell_type": "markdown",
   "metadata": {},
   "source": [
    "### K-fold cross validation"
   ]
  },
  {
   "cell_type": "markdown",
   "metadata": {},
   "source": [
    "In $K$-Folds Cross Validation we split our data into $k$ different subsets (or folds). We use $k-1$ subsets to train our data and leave the last subset (or the last fold) as test data. We then average the model against each of the folds and then finalize our model. After that we test it against the test set."
   ]
  },
  {
   "cell_type": "markdown",
   "metadata": {},
   "source": [
    "![title](https://miro.medium.com/max/1400/1*J2B_bcbd1-s1kpWOu_FZrg.png)"
   ]
  },
  {
   "cell_type": "markdown",
   "metadata": {},
   "source": [
    "#### Example"
   ]
  },
  {
   "cell_type": "markdown",
   "metadata": {},
   "source": [
    "To have a concrete idea about how this works, we take an example directly from [sklearn documentation for $k$-fold](https://scikit-learn.org/stable/modules/generated/sklearn.model_selection.KFold.html)."
   ]
  },
  {
   "cell_type": "code",
   "execution_count": 2,
   "metadata": {},
   "outputs": [
    {
     "name": "stdout",
     "output_type": "stream",
     "text": [
      "KFold(n_splits=3, random_state=None, shuffle=False)\n"
     ]
    }
   ],
   "source": [
    "from sklearn.model_selection import KFold # import KFold\n",
    "\n",
    "X = np.array([[1, 2], [3, 4], [1, 2], [3, 4]]) # create an array\n",
    "y = np.array([1, 2, 3, 4]) # Create another array\n",
    "\n",
    "kf = KFold(n_splits=3) # Define the split - into 2 folds \n",
    "kf.get_n_splits(X) # returns the number of splitting iterations in the cross-validator\n",
    "\n",
    "print(kf)"
   ]
  },
  {
   "cell_type": "markdown",
   "metadata": {},
   "source": [
    "One can print out the folds."
   ]
  },
  {
   "cell_type": "code",
   "execution_count": 3,
   "metadata": {},
   "outputs": [
    {
     "name": "stdout",
     "output_type": "stream",
     "text": [
      "TRAIN: [2 3] TEST: [0 1]\n",
      "TRAIN: [0 1 3] TEST: [2]\n",
      "TRAIN: [0 1 2] TEST: [3]\n"
     ]
    }
   ],
   "source": [
    "for train_index, test_index in kf.split(X):\n",
    "    print('TRAIN:', train_index, 'TEST:', test_index)\n",
    "    X_train, X_test = X[train_index], X[test_index]\n",
    "    y_train, y_test = y[train_index], y[test_index]"
   ]
  },
  {
   "cell_type": "markdown",
   "metadata": {},
   "source": [
    "As one can see, the function split the original data into different subsets of the data. \n",
    "This is a very simple example, but it explains the concept pretty well."
   ]
  },
  {
   "cell_type": "markdown",
   "metadata": {},
   "source": [
    "## Leave One Out Cross Validation (LOOCV)"
   ]
  },
  {
   "cell_type": "markdown",
   "metadata": {},
   "source": [
    "Another method we want to analyse is the so-called [Leave One Out Cross Validation](https://scikit-learn.org/stable/modules/generated/sklearn.model_selection.LeaveOneOut.html)."
   ]
  },
  {
   "cell_type": "markdown",
   "metadata": {},
   "source": [
    "In this type of cross validation, the number of folds (subsets) equals to the number of observations we have in the dataset. We then average ALL of these folds and build our model with the average. We then test the model against the last fold. Because we would get a big number of training sets (equals to the number of samples), this method is very computationally expensive and should be used on small datasets. If the dataset is big, it would most likely be better to use a different method, like $k$-fold."
   ]
  },
  {
   "cell_type": "markdown",
   "metadata": {},
   "source": [
    "Again, let's take as example the one from [`sklearn` documentation](https://scikit-learn.org/stable/modules/generated/sklearn.model_selection.LeaveOneOut.html)."
   ]
  },
  {
   "cell_type": "code",
   "execution_count": 4,
   "metadata": {},
   "outputs": [
    {
     "data": {
      "text/plain": [
       "4"
      ]
     },
     "execution_count": 4,
     "metadata": {},
     "output_type": "execute_result"
    }
   ],
   "source": [
    "from sklearn.model_selection import LeaveOneOut # Import LeaveOneOut\n",
    "\n",
    "X = np.array([[1, 2], [3, 4], [5, 6], [7, 8]])\n",
    "y = np.array([1, 2, 3, 4])\n",
    "loo = LeaveOneOut()\n",
    "loo.get_n_splits(X)"
   ]
  },
  {
   "cell_type": "code",
   "execution_count": 5,
   "metadata": {},
   "outputs": [
    {
     "name": "stdout",
     "output_type": "stream",
     "text": [
      "TRAIN: [1 2 3] TEST: [0]\n",
      "X_train:  [[3 4]\n",
      " [5 6]\n",
      " [7 8]] X_test:  [[1 2]] y_train:  [2 3 4] y_test:  [1]\n",
      "=========================\n",
      "TRAIN: [0 2 3] TEST: [1]\n",
      "X_train:  [[1 2]\n",
      " [5 6]\n",
      " [7 8]] X_test:  [[3 4]] y_train:  [1 3 4] y_test:  [2]\n",
      "=========================\n",
      "TRAIN: [0 1 3] TEST: [2]\n",
      "X_train:  [[1 2]\n",
      " [3 4]\n",
      " [7 8]] X_test:  [[5 6]] y_train:  [1 2 4] y_test:  [3]\n",
      "=========================\n",
      "TRAIN: [0 1 2] TEST: [3]\n",
      "X_train:  [[1 2]\n",
      " [3 4]\n",
      " [5 6]] X_test:  [[7 8]] y_train:  [1 2 3] y_test:  [4]\n",
      "=========================\n"
     ]
    }
   ],
   "source": [
    "for train_index, test_index in loo.split(X):\n",
    "    print(\"TRAIN:\", train_index, \"TEST:\", test_index)\n",
    "    X_train, X_test = X[train_index], X[test_index]\n",
    "    y_train, y_test = y[train_index], y[test_index]\n",
    "    print('X_train: ', X_train, 'X_test: ', X_test, 'y_train: ', y_train, 'y_test: ', y_test)\n",
    "    print('='*25)"
   ]
  },
  {
   "cell_type": "markdown",
   "metadata": {},
   "source": [
    "## Further Cross Validation methods"
   ]
  },
  {
   "cell_type": "markdown",
   "metadata": {},
   "source": [
    "We presented two of the most used approaches to cross validation. However, one can check further methods on the [`sklearn` documentation webpage](https://scikit-learn.org/stable/modules/classes.html)."
   ]
  },
  {
   "cell_type": "markdown",
   "metadata": {},
   "source": [
    "## Working Example"
   ]
  },
  {
   "cell_type": "markdown",
   "metadata": {},
   "source": [
    "We want to use the knwon and loved iris dataset to build a neural network classifier. We will make use of cross-validation to choose hyperparameter values:\n",
    "1. how many layers\n",
    "2. how many hidden units\n",
    "3. dropout rate"
   ]
  },
  {
   "cell_type": "code",
   "execution_count": 1,
   "metadata": {},
   "outputs": [
    {
     "name": "stderr",
     "output_type": "stream",
     "text": [
      "Using TensorFlow backend.\n"
     ]
    },
    {
     "name": "stdout",
     "output_type": "stream",
     "text": [
      "------------------------------------------------------------------------\n",
      "Training for fold 1 ...\n",
      "Train on 102 samples, validate on 26 samples\n",
      "Epoch 1/20\n",
      "102/102 [==============================] - 0s 4ms/step - loss: 1.7826 - accuracy: 0.1667 - val_loss: 0.8236 - val_accuracy: 0.5769\n",
      "Epoch 2/20\n",
      "102/102 [==============================] - 0s 274us/step - loss: 1.3665 - accuracy: 0.2157 - val_loss: 1.0826 - val_accuracy: 0.0385\n",
      "Epoch 3/20\n",
      "102/102 [==============================] - 0s 338us/step - loss: 1.2321 - accuracy: 0.2745 - val_loss: 1.2549 - val_accuracy: 0.0000e+00\n",
      "Epoch 4/20\n",
      "102/102 [==============================] - 0s 165us/step - loss: 1.1468 - accuracy: 0.3529 - val_loss: 1.3371 - val_accuracy: 0.0000e+00\n",
      "Epoch 5/20\n",
      "102/102 [==============================] - 0s 168us/step - loss: 1.1080 - accuracy: 0.3922 - val_loss: 1.3974 - val_accuracy: 0.0000e+00\n",
      "Epoch 6/20\n",
      "102/102 [==============================] - 0s 174us/step - loss: 0.9952 - accuracy: 0.4902 - val_loss: 1.4375 - val_accuracy: 0.0000e+00\n",
      "Epoch 7/20\n",
      "102/102 [==============================] - 0s 168us/step - loss: 1.0184 - accuracy: 0.4804 - val_loss: 1.4995 - val_accuracy: 0.0000e+00\n",
      "Epoch 8/20\n",
      "102/102 [==============================] - 0s 168us/step - loss: 0.9603 - accuracy: 0.4804 - val_loss: 1.5360 - val_accuracy: 0.0000e+00\n",
      "Epoch 9/20\n",
      "102/102 [==============================] - 0s 163us/step - loss: 0.9549 - accuracy: 0.5098 - val_loss: 1.5883 - val_accuracy: 0.0000e+00\n",
      "Epoch 10/20\n",
      "102/102 [==============================] - 0s 159us/step - loss: 0.8985 - accuracy: 0.5784 - val_loss: 1.5985 - val_accuracy: 0.0000e+00\n",
      "Epoch 11/20\n",
      "102/102 [==============================] - 0s 166us/step - loss: 0.8937 - accuracy: 0.6078 - val_loss: 1.6218 - val_accuracy: 0.0000e+00\n",
      "Epoch 12/20\n",
      "102/102 [==============================] - 0s 160us/step - loss: 0.8719 - accuracy: 0.6078 - val_loss: 1.6154 - val_accuracy: 0.0000e+00\n",
      "Epoch 13/20\n",
      "102/102 [==============================] - 0s 161us/step - loss: 0.8048 - accuracy: 0.7451 - val_loss: 1.5883 - val_accuracy: 0.0000e+00\n",
      "Epoch 14/20\n",
      "102/102 [==============================] - 0s 177us/step - loss: 0.7853 - accuracy: 0.6961 - val_loss: 1.5369 - val_accuracy: 0.0000e+00\n",
      "Epoch 15/20\n",
      "102/102 [==============================] - 0s 184us/step - loss: 0.7655 - accuracy: 0.6863 - val_loss: 1.3804 - val_accuracy: 0.0000e+00\n",
      "Epoch 16/20\n",
      "102/102 [==============================] - 0s 171us/step - loss: 0.6867 - accuracy: 0.7451 - val_loss: 1.2367 - val_accuracy: 0.0000e+00\n",
      "Epoch 17/20\n",
      "102/102 [==============================] - 0s 184us/step - loss: 0.6632 - accuracy: 0.7843 - val_loss: 1.1058 - val_accuracy: 0.0000e+00\n",
      "Epoch 18/20\n",
      "102/102 [==============================] - 0s 178us/step - loss: 0.6056 - accuracy: 0.7549 - val_loss: 1.0137 - val_accuracy: 0.0000e+00\n",
      "Epoch 19/20\n",
      "102/102 [==============================] - 0s 177us/step - loss: 0.5852 - accuracy: 0.8333 - val_loss: 0.8982 - val_accuracy: 0.0769\n",
      "Epoch 20/20\n",
      "102/102 [==============================] - 0s 177us/step - loss: 0.5248 - accuracy: 0.8529 - val_loss: 0.8124 - val_accuracy: 0.3077\n",
      "Score for fold 1: loss of 0.5670289397239685; accuracy of 77.27272510528564%\n",
      "------------------------------------------------------------------------\n",
      "Training for fold 2 ...\n",
      "Train on 102 samples, validate on 26 samples\n",
      "Epoch 1/20\n",
      "102/102 [==============================] - 0s 3ms/step - loss: 1.7748 - accuracy: 0.4608 - val_loss: 0.4335 - val_accuracy: 1.0000\n",
      "Epoch 2/20\n",
      "102/102 [==============================] - 0s 176us/step - loss: 1.1534 - accuracy: 0.5392 - val_loss: 0.7359 - val_accuracy: 1.0000\n",
      "Epoch 3/20\n",
      "102/102 [==============================] - 0s 173us/step - loss: 0.9037 - accuracy: 0.5098 - val_loss: 1.0576 - val_accuracy: 0.1154\n",
      "Epoch 4/20\n",
      "102/102 [==============================] - 0s 179us/step - loss: 0.7656 - accuracy: 0.6569 - val_loss: 1.2513 - val_accuracy: 0.0000e+00\n",
      "Epoch 5/20\n",
      "102/102 [==============================] - 0s 348us/step - loss: 0.7316 - accuracy: 0.7255 - val_loss: 1.2656 - val_accuracy: 0.0000e+00\n",
      "Epoch 6/20\n",
      "102/102 [==============================] - 0s 172us/step - loss: 0.7107 - accuracy: 0.7157 - val_loss: 1.1444 - val_accuracy: 0.0000e+00\n",
      "Epoch 7/20\n",
      "102/102 [==============================] - 0s 139us/step - loss: 0.6723 - accuracy: 0.6961 - val_loss: 1.1409 - val_accuracy: 0.0000e+00\n",
      "Epoch 8/20\n",
      "102/102 [==============================] - 0s 140us/step - loss: 0.6130 - accuracy: 0.7745 - val_loss: 1.1364 - val_accuracy: 0.0000e+00\n",
      "Epoch 9/20\n",
      "102/102 [==============================] - 0s 140us/step - loss: 0.5930 - accuracy: 0.7549 - val_loss: 1.1103 - val_accuracy: 0.0000e+00\n",
      "Epoch 10/20\n",
      "102/102 [==============================] - 0s 138us/step - loss: 0.5827 - accuracy: 0.7843 - val_loss: 1.0352 - val_accuracy: 0.0000e+00\n",
      "Epoch 11/20\n",
      "102/102 [==============================] - 0s 140us/step - loss: 0.5227 - accuracy: 0.7941 - val_loss: 0.9994 - val_accuracy: 0.0000e+00\n",
      "Epoch 12/20\n",
      "102/102 [==============================] - 0s 141us/step - loss: 0.5244 - accuracy: 0.7647 - val_loss: 1.0377 - val_accuracy: 0.0000e+00\n",
      "Epoch 13/20\n",
      "102/102 [==============================] - 0s 141us/step - loss: 0.5070 - accuracy: 0.7941 - val_loss: 1.0506 - val_accuracy: 0.0000e+00\n",
      "Epoch 14/20\n",
      "102/102 [==============================] - 0s 139us/step - loss: 0.4587 - accuracy: 0.8431 - val_loss: 1.0157 - val_accuracy: 0.0000e+00\n",
      "Epoch 15/20\n",
      "102/102 [==============================] - 0s 139us/step - loss: 0.4907 - accuracy: 0.8137 - val_loss: 0.9527 - val_accuracy: 0.0000e+00\n",
      "Epoch 16/20\n",
      "102/102 [==============================] - 0s 139us/step - loss: 0.4641 - accuracy: 0.8431 - val_loss: 0.9041 - val_accuracy: 0.0000e+00\n",
      "Epoch 17/20\n",
      "102/102 [==============================] - 0s 139us/step - loss: 0.4272 - accuracy: 0.8529 - val_loss: 0.8874 - val_accuracy: 0.0000e+00\n",
      "Epoch 18/20\n",
      "102/102 [==============================] - 0s 139us/step - loss: 0.4054 - accuracy: 0.8922 - val_loss: 0.9263 - val_accuracy: 0.0000e+00\n",
      "Epoch 19/20\n",
      "102/102 [==============================] - 0s 121us/step - loss: 0.3906 - accuracy: 0.8725 - val_loss: 0.9858 - val_accuracy: 0.0000e+00\n",
      "Epoch 20/20\n",
      "102/102 [==============================] - 0s 128us/step - loss: 0.3791 - accuracy: 0.8627 - val_loss: 0.9913 - val_accuracy: 0.0000e+00\n",
      "Score for fold 2: loss of 0.3678196966648102; accuracy of 77.27272510528564%\n",
      "------------------------------------------------------------------------\n",
      "Training for fold 3 ...\n",
      "Train on 102 samples, validate on 26 samples\n",
      "Epoch 1/20\n",
      "102/102 [==============================] - 0s 3ms/step - loss: 1.1455 - accuracy: 0.3137 - val_loss: 0.7178 - val_accuracy: 1.0000\n",
      "Epoch 2/20\n",
      "102/102 [==============================] - 0s 252us/step - loss: 0.8957 - accuracy: 0.5392 - val_loss: 0.9502 - val_accuracy: 0.0000e+00\n",
      "Epoch 3/20\n",
      "102/102 [==============================] - 0s 161us/step - loss: 0.7923 - accuracy: 0.7745 - val_loss: 1.0176 - val_accuracy: 0.0000e+00\n",
      "Epoch 4/20\n",
      "102/102 [==============================] - 0s 160us/step - loss: 0.7394 - accuracy: 0.7157 - val_loss: 0.7451 - val_accuracy: 0.0000e+00\n",
      "Epoch 5/20\n",
      "102/102 [==============================] - 0s 160us/step - loss: 0.6157 - accuracy: 0.7843 - val_loss: 0.7574 - val_accuracy: 0.0000e+00\n",
      "Epoch 6/20\n",
      "102/102 [==============================] - 0s 159us/step - loss: 0.5867 - accuracy: 0.7353 - val_loss: 0.9826 - val_accuracy: 0.0000e+00\n",
      "Epoch 7/20\n",
      "102/102 [==============================] - 0s 170us/step - loss: 0.5691 - accuracy: 0.7451 - val_loss: 0.8890 - val_accuracy: 0.0000e+00\n",
      "Epoch 8/20\n",
      "102/102 [==============================] - 0s 159us/step - loss: 0.5635 - accuracy: 0.7843 - val_loss: 0.7678 - val_accuracy: 0.0000e+00\n",
      "Epoch 9/20\n",
      "102/102 [==============================] - 0s 159us/step - loss: 0.4525 - accuracy: 0.8333 - val_loss: 0.7115 - val_accuracy: 0.2308\n",
      "Epoch 10/20\n",
      "102/102 [==============================] - 0s 156us/step - loss: 0.4383 - accuracy: 0.8431 - val_loss: 0.7249 - val_accuracy: 0.3846\n",
      "Epoch 11/20\n",
      "102/102 [==============================] - 0s 155us/step - loss: 0.4414 - accuracy: 0.7843 - val_loss: 0.7174 - val_accuracy: 0.3846\n",
      "Epoch 12/20\n"
     ]
    },
    {
     "name": "stdout",
     "output_type": "stream",
     "text": [
      "102/102 [==============================] - 0s 155us/step - loss: 0.4077 - accuracy: 0.8529 - val_loss: 0.7265 - val_accuracy: 0.3846\n",
      "Epoch 13/20\n",
      "102/102 [==============================] - 0s 154us/step - loss: 0.4065 - accuracy: 0.8333 - val_loss: 0.7634 - val_accuracy: 0.2308\n",
      "Epoch 14/20\n",
      "102/102 [==============================] - 0s 153us/step - loss: 0.4764 - accuracy: 0.7941 - val_loss: 0.5748 - val_accuracy: 0.9615\n",
      "Epoch 15/20\n",
      "102/102 [==============================] - 0s 152us/step - loss: 0.4110 - accuracy: 0.8039 - val_loss: 0.5928 - val_accuracy: 0.8846\n",
      "Epoch 16/20\n",
      "102/102 [==============================] - 0s 170us/step - loss: 0.3943 - accuracy: 0.8431 - val_loss: 0.4595 - val_accuracy: 1.0000\n",
      "Epoch 17/20\n",
      "102/102 [==============================] - 0s 191us/step - loss: 0.4101 - accuracy: 0.7549 - val_loss: 0.4855 - val_accuracy: 1.0000\n",
      "Epoch 18/20\n",
      "102/102 [==============================] - 0s 191us/step - loss: 0.3757 - accuracy: 0.8725 - val_loss: 0.6542 - val_accuracy: 0.6154\n",
      "Epoch 19/20\n",
      "102/102 [==============================] - 0s 218us/step - loss: 0.3884 - accuracy: 0.8431 - val_loss: 0.9087 - val_accuracy: 0.0385\n",
      "Epoch 20/20\n",
      "102/102 [==============================] - 0s 192us/step - loss: 0.3712 - accuracy: 0.8235 - val_loss: 0.7920 - val_accuracy: 0.3462\n",
      "Score for fold 3: loss of 0.24879460036754608; accuracy of 90.90909361839294%\n",
      "------------------------------------------------------------------------\n",
      "Training for fold 4 ...\n",
      "Train on 103 samples, validate on 26 samples\n",
      "Epoch 1/20\n",
      "103/103 [==============================] - 0s 4ms/step - loss: 1.1395 - accuracy: 0.4175 - val_loss: 2.2146 - val_accuracy: 0.0000e+00\n",
      "Epoch 2/20\n",
      "103/103 [==============================] - 0s 175us/step - loss: 1.0495 - accuracy: 0.4369 - val_loss: 1.6852 - val_accuracy: 0.0000e+00\n",
      "Epoch 3/20\n",
      "103/103 [==============================] - 0s 177us/step - loss: 0.9320 - accuracy: 0.5631 - val_loss: 1.3887 - val_accuracy: 0.0000e+00\n",
      "Epoch 4/20\n",
      "103/103 [==============================] - 0s 174us/step - loss: 0.8334 - accuracy: 0.6602 - val_loss: 1.1320 - val_accuracy: 0.0000e+00\n",
      "Epoch 5/20\n",
      "103/103 [==============================] - 0s 310us/step - loss: 0.7393 - accuracy: 0.6796 - val_loss: 1.1625 - val_accuracy: 0.0000e+00\n",
      "Epoch 6/20\n",
      "103/103 [==============================] - 0s 214us/step - loss: 0.6364 - accuracy: 0.7767 - val_loss: 1.2844 - val_accuracy: 0.0000e+00\n",
      "Epoch 7/20\n",
      "103/103 [==============================] - 0s 222us/step - loss: 0.5839 - accuracy: 0.7379 - val_loss: 0.9287 - val_accuracy: 0.0385\n",
      "Epoch 8/20\n",
      "103/103 [==============================] - 0s 343us/step - loss: 0.4972 - accuracy: 0.8447 - val_loss: 0.9572 - val_accuracy: 0.0000e+00\n",
      "Epoch 9/20\n",
      "103/103 [==============================] - 0s 214us/step - loss: 0.4800 - accuracy: 0.8350 - val_loss: 0.8755 - val_accuracy: 0.1154\n",
      "Epoch 10/20\n",
      "103/103 [==============================] - 0s 165us/step - loss: 0.4551 - accuracy: 0.8544 - val_loss: 0.9530 - val_accuracy: 0.0000e+00\n",
      "Epoch 11/20\n",
      "103/103 [==============================] - 0s 164us/step - loss: 0.4021 - accuracy: 0.8544 - val_loss: 0.7857 - val_accuracy: 0.3077\n",
      "Epoch 12/20\n",
      "103/103 [==============================] - 0s 174us/step - loss: 0.3876 - accuracy: 0.8835 - val_loss: 0.9387 - val_accuracy: 0.0769\n",
      "Epoch 13/20\n",
      "103/103 [==============================] - 0s 173us/step - loss: 0.3533 - accuracy: 0.8835 - val_loss: 0.9909 - val_accuracy: 0.0385\n",
      "Epoch 14/20\n",
      "103/103 [==============================] - 0s 176us/step - loss: 0.3277 - accuracy: 0.8835 - val_loss: 0.8039 - val_accuracy: 0.3462\n",
      "Epoch 15/20\n",
      "103/103 [==============================] - 0s 138us/step - loss: 0.3429 - accuracy: 0.8544 - val_loss: 0.8705 - val_accuracy: 0.3077\n",
      "Epoch 16/20\n",
      "103/103 [==============================] - 0s 154us/step - loss: 0.3161 - accuracy: 0.8835 - val_loss: 0.8452 - val_accuracy: 0.3077\n",
      "Epoch 17/20\n",
      "103/103 [==============================] - 0s 148us/step - loss: 0.2915 - accuracy: 0.9126 - val_loss: 0.8375 - val_accuracy: 0.3462\n",
      "Epoch 18/20\n",
      "103/103 [==============================] - 0s 165us/step - loss: 0.2771 - accuracy: 0.9515 - val_loss: 0.8717 - val_accuracy: 0.3077\n",
      "Epoch 19/20\n",
      "103/103 [==============================] - 0s 166us/step - loss: 0.2817 - accuracy: 0.9223 - val_loss: 0.7446 - val_accuracy: 0.4231\n",
      "Epoch 20/20\n",
      "103/103 [==============================] - 0s 167us/step - loss: 0.2641 - accuracy: 0.9126 - val_loss: 0.5137 - val_accuracy: 0.8077\n",
      "Score for fold 4: loss of 0.22271974384784698; accuracy of 95.23809552192688%\n",
      "------------------------------------------------------------------------\n",
      "Training for fold 5 ...\n",
      "Train on 103 samples, validate on 26 samples\n",
      "Epoch 1/20\n",
      "103/103 [==============================] - 0s 4ms/step - loss: 1.4732 - accuracy: 0.1650 - val_loss: 1.0551 - val_accuracy: 0.0000e+00\n",
      "Epoch 2/20\n",
      "103/103 [==============================] - 0s 187us/step - loss: 1.0666 - accuracy: 0.3398 - val_loss: 1.6424 - val_accuracy: 0.0000e+00\n",
      "Epoch 3/20\n",
      "103/103 [==============================] - 0s 186us/step - loss: 1.0011 - accuracy: 0.6408 - val_loss: 1.7010 - val_accuracy: 0.0000e+00\n",
      "Epoch 4/20\n",
      "103/103 [==============================] - 0s 235us/step - loss: 0.9323 - accuracy: 0.7184 - val_loss: 1.7890 - val_accuracy: 0.0000e+00\n",
      "Epoch 5/20\n",
      "103/103 [==============================] - 0s 270us/step - loss: 0.9137 - accuracy: 0.6893 - val_loss: 1.7617 - val_accuracy: 0.0000e+00\n",
      "Epoch 6/20\n",
      "103/103 [==============================] - 0s 225us/step - loss: 0.7965 - accuracy: 0.7767 - val_loss: 1.8442 - val_accuracy: 0.0000e+00\n",
      "Epoch 7/20\n",
      "103/103 [==============================] - 0s 224us/step - loss: 0.7566 - accuracy: 0.8155 - val_loss: 1.9513 - val_accuracy: 0.0000e+00\n",
      "Epoch 8/20\n",
      "103/103 [==============================] - 0s 223us/step - loss: 0.7797 - accuracy: 0.7573 - val_loss: 1.9255 - val_accuracy: 0.0000e+00\n",
      "Epoch 9/20\n",
      "103/103 [==============================] - 0s 233us/step - loss: 0.6887 - accuracy: 0.7961 - val_loss: 1.8924 - val_accuracy: 0.0000e+00\n",
      "Epoch 10/20\n",
      "103/103 [==============================] - 0s 189us/step - loss: 0.6247 - accuracy: 0.8350 - val_loss: 1.6862 - val_accuracy: 0.0000e+00\n",
      "Epoch 11/20\n",
      "103/103 [==============================] - 0s 175us/step - loss: 0.5877 - accuracy: 0.8350 - val_loss: 1.5170 - val_accuracy: 0.0000e+00\n",
      "Epoch 12/20\n",
      "103/103 [==============================] - 0s 175us/step - loss: 0.5496 - accuracy: 0.8544 - val_loss: 1.4489 - val_accuracy: 0.0000e+00\n",
      "Epoch 13/20\n",
      "103/103 [==============================] - 0s 174us/step - loss: 0.4673 - accuracy: 0.8447 - val_loss: 1.3584 - val_accuracy: 0.0000e+00\n",
      "Epoch 14/20\n",
      "103/103 [==============================] - 0s 213us/step - loss: 0.4529 - accuracy: 0.8544 - val_loss: 1.2210 - val_accuracy: 0.0000e+00\n",
      "Epoch 15/20\n",
      "103/103 [==============================] - 0s 226us/step - loss: 0.4474 - accuracy: 0.8641 - val_loss: 1.1377 - val_accuracy: 0.0000e+00\n",
      "Epoch 16/20\n",
      "103/103 [==============================] - 0s 217us/step - loss: 0.4326 - accuracy: 0.8738 - val_loss: 1.1122 - val_accuracy: 0.0000e+00\n",
      "Epoch 17/20\n",
      "103/103 [==============================] - 0s 220us/step - loss: 0.4144 - accuracy: 0.8447 - val_loss: 1.0985 - val_accuracy: 0.0000e+00\n",
      "Epoch 18/20\n",
      "103/103 [==============================] - 0s 397us/step - loss: 0.4184 - accuracy: 0.8447 - val_loss: 1.1250 - val_accuracy: 0.0000e+00\n",
      "Epoch 19/20\n",
      "103/103 [==============================] - 0s 166us/step - loss: 0.3861 - accuracy: 0.8350 - val_loss: 1.0957 - val_accuracy: 0.0000e+00\n",
      "Epoch 20/20\n",
      "103/103 [==============================] - 0s 177us/step - loss: 0.3400 - accuracy: 0.9029 - val_loss: 1.0038 - val_accuracy: 0.0000e+00\n",
      "Score for fold 5: loss of 0.4845801889896393; accuracy of 61.90476417541504%\n",
      "------------------------------------------------------------------------\n",
      "Training for fold 6 ...\n",
      "Train on 103 samples, validate on 26 samples\n",
      "Epoch 1/20\n",
      "103/103 [==============================] - 0s 4ms/step - loss: 1.3464 - accuracy: 0.2913 - val_loss: 2.1009 - val_accuracy: 0.0000e+00\n",
      "Epoch 2/20\n",
      "103/103 [==============================] - 0s 417us/step - loss: 1.0424 - accuracy: 0.5922 - val_loss: 2.4792 - val_accuracy: 0.0000e+00\n",
      "Epoch 3/20\n"
     ]
    },
    {
     "name": "stdout",
     "output_type": "stream",
     "text": [
      "103/103 [==============================] - 0s 188us/step - loss: 1.0818 - accuracy: 0.5534 - val_loss: 1.9399 - val_accuracy: 0.0000e+00\n",
      "Epoch 4/20\n",
      "103/103 [==============================] - 0s 126us/step - loss: 1.0119 - accuracy: 0.6214 - val_loss: 1.8491 - val_accuracy: 0.0000e+00\n",
      "Epoch 5/20\n",
      "103/103 [==============================] - 0s 135us/step - loss: 0.9546 - accuracy: 0.7184 - val_loss: 1.7222 - val_accuracy: 0.0000e+00\n",
      "Epoch 6/20\n",
      "103/103 [==============================] - 0s 162us/step - loss: 0.8776 - accuracy: 0.7573 - val_loss: 1.7332 - val_accuracy: 0.0000e+00\n",
      "Epoch 7/20\n",
      "103/103 [==============================] - 0s 165us/step - loss: 0.8012 - accuracy: 0.7282 - val_loss: 1.6518 - val_accuracy: 0.0000e+00\n",
      "Epoch 8/20\n",
      "103/103 [==============================] - 0s 157us/step - loss: 0.8364 - accuracy: 0.6505 - val_loss: 1.6017 - val_accuracy: 0.0000e+00\n",
      "Epoch 9/20\n",
      "103/103 [==============================] - 0s 178us/step - loss: 0.7825 - accuracy: 0.6602 - val_loss: 1.3120 - val_accuracy: 0.0000e+00\n",
      "Epoch 10/20\n",
      "103/103 [==============================] - 0s 149us/step - loss: 0.6540 - accuracy: 0.7476 - val_loss: 1.2545 - val_accuracy: 0.0000e+00\n",
      "Epoch 11/20\n",
      "103/103 [==============================] - 0s 163us/step - loss: 0.5514 - accuracy: 0.7961 - val_loss: 1.3556 - val_accuracy: 0.0000e+00\n",
      "Epoch 12/20\n",
      "103/103 [==============================] - 0s 157us/step - loss: 0.5108 - accuracy: 0.7864 - val_loss: 1.1026 - val_accuracy: 0.0000e+00\n",
      "Epoch 13/20\n",
      "103/103 [==============================] - 0s 156us/step - loss: 0.4176 - accuracy: 0.8350 - val_loss: 0.9827 - val_accuracy: 0.0000e+00\n",
      "Epoch 14/20\n",
      "103/103 [==============================] - 0s 268us/step - loss: 0.4706 - accuracy: 0.7961 - val_loss: 1.0544 - val_accuracy: 0.0000e+00\n",
      "Epoch 15/20\n",
      "103/103 [==============================] - 0s 135us/step - loss: 0.4090 - accuracy: 0.8155 - val_loss: 1.1343 - val_accuracy: 0.0000e+00\n",
      "Epoch 16/20\n",
      "103/103 [==============================] - 0s 144us/step - loss: 0.3952 - accuracy: 0.8447 - val_loss: 1.2045 - val_accuracy: 0.0000e+00\n",
      "Epoch 17/20\n",
      "103/103 [==============================] - 0s 157us/step - loss: 0.3766 - accuracy: 0.8155 - val_loss: 1.0157 - val_accuracy: 0.0000e+00\n",
      "Epoch 18/20\n",
      "103/103 [==============================] - 0s 156us/step - loss: 0.4037 - accuracy: 0.8350 - val_loss: 0.9616 - val_accuracy: 0.0000e+00\n",
      "Epoch 19/20\n",
      "103/103 [==============================] - 0s 157us/step - loss: 0.3418 - accuracy: 0.8738 - val_loss: 1.1417 - val_accuracy: 0.0000e+00\n",
      "Epoch 20/20\n",
      "103/103 [==============================] - 0s 158us/step - loss: 0.3507 - accuracy: 0.8350 - val_loss: 0.9839 - val_accuracy: 0.0000e+00\n",
      "Score for fold 6: loss of 0.438296377658844; accuracy of 66.66666865348816%\n",
      "------------------------------------------------------------------------\n",
      "Training for fold 7 ...\n",
      "Train on 103 samples, validate on 26 samples\n",
      "Epoch 1/20\n",
      "103/103 [==============================] - 0s 4ms/step - loss: 1.6441 - accuracy: 0.2427 - val_loss: 0.9944 - val_accuracy: 0.0000e+00\n",
      "Epoch 2/20\n",
      "103/103 [==============================] - 0s 247us/step - loss: 0.9256 - accuracy: 0.5825 - val_loss: 1.8072 - val_accuracy: 0.0000e+00\n",
      "Epoch 3/20\n",
      "103/103 [==============================] - 0s 169us/step - loss: 0.7038 - accuracy: 0.7670 - val_loss: 1.7598 - val_accuracy: 0.0000e+00\n",
      "Epoch 4/20\n",
      "103/103 [==============================] - 0s 159us/step - loss: 0.5701 - accuracy: 0.8447 - val_loss: 1.5011 - val_accuracy: 0.0000e+00\n",
      "Epoch 5/20\n",
      "103/103 [==============================] - 0s 160us/step - loss: 0.5013 - accuracy: 0.8641 - val_loss: 1.3574 - val_accuracy: 0.0000e+00\n",
      "Epoch 6/20\n",
      "103/103 [==============================] - 0s 157us/step - loss: 0.4584 - accuracy: 0.8447 - val_loss: 1.1392 - val_accuracy: 0.0000e+00\n",
      "Epoch 7/20\n",
      "103/103 [==============================] - 0s 161us/step - loss: 0.4395 - accuracy: 0.8641 - val_loss: 1.1756 - val_accuracy: 0.0000e+00\n",
      "Epoch 8/20\n",
      "103/103 [==============================] - 0s 160us/step - loss: 0.3963 - accuracy: 0.8738 - val_loss: 1.3303 - val_accuracy: 0.0000e+00\n",
      "Epoch 9/20\n",
      "103/103 [==============================] - 0s 168us/step - loss: 0.3837 - accuracy: 0.8544 - val_loss: 1.3655 - val_accuracy: 0.0000e+00\n",
      "Epoch 10/20\n",
      "103/103 [==============================] - 0s 158us/step - loss: 0.3903 - accuracy: 0.8544 - val_loss: 1.1843 - val_accuracy: 0.0000e+00\n",
      "Epoch 11/20\n",
      "103/103 [==============================] - 0s 151us/step - loss: 0.3488 - accuracy: 0.8835 - val_loss: 1.1665 - val_accuracy: 0.0000e+00\n",
      "Epoch 12/20\n",
      "103/103 [==============================] - 0s 150us/step - loss: 0.3374 - accuracy: 0.8835 - val_loss: 1.2907 - val_accuracy: 0.0000e+00\n",
      "Epoch 13/20\n",
      "103/103 [==============================] - 0s 154us/step - loss: 0.3295 - accuracy: 0.8835 - val_loss: 1.2258 - val_accuracy: 0.0000e+00\n",
      "Epoch 14/20\n",
      "103/103 [==============================] - 0s 150us/step - loss: 0.3467 - accuracy: 0.8641 - val_loss: 1.0010 - val_accuracy: 0.0000e+00\n",
      "Epoch 15/20\n",
      "103/103 [==============================] - 0s 154us/step - loss: 0.3422 - accuracy: 0.8738 - val_loss: 1.1652 - val_accuracy: 0.0000e+00\n",
      "Epoch 16/20\n",
      "103/103 [==============================] - 0s 153us/step - loss: 0.3198 - accuracy: 0.8835 - val_loss: 1.0171 - val_accuracy: 0.0000e+00\n",
      "Epoch 17/20\n",
      "103/103 [==============================] - 0s 160us/step - loss: 0.2998 - accuracy: 0.8738 - val_loss: 1.2362 - val_accuracy: 0.0000e+00\n",
      "Epoch 18/20\n",
      "103/103 [==============================] - 0s 153us/step - loss: 0.3043 - accuracy: 0.8738 - val_loss: 1.2289 - val_accuracy: 0.0000e+00\n",
      "Epoch 19/20\n",
      "103/103 [==============================] - 0s 155us/step - loss: 0.3035 - accuracy: 0.8641 - val_loss: 1.1930 - val_accuracy: 0.0000e+00\n",
      "Epoch 20/20\n",
      "103/103 [==============================] - 0s 154us/step - loss: 0.3001 - accuracy: 0.8835 - val_loss: 1.0914 - val_accuracy: 0.0000e+00\n",
      "Score for fold 7: loss of 0.6711856722831726; accuracy of 42.85714328289032%\n",
      "------------------------------------------------------------------------\n",
      "Score per fold\n",
      "------------------------------------------------------------------------\n",
      "> Fold 1 - Loss: 0.5670289397239685 - Accuracy: 77.27272510528564%\n",
      "------------------------------------------------------------------------\n",
      "> Fold 2 - Loss: 0.3678196966648102 - Accuracy: 77.27272510528564%\n",
      "------------------------------------------------------------------------\n",
      "> Fold 3 - Loss: 0.24879460036754608 - Accuracy: 90.90909361839294%\n",
      "------------------------------------------------------------------------\n",
      "> Fold 4 - Loss: 0.22271974384784698 - Accuracy: 95.23809552192688%\n",
      "------------------------------------------------------------------------\n",
      "> Fold 5 - Loss: 0.4845801889896393 - Accuracy: 61.90476417541504%\n",
      "------------------------------------------------------------------------\n",
      "> Fold 6 - Loss: 0.438296377658844 - Accuracy: 66.66666865348816%\n",
      "------------------------------------------------------------------------\n",
      "> Fold 7 - Loss: 0.6711856722831726 - Accuracy: 42.85714328289032%\n",
      "------------------------------------------------------------------------\n",
      "Average scores for all folds:\n",
      "> Accuracy: 73.16017363752637 (+- 16.576267252492308)\n",
      "> Loss: 0.42863217421940397\n",
      "------------------------------------------------------------------------\n"
     ]
    }
   ],
   "source": [
    "import numpy as np\n",
    "from sklearn.datasets import load_iris\n",
    "from sklearn.model_selection import train_test_split, KFold\n",
    "from sklearn.preprocessing import LabelEncoder\n",
    "\n",
    "from keras.models import Sequential\n",
    "from keras.layers import Dense, Dropout\n",
    "from keras.losses import categorical_crossentropy\n",
    "from keras.optimizers import Adam\n",
    "from keras.utils import np_utils\n",
    "import matplotlib.pyplot as plt\n",
    "\n",
    "# Model configuration\n",
    "batch_size = 10\n",
    "loss_function = categorical_crossentropy\n",
    "n_classes = 3\n",
    "n_epochs = 20\n",
    "n_folds = 7\n",
    "optimizer = Adam()\n",
    "validation_split = 0.2\n",
    "verbosity = 1\n",
    "\n",
    "# Load Iris data\n",
    "X=load_iris().data\n",
    "Y=load_iris().target\n",
    "\n",
    "# Encode class values as integers\n",
    "encoder = LabelEncoder()\n",
    "encoder.fit(Y)\n",
    "encoded_Y = encoder.transform(Y)\n",
    "# Convert integers to dummy variables (i.e. one hot encoded)\n",
    "Y = np_utils.to_categorical(encoded_Y)\n",
    "\n",
    "## Train-Test split\n",
    "#X_train, X_test, Y_train, Y_test=train_test_split(X,Y,test_size=0.2)\n",
    "\n",
    "# Define per-fold score containers <-- these are new\n",
    "acc_per_fold = []\n",
    "loss_per_fold = []\n",
    "\n",
    "# Determine shape of the data\n",
    "input_shape = X.shape[1]\n",
    "\n",
    "# Define the K-fold Cross Validator\n",
    "kfold = KFold(n_splits=n_folds, shuffle=True)\n",
    "\n",
    "# K-fold Cross Validation model evaluation\n",
    "fold = 1\n",
    "for train, test in kfold.split(X, Y):\n",
    "\n",
    "    # Create the model\n",
    "    model = Sequential()\n",
    "    model.add(Dense(32, activation='relu', input_dim = input_shape))\n",
    "    model.add(Dropout(0.3))\n",
    "    model.add(Dense(8, activation='relu'))\n",
    "    model.add(Dense(n_classes, activation='softmax'))\n",
    "\n",
    "    # Compile the model\n",
    "    model.compile(loss=loss_function,\n",
    "                  optimizer=optimizer,\n",
    "                  metrics=['accuracy'])\n",
    "\n",
    "\n",
    "    # Generate a print\n",
    "    print('------------------------------------------------------------------------')\n",
    "    print(f'Training for fold {fold} ...')\n",
    "\n",
    "    # Fit data to model\n",
    "    history = model.fit(X[train], Y[train],\n",
    "              batch_size=batch_size,\n",
    "              epochs=n_epochs,\n",
    "              verbose=verbosity,\n",
    "              validation_split=validation_split)\n",
    "\n",
    "    # Generate generalization metrics\n",
    "    scores = model.evaluate(X[test], Y[test], verbose=0)\n",
    "    print(f'Score for fold {fold}: {model.metrics_names[0]} of {scores[0]}; {model.metrics_names[1]} of {scores[1]*100}%')\n",
    "    acc_per_fold.append(scores[1] * 100)\n",
    "    loss_per_fold.append(scores[0])\n",
    "\n",
    "    # Increase fold number\n",
    "    fold += 1\n",
    "\n",
    "# == Provide average scores ==\n",
    "print('------------------------------------------------------------------------')\n",
    "print('Score per fold')\n",
    "for i in range(0, len(acc_per_fold)):\n",
    "    print('------------------------------------------------------------------------')\n",
    "    print(f'> Fold {i+1} - Loss: {loss_per_fold[i]} - Accuracy: {acc_per_fold[i]}%')\n",
    "print('------------------------------------------------------------------------')\n",
    "print('Average scores for all folds:')\n",
    "print(f'> Accuracy: {np.mean(acc_per_fold)} (+- {np.std(acc_per_fold)})')\n",
    "print(f'> Loss: {np.mean(loss_per_fold)}')\n",
    "print('------------------------------------------------------------------------')"
   ]
  },
  {
   "cell_type": "markdown",
   "metadata": {},
   "source": [
    "### Exercises\n",
    "\n",
    "1. Change hyperparameters and check accuracy scores.\n",
    "2. (Harder) Write a script searching for the best hyperparameter configuration."
   ]
  },
  {
   "cell_type": "markdown",
   "metadata": {},
   "source": [
    "#### Hint for exercise 2\n",
    "\n",
    "Think about the hyperparameter search.\n",
    "Which kind of approach would you choose? A grid search or an exploration on a random set of points?\n",
    "\n",
    "[Answer here](https://analyticsindiamag.com/why-is-random-search-better-than-grid-search-for-machine-learning/#:~:text=One%20of%20the%20drawbacks%20of,aliasing%20around%20the%20right%20set.). Try to answer on your own before open the link."
   ]
  }
 ],
 "metadata": {
  "kernelspec": {
   "display_name": "Python 3",
   "language": "python",
   "name": "python3"
  },
  "language_info": {
   "codemirror_mode": {
    "name": "ipython",
    "version": 3
   },
   "file_extension": ".py",
   "mimetype": "text/x-python",
   "name": "python",
   "nbconvert_exporter": "python",
   "pygments_lexer": "ipython3",
   "version": "3.7.6"
  }
 },
 "nbformat": 4,
 "nbformat_minor": 4
}
