{
 "cells": [
  {
   "cell_type": "markdown",
   "metadata": {},
   "source": [
    "![](https://miro.medium.com/max/1200/0*3I4P4pkL1xySQS9B.png)"
   ]
  },
  {
   "cell_type": "markdown",
   "metadata": {},
   "source": [
    "# How to Structure a Machine Learning project\n",
    "\n",
    "Here we study the best strategies to work on a big problem in machine learning applications."
   ]
  },
  {
   "cell_type": "markdown",
   "metadata": {},
   "source": [
    "[Here](https://jamboard.google.com/d/1z45e4QmQ0iZAVbgoVi4QxD7DjhW9sX8i2-1_TKKkmlo/edit?usp=sharing) a brief case of study for this lecture."
   ]
  },
  {
   "cell_type": "markdown",
   "metadata": {},
   "source": [
    "## Cross Validation and Parameter Choice"
   ]
  },
  {
   "cell_type": "markdown",
   "metadata": {},
   "source": [
    "![title](https://www.researchgate.net/publication/307087929/figure/fig6/AS:399685689856008@1472303902570/For-cross-validation-and-cross-testing-data-are-divided-into-two-separate-sets-only.png)"
   ]
  },
  {
   "cell_type": "markdown",
   "metadata": {},
   "source": [
    "## Cross validation"
   ]
  },
  {
   "cell_type": "markdown",
   "metadata": {},
   "source": [
    "In the previous discussion, we left the validation set a bit apart. This is the moment to cope with it.\n",
    "\n",
    "The train/test split may introduce an error, due to the fact that we may exclude data that are crucial for the algorithm. For example, think about a binary classification problem, in the case the slit completely excludes a class.\n",
    "\n",
    "This will result in overfitting, even though we’re trying to avoid it! This is where cross validation comes in."
   ]
  },
  {
   "cell_type": "markdown",
   "metadata": {},
   "source": [
    "In order to avoid this, we can perform something called __cross validation__. It is very similar to train/test split, but it is applied to more subsets. Meaning, we split our data into $k$ subsets, and train on $k-1$ one of those subset. What we do is to hold the last subset for test. We’re able to do it for each of the subsets.\n",
    "\n",
    "There are several cross validation methods, we are going to go over two of them: the first is _K-Folds Cross Validation_ and the second is _Leave One Out Cross Validation_ (LOOCV)."
   ]
  },
  {
   "cell_type": "markdown",
   "metadata": {},
   "source": [
    "### K-fold cross validation"
   ]
  },
  {
   "cell_type": "markdown",
   "metadata": {},
   "source": [
    "In $K$-Folds Cross Validation we split our data into $k$ different subsets (or folds). We use $k-1$ subsets to train our data and leave the last subset (or the last fold) as test data. We then average the model against each of the folds and then finalize our model. After that we test it against the test set."
   ]
  },
  {
   "cell_type": "markdown",
   "metadata": {},
   "source": [
    "![title](https://miro.medium.com/max/1400/1*J2B_bcbd1-s1kpWOu_FZrg.png)"
   ]
  },
  {
   "cell_type": "markdown",
   "metadata": {},
   "source": [
    "#### Example"
   ]
  },
  {
   "cell_type": "markdown",
   "metadata": {},
   "source": [
    "To have a concrete idea about how this works, we take an example directly from [sklearn documentation for $k$-fold](https://scikit-learn.org/stable/modules/generated/sklearn.model_selection.KFold.html)."
   ]
  },
  {
   "cell_type": "code",
   "execution_count": 1,
   "metadata": {},
   "outputs": [
    {
     "name": "stdout",
     "output_type": "stream",
     "text": [
      "KFold(n_splits=3, random_state=None, shuffle=False)\n"
     ]
    }
   ],
   "source": [
    "import numpy as np\n",
    "from sklearn.model_selection import KFold # import KFold\n",
    "\n",
    "X = np.array([[1, 2], [3, 4], [1, 2], [3, 4]]) # create an array\n",
    "y = np.array([1, 2, 3, 4]) # Create another array\n",
    "\n",
    "kf = KFold(n_splits=3) # Define the split - into 2 folds \n",
    "kf.get_n_splits(X) # returns the number of splitting iterations in the cross-validator\n",
    "\n",
    "print(kf)"
   ]
  },
  {
   "cell_type": "markdown",
   "metadata": {},
   "source": [
    "One can print out the folds."
   ]
  },
  {
   "cell_type": "code",
   "execution_count": 2,
   "metadata": {},
   "outputs": [
    {
     "name": "stdout",
     "output_type": "stream",
     "text": [
      "TRAIN: [2 3] TEST: [0 1]\n",
      "TRAIN: [0 1 3] TEST: [2]\n",
      "TRAIN: [0 1 2] TEST: [3]\n"
     ]
    }
   ],
   "source": [
    "for train_index, test_index in kf.split(X):\n",
    "    print('TRAIN:', train_index, 'TEST:', test_index)\n",
    "    X_train, X_test = X[train_index], X[test_index]\n",
    "    y_train, y_test = y[train_index], y[test_index]"
   ]
  },
  {
   "cell_type": "markdown",
   "metadata": {},
   "source": [
    "As one can see, the function split the original data into different subsets of the data. \n",
    "This is a very simple example, but it explains the concept pretty well."
   ]
  },
  {
   "cell_type": "markdown",
   "metadata": {},
   "source": [
    "## Leave One Out Cross Validation (LOOCV)"
   ]
  },
  {
   "cell_type": "markdown",
   "metadata": {},
   "source": [
    "Another method we want to analyse is the so-called [Leave One Out Cross Validation](https://scikit-learn.org/stable/modules/generated/sklearn.model_selection.LeaveOneOut.html)."
   ]
  },
  {
   "cell_type": "markdown",
   "metadata": {},
   "source": [
    "In this type of cross validation, the number of folds (subsets) equals to the number of observations we have in the dataset. We then average ALL of these folds and build our model with the average. We then test the model against the last fold. Because we would get a big number of training sets (equals to the number of samples), this method is very computationally expensive and should be used on small datasets. If the dataset is big, it would most likely be better to use a different method, like $k$-fold."
   ]
  },
  {
   "cell_type": "markdown",
   "metadata": {},
   "source": [
    "Again, let's take as example the one from [`sklearn` documentation](https://scikit-learn.org/stable/modules/generated/sklearn.model_selection.LeaveOneOut.html)."
   ]
  },
  {
   "cell_type": "code",
   "execution_count": 3,
   "metadata": {},
   "outputs": [
    {
     "data": {
      "text/plain": [
       "4"
      ]
     },
     "execution_count": 3,
     "metadata": {},
     "output_type": "execute_result"
    }
   ],
   "source": [
    "from sklearn.model_selection import LeaveOneOut # Import LeaveOneOut\n",
    "\n",
    "X = np.array([[1, 2], [3, 4], [5, 6], [7, 8]])\n",
    "y = np.array([1, 2, 3, 4])\n",
    "loo = LeaveOneOut()\n",
    "loo.get_n_splits(X)"
   ]
  },
  {
   "cell_type": "code",
   "execution_count": 4,
   "metadata": {},
   "outputs": [
    {
     "name": "stdout",
     "output_type": "stream",
     "text": [
      "TRAIN: [1 2 3] TEST: [0]\n",
      "X_train:  [[3 4]\n",
      " [5 6]\n",
      " [7 8]] X_test:  [[1 2]] y_train:  [2 3 4] y_test:  [1]\n",
      "=========================\n",
      "TRAIN: [0 2 3] TEST: [1]\n",
      "X_train:  [[1 2]\n",
      " [5 6]\n",
      " [7 8]] X_test:  [[3 4]] y_train:  [1 3 4] y_test:  [2]\n",
      "=========================\n",
      "TRAIN: [0 1 3] TEST: [2]\n",
      "X_train:  [[1 2]\n",
      " [3 4]\n",
      " [7 8]] X_test:  [[5 6]] y_train:  [1 2 4] y_test:  [3]\n",
      "=========================\n",
      "TRAIN: [0 1 2] TEST: [3]\n",
      "X_train:  [[1 2]\n",
      " [3 4]\n",
      " [5 6]] X_test:  [[7 8]] y_train:  [1 2 3] y_test:  [4]\n",
      "=========================\n"
     ]
    }
   ],
   "source": [
    "for train_index, test_index in loo.split(X):\n",
    "    print(\"TRAIN:\", train_index, \"TEST:\", test_index)\n",
    "    X_train, X_test = X[train_index], X[test_index]\n",
    "    y_train, y_test = y[train_index], y[test_index]\n",
    "    print('X_train: ', X_train, 'X_test: ', X_test, 'y_train: ', y_train, 'y_test: ', y_test)\n",
    "    print('='*25)"
   ]
  },
  {
   "cell_type": "markdown",
   "metadata": {},
   "source": [
    "## Further Cross Validation methods"
   ]
  },
  {
   "cell_type": "markdown",
   "metadata": {},
   "source": [
    "We presented two of the most used approaches to cross validation. However, one can check further methods on the [`sklearn` documentation webpage](https://scikit-learn.org/stable/modules/classes.html)."
   ]
  },
  {
   "cell_type": "markdown",
   "metadata": {},
   "source": [
    "## Working Example"
   ]
  },
  {
   "cell_type": "markdown",
   "metadata": {},
   "source": [
    "We want to use the knwon and loved iris dataset to build a neural network classifier. We will make use of cross-validation to choose hyperparameter values:\n",
    "1. how many layers\n",
    "2. how many hidden units\n",
    "3. dropout rate"
   ]
  },
  {
   "cell_type": "code",
   "execution_count": 1,
   "metadata": {},
   "outputs": [
    {
     "name": "stdout",
     "output_type": "stream",
     "text": [
      "------------------------------------------------------------------------\n",
      "Training for fold 1 ...\n",
      "Epoch 1/20\n",
      "11/11 [==============================] - 1s 61ms/step - loss: 1.2112 - accuracy: 0.3200 - val_loss: 1.8629 - val_accuracy: 0.0000e+00\n",
      "Epoch 2/20\n",
      "11/11 [==============================] - 0s 3ms/step - loss: 1.1573 - accuracy: 0.2669 - val_loss: 1.7984 - val_accuracy: 0.0000e+00\n",
      "Epoch 3/20\n",
      "11/11 [==============================] - 0s 3ms/step - loss: 1.1234 - accuracy: 0.3241 - val_loss: 1.6889 - val_accuracy: 0.0000e+00\n",
      "Epoch 4/20\n",
      "11/11 [==============================] - 0s 3ms/step - loss: 0.9541 - accuracy: 0.4393 - val_loss: 1.6060 - val_accuracy: 0.0000e+00\n",
      "Epoch 5/20\n",
      "11/11 [==============================] - 0s 3ms/step - loss: 0.9973 - accuracy: 0.3903 - val_loss: 1.5853 - val_accuracy: 0.0000e+00\n",
      "Epoch 6/20\n",
      "11/11 [==============================] - 0s 3ms/step - loss: 0.9392 - accuracy: 0.5188 - val_loss: 1.5571 - val_accuracy: 0.0000e+00\n",
      "Epoch 7/20\n",
      "11/11 [==============================] - 0s 4ms/step - loss: 0.8021 - accuracy: 0.6498 - val_loss: 1.5922 - val_accuracy: 0.0000e+00\n",
      "Epoch 8/20\n",
      "11/11 [==============================] - 0s 4ms/step - loss: 0.9303 - accuracy: 0.5356 - val_loss: 1.4208 - val_accuracy: 0.0000e+00\n",
      "Epoch 9/20\n",
      "11/11 [==============================] - 0s 4ms/step - loss: 0.7840 - accuracy: 0.6855 - val_loss: 1.4542 - val_accuracy: 0.0000e+00\n",
      "Epoch 10/20\n",
      "11/11 [==============================] - 0s 11ms/step - loss: 0.8864 - accuracy: 0.5666 - val_loss: 1.3410 - val_accuracy: 0.0000e+00\n",
      "Epoch 11/20\n",
      "11/11 [==============================] - 0s 4ms/step - loss: 0.8180 - accuracy: 0.7567 - val_loss: 1.3037 - val_accuracy: 0.0000e+00\n",
      "Epoch 12/20\n",
      "11/11 [==============================] - 0s 3ms/step - loss: 0.7459 - accuracy: 0.7183 - val_loss: 1.1688 - val_accuracy: 0.0000e+00\n",
      "Epoch 13/20\n",
      "11/11 [==============================] - 0s 4ms/step - loss: 0.7017 - accuracy: 0.7831 - val_loss: 1.1714 - val_accuracy: 0.0000e+00\n",
      "Epoch 14/20\n",
      "11/11 [==============================] - 0s 4ms/step - loss: 0.6185 - accuracy: 0.8466 - val_loss: 1.1872 - val_accuracy: 0.0000e+00\n",
      "Epoch 15/20\n",
      "11/11 [==============================] - 0s 5ms/step - loss: 0.6724 - accuracy: 0.7077 - val_loss: 1.1094 - val_accuracy: 0.0000e+00\n",
      "Epoch 16/20\n",
      "11/11 [==============================] - 0s 4ms/step - loss: 0.6578 - accuracy: 0.7648 - val_loss: 0.8853 - val_accuracy: 0.0000e+00\n",
      "Epoch 17/20\n",
      "11/11 [==============================] - 0s 5ms/step - loss: 0.6543 - accuracy: 0.7563 - val_loss: 0.8415 - val_accuracy: 0.0000e+00\n",
      "Epoch 18/20\n",
      "11/11 [==============================] - 0s 5ms/step - loss: 0.6431 - accuracy: 0.7623 - val_loss: 0.9474 - val_accuracy: 0.0000e+00\n",
      "Epoch 19/20\n",
      "11/11 [==============================] - 0s 5ms/step - loss: 0.6146 - accuracy: 0.7077 - val_loss: 0.9811 - val_accuracy: 0.0000e+00\n",
      "Epoch 20/20\n",
      "11/11 [==============================] - 0s 4ms/step - loss: 0.5800 - accuracy: 0.7757 - val_loss: 0.9989 - val_accuracy: 0.0000e+00\n",
      "Score for fold 1: loss of 0.6166592240333557; accuracy of 59.090906381607056%\n",
      "------------------------------------------------------------------------\n",
      "Training for fold 2 ...\n",
      "Epoch 1/20\n",
      "11/11 [==============================] - 1s 18ms/step - loss: 1.4833 - accuracy: 0.2153 - val_loss: 0.6310 - val_accuracy: 1.0000\n",
      "Epoch 2/20\n",
      "11/11 [==============================] - 0s 3ms/step - loss: 1.0443 - accuracy: 0.3791 - val_loss: 1.1552 - val_accuracy: 0.0769\n",
      "Epoch 3/20\n",
      "11/11 [==============================] - 0s 3ms/step - loss: 0.9550 - accuracy: 0.5001 - val_loss: 1.3418 - val_accuracy: 0.0000e+00\n",
      "Epoch 4/20\n",
      "11/11 [==============================] - 0s 3ms/step - loss: 0.8516 - accuracy: 0.5267 - val_loss: 1.1376 - val_accuracy: 0.2692\n",
      "Epoch 5/20\n",
      "11/11 [==============================] - 0s 3ms/step - loss: 0.8716 - accuracy: 0.5734 - val_loss: 0.9960 - val_accuracy: 0.7308\n",
      "Epoch 6/20\n",
      "11/11 [==============================] - 0s 3ms/step - loss: 0.7676 - accuracy: 0.6300 - val_loss: 0.8784 - val_accuracy: 1.0000\n",
      "Epoch 7/20\n",
      "11/11 [==============================] - 0s 3ms/step - loss: 0.7365 - accuracy: 0.7101 - val_loss: 0.8511 - val_accuracy: 0.7692\n",
      "Epoch 8/20\n",
      "11/11 [==============================] - 0s 3ms/step - loss: 0.6942 - accuracy: 0.6139 - val_loss: 0.6052 - val_accuracy: 1.0000\n",
      "Epoch 9/20\n",
      "11/11 [==============================] - 0s 3ms/step - loss: 0.6584 - accuracy: 0.6788 - val_loss: 0.6036 - val_accuracy: 1.0000\n",
      "Epoch 10/20\n",
      "11/11 [==============================] - 0s 3ms/step - loss: 0.5152 - accuracy: 0.7893 - val_loss: 0.5560 - val_accuracy: 1.0000\n",
      "Epoch 11/20\n",
      "11/11 [==============================] - 0s 3ms/step - loss: 0.5360 - accuracy: 0.7375 - val_loss: 0.6656 - val_accuracy: 0.8462\n",
      "Epoch 12/20\n",
      "11/11 [==============================] - 0s 3ms/step - loss: 0.5402 - accuracy: 0.7106 - val_loss: 0.7474 - val_accuracy: 0.5000\n",
      "Epoch 13/20\n",
      "11/11 [==============================] - 0s 3ms/step - loss: 0.5656 - accuracy: 0.7343 - val_loss: 0.8119 - val_accuracy: 0.2692\n",
      "Epoch 14/20\n",
      "11/11 [==============================] - 0s 5ms/step - loss: 0.4901 - accuracy: 0.8478 - val_loss: 0.7596 - val_accuracy: 0.3846\n",
      "Epoch 15/20\n",
      "11/11 [==============================] - 0s 5ms/step - loss: 0.3759 - accuracy: 0.8727 - val_loss: 0.8804 - val_accuracy: 0.1538\n",
      "Epoch 16/20\n",
      "11/11 [==============================] - 0s 5ms/step - loss: 0.4667 - accuracy: 0.7624 - val_loss: 0.8426 - val_accuracy: 0.1923\n",
      "Epoch 17/20\n",
      "11/11 [==============================] - 0s 15ms/step - loss: 0.4271 - accuracy: 0.8239 - val_loss: 0.5356 - val_accuracy: 1.0000\n",
      "Epoch 18/20\n",
      "11/11 [==============================] - 0s 5ms/step - loss: 0.4296 - accuracy: 0.7970 - val_loss: 0.5108 - val_accuracy: 1.0000\n",
      "Epoch 19/20\n",
      "11/11 [==============================] - 0s 4ms/step - loss: 0.3895 - accuracy: 0.8189 - val_loss: 0.6157 - val_accuracy: 0.8077\n",
      "Epoch 20/20\n",
      "11/11 [==============================] - 0s 3ms/step - loss: 0.4407 - accuracy: 0.7943 - val_loss: 0.6199 - val_accuracy: 0.7692\n",
      "Score for fold 2: loss of 0.33529379963874817; accuracy of 100.0%\n",
      "------------------------------------------------------------------------\n",
      "Training for fold 3 ...\n",
      "Epoch 1/20\n",
      "11/11 [==============================] - 1s 16ms/step - loss: 1.3789 - accuracy: 0.3971 - val_loss: 2.4476 - val_accuracy: 0.0000e+00\n",
      "Epoch 2/20\n",
      "11/11 [==============================] - 0s 3ms/step - loss: 0.8559 - accuracy: 0.6649 - val_loss: 2.8624 - val_accuracy: 0.0000e+00\n",
      "Epoch 3/20\n",
      "11/11 [==============================] - 0s 3ms/step - loss: 0.9176 - accuracy: 0.6836 - val_loss: 2.5415 - val_accuracy: 0.0000e+00\n",
      "Epoch 4/20\n",
      "11/11 [==============================] - 0s 3ms/step - loss: 0.8826 - accuracy: 0.7128 - val_loss: 2.0637 - val_accuracy: 0.0000e+00\n",
      "Epoch 5/20\n",
      "11/11 [==============================] - 0s 3ms/step - loss: 0.8356 - accuracy: 0.7467 - val_loss: 1.7349 - val_accuracy: 0.0000e+00\n",
      "Epoch 6/20\n",
      "11/11 [==============================] - 0s 3ms/step - loss: 0.6078 - accuracy: 0.8371 - val_loss: 1.5321 - val_accuracy: 0.0000e+00\n",
      "Epoch 7/20\n",
      "11/11 [==============================] - 0s 3ms/step - loss: 0.5261 - accuracy: 0.8628 - val_loss: 1.2930 - val_accuracy: 0.0000e+00\n",
      "Epoch 8/20\n",
      "11/11 [==============================] - 0s 3ms/step - loss: 0.5030 - accuracy: 0.8519 - val_loss: 1.2310 - val_accuracy: 0.0000e+00\n",
      "Epoch 9/20\n",
      "11/11 [==============================] - 0s 3ms/step - loss: 0.5160 - accuracy: 0.7800 - val_loss: 1.3043 - val_accuracy: 0.0000e+00\n",
      "Epoch 10/20\n",
      "11/11 [==============================] - 0s 3ms/step - loss: 0.5116 - accuracy: 0.7883 - val_loss: 1.3444 - val_accuracy: 0.0000e+00\n",
      "Epoch 11/20\n",
      "11/11 [==============================] - 0s 3ms/step - loss: 0.4165 - accuracy: 0.8563 - val_loss: 1.3845 - val_accuracy: 0.0000e+00\n",
      "Epoch 12/20\n",
      "11/11 [==============================] - 0s 3ms/step - loss: 0.4641 - accuracy: 0.8042 - val_loss: 1.1452 - val_accuracy: 0.0000e+00\n",
      "Epoch 13/20\n",
      "11/11 [==============================] - 0s 3ms/step - loss: 0.4301 - accuracy: 0.8463 - val_loss: 1.1509 - val_accuracy: 0.0000e+00\n",
      "Epoch 14/20\n",
      "11/11 [==============================] - 0s 3ms/step - loss: 0.3988 - accuracy: 0.9036 - val_loss: 1.2037 - val_accuracy: 0.0000e+00\n",
      "Epoch 15/20\n",
      "11/11 [==============================] - 0s 3ms/step - loss: 0.4371 - accuracy: 0.8303 - val_loss: 1.2415 - val_accuracy: 0.0000e+00\n",
      "Epoch 16/20\n",
      "11/11 [==============================] - 0s 3ms/step - loss: 0.3523 - accuracy: 0.8979 - val_loss: 1.0109 - val_accuracy: 0.0000e+00\n",
      "Epoch 17/20\n",
      "11/11 [==============================] - 0s 3ms/step - loss: 0.3964 - accuracy: 0.8414 - val_loss: 0.8837 - val_accuracy: 0.0000e+00\n",
      "Epoch 18/20\n",
      "11/11 [==============================] - 0s 3ms/step - loss: 0.2893 - accuracy: 0.9252 - val_loss: 1.0799 - val_accuracy: 0.0000e+00\n",
      "Epoch 19/20\n",
      "11/11 [==============================] - 0s 3ms/step - loss: 0.3627 - accuracy: 0.8319 - val_loss: 1.0068 - val_accuracy: 0.0000e+00\n",
      "Epoch 20/20\n",
      "11/11 [==============================] - 0s 3ms/step - loss: 0.2927 - accuracy: 0.8636 - val_loss: 1.1085 - val_accuracy: 0.0000e+00\n",
      "Score for fold 3: loss of 0.5499069690704346; accuracy of 59.090906381607056%\n",
      "------------------------------------------------------------------------\n",
      "Training for fold 4 ...\n",
      "Epoch 1/20\n",
      "11/11 [==============================] - 0s 13ms/step - loss: 1.1525 - accuracy: 0.4241 - val_loss: 2.1630 - val_accuracy: 0.0000e+00\n",
      "Epoch 2/20\n",
      "11/11 [==============================] - 0s 3ms/step - loss: 0.9847 - accuracy: 0.5845 - val_loss: 1.7928 - val_accuracy: 0.0000e+00\n",
      "Epoch 3/20\n",
      "11/11 [==============================] - 0s 3ms/step - loss: 0.7710 - accuracy: 0.7484 - val_loss: 1.5792 - val_accuracy: 0.0000e+00\n",
      "Epoch 4/20\n",
      "11/11 [==============================] - 0s 3ms/step - loss: 0.5930 - accuracy: 0.8383 - val_loss: 1.1611 - val_accuracy: 0.0000e+00\n",
      "Epoch 5/20\n",
      "11/11 [==============================] - 0s 3ms/step - loss: 0.6091 - accuracy: 0.8178 - val_loss: 1.3855 - val_accuracy: 0.0000e+00\n",
      "Epoch 6/20\n",
      "11/11 [==============================] - 0s 14ms/step - loss: 0.5171 - accuracy: 0.8428 - val_loss: 1.5101 - val_accuracy: 0.0000e+00\n",
      "Epoch 7/20\n",
      "11/11 [==============================] - 0s 4ms/step - loss: 0.4526 - accuracy: 0.8454 - val_loss: 1.0368 - val_accuracy: 0.0000e+00\n",
      "Epoch 8/20\n",
      "11/11 [==============================] - 0s 4ms/step - loss: 0.4154 - accuracy: 0.8679 - val_loss: 1.1523 - val_accuracy: 0.0000e+00\n",
      "Epoch 9/20\n",
      "11/11 [==============================] - 0s 4ms/step - loss: 0.3587 - accuracy: 0.8739 - val_loss: 1.0826 - val_accuracy: 0.0000e+00\n",
      "Epoch 10/20\n",
      "11/11 [==============================] - 0s 3ms/step - loss: 0.3680 - accuracy: 0.8784 - val_loss: 1.3024 - val_accuracy: 0.0000e+00\n",
      "Epoch 11/20\n",
      "11/11 [==============================] - 0s 3ms/step - loss: 0.3536 - accuracy: 0.8466 - val_loss: 1.2992 - val_accuracy: 0.0000e+00\n",
      "Epoch 12/20\n",
      "11/11 [==============================] - 0s 3ms/step - loss: 0.4100 - accuracy: 0.7924 - val_loss: 0.9145 - val_accuracy: 0.0000e+00\n",
      "Epoch 13/20\n",
      "11/11 [==============================] - 0s 3ms/step - loss: 0.3464 - accuracy: 0.8576 - val_loss: 0.8836 - val_accuracy: 0.0385\n",
      "Epoch 14/20\n",
      "11/11 [==============================] - 0s 3ms/step - loss: 0.3517 - accuracy: 0.9083 - val_loss: 0.8240 - val_accuracy: 0.2308\n",
      "Epoch 15/20\n",
      "11/11 [==============================] - 0s 4ms/step - loss: 0.2998 - accuracy: 0.9358 - val_loss: 0.8298 - val_accuracy: 0.2308\n",
      "Epoch 16/20\n",
      "11/11 [==============================] - 0s 5ms/step - loss: 0.3497 - accuracy: 0.8418 - val_loss: 0.8818 - val_accuracy: 0.2308\n",
      "Epoch 17/20\n",
      "11/11 [==============================] - 0s 5ms/step - loss: 0.2700 - accuracy: 0.9136 - val_loss: 0.8473 - val_accuracy: 0.2692\n",
      "Epoch 18/20\n",
      "11/11 [==============================] - 0s 5ms/step - loss: 0.2995 - accuracy: 0.8931 - val_loss: 0.6896 - val_accuracy: 0.5000\n",
      "Epoch 19/20\n",
      "11/11 [==============================] - 0s 5ms/step - loss: 0.3039 - accuracy: 0.9087 - val_loss: 0.7849 - val_accuracy: 0.3846\n",
      "Epoch 20/20\n",
      "11/11 [==============================] - 0s 4ms/step - loss: 0.2687 - accuracy: 0.9145 - val_loss: 0.8282 - val_accuracy: 0.3077\n",
      "Score for fold 4: loss of 0.35094383358955383; accuracy of 85.71428656578064%\n",
      "------------------------------------------------------------------------\n",
      "Training for fold 5 ...\n",
      "Epoch 1/20\n",
      "11/11 [==============================] - 0s 14ms/step - loss: 1.0735 - accuracy: 0.4815 - val_loss: 1.7279 - val_accuracy: 0.0000e+00\n",
      "Epoch 2/20\n",
      "11/11 [==============================] - 0s 3ms/step - loss: 1.0579 - accuracy: 0.6123 - val_loss: 1.4762 - val_accuracy: 0.0000e+00\n",
      "Epoch 3/20\n",
      "11/11 [==============================] - 0s 3ms/step - loss: 1.0412 - accuracy: 0.5580 - val_loss: 1.5875 - val_accuracy: 0.0000e+00\n",
      "Epoch 4/20\n",
      "11/11 [==============================] - 0s 3ms/step - loss: 0.9895 - accuracy: 0.6738 - val_loss: 1.7994 - val_accuracy: 0.0000e+00\n",
      "Epoch 5/20\n",
      "11/11 [==============================] - 0s 3ms/step - loss: 0.9029 - accuracy: 0.6387 - val_loss: 1.9387 - val_accuracy: 0.0000e+00\n",
      "Epoch 6/20\n",
      "11/11 [==============================] - 0s 3ms/step - loss: 0.8619 - accuracy: 0.6945 - val_loss: 1.8666 - val_accuracy: 0.0000e+00\n",
      "Epoch 7/20\n",
      "11/11 [==============================] - 0s 3ms/step - loss: 0.8099 - accuracy: 0.7130 - val_loss: 1.6829 - val_accuracy: 0.0000e+00\n",
      "Epoch 8/20\n",
      "11/11 [==============================] - 0s 3ms/step - loss: 0.6808 - accuracy: 0.7714 - val_loss: 1.5502 - val_accuracy: 0.0000e+00\n",
      "Epoch 9/20\n",
      "11/11 [==============================] - 0s 3ms/step - loss: 0.6020 - accuracy: 0.7819 - val_loss: 1.4290 - val_accuracy: 0.0000e+00\n",
      "Epoch 10/20\n",
      "11/11 [==============================] - 0s 3ms/step - loss: 0.5234 - accuracy: 0.8438 - val_loss: 1.3714 - val_accuracy: 0.0000e+00\n",
      "Epoch 11/20\n",
      "11/11 [==============================] - 0s 3ms/step - loss: 0.4121 - accuracy: 0.8437 - val_loss: 1.3189 - val_accuracy: 0.0000e+00\n",
      "Epoch 12/20\n",
      "11/11 [==============================] - 0s 4ms/step - loss: 0.5243 - accuracy: 0.7916 - val_loss: 1.0359 - val_accuracy: 0.0000e+00\n",
      "Epoch 13/20\n",
      "11/11 [==============================] - 0s 4ms/step - loss: 0.4311 - accuracy: 0.7870 - val_loss: 0.8875 - val_accuracy: 0.0000e+00\n",
      "Epoch 14/20\n",
      "11/11 [==============================] - 0s 4ms/step - loss: 0.4394 - accuracy: 0.7529 - val_loss: 0.8881 - val_accuracy: 0.0000e+00\n",
      "Epoch 15/20\n",
      "11/11 [==============================] - 0s 5ms/step - loss: 0.3950 - accuracy: 0.8359 - val_loss: 0.9758 - val_accuracy: 0.0000e+00\n",
      "Epoch 16/20\n",
      "11/11 [==============================] - 0s 14ms/step - loss: 0.3779 - accuracy: 0.8562 - val_loss: 0.9722 - val_accuracy: 0.0000e+00\n",
      "Epoch 17/20\n",
      "11/11 [==============================] - 0s 4ms/step - loss: 0.3714 - accuracy: 0.8260 - val_loss: 0.8645 - val_accuracy: 0.0000e+00\n",
      "Epoch 18/20\n",
      "11/11 [==============================] - 0s 4ms/step - loss: 0.3301 - accuracy: 0.8605 - val_loss: 0.8489 - val_accuracy: 0.0000e+00\n",
      "Epoch 19/20\n",
      "11/11 [==============================] - 0s 4ms/step - loss: 0.2844 - accuracy: 0.8904 - val_loss: 0.9137 - val_accuracy: 0.0000e+00\n",
      "Epoch 20/20\n",
      "11/11 [==============================] - 0s 5ms/step - loss: 0.3104 - accuracy: 0.8665 - val_loss: 0.7584 - val_accuracy: 0.0000e+00\n",
      "Score for fold 5: loss of 0.4835493862628937; accuracy of 66.66666865348816%\n",
      "------------------------------------------------------------------------\n",
      "Training for fold 6 ...\n",
      "Epoch 1/20\n",
      "11/11 [==============================] - 0s 13ms/step - loss: 1.1245 - accuracy: 0.4200 - val_loss: 1.8107 - val_accuracy: 0.0000e+00\n",
      "Epoch 2/20\n",
      "11/11 [==============================] - 0s 4ms/step - loss: 0.9042 - accuracy: 0.5548 - val_loss: 0.5974 - val_accuracy: 1.0000\n",
      "Epoch 3/20\n",
      "11/11 [==============================] - 0s 5ms/step - loss: 0.9487 - accuracy: 0.6029 - val_loss: 0.7619 - val_accuracy: 0.5385\n",
      "Epoch 4/20\n",
      "11/11 [==============================] - 0s 4ms/step - loss: 0.8194 - accuracy: 0.5793 - val_loss: 1.0474 - val_accuracy: 0.0385\n",
      "Epoch 5/20\n",
      "11/11 [==============================] - 0s 4ms/step - loss: 0.5830 - accuracy: 0.7444 - val_loss: 0.7162 - val_accuracy: 0.4231\n",
      "Epoch 6/20\n",
      "11/11 [==============================] - 0s 4ms/step - loss: 0.5366 - accuracy: 0.8114 - val_loss: 0.7240 - val_accuracy: 0.4231\n",
      "Epoch 7/20\n",
      "11/11 [==============================] - 0s 4ms/step - loss: 0.4636 - accuracy: 0.8577 - val_loss: 0.9427 - val_accuracy: 0.0385\n",
      "Epoch 8/20\n",
      "11/11 [==============================] - 0s 3ms/step - loss: 0.4004 - accuracy: 0.8884 - val_loss: 0.7806 - val_accuracy: 0.3462\n",
      "Epoch 9/20\n",
      "11/11 [==============================] - 0s 3ms/step - loss: 0.4976 - accuracy: 0.8051 - val_loss: 0.6842 - val_accuracy: 0.5000\n",
      "Epoch 10/20\n",
      "11/11 [==============================] - 0s 3ms/step - loss: 0.3276 - accuracy: 0.8930 - val_loss: 1.0208 - val_accuracy: 0.0385\n",
      "Epoch 11/20\n",
      "11/11 [==============================] - 0s 3ms/step - loss: 0.3301 - accuracy: 0.8833 - val_loss: 0.6907 - val_accuracy: 0.5769\n",
      "Epoch 12/20\n",
      "11/11 [==============================] - 0s 3ms/step - loss: 0.3523 - accuracy: 0.8865 - val_loss: 0.6301 - val_accuracy: 0.6154\n",
      "Epoch 13/20\n",
      "11/11 [==============================] - 0s 3ms/step - loss: 0.3368 - accuracy: 0.8699 - val_loss: 0.8248 - val_accuracy: 0.3846\n",
      "Epoch 14/20\n",
      "11/11 [==============================] - 0s 3ms/step - loss: 0.3446 - accuracy: 0.9013 - val_loss: 0.5090 - val_accuracy: 0.8077\n",
      "Epoch 15/20\n",
      "11/11 [==============================] - 0s 3ms/step - loss: 0.2737 - accuracy: 0.8749 - val_loss: 0.8747 - val_accuracy: 0.3462\n",
      "Epoch 16/20\n",
      "11/11 [==============================] - 0s 3ms/step - loss: 0.3223 - accuracy: 0.8699 - val_loss: 0.9084 - val_accuracy: 0.2692\n",
      "Epoch 17/20\n",
      "11/11 [==============================] - 0s 4ms/step - loss: 0.2193 - accuracy: 0.9389 - val_loss: 0.7526 - val_accuracy: 0.4231\n",
      "Epoch 18/20\n",
      "11/11 [==============================] - 0s 3ms/step - loss: 0.2272 - accuracy: 0.9394 - val_loss: 0.5355 - val_accuracy: 0.7308\n",
      "Epoch 19/20\n",
      "11/11 [==============================] - 0s 4ms/step - loss: 0.2345 - accuracy: 0.9418 - val_loss: 0.8632 - val_accuracy: 0.4231\n",
      "Epoch 20/20\n",
      "11/11 [==============================] - 0s 4ms/step - loss: 0.2283 - accuracy: 0.9434 - val_loss: 0.6665 - val_accuracy: 0.5769\n",
      "Score for fold 6: loss of 0.27460533380508423; accuracy of 90.47619104385376%\n",
      "------------------------------------------------------------------------\n",
      "Training for fold 7 ...\n",
      "Epoch 1/20\n",
      "11/11 [==============================] - 1s 24ms/step - loss: 2.4479 - accuracy: 0.1879 - val_loss: 1.9762 - val_accuracy: 0.0000e+00\n",
      "Epoch 2/20\n",
      "11/11 [==============================] - 0s 3ms/step - loss: 1.0974 - accuracy: 0.3773 - val_loss: 2.4634 - val_accuracy: 0.0000e+00\n",
      "Epoch 3/20\n",
      "11/11 [==============================] - 0s 3ms/step - loss: 0.9951 - accuracy: 0.3331 - val_loss: 1.7435 - val_accuracy: 0.0000e+00\n",
      "Epoch 4/20\n",
      "11/11 [==============================] - 0s 3ms/step - loss: 0.9710 - accuracy: 0.5183 - val_loss: 1.2599 - val_accuracy: 0.0000e+00\n",
      "Epoch 5/20\n",
      "11/11 [==============================] - 0s 3ms/step - loss: 0.8836 - accuracy: 0.5684 - val_loss: 1.0823 - val_accuracy: 0.0000e+00\n",
      "Epoch 6/20\n",
      "11/11 [==============================] - 0s 3ms/step - loss: 0.9060 - accuracy: 0.6290 - val_loss: 1.0055 - val_accuracy: 0.0000e+00\n",
      "Epoch 7/20\n",
      "11/11 [==============================] - 0s 3ms/step - loss: 0.7923 - accuracy: 0.6742 - val_loss: 1.0716 - val_accuracy: 0.0000e+00\n",
      "Epoch 8/20\n",
      "11/11 [==============================] - 0s 3ms/step - loss: 0.7192 - accuracy: 0.7476 - val_loss: 0.9798 - val_accuracy: 0.0000e+00\n",
      "Epoch 9/20\n",
      "11/11 [==============================] - 0s 3ms/step - loss: 0.6864 - accuracy: 0.7588 - val_loss: 1.0319 - val_accuracy: 0.0000e+00\n",
      "Epoch 10/20\n",
      "11/11 [==============================] - 0s 3ms/step - loss: 0.6778 - accuracy: 0.7286 - val_loss: 0.8614 - val_accuracy: 0.1538\n",
      "Epoch 11/20\n",
      "11/11 [==============================] - 0s 3ms/step - loss: 0.6289 - accuracy: 0.7954 - val_loss: 0.8065 - val_accuracy: 0.2692\n",
      "Epoch 12/20\n",
      "11/11 [==============================] - 0s 3ms/step - loss: 0.5209 - accuracy: 0.8400 - val_loss: 1.0150 - val_accuracy: 0.0000e+00\n",
      "Epoch 13/20\n",
      "11/11 [==============================] - 0s 3ms/step - loss: 0.5735 - accuracy: 0.7311 - val_loss: 0.8832 - val_accuracy: 0.1538\n",
      "Epoch 14/20\n",
      "11/11 [==============================] - 0s 3ms/step - loss: 0.4911 - accuracy: 0.7985 - val_loss: 0.9250 - val_accuracy: 0.1154\n",
      "Epoch 15/20\n",
      "11/11 [==============================] - 0s 3ms/step - loss: 0.4308 - accuracy: 0.8640 - val_loss: 0.9306 - val_accuracy: 0.0769\n",
      "Epoch 16/20\n",
      "11/11 [==============================] - 0s 3ms/step - loss: 0.4753 - accuracy: 0.7891 - val_loss: 0.7340 - val_accuracy: 0.4231\n",
      "Epoch 17/20\n",
      "11/11 [==============================] - 0s 3ms/step - loss: 0.3873 - accuracy: 0.8516 - val_loss: 0.8944 - val_accuracy: 0.2692\n",
      "Epoch 18/20\n",
      "11/11 [==============================] - 0s 3ms/step - loss: 0.4180 - accuracy: 0.8195 - val_loss: 0.8013 - val_accuracy: 0.3077\n",
      "Epoch 19/20\n",
      "11/11 [==============================] - 0s 3ms/step - loss: 0.3807 - accuracy: 0.9001 - val_loss: 0.7891 - val_accuracy: 0.3462\n",
      "Epoch 20/20\n",
      "11/11 [==============================] - 0s 3ms/step - loss: 0.3712 - accuracy: 0.9024 - val_loss: 0.7811 - val_accuracy: 0.3462\n",
      "Score for fold 7: loss of 0.25993478298187256; accuracy of 90.47619104385376%\n",
      "------------------------------------------------------------------------\n",
      "Score per fold\n",
      "------------------------------------------------------------------------\n",
      "> Fold 1 - Loss: 0.6166592240333557 - Accuracy: 59.090906381607056%\n",
      "------------------------------------------------------------------------\n",
      "> Fold 2 - Loss: 0.33529379963874817 - Accuracy: 100.0%\n",
      "------------------------------------------------------------------------\n",
      "> Fold 3 - Loss: 0.5499069690704346 - Accuracy: 59.090906381607056%\n",
      "------------------------------------------------------------------------\n",
      "> Fold 4 - Loss: 0.35094383358955383 - Accuracy: 85.71428656578064%\n",
      "------------------------------------------------------------------------\n",
      "> Fold 5 - Loss: 0.4835493862628937 - Accuracy: 66.66666865348816%\n",
      "------------------------------------------------------------------------\n",
      "> Fold 6 - Loss: 0.27460533380508423 - Accuracy: 90.47619104385376%\n",
      "------------------------------------------------------------------------\n",
      "> Fold 7 - Loss: 0.25993478298187256 - Accuracy: 90.47619104385376%\n",
      "------------------------------------------------------------------------\n",
      "Average scores for all folds:\n",
      "> Accuracy: 78.78787858145577 (+- 15.556476266810026)\n",
      "> Loss: 0.41012761848313467\n",
      "------------------------------------------------------------------------\n"
     ]
    }
   ],
   "source": [
    "import numpy as np\n",
    "from sklearn.datasets import load_iris\n",
    "from sklearn.model_selection import train_test_split, KFold\n",
    "from sklearn.preprocessing import LabelEncoder\n",
    "\n",
    "from tensorflow.keras.models import Sequential\n",
    "from tensorflow.keras.layers import Dense, Dropout\n",
    "from tensorflow.keras.losses import categorical_crossentropy\n",
    "from tensorflow.keras.optimizers import Adam\n",
    "from tensorflow.keras.utils import to_categorical\n",
    "import matplotlib.pyplot as plt\n",
    "\n",
    "%matplotlib inline\n",
    "%config InlineBackend.figure_format = \"retina\"\n",
    "\n",
    "# Model configuration\n",
    "batch_size = 10\n",
    "loss_function = categorical_crossentropy\n",
    "n_classes = 3\n",
    "n_epochs = 20\n",
    "n_folds = 7\n",
    "optimizer = Adam()\n",
    "validation_split = 0.2\n",
    "verbosity = 1\n",
    "\n",
    "# Load Iris data\n",
    "X=load_iris().data\n",
    "Y=load_iris().target\n",
    "\n",
    "# Encode class values as integers\n",
    "encoder = LabelEncoder()\n",
    "encoder.fit(Y)\n",
    "encoded_Y = encoder.transform(Y)\n",
    "# Convert integers to dummy variables (i.e. one hot encoded)\n",
    "Y = to_categorical(encoded_Y)\n",
    "\n",
    "## Train-Test split\n",
    "#X_train, X_test, Y_train, Y_test=train_test_split(X,Y,test_size=0.2)\n",
    "\n",
    "# Define per-fold score containers <-- these are new\n",
    "acc_per_fold = []\n",
    "loss_per_fold = []\n",
    "\n",
    "# Determine shape of the data\n",
    "input_shape = X.shape[1]\n",
    "\n",
    "# Define the K-fold Cross Validator\n",
    "kfold = KFold(n_splits=n_folds, shuffle=True)\n",
    "\n",
    "# K-fold Cross Validation model evaluation\n",
    "fold = 1\n",
    "for train, test in kfold.split(X, Y):\n",
    "\n",
    "    # Create the model\n",
    "    model = Sequential()\n",
    "    model.add(Dense(32, activation='relu', input_dim = input_shape))\n",
    "    model.add(Dropout(0.3))\n",
    "    model.add(Dense(8, activation='relu'))\n",
    "    model.add(Dense(n_classes, activation='softmax'))\n",
    "\n",
    "    # Compile the model\n",
    "    model.compile(loss=loss_function,\n",
    "                  optimizer=optimizer,\n",
    "                  metrics=['accuracy'])\n",
    "\n",
    "\n",
    "    # Generate a print\n",
    "    print('------------------------------------------------------------------------')\n",
    "    print(f'Training for fold {fold} ...')\n",
    "\n",
    "    # Fit data to model\n",
    "    history = model.fit(X[train], Y[train],\n",
    "              batch_size=batch_size,\n",
    "              epochs=n_epochs,\n",
    "              verbose=verbosity,\n",
    "              validation_split=validation_split)\n",
    "\n",
    "    # Generate generalization metrics\n",
    "    scores = model.evaluate(X[test], Y[test], verbose=0)\n",
    "    print(f'Score for fold {fold}: {model.metrics_names[0]} of {scores[0]}; {model.metrics_names[1]} of {scores[1]*100}%')\n",
    "    acc_per_fold.append(scores[1] * 100)\n",
    "    loss_per_fold.append(scores[0])\n",
    "\n",
    "    # Increase fold number\n",
    "    fold += 1\n",
    "\n",
    "# == Provide average scores ==\n",
    "print('------------------------------------------------------------------------')\n",
    "print('Score per fold')\n",
    "for i in range(0, len(acc_per_fold)):\n",
    "    print('------------------------------------------------------------------------')\n",
    "    print(f'> Fold {i+1} - Loss: {loss_per_fold[i]} - Accuracy: {acc_per_fold[i]}%')\n",
    "print('------------------------------------------------------------------------')\n",
    "print('Average scores for all folds:')\n",
    "print(f'> Accuracy: {np.mean(acc_per_fold)} (+- {np.std(acc_per_fold)})')\n",
    "print(f'> Loss: {np.mean(loss_per_fold)}')\n",
    "print('------------------------------------------------------------------------')"
   ]
  },
  {
   "cell_type": "markdown",
   "metadata": {},
   "source": [
    "### Exercises\n",
    "\n",
    "1. Change hyperparameters and check accuracy scores.\n",
    "2. (Harder) Write a script searching for the best hyperparameter configuration."
   ]
  },
  {
   "cell_type": "markdown",
   "metadata": {},
   "source": [
    "#### Hint for exercise 2\n",
    "\n",
    "Think about the hyperparameter search.\n",
    "Which kind of approach would you choose? A grid search or an exploration on a random set of points?\n",
    "\n",
    "[Answer here](https://analyticsindiamag.com/why-is-random-search-better-than-grid-search-for-machine-learning/#:~:text=One%20of%20the%20drawbacks%20of,aliasing%20around%20the%20right%20set.). Try to answer on your own before open the link."
   ]
  },
  {
   "cell_type": "markdown",
   "metadata": {},
   "source": [
    "### Click to visualise the discussion\n",
    "<details>\n",
    "  <summary>Click to expand!</summary>\n",
    "  \n",
    "    In <a href=https://www.jmlr.org/papers/volume13/bergstra12a/bergstra12a.pdf>this</a> great (and well written paper) the authors add a mathematical proof why random search is better than grid search for hyperparameter tuning.\n",
    "  \n",
    "</details>\n",
    "\n"
   ]
  }
 ],
 "metadata": {
  "kernelspec": {
   "display_name": "lectures",
   "language": "python",
   "name": "lectures"
  },
  "language_info": {
   "codemirror_mode": {
    "name": "ipython",
    "version": 3
   },
   "file_extension": ".py",
   "mimetype": "text/x-python",
   "name": "python",
   "nbconvert_exporter": "python",
   "pygments_lexer": "ipython3",
   "version": "3.8.0"
  }
 },
 "nbformat": 4,
 "nbformat_minor": 4
}
