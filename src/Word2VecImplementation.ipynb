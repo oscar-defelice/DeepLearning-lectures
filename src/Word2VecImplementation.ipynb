{
 "cells": [
  {
   "cell_type": "markdown",
   "metadata": {},
   "source": [
    "# Introduction to Deep Learning\n",
    "\n",
    "<p align=\"center\">\n",
    "    <img width=\"699\" alt=\"image\" src=\"https://user-images.githubusercontent.com/49638680/159042792-8510fbd1-c4ac-4a48-8320-bc6c1a49cdae.png\">\n",
    "</p>\n",
    "\n",
    "---\n",
    "\n",
    "# Word2Vec\n",
    "\n",
    "The aim of this notebook is to implement Word2Vec Continuous Bag of Words (CBOW) as in the [article](https://arxiv.org/pdf/1301.3781.pdf).\n",
    "\n",
    "## Introduction\n",
    "\n",
    "__Note__ : word2vec has a lot of technical details which we will skip over to make the understanding a lot easier.\n",
    "\n",
    "Working scheme:\n",
    "The idea behind word2vec is quite simple.\n",
    "\n",
    "1. Take a corpus of texts.\n",
    "2. Build a training set with _context words_ as features and _center words_ as labels.\n",
    "3. Train this model (a 3-layers shallow Neural Network) to predict the center word.\n",
    "\n",
    "The embedding can be extracted out the matrices $W^{[1]}, W^{[2]}$.\n",
    "\n",
    "<p align=\"center\">\n",
    "    <img width=\"655\" alt=\"word2vec\" src=\"https://user-images.githubusercontent.com/49638680/202913353-99ab7ab6-1e69-4264-8601-be30b85a9422.png\">\n",
    "</p>\n",
    "\n",
    "## Code implementation\n",
    "\n",
    "Let's start by importing libraries. We are going to use a very basic set of those: just numpy and tensorflow, furthermore we will use matplotlib and sklearn just for visualisation purposes.\n",
    "\n"
   ]
  },
  {
   "cell_type": "code",
   "execution_count": 1,
   "metadata": {},
   "outputs": [],
   "source": [
    "# Import libraries\n",
    "\n",
    "import numpy as np\n",
    "import tensorflow as tf\n",
    "\n",
    "from sklearn.manifold import TSNE\n",
    "from sklearn.preprocessing import Normalizer\n",
    "\n",
    "import matplotlib.pyplot as plt\n",
    "\n",
    "plt.rcParams[\"figure.figsize\"] = (25,15) # Change the default figure size\n",
    "%matplotlib inline\n",
    "%config InlineBackend.figure_format = \"retina\""
   ]
  },
  {
   "cell_type": "markdown",
   "metadata": {},
   "source": [
    "Hence, we define a corpus."
   ]
  },
  {
   "cell_type": "code",
   "execution_count": 2,
   "metadata": {},
   "outputs": [],
   "source": [
    "corpus_raw = 'He is the king . The king is royal . She is the royal queen . The king is naked'\n",
    "\n",
    "# Convert to lower case\n",
    "corpus_raw = corpus_raw.lower()"
   ]
  },
  {
   "cell_type": "markdown",
   "metadata": {},
   "source": [
    "Let's now split the corpus into words.\n",
    "\n",
    "Of course, we could use much more elegant ways to do so, but let's focus on the result, for the sake of clarity."
   ]
  },
  {
   "cell_type": "code",
   "execution_count": 3,
   "metadata": {},
   "outputs": [
    {
     "data": {
      "text/plain": [
       "['he',\n",
       " 'is',\n",
       " 'the',\n",
       " 'king',\n",
       " 'the',\n",
       " 'king',\n",
       " 'is',\n",
       " 'royal',\n",
       " 'she',\n",
       " 'is',\n",
       " 'the',\n",
       " 'royal',\n",
       " 'queen',\n",
       " 'the',\n",
       " 'king',\n",
       " 'is',\n",
       " 'naked']"
      ]
     },
     "execution_count": 3,
     "metadata": {},
     "output_type": "execute_result"
    }
   ],
   "source": [
    "words = []\n",
    "for word in corpus_raw.split():\n",
    "    if word != '.': # because we don't want to treat . as a word\n",
    "        words.append(word)\n",
    "        \n",
    "words"
   ]
  },
  {
   "cell_type": "markdown",
   "metadata": {},
   "source": [
    "### The vocabulary\n",
    "\n",
    "We are building a vocabulary, hence, we want to remove all the duplicates."
   ]
  },
  {
   "cell_type": "code",
   "execution_count": 4,
   "metadata": {},
   "outputs": [
    {
     "name": "stdout",
     "output_type": "stream",
     "text": [
      "Size of vocabulary:  8\n"
     ]
    }
   ],
   "source": [
    "vocab = set(words)\n",
    "frequency_map = {}\n",
    "\n",
    "for word in vocab:\n",
    "    frequency_map[word] = words.count(word)\n",
    "\n",
    "word2int = {}\n",
    "int2word = {}\n",
    "vocab_size = len(vocab) # gives the total number of unique words\n",
    "\n",
    "print(\"Size of vocabulary: \", vocab_size)"
   ]
  },
  {
   "cell_type": "markdown",
   "metadata": {},
   "source": [
    "We now build a basic encoder: each word is identified by its position in the vocab."
   ]
  },
  {
   "cell_type": "code",
   "execution_count": 5,
   "metadata": {},
   "outputs": [],
   "source": [
    "for i, word in enumerate(vocab):\n",
    "    word2int[word] = i\n",
    "    int2word[i] = word"
   ]
  },
  {
   "cell_type": "markdown",
   "metadata": {},
   "source": [
    "Now, we split the corpus in sentences, made as a list of words. Again, there are more elegant methods to do so, but we prefer to explicitly compute everything."
   ]
  },
  {
   "cell_type": "code",
   "execution_count": 6,
   "metadata": {},
   "outputs": [],
   "source": [
    "# raw sentences is a list of sentences.\n",
    "raw_sentences = corpus_raw.split('.')\n",
    "sentences = []\n",
    "for sentence in raw_sentences:\n",
    "    sentences.append(sentence.split())"
   ]
  },
  {
   "cell_type": "markdown",
   "metadata": {},
   "source": [
    "### Hyperparameters \n",
    "\n",
    "Now, it is time to choose some hyperparameter.\n",
    "\n",
    "In particular, the __context half-size__ $c$, also called _window size_.\n",
    "\n",
    "Here, we set $c=2$.\n",
    "\n",
    "Another hyperparameter to set is the _embedding dimension_, that we set as $m=5$."
   ]
  },
  {
   "cell_type": "code",
   "execution_count": 7,
   "metadata": {},
   "outputs": [],
   "source": [
    "WINDOW_SIZE = 2\n",
    "EMBEDDING_DIM = 5"
   ]
  },
  {
   "cell_type": "markdown",
   "metadata": {},
   "source": [
    "### Training set\n",
    "\n",
    "Times are mature to build the training set. \n",
    "\n",
    "Recall our example,\n",
    "\n",
    "<p align=\"center\">\n",
    "    <img width=\"916\" alt=\"training_set\" src=\"https://user-images.githubusercontent.com/49638680/202918081-12a288b9-97d6-4f1b-ad2a-799b1001a761.png\">\n",
    "</p>"
   ]
  },
  {
   "cell_type": "code",
   "execution_count": 8,
   "metadata": {},
   "outputs": [],
   "source": [
    "data = []\n",
    "for sentence in sentences:\n",
    "    i = WINDOW_SIZE\n",
    "    center_word = sentence[i]\n",
    "    context_words = sentence[(i - WINDOW_SIZE):i] + sentence[(i + 1):(i + WINDOW_SIZE + 1)]\n",
    "    data.append([context_words, center_word])\n",
    "    i+=1\n",
    "    if i >= len(sentence):\n",
    "        print(\"i is being set to 0\")\n",
    "        i = 0"
   ]
  },
  {
   "cell_type": "code",
   "execution_count": 9,
   "metadata": {},
   "outputs": [
    {
     "data": {
      "text/plain": [
       "[[['he', 'is', 'king'], 'the'],\n",
       " [['the', 'king', 'royal'], 'is'],\n",
       " [['she', 'is', 'royal', 'queen'], 'the'],\n",
       " [['the', 'king', 'naked'], 'is']]"
      ]
     },
     "execution_count": 9,
     "metadata": {},
     "output_type": "execute_result"
    }
   ],
   "source": [
    "data # Training set"
   ]
  },
  {
   "cell_type": "markdown",
   "metadata": {},
   "source": [
    "#### One-hot encode\n",
    "\n",
    "Now we need to convert these words into something a model can handle: _i.e._ numerical vectors.\n",
    "\n",
    "One possible choice is to use one-hot encoding."
   ]
  },
  {
   "cell_type": "code",
   "execution_count": 10,
   "metadata": {},
   "outputs": [],
   "source": [
    "# Function to convert numbers to one hot vectors\n",
    "\n",
    "def to_one_hot(data_point_index, vocab_size):\n",
    "    tmp = np.zeros(vocab_size)\n",
    "    tmp[data_point_index] = 1\n",
    "    return tmp"
   ]
  },
  {
   "cell_type": "markdown",
   "metadata": {},
   "source": [
    "#### Compose batches\n",
    "\n",
    "Now, it is left the batch composition, where we get the one-hot encoded vectors and put them together to feed the model."
   ]
  },
  {
   "cell_type": "code",
   "execution_count": 11,
   "metadata": {},
   "outputs": [],
   "source": [
    "x_train = [] # input words\n",
    "y_train = [] # output word\n",
    "\n",
    "for elem in data:\n",
    "    y_train.append(to_one_hot(word2int[ elem[1] ], vocab_size))\n",
    "    x_ohe = np.mean([to_one_hot(word2int[x], vocab_size)/frequency_map[x] for x in elem[0]], axis=0)\n",
    "    x_train.append(x_ohe)"
   ]
  },
  {
   "cell_type": "markdown",
   "metadata": {},
   "source": [
    "Just for numerical purpose, we convert such lists into numpy arrays."
   ]
  },
  {
   "cell_type": "code",
   "execution_count": 12,
   "metadata": {},
   "outputs": [],
   "source": [
    "x_train = np.array(x_train)\n",
    "y_train = np.array(y_train)"
   ]
  },
  {
   "cell_type": "markdown",
   "metadata": {},
   "source": [
    "## The model\n",
    "\n",
    "We are now ready to define the model.\n",
    "\n",
    "<p align=\"center\">\n",
    "    <img width=\"564\" alt=\"cbow_model\" src=\"https://user-images.githubusercontent.com/49638680/202919935-d5d9c7da-799b-42da-8570-336bbd82249b.png\">\n",
    "</p>"
   ]
  },
  {
   "cell_type": "code",
   "execution_count": 13,
   "metadata": {},
   "outputs": [
    {
     "name": "stdout",
     "output_type": "stream",
     "text": [
      "Metal device set to: Apple M1 Max\n",
      "\n",
      "systemMemory: 32.00 GB\n",
      "maxCacheSize: 10.67 GB\n",
      "\n",
      "Model: \"model\"\n",
      "_________________________________________________________________\n",
      " Layer (type)                Output Shape              Param #   \n",
      "=================================================================\n",
      " input_1 (InputLayer)        [(None, 8)]               0         \n",
      "                                                                 \n",
      " HiddenRepresentation (Dense  (None, 5)                45        \n",
      " )                                                               \n",
      "                                                                 \n",
      " dense (Dense)               (None, 8)                 48        \n",
      "                                                                 \n",
      "=================================================================\n",
      "Total params: 93\n",
      "Trainable params: 93\n",
      "Non-trainable params: 0\n",
      "_________________________________________________________________\n"
     ]
    },
    {
     "name": "stderr",
     "output_type": "stream",
     "text": [
      "2022-11-20 22:48:24.918386: I tensorflow/core/common_runtime/pluggable_device/pluggable_device_factory.cc:305] Could not identify NUMA node of platform GPU ID 0, defaulting to 0. Your kernel may not have been built with NUMA support.\n",
      "2022-11-20 22:48:24.918510: I tensorflow/core/common_runtime/pluggable_device/pluggable_device_factory.cc:271] Created TensorFlow device (/job:localhost/replica:0/task:0/device:GPU:0 with 0 MB memory) -> physical PluggableDevice (device: 0, name: METAL, pci bus id: <undefined>)\n"
     ]
    }
   ],
   "source": [
    "inputs = tf.keras.Input(shape=vocab_size)\n",
    "emb = tf.keras.layers.Dense(units=EMBEDDING_DIM, activation=\"relu\", name=\"HiddenRepresentation\")(inputs)\n",
    "outputs = tf.keras.layers.Dense(units=vocab_size, activation=\"softmax\")(emb)\n",
    "\n",
    "model = tf.keras.Model(inputs=inputs, outputs = outputs)\n",
    "model.compile(loss=\"categorical_crossentropy\", optimizer=\"adam\")\n",
    "model.summary()"
   ]
  },
  {
   "cell_type": "code",
   "execution_count": 24,
   "metadata": {},
   "outputs": [
    {
     "name": "stdout",
     "output_type": "stream",
     "text": [
      "Epoch 1/2\n",
      "1/1 [==============================] - 0s 10ms/step - loss: 2.0553\n",
      "Epoch 2/2\n",
      "1/1 [==============================] - 0s 9ms/step - loss: 2.0525\n"
     ]
    }
   ],
   "source": [
    "model.fit(x_train, y_train, epochs=2);"
   ]
  },
  {
   "cell_type": "markdown",
   "metadata": {},
   "source": [
    "### Extracting embeddings\n",
    "\n",
    "In order to extract embeddings we can choose 3 methods:\n",
    "\n",
    "1. For each word in the vocabulary, the embedding vector is the corresponding $W^{[1]}$ row.\n",
    "2. For each word in the vocabulary, the embedding vector is the corresponding $W^{[2]}$ column.\n",
    "3. For each word in the vocabulary, the embedding vector is the average between $W^{[1]}$ row and $W^{[2]}$ column."
   ]
  },
  {
   "cell_type": "code",
   "execution_count": 25,
   "metadata": {},
   "outputs": [
    {
     "name": "stdout",
     "output_type": "stream",
     "text": [
      "The W^[1] shape is: (8, 5)\n",
      "The W^[2] shape is: (5, 8)\n"
     ]
    }
   ],
   "source": [
    "W1 = model.layers[1].get_weights()[0]\n",
    "W2 = model.layers[2].get_weights()[0]\n",
    "print(f\"The W^[1] shape is: {model.layers[1].get_weights()[0].shape}\")\n",
    "print(f\"The W^[2] shape is: {model.layers[2].get_weights()[0].shape}\")"
   ]
  },
  {
   "cell_type": "code",
   "execution_count": 26,
   "metadata": {},
   "outputs": [],
   "source": [
    "embedding_vectors =  (W1 + W2.T)/2"
   ]
  },
  {
   "cell_type": "code",
   "execution_count": 27,
   "metadata": {},
   "outputs": [
    {
     "name": "stdout",
     "output_type": "stream",
     "text": [
      "Embedding vector for the word king: [ 0.2582556  -0.5060575   0.32851547 -0.15449491  0.28054968]\n"
     ]
    }
   ],
   "source": [
    "word = \"king\"\n",
    "print(f\"Embedding vector for the word {word}: {embedding_vectors[word2int[word]]}\")"
   ]
  },
  {
   "cell_type": "markdown",
   "metadata": {},
   "source": [
    "### Plotting embeddings\n",
    "\n",
    "Let's plot the embeddings in two dimensions."
   ]
  },
  {
   "cell_type": "code",
   "execution_count": 28,
   "metadata": {},
   "outputs": [
    {
     "name": "stderr",
     "output_type": "stream",
     "text": [
      "/Users/oscardefelice/miniconda3/envs/dl_lectures/lib/python3.9/site-packages/sklearn/manifold/_t_sne.py:991: FutureWarning: The PCA initialization in TSNE will change to have the standard deviation of PC1 equal to 1e-4 in 1.2. This will ensure better convergence.\n",
      "  warnings.warn(\n"
     ]
    },
    {
     "name": "stdout",
     "output_type": "stream",
     "text": [
      "the -0.21819863\n",
      "queen 0.05626716\n",
      "naked 0.9719277\n",
      "royal 0.7151094\n",
      "king 0.83810836\n",
      "he 0.5369189\n",
      "is -0.8912871\n",
      "she -0.84854925\n"
     ]
    },
    {
     "data": {
      "image/png": "[encoded data removed]",
      "text/plain": [
       "<Figure size 432x288 with 1 Axes>"
      ]
     },
     "metadata": {
      "image/png": {
       "height": 248,
       "width": 380
      },
      "needs_background": "light"
     },
     "output_type": "display_data"
    }
   ],
   "source": [
    "tsne = TSNE(n_components=2, random_state=42, init=\"pca\", learning_rate=\"auto\")\n",
    "np.set_printoptions(suppress=True)\n",
    "\n",
    "red_emb = tsne.fit_transform(embedding_vectors)\n",
    "\n",
    "normaliser = Normalizer()\n",
    "red_emb =  normaliser.fit_transform(red_emb, 'l2')\n",
    "\n",
    "fig, ax = plt.subplots()\n",
    "\n",
    "for word in vocab:\n",
    "    print(word, red_emb[word2int[word]][1])\n",
    "    ax.annotate(word, (red_emb[word2int[word]][0],red_emb[word2int[word]][1] ))\n",
    "    ax.set_xlim(min([red_emb[word2int[w]][0] for w in words])-1, max([red_emb[word2int[w]][0] for w in words])+1)\n",
    "    ax.set_ylim(min([red_emb[word2int[w]][1] for w in words])-1, max([red_emb[word2int[w]][1] for w in words])+1)\n",
    "plt.show()"
   ]
  }
 ],
 "metadata": {
  "kernelspec": {
   "display_name": "Python 3.9.12 ('dl_lectures')",
   "language": "python",
   "name": "python3"
  },
  "language_info": {
   "codemirror_mode": {
    "name": "ipython",
    "version": 3
   },
   "file_extension": ".py",
   "mimetype": "text/x-python",
   "name": "python",
   "nbconvert_exporter": "python",
   "pygments_lexer": "ipython3",
   "version": "3.9.12"
  },
  "vscode": {
   "interpreter": {
    "hash": "0061e9a2c2a5036d35157c5368def7054abdfc28729279d5931d907692112dc3"
   }
  }
 },
 "nbformat": 4,
 "nbformat_minor": 4
}
