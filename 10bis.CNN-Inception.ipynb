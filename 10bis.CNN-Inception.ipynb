{
 "cells": [
  {
   "cell_type": "markdown",
   "metadata": {},
   "source": [
    "![](https://www.domsoria.com/wp-content/uploads/2019/11/keras.png)"
   ]
  },
  {
   "cell_type": "markdown",
   "metadata": {},
   "source": [
    "# Inception Network\n",
    "\n",
    "The Inception network was an important milestone in the development of CNN classifiers. Prior to its inception (pun intended), most popular CNNs just stacked convolution layers deeper and deeper, hoping to get better performance.\n",
    "\n",
    "The Inception network on the other hand, was complex (heavily engineered). It used a lot of tricks to push performance; both in terms of speed and accuracy. Its constant evolution lead to the creation of several versions of the network. The popular versions are as follows\n",
    "* Inception v1\n",
    "* Inception v2\n",
    "* Inception v3\n",
    "* Inception v4\n",
    "* Inception ResNet\n",
    "\n",
    "## Which problems lead to Inception networks? \n",
    "\n",
    "Before digging into Inception Networks (yes, the name comes from the movie), it might be useful studying why an inception network was needed.\n",
    "\n",
    "#### Fun Fact\n",
    "The meme is referred in the [original paper](https://arxiv.org/pdf/1409.4842v1.pdf).\n",
    "![](https://miro.medium.com/max/1024/1*cwR_ezx0jliDvVUV6yno5g.jpeg)\n",
    "\n",
    "### Problems\n",
    "1. Salient parts in the image can have extremely large variation in size. For instance, an image with a dog can be either of the following, as shown below. The area occupied by the dog is different in each image.\n",
    "![](https://miro.medium.com/max/1400/1*aBdPBGAeta-_AM4aEyqeTQ.jpeg)\n",
    "2. Because of this huge variation in the location of the information, choosing the right kernel size for the convolution operation becomes tough. A larger kernel is preferred for information that is distributed more globally, and a smaller kernel is preferred for information that is distributed more locally.\n",
    "3. Very deep networks are prone to overfitting. It also hard to pass gradient updates through the entire network.\n",
    "4. Naively stacking large convolution operations is computationally expensive.\n",
    "\n",
    "### Solution!\n",
    "\n",
    "__Inception module__\n",
    "\n",
    "Why not have filters with multiple sizes operate on the same level? The network essentially would get a bit “wider” rather than “deeper”. The authors designed the inception module to reflect the same.\n",
    "\n",
    "![](https://i.ytimg.com/vi/KfV8CJh7hE0/maxresdefault.jpg)\n",
    "\n",
    "## Inception v1\n",
    "\n",
    "![](images/Inception_module1.jpg)\n",
    "\n",
    "## Inception v2 and v3\n",
    "\n",
    "![](images/Inception_module2.jpg)\n",
    "\n",
    "![](images/Inception_module3.jpg)\n",
    "\n",
    "## Inception v4 and InceptionResNet"
   ]
  },
  {
   "cell_type": "markdown",
   "metadata": {},
   "source": [
    "## GoogLeNet\n",
    "\n",
    "![](https://miro.medium.com/max/1400/1*uW81y16b-ptBDV8SIT1beQ.png)\n",
    "\n",
    "<center> GoogLeNet. The orange box is the stem, which has some preliminary convolutions. The purple boxes are auxiliary classifiers. The wide parts are the inception modules. (Source: Inception v1) <center>\n",
    "    \n",
    "\n",
    "\n",
    "GoogLeNet has 9 inception modules stacked linearly. It is 22 layers deep (27, including the pooling layers). It uses global average pooling at the end of the last inception module."
   ]
  },
  {
   "cell_type": "markdown",
   "metadata": {},
   "source": [
    "## Bibliography\n",
    "\n",
    "* [Inception paper](https://arxiv.org/pdf/1409.4842v1.pdf)\n",
    "* [Inception v2 and v3 paper](https://arxiv.org/pdf/1512.00567v3.pdf)\n",
    "* [Inception ResNet paper](https://arxiv.org/pdf/1602.07261.pdf)"
   ]
  }
 ],
 "metadata": {
  "kernelspec": {
   "display_name": "Python 3",
   "language": "python",
   "name": "python3"
  },
  "language_info": {
   "codemirror_mode": {
    "name": "ipython",
    "version": 3
   },
   "file_extension": ".py",
   "mimetype": "text/x-python",
   "name": "python",
   "nbconvert_exporter": "python",
   "pygments_lexer": "ipython3",
   "version": "3.7.6"
  }
 },
 "nbformat": 4,
 "nbformat_minor": 4
}
