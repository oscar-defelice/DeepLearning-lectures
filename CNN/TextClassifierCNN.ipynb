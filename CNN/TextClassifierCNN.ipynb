{
  "nbformat": 4,
  "nbformat_minor": 0,
  "metadata": {
    "colab": {
      "name": "TextClassifierCNN.ipynb",
      "provenance": [],
      "collapsed_sections": [],
      "authorship_tag": "ABX9TyOFVaETVV9ergQd9Yi8RsuP",
      "include_colab_link": true
    },
    "kernelspec": {
      "name": "python3",
      "display_name": "Python 3"
    },
    "accelerator": "GPU"
  },
  "cells": [
    {
      "cell_type": "markdown",
      "metadata": {
        "id": "view-in-github",
        "colab_type": "text"
      },
      "source": [
        "<a href=\"https://colab.research.google.com/github/oscar-defelice/DeepLearning-lectures/blob/master/CNN/TextClassifierCNN.ipynb\" target=\"_parent\"><img src=\"https://colab.research.google.com/assets/colab-badge.svg\" alt=\"Open In Colab\"/></a>"
      ]
    },
    {
      "cell_type": "markdown",
      "metadata": {
        "id": "Ixp1DaiY3AHe"
      },
      "source": [
        "# Installation and Configuration"
      ]
    },
    {
      "cell_type": "markdown",
      "metadata": {
        "id": "u1UScWlo3EW-"
      },
      "source": [
        "Google Colab offers free GPU and even TPU. For the purpose of simpler setup, we will stick to GPU. Attention models are quite big, so we need to be aware that we are constrained by 12 GB of VRAM in Google Colab as Tesla K80 is used.\n",
        "\n",
        "First, let's check if you have GPU enabled in your session here in Colab. You can do it by running the following code."
      ]
    },
    {
      "cell_type": "code",
      "metadata": {
        "id": "jd0tT7HQ2shq",
        "outputId": "4ff9d9ba-4903-4dd7-95ed-d306bda8a246",
        "colab": {
          "base_uri": "https://localhost:8080/",
          "height": 34
        }
      },
      "source": [
        "import tensorflow as tf\n",
        "\n",
        "# Get the GPU device name.\n",
        "device_name = tf.test.gpu_device_name()\n",
        "\n",
        "# The device name should look like the following:\n",
        "if device_name == '/device:GPU:0':\n",
        "    print('Found GPU at: {}'.format(device_name))\n",
        "else:    \n",
        "    raise SystemError('GPU device not found')"
      ],
      "execution_count": 1,
      "outputs": [
        {
          "output_type": "stream",
          "text": [
            "Found GPU at: /device:GPU:0\n"
          ],
          "name": "stdout"
        }
      ]
    },
    {
      "cell_type": "markdown",
      "metadata": {
        "id": "OxjF4kWs3z68"
      },
      "source": [
        "If you do not have the GPU enabled, just go to:\n",
        "\n",
        "`Edit -> Notebook Settings -> Hardware accelerator -> Set to GPU`\n",
        "\n",
        "To fine-tune our model, we need a couple of libraries to install first. \n",
        "TensorFlow 2 is already preinstalled, so the missing ones are [transformers](https://github.com/huggingface/transformers) and [TensorFlow datasets](https://github.com/tensorflow/datasets). This allows us to very easily import already pre-trained models for TensorFlow 2 and fine-tune with Keras API. "
      ]
    },
    {
      "cell_type": "code",
      "metadata": {
        "id": "7H1RuNQe3lR_"
      },
      "source": [
        "%%bash\n",
        "pip install -q transformers tensorflow_datasets==4.0.1 "
      ],
      "execution_count": 2,
      "outputs": []
    },
    {
      "cell_type": "markdown",
      "metadata": {
        "id": "tEp4PrNXh1Ps"
      },
      "source": [
        "In addition, we install [Tensorflow.JS](https://www.tensorflow.org/js). This will be useful to export our model once trained to deploy it on a web app."
      ]
    },
    {
      "cell_type": "code",
      "metadata": {
        "id": "YA3ObIdl7ZFG"
      },
      "source": [
        "%%bash\n",
        "pip install -q tensorflowjs"
      ],
      "execution_count": 3,
      "outputs": []
    },
    {
      "cell_type": "markdown",
      "metadata": {
        "id": "7Ckrcntu4XD_"
      },
      "source": [
        "# Loading AG News dataset"
      ]
    },
    {
      "cell_type": "markdown",
      "metadata": {
        "id": "j1xSGNbC4YXn"
      },
      "source": [
        "We will use [ag_news dataset](https://www.tensorflow.org/datasets/catalog/ag_news_subset).\n",
        "\n",
        "The AG's news topic classification dataset is constructed by Xiang Zhang (xiang.zhang@nyu.edu) from the complete dataset of 1 million of news. It is used as a text classification benchmark in the following paper: Xiang Zhang, Junbo Zhao, Yann LeCun. Character-level Convolutional Networks for Text Classification. Advances in Neural Information Processing Systems 28 (NIPS 2015).\n",
        "\n",
        "The AG's news topic classification dataset is constructed by choosing 4 largest classes from the original corpus. Each class contains 30,000 training samples and 1,900 testing samples. The total number of training samples is 120,000 and testing 7,600.\n",
        "\n",
        "Although we could load data very quickly just with `tensorflow_datasets` library, with the following code\n",
        "\n",
        "```python\n",
        "import tensorflow_datasets as tfds\n",
        "\n",
        "(ds_train, ds_test), ds_info = tfds.load('ag_news_subset', \n",
        "          split = (tfds.Split.TRAIN, tfds.Split.TEST),\n",
        "          as_supervised=True,\n",
        "          with_info=True\n",
        "          )\n",
        "\n",
        "print('info', ds_info)\n",
        "```\n",
        "\n",
        "Note how the code above returns a dictionary \n",
        "```python\n",
        "FeaturesDict({\n",
        "  'description': Text(shape=(), dtype=tf.string),\n",
        "  'label': ClassLabel(shape=(), dtype=tf.int64, num_classes=4),\n",
        "  'title': Text(shape=(), dtype=tf.string),\n",
        "})\n",
        "```\n",
        "\n",
        "We want to operate some preprocessing, thus we are going to load data through the usual pandas dataframe from csv, and then convert to a tensorflow dataset, which is the robust, and ready-to-parallel computing format we want to use."
      ]
    },
    {
      "cell_type": "code",
      "metadata": {
        "id": "kq7---q-mOwg",
        "outputId": "138cf86c-d105-4d72-da3f-ca70d8cefaf6",
        "colab": {
          "base_uri": "https://localhost:8080/",
          "height": 1000
        }
      },
      "source": [
        "%%bash\n",
        "wget https://s3.amazonaws.com/fast-ai-nlp/ag_news_csv.tgz\n",
        "mkdir -p data && tar -xvzf ag_news_csv.tgz -C data/"
      ],
      "execution_count": 4,
      "outputs": [
        {
          "output_type": "stream",
          "text": [
            "ag_news_csv/\n",
            "ag_news_csv/train.csv\n",
            "ag_news_csv/readme.txt\n",
            "ag_news_csv/test.csv\n",
            "ag_news_csv/classes.txt\n"
          ],
          "name": "stdout"
        },
        {
          "output_type": "stream",
          "text": [
            "--2020-10-24 07:16:18--  https://s3.amazonaws.com/fast-ai-nlp/ag_news_csv.tgz\n",
            "Resolving s3.amazonaws.com (s3.amazonaws.com)... 52.216.192.35\n",
            "Connecting to s3.amazonaws.com (s3.amazonaws.com)|52.216.192.35|:443... connected.\n",
            "HTTP request sent, awaiting response... 200 OK\n",
            "Length: 11784419 (11M) [application/x-tar]\n",
            "Saving to: ‘ag_news_csv.tgz’\n",
            "\n",
            "     0K .......... .......... .......... .......... ..........  0% 20.3M 1s\n",
            "    50K .......... .......... .......... .......... ..........  0% 10.2M 1s\n",
            "   100K .......... .......... .......... .......... ..........  1% 20.7M 1s\n",
            "   150K .......... .......... .......... .......... ..........  1%  185M 1s\n",
            "   200K .......... .......... .......... .......... ..........  2% 20.9M 1s\n",
            "   250K .......... .......... .......... .......... ..........  2% 23.0M 1s\n",
            "   300K .......... .......... .......... .......... ..........  3%  124M 0s\n",
            "   350K .......... .......... .......... .......... ..........  3% 21.9M 0s\n",
            "   400K .......... .......... .......... .......... ..........  3%  187M 0s\n",
            "   450K .......... .......... .......... .......... ..........  4% 21.5M 0s\n",
            "   500K .......... .......... .......... .......... ..........  4% 14.9M 0s\n",
            "   550K .......... .......... .......... .......... ..........  5%  158M 0s\n",
            "   600K .......... .......... .......... .......... ..........  5% 23.1M 0s\n",
            "   650K .......... .......... .......... .......... ..........  6%  176M 0s\n",
            "   700K .......... .......... .......... .......... ..........  6%  212M 0s\n",
            "   750K .......... .......... .......... .......... ..........  6% 22.7M 0s\n",
            "   800K .......... .......... .......... .......... ..........  7%  183M 0s\n",
            "   850K .......... .......... .......... .......... ..........  7% 23.2M 0s\n",
            "   900K .......... .......... .......... .......... ..........  8%  170M 0s\n",
            "   950K .......... .......... .......... .......... ..........  8% 23.0M 0s\n",
            "  1000K .......... .......... .......... .......... ..........  9%  167M 0s\n",
            "  1050K .......... .......... .......... .......... ..........  9% 3.31M 0s\n",
            "  1100K .......... .......... .......... .......... ..........  9%  154M 0s\n",
            "  1150K .......... .......... .......... .......... .......... 10% 24.4M 0s\n",
            "  1200K .......... .......... .......... .......... .......... 10%  210M 0s\n",
            "  1250K .......... .......... .......... .......... .......... 11%  138M 0s\n",
            "  1300K .......... .......... .......... .......... .......... 11% 24.9M 0s\n",
            "  1350K .......... .......... .......... .......... .......... 12%  102M 0s\n",
            "  1400K .......... .......... .......... .......... .......... 12%  201M 0s\n",
            "  1450K .......... .......... .......... .......... .......... 13% 27.3M 0s\n",
            "  1500K .......... .......... .......... .......... .......... 13% 56.1M 0s\n",
            "  1550K .......... .......... .......... .......... .......... 13% 37.2M 0s\n",
            "  1600K .......... .......... .......... .......... .......... 14% 50.4M 0s\n",
            "  1650K .......... .......... .......... .......... .......... 14%  176M 0s\n",
            "  1700K .......... .......... .......... .......... .......... 15% 39.3M 0s\n",
            "  1750K .......... .......... .......... .......... .......... 15% 59.0M 0s\n",
            "  1800K .......... .......... .......... .......... .......... 16%  159M 0s\n",
            "  1850K .......... .......... .......... .......... .......... 16% 39.8M 0s\n",
            "  1900K .......... .......... .......... .......... .......... 16% 57.1M 0s\n",
            "  1950K .......... .......... .......... .......... .......... 17% 77.2M 0s\n",
            "  2000K .......... .......... .......... .......... .......... 17% 47.9M 0s\n",
            "  2050K .......... .......... .......... .......... .......... 18%  185M 0s\n",
            "  2100K .......... .......... .......... .......... .......... 18% 35.1M 0s\n",
            "  2150K .......... .......... .......... .......... .......... 19%  107M 0s\n",
            "  2200K .......... .......... .......... .......... .......... 19% 22.6M 0s\n",
            "  2250K .......... .......... .......... .......... .......... 19%  173M 0s\n",
            "  2300K .......... .......... .......... .......... .......... 20%  200M 0s\n",
            "  2350K .......... .......... .......... .......... .......... 20% 23.4M 0s\n",
            "  2400K .......... .......... .......... .......... .......... 21%  111M 0s\n",
            "  2450K .......... .......... .......... .......... .......... 21%  182M 0s\n",
            "  2500K .......... .......... .......... .......... .......... 22%  201M 0s\n",
            "  2550K .......... .......... .......... .......... .......... 22% 29.6M 0s\n",
            "  2600K .......... .......... .......... .......... .......... 23%  171M 0s\n",
            "  2650K .......... .......... .......... .......... .......... 23%  156M 0s\n",
            "  2700K .......... .......... .......... .......... .......... 23%  190M 0s\n",
            "  2750K .......... .......... .......... .......... .......... 24% 33.9M 0s\n",
            "  2800K .......... .......... .......... .......... .......... 24% 96.3M 0s\n",
            "  2850K .......... .......... .......... .......... .......... 25%  178M 0s\n",
            "  2900K .......... .......... .......... .......... .......... 25%  182M 0s\n",
            "  2950K .......... .......... .......... .......... .......... 26% 37.3M 0s\n",
            "  3000K .......... .......... .......... .......... .......... 26% 87.3M 0s\n",
            "  3050K .......... .......... .......... .......... .......... 26%  170M 0s\n",
            "  3100K .......... .......... .......... .......... .......... 27%  151M 0s\n",
            "  3150K .......... .......... .......... .......... .......... 27% 40.4M 0s\n",
            "  3200K .......... .......... .......... .......... .......... 28% 96.4M 0s\n",
            "  3250K .......... .......... .......... .......... .......... 28%  149M 0s\n",
            "  3300K .......... .......... .......... .......... .......... 29%  172M 0s\n",
            "  3350K .......... .......... .......... .......... .......... 29% 46.7M 0s\n",
            "  3400K .......... .......... .......... .......... .......... 29% 90.1M 0s\n",
            "  3450K .......... .......... .......... .......... .......... 30% 50.8M 0s\n",
            "  3500K .......... .......... .......... .......... .......... 30%  161M 0s\n",
            "  3550K .......... .......... .......... .......... .......... 31%  167M 0s\n",
            "  3600K .......... .......... .......... .......... .......... 31%  106M 0s\n",
            "  3650K .......... .......... .......... .......... .......... 32% 61.8M 0s\n",
            "  3700K .......... .......... .......... .......... .......... 32% 89.7M 0s\n",
            "  3750K .......... .......... .......... .......... .......... 33%  180M 0s\n",
            "  3800K .......... .......... .......... .......... .......... 33%  162M 0s\n",
            "  3850K .......... .......... .......... .......... .......... 33%  102M 0s\n",
            "  3900K .......... .......... .......... .......... .......... 34% 44.4M 0s\n",
            "  3950K .......... .......... .......... .......... .......... 34%  174M 0s\n",
            "  4000K .......... .......... .......... .......... .......... 35%  170M 0s\n",
            "  4050K .......... .......... .......... .......... .......... 35%  156M 0s\n",
            "  4100K .......... .......... .......... .......... .......... 36% 76.7M 0s\n",
            "  4150K .......... .......... .......... .......... .......... 36% 66.3M 0s\n",
            "  4200K .......... .......... .......... .......... .......... 36%  110M 0s\n",
            "  4250K .......... .......... .......... .......... .......... 37%  143M 0s\n",
            "  4300K .......... .......... .......... .......... .......... 37%  179M 0s\n",
            "  4350K .......... .......... .......... .......... .......... 38%  156M 0s\n",
            "  4400K .......... .......... .......... .......... .......... 38% 41.3M 0s\n",
            "  4450K .......... .......... .......... .......... .......... 39%  179M 0s\n",
            "  4500K .......... .......... .......... .......... .......... 39%  162M 0s\n",
            "  4550K .......... .......... .......... .......... .......... 39%  146M 0s\n",
            "  4600K .......... .......... .......... .......... .......... 40%  180M 0s\n",
            "  4650K .......... .......... .......... .......... .......... 40%  158M 0s\n",
            "  4700K .......... .......... .......... .......... .......... 41% 45.3M 0s\n",
            "  4750K .......... .......... .......... .......... .......... 41% 78.0M 0s\n",
            "  4800K .......... .......... .......... .......... .......... 42%  175M 0s\n",
            "  4850K .......... .......... .......... .......... .......... 42%  168M 0s\n",
            "  4900K .......... .......... .......... .......... .......... 43%  160M 0s\n",
            "  4950K .......... .......... .......... .......... .......... 43% 96.8M 0s\n",
            "  5000K .......... .......... .......... .......... .......... 43%  127M 0s\n",
            "  5050K .......... .......... .......... .......... .......... 44% 85.4M 0s\n",
            "  5100K .......... .......... .......... .......... .......... 44%  144M 0s\n",
            "  5150K .......... .......... .......... .......... .......... 45%  160M 0s\n",
            "  5200K .......... .......... .......... .......... .......... 45%  175M 0s\n",
            "  5250K .......... .......... .......... .......... .......... 46%  207M 0s\n",
            "  5300K .......... .......... .......... .......... .......... 46% 77.4M 0s\n",
            "  5350K .......... .......... .......... .......... .......... 46%  173M 0s\n",
            "  5400K .......... .......... .......... .......... .......... 47% 87.1M 0s\n",
            "  5450K .......... .......... .......... .......... .......... 47%  153M 0s\n",
            "  5500K .......... .......... .......... .......... .......... 48%  160M 0s\n",
            "  5550K .......... .......... .......... .......... .......... 48%  175M 0s\n",
            "  5600K .......... .......... .......... .......... .......... 49%  116M 0s\n",
            "  5650K .......... .......... .......... .......... .......... 49%  135M 0s\n",
            "  5700K .......... .......... .......... .......... .......... 49%  112M 0s\n",
            "  5750K .......... .......... .......... .......... .......... 50%  130M 0s\n",
            "  5800K .......... .......... .......... .......... .......... 50%  150M 0s\n",
            "  5850K .......... .......... .......... .......... .......... 51%  172M 0s\n",
            "  5900K .......... .......... .......... .......... .......... 51%  178M 0s\n",
            "  5950K .......... .......... .......... .......... .......... 52%  118M 0s\n",
            "  6000K .......... .......... .......... .......... .......... 52%  144M 0s\n",
            "  6050K .......... .......... .......... .......... .......... 53%  101M 0s\n",
            "  6100K .......... .......... .......... .......... .......... 53%  187M 0s\n",
            "  6150K .......... .......... .......... .......... .......... 53%  195M 0s\n",
            "  6200K .......... .......... .......... .......... .......... 54%  151M 0s\n",
            "  6250K .......... .......... .......... .......... .......... 54%  171M 0s\n",
            "  6300K .......... .......... .......... .......... .......... 55%  192M 0s\n",
            "  6350K .......... .......... .......... .......... .......... 55% 95.5M 0s\n",
            "  6400K .......... .......... .......... .......... .......... 56%  168M 0s\n",
            "  6450K .......... .......... .......... .......... .......... 56%  116M 0s\n",
            "  6500K .......... .......... .......... .......... .......... 56%  153M 0s\n",
            "  6550K .......... .......... .......... .......... .......... 57%  193M 0s\n",
            "  6600K .......... .......... .......... .......... .......... 57% 43.5M 0s\n",
            "  6650K .......... .......... .......... .......... .......... 58%  168M 0s\n",
            "  6700K .......... .......... .......... .......... .......... 58%  160M 0s\n",
            "  6750K .......... .......... .......... .......... .......... 59%  188M 0s\n",
            "  6800K .......... .......... .......... .......... .......... 59%  185M 0s\n",
            "  6850K .......... .......... .......... .......... .......... 59%  199M 0s\n",
            "  6900K .......... .......... .......... .......... .......... 60%  186M 0s\n",
            "  6950K .......... .......... .......... .......... .......... 60%  222M 0s\n",
            "  7000K .......... .......... .......... .......... .......... 61% 85.9M 0s\n",
            "  7050K .......... .......... .......... .......... .......... 61%  128M 0s\n",
            "  7100K .......... .......... .......... .......... .......... 62%  165M 0s\n",
            "  7150K .......... .......... .......... .......... .......... 62%  188M 0s\n",
            "  7200K .......... .......... .......... .......... .......... 62%  156M 0s\n",
            "  7250K .......... .......... .......... .......... .......... 63%  220M 0s\n",
            "  7300K .......... .......... .......... .......... .......... 63%  206M 0s\n",
            "  7350K .......... .......... .......... .......... .......... 64%  182M 0s\n",
            "  7400K .......... .......... .......... .......... .......... 64%  119M 0s\n",
            "  7450K .......... .......... .......... .......... .......... 65%  140M 0s\n",
            "  7500K .......... .......... .......... .......... .......... 65%  172M 0s\n",
            "  7550K .......... .......... .......... .......... .......... 66%  174M 0s\n",
            "  7600K .......... .......... .......... .......... .......... 66%  174M 0s\n",
            "  7650K .......... .......... .......... .......... .......... 66%  181M 0s\n",
            "  7700K .......... .......... .......... .......... .......... 67%  202M 0s\n",
            "  7750K .......... .......... .......... .......... .......... 67%  193M 0s\n",
            "  7800K .......... .......... .......... .......... .......... 68%  254M 0s\n",
            "  7850K .......... .......... .......... .......... .......... 68%  118M 0s\n",
            "  7900K .......... .......... .......... .......... .......... 69%  130M 0s\n",
            "  7950K .......... .......... .......... .......... .......... 69%  219M 0s\n",
            "  8000K .......... .......... .......... .......... .......... 69% 2.86M 0s\n",
            "  8050K .......... .......... .......... .......... .......... 70%  123M 0s\n",
            "  8100K .......... .......... .......... .......... .......... 70%  170M 0s\n",
            "  8150K .......... .......... .......... .......... .......... 71%  410K 0s\n",
            "  8200K .......... .......... .......... .......... .......... 71%  111M 0s\n",
            "  8250K .......... .......... .......... .......... .......... 72%  188M 0s\n",
            "  8300K .......... .......... .......... .......... .......... 72% 5.27M 0s\n",
            "  8350K .......... .......... .......... .......... .......... 72%  116M 0s\n",
            "  8400K .......... .......... .......... .......... .......... 73%  131M 0s\n",
            "  8450K .......... .......... .......... .......... .......... 73% 98.4M 0s\n",
            "  8500K .......... .......... .......... .......... .......... 74%  141M 0s\n",
            "  8550K .......... .......... .......... .......... .......... 74%  189M 0s\n",
            "  8600K .......... .......... .......... .......... .......... 75%  182M 0s\n",
            "  8650K .......... .......... .......... .......... .......... 75%  173M 0s\n",
            "  8700K .......... .......... .......... .......... .......... 76%  108M 0s\n",
            "  8750K .......... .......... .......... .......... .......... 76% 60.5M 0s\n",
            "  8800K .......... .......... .......... .......... .......... 76%  123M 0s\n",
            "  8850K .......... .......... .......... .......... .......... 77%  192M 0s\n",
            "  8900K .......... .......... .......... .......... .......... 77%  219M 0s\n",
            "  8950K .......... .......... .......... .......... .......... 78%  237M 0s\n",
            "  9000K .......... .......... .......... .......... .......... 78%  219M 0s\n",
            "  9050K .......... .......... .......... .......... .......... 79%  202M 0s\n",
            "  9100K .......... .......... .......... .......... .......... 79%  224M 0s\n",
            "  9150K .......... .......... .......... .......... .......... 79%  212M 0s\n",
            "  9200K .......... .......... .......... .......... .......... 80%  167M 0s\n",
            "  9250K .......... .......... .......... .......... .......... 80%  154M 0s\n",
            "  9300K .......... .......... .......... .......... .......... 81%  173M 0s\n",
            "  9350K .......... .......... .......... .......... .......... 81%  156M 0s\n",
            "  9400K .......... .......... .......... .......... .......... 82%  131M 0s\n",
            "  9450K .......... .......... .......... .......... .......... 82%  229M 0s\n",
            "  9500K .......... .......... .......... .......... .......... 82%  163M 0s\n",
            "  9550K .......... .......... .......... .......... .......... 83%  211M 0s\n",
            "  9600K .......... .......... .......... .......... .......... 83%  179M 0s\n",
            "  9650K .......... .......... .......... .......... .......... 84%  158M 0s\n",
            "  9700K .......... .......... .......... .......... .......... 84%  170M 0s\n",
            "  9750K .......... .......... .......... .......... .......... 85%  165M 0s\n",
            "  9800K .......... .......... .......... .......... .......... 85%  174M 0s\n",
            "  9850K .......... .......... .......... .......... .......... 86%  158M 0s\n",
            "  9900K .......... .......... .......... .......... .......... 86% 59.6M 0s\n",
            "  9950K .......... .......... .......... .......... .......... 86% 50.3M 0s\n",
            " 10000K .......... .......... .......... .......... .......... 87% 53.3M 0s\n",
            " 10050K .......... .......... .......... .......... .......... 87%  172M 0s\n",
            " 10100K .......... .......... .......... .......... .......... 88%  182M 0s\n",
            " 10150K .......... .......... .......... .......... .......... 88%  217M 0s\n",
            " 10200K .......... .......... .......... .......... .......... 89%  160M 0s\n",
            " 10250K .......... .......... .......... .......... .......... 89%  200M 0s\n",
            " 10300K .......... .......... .......... .......... .......... 89%  872K 0s\n",
            " 10350K .......... .......... .......... .......... .......... 90% 35.1M 0s\n",
            " 10400K .......... .......... .......... .......... .......... 90% 71.3M 0s\n",
            " 10450K .......... .......... .......... .......... .......... 91%  169M 0s\n",
            " 10500K .......... .......... .......... .......... .......... 91%  180M 0s\n",
            " 10550K .......... .......... .......... .......... .......... 92% 58.2M 0s\n",
            " 10600K .......... .......... .......... .......... .......... 92% 30.1M 0s\n",
            " 10650K .......... .......... .......... .......... .......... 92% 40.2M 0s\n",
            " 10700K .......... .......... .......... .......... .......... 93% 35.2M 0s\n",
            " 10750K .......... .......... .......... .......... .......... 93% 32.0M 0s\n",
            " 10800K .......... .......... .......... .......... .......... 94% 35.7M 0s\n",
            " 10850K .......... .......... .......... .......... .......... 94% 44.5M 0s\n",
            " 10900K .......... .......... .......... .......... .......... 95% 35.1M 0s\n",
            " 10950K .......... .......... .......... .......... .......... 95%  240M 0s\n",
            " 11000K .......... .......... .......... .......... .......... 96%  237M 0s\n",
            " 11050K .......... .......... .......... .......... .......... 96%  139M 0s\n",
            " 11100K .......... .......... .......... .......... .......... 96%  131M 0s\n",
            " 11150K .......... .......... .......... .......... .......... 97% 54.9M 0s\n",
            " 11200K .......... .......... .......... .......... .......... 97% 76.4M 0s\n",
            " 11250K .......... .......... .......... .......... .......... 98%  289M 0s\n",
            " 11300K .......... .......... .......... .......... .......... 98%  273M 0s\n",
            " 11350K .......... .......... .......... .......... .......... 99%  316M 0s\n",
            " 11400K .......... .......... .......... .......... .......... 99%  298M 0s\n",
            " 11450K .......... .......... .......... .......... .......... 99%  318M 0s\n",
            " 11500K ........                                              100%  353M=0.4s\n",
            "\n",
            "2020-10-24 07:16:19 (31.5 MB/s) - ‘ag_news_csv.tgz’ saved [11784419/11784419]\n",
            "\n"
          ],
          "name": "stderr"
        }
      ]
    },
    {
      "cell_type": "code",
      "metadata": {
        "id": "Rzxp8lfO4OC5",
        "outputId": "37031d13-4a9c-429d-c7e6-50b39852076b",
        "colab": {
          "base_uri": "https://localhost:8080/",
          "height": 391
        }
      },
      "source": [
        "import pandas as pd\n",
        "\n",
        "train_data = pd.read_csv('/content/data/ag_news_csv/train.csv', engine='python', encoding='utf-8', header =None, names=['Class Index',\t'Title',\t'Description'])\n",
        "test_data = pd.read_csv('/content/data/ag_news_csv/test.csv', engine='python', encoding='utf-8', header = None, names=['Class Index',\t'Title',\t'Description'])\n",
        "\n",
        "print('Training set summary\\n')\n",
        "print(train_data.describe())\n",
        "print('Test set summary\\n')\n",
        "print(test_data.describe())"
      ],
      "execution_count": 5,
      "outputs": [
        {
          "output_type": "stream",
          "text": [
            "Training set summary\n",
            "\n",
            "         Class Index\n",
            "count  120000.000000\n",
            "mean        2.500000\n",
            "std         1.118039\n",
            "min         1.000000\n",
            "25%         1.750000\n",
            "50%         2.500000\n",
            "75%         3.250000\n",
            "max         4.000000\n",
            "Test set summary\n",
            "\n",
            "       Class Index\n",
            "count  7600.000000\n",
            "mean      2.500000\n",
            "std       1.118108\n",
            "min       1.000000\n",
            "25%       1.750000\n",
            "50%       2.500000\n",
            "75%       3.250000\n",
            "max       4.000000\n"
          ],
          "name": "stdout"
        }
      ]
    },
    {
      "cell_type": "markdown",
      "metadata": {
        "id": "KS2Nc-Nx4uyE"
      },
      "source": [
        "Now let's explore the examples for fine-tunning. We can just take the top 5 examples and labels by `ds_train.take(5)`, so that we can explore the dataset without the need to iterate over whole 25000 examples in train dataset. "
      ]
    },
    {
      "cell_type": "code",
      "metadata": {
        "id": "rC6vxjRm4mvN",
        "outputId": "8a0de730-c6ee-460f-8dd7-c9b4cd90fdab",
        "colab": {
          "base_uri": "https://localhost:8080/",
          "height": 204
        }
      },
      "source": [
        "train_data.head()"
      ],
      "execution_count": 6,
      "outputs": [
        {
          "output_type": "execute_result",
          "data": {
            "text/html": [
              "<div>\n",
              "<style scoped>\n",
              "    .dataframe tbody tr th:only-of-type {\n",
              "        vertical-align: middle;\n",
              "    }\n",
              "\n",
              "    .dataframe tbody tr th {\n",
              "        vertical-align: top;\n",
              "    }\n",
              "\n",
              "    .dataframe thead th {\n",
              "        text-align: right;\n",
              "    }\n",
              "</style>\n",
              "<table border=\"1\" class=\"dataframe\">\n",
              "  <thead>\n",
              "    <tr style=\"text-align: right;\">\n",
              "      <th></th>\n",
              "      <th>Class Index</th>\n",
              "      <th>Title</th>\n",
              "      <th>Description</th>\n",
              "    </tr>\n",
              "  </thead>\n",
              "  <tbody>\n",
              "    <tr>\n",
              "      <th>0</th>\n",
              "      <td>3</td>\n",
              "      <td>Wall St. Bears Claw Back Into the Black (Reuters)</td>\n",
              "      <td>Reuters - Short-sellers, Wall Street's dwindli...</td>\n",
              "    </tr>\n",
              "    <tr>\n",
              "      <th>1</th>\n",
              "      <td>3</td>\n",
              "      <td>Carlyle Looks Toward Commercial Aerospace (Reu...</td>\n",
              "      <td>Reuters - Private investment firm Carlyle Grou...</td>\n",
              "    </tr>\n",
              "    <tr>\n",
              "      <th>2</th>\n",
              "      <td>3</td>\n",
              "      <td>Oil and Economy Cloud Stocks' Outlook (Reuters)</td>\n",
              "      <td>Reuters - Soaring crude prices plus worries\\ab...</td>\n",
              "    </tr>\n",
              "    <tr>\n",
              "      <th>3</th>\n",
              "      <td>3</td>\n",
              "      <td>Iraq Halts Oil Exports from Main Southern Pipe...</td>\n",
              "      <td>Reuters - Authorities have halted oil export\\f...</td>\n",
              "    </tr>\n",
              "    <tr>\n",
              "      <th>4</th>\n",
              "      <td>3</td>\n",
              "      <td>Oil prices soar to all-time record, posing new...</td>\n",
              "      <td>AFP - Tearaway world oil prices, toppling reco...</td>\n",
              "    </tr>\n",
              "  </tbody>\n",
              "</table>\n",
              "</div>"
            ],
            "text/plain": [
              "   Class Index  ...                                        Description\n",
              "0            3  ...  Reuters - Short-sellers, Wall Street's dwindli...\n",
              "1            3  ...  Reuters - Private investment firm Carlyle Grou...\n",
              "2            3  ...  Reuters - Soaring crude prices plus worries\\ab...\n",
              "3            3  ...  Reuters - Authorities have halted oil export\\f...\n",
              "4            3  ...  AFP - Tearaway world oil prices, toppling reco...\n",
              "\n",
              "[5 rows x 3 columns]"
            ]
          },
          "metadata": {
            "tags": []
          },
          "execution_count": 6
        }
      ]
    },
    {
      "cell_type": "code",
      "metadata": {
        "id": "kXNeph92CCuv",
        "outputId": "f04369a3-fe7a-4794-9a99-e63994b1f16d",
        "colab": {
          "base_uri": "https://localhost:8080/",
          "height": 204
        }
      },
      "source": [
        "test_data.head()"
      ],
      "execution_count": 7,
      "outputs": [
        {
          "output_type": "execute_result",
          "data": {
            "text/html": [
              "<div>\n",
              "<style scoped>\n",
              "    .dataframe tbody tr th:only-of-type {\n",
              "        vertical-align: middle;\n",
              "    }\n",
              "\n",
              "    .dataframe tbody tr th {\n",
              "        vertical-align: top;\n",
              "    }\n",
              "\n",
              "    .dataframe thead th {\n",
              "        text-align: right;\n",
              "    }\n",
              "</style>\n",
              "<table border=\"1\" class=\"dataframe\">\n",
              "  <thead>\n",
              "    <tr style=\"text-align: right;\">\n",
              "      <th></th>\n",
              "      <th>Class Index</th>\n",
              "      <th>Title</th>\n",
              "      <th>Description</th>\n",
              "    </tr>\n",
              "  </thead>\n",
              "  <tbody>\n",
              "    <tr>\n",
              "      <th>0</th>\n",
              "      <td>3</td>\n",
              "      <td>Fears for T N pension after talks</td>\n",
              "      <td>Unions representing workers at Turner   Newall...</td>\n",
              "    </tr>\n",
              "    <tr>\n",
              "      <th>1</th>\n",
              "      <td>4</td>\n",
              "      <td>The Race is On: Second Private Team Sets Launc...</td>\n",
              "      <td>SPACE.com - TORONTO, Canada -- A second\\team o...</td>\n",
              "    </tr>\n",
              "    <tr>\n",
              "      <th>2</th>\n",
              "      <td>4</td>\n",
              "      <td>Ky. Company Wins Grant to Study Peptides (AP)</td>\n",
              "      <td>AP - A company founded by a chemistry research...</td>\n",
              "    </tr>\n",
              "    <tr>\n",
              "      <th>3</th>\n",
              "      <td>4</td>\n",
              "      <td>Prediction Unit Helps Forecast Wildfires (AP)</td>\n",
              "      <td>AP - It's barely dawn when Mike Fitzpatrick st...</td>\n",
              "    </tr>\n",
              "    <tr>\n",
              "      <th>4</th>\n",
              "      <td>4</td>\n",
              "      <td>Calif. Aims to Limit Farm-Related Smog (AP)</td>\n",
              "      <td>AP - Southern California's smog-fighting agenc...</td>\n",
              "    </tr>\n",
              "  </tbody>\n",
              "</table>\n",
              "</div>"
            ],
            "text/plain": [
              "   Class Index  ...                                        Description\n",
              "0            3  ...  Unions representing workers at Turner   Newall...\n",
              "1            4  ...  SPACE.com - TORONTO, Canada -- A second\\team o...\n",
              "2            4  ...  AP - A company founded by a chemistry research...\n",
              "3            4  ...  AP - It's barely dawn when Mike Fitzpatrick st...\n",
              "4            4  ...  AP - Southern California's smog-fighting agenc...\n",
              "\n",
              "[5 rows x 3 columns]"
            ]
          },
          "metadata": {
            "tags": []
          },
          "execution_count": 7
        }
      ]
    },
    {
      "cell_type": "markdown",
      "metadata": {
        "id": "lsqhVrrmDWQ2"
      },
      "source": [
        "## Import libraries"
      ]
    },
    {
      "cell_type": "markdown",
      "metadata": {
        "id": "3xh49OwDisal"
      },
      "source": [
        "Here we import all the libraries we need to build and then train our model."
      ]
    },
    {
      "cell_type": "code",
      "metadata": {
        "id": "FGbQCrqhDVrO",
        "outputId": "d7e3a5fa-8a5e-4862-f5b0-adfb485d356d",
        "colab": {
          "base_uri": "https://localhost:8080/",
          "height": 102
        }
      },
      "source": [
        "import re\n",
        "import string\n",
        "import numpy as np\n",
        "\n",
        "from nltk.corpus import stopwords\n",
        "from nltk.tokenize import word_tokenize\n",
        "from sklearn.model_selection import train_test_split\n",
        "\n",
        "import tensorflow as tf\n",
        "import tensorflow_datasets as tfds\n",
        "from tensorflow.keras.models import Sequential\n",
        "from tensorflow.keras.layers import Conv1D, MaxPool1D, Dropout, Dense, GlobalMaxPool1D, Embedding, Activation\n",
        "from keras.utils import to_categorical\n",
        "from keras.preprocessing.text import Tokenizer\n",
        "from keras.preprocessing.sequence import pad_sequences\n",
        "from sklearn import preprocessing\n",
        "from sklearn.metrics import classification_report\n",
        "\n",
        "import nltk\n",
        "nltk.download('punkt')\n",
        "nltk.download('stopwords')"
      ],
      "execution_count": 28,
      "outputs": [
        {
          "output_type": "stream",
          "text": [
            "[nltk_data] Downloading package punkt to /root/nltk_data...\n",
            "[nltk_data]   Package punkt is already up-to-date!\n",
            "[nltk_data] Downloading package stopwords to /root/nltk_data...\n",
            "[nltk_data]   Package stopwords is already up-to-date!\n"
          ],
          "name": "stdout"
        },
        {
          "output_type": "execute_result",
          "data": {
            "text/plain": [
              "True"
            ]
          },
          "metadata": {
            "tags": []
          },
          "execution_count": 28
        }
      ]
    },
    {
      "cell_type": "markdown",
      "metadata": {
        "id": "Y6qJCWp840xY"
      },
      "source": [
        "## Data Preprocessing\n",
        "\n",
        "Here we have to prepare out data, with some text preprocessing, so add special tokens, removing punctuation and stopwords if necessary, and so on."
      ]
    },
    {
      "cell_type": "markdown",
      "metadata": {
        "id": "O9ZwoM5nkOSt"
      },
      "source": [
        "### Rename columns"
      ]
    },
    {
      "cell_type": "code",
      "metadata": {
        "id": "QXAkExDMCva6"
      },
      "source": [
        "# rename labels\n",
        "\n",
        "labels = {1:'World News', 2:'Sports News', 3:'Business News', 4:'Science-Technology News'}\n",
        "\n",
        "train_data['label'] = train_data['Class Index'].map(labels)\n",
        "test_data['label'] = test_data['Class Index'].map(labels)\n",
        "\n",
        "train_data = train_data.drop(columns=['Class Index'])\n",
        "test_data = test_data.drop(columns=['Class Index'])"
      ],
      "execution_count": 9,
      "outputs": []
    },
    {
      "cell_type": "markdown",
      "metadata": {
        "id": "HSdZX6rrkTOK"
      },
      "source": [
        "### Remove punctuation"
      ]
    },
    {
      "cell_type": "markdown",
      "metadata": {
        "id": "Fv1kHPdYiz2N"
      },
      "source": [
        "First of all, we define a function to remove punctuation."
      ]
    },
    {
      "cell_type": "code",
      "metadata": {
        "id": "LTm81Vlm4xEr"
      },
      "source": [
        "# The old and loved remove punctuation function\n",
        "\n",
        "def remove_punc(text):\n",
        "    text = re.sub('\\[.*?\\]', '', text)\n",
        "    text = re.sub('https?://\\S+|www\\.\\S+', '', text)\n",
        "    text = re.sub('<.*?>+', '', text)\n",
        "    text = re.sub('[%s]' % re.escape(string.punctuation), '', text)\n",
        "    text = re.sub('\\n', '', text)\n",
        "    text = re.sub('\\w*\\d\\w*', '', text)\n",
        "    return text"
      ],
      "execution_count": 10,
      "outputs": []
    },
    {
      "cell_type": "code",
      "metadata": {
        "id": "YW-T3kbx5otD"
      },
      "source": [
        "train_data['Text'] = train_data['Description'].apply(lambda x: remove_punc(x))\n",
        "test_data['Text'] = test_data['Description'].apply(lambda x: remove_punc(x))"
      ],
      "execution_count": 11,
      "outputs": []
    },
    {
      "cell_type": "code",
      "metadata": {
        "id": "p5aNMKEr7asa",
        "outputId": "ccf544eb-7276-4e50-b496-9811c282c77b",
        "colab": {
          "base_uri": "https://localhost:8080/",
          "height": 204
        }
      },
      "source": [
        "train_data.head()"
      ],
      "execution_count": 12,
      "outputs": [
        {
          "output_type": "execute_result",
          "data": {
            "text/html": [
              "<div>\n",
              "<style scoped>\n",
              "    .dataframe tbody tr th:only-of-type {\n",
              "        vertical-align: middle;\n",
              "    }\n",
              "\n",
              "    .dataframe tbody tr th {\n",
              "        vertical-align: top;\n",
              "    }\n",
              "\n",
              "    .dataframe thead th {\n",
              "        text-align: right;\n",
              "    }\n",
              "</style>\n",
              "<table border=\"1\" class=\"dataframe\">\n",
              "  <thead>\n",
              "    <tr style=\"text-align: right;\">\n",
              "      <th></th>\n",
              "      <th>Title</th>\n",
              "      <th>Description</th>\n",
              "      <th>label</th>\n",
              "      <th>Text</th>\n",
              "    </tr>\n",
              "  </thead>\n",
              "  <tbody>\n",
              "    <tr>\n",
              "      <th>0</th>\n",
              "      <td>Wall St. Bears Claw Back Into the Black (Reuters)</td>\n",
              "      <td>Reuters - Short-sellers, Wall Street's dwindli...</td>\n",
              "      <td>Business News</td>\n",
              "      <td>Reuters  Shortsellers Wall Streets dwindlingba...</td>\n",
              "    </tr>\n",
              "    <tr>\n",
              "      <th>1</th>\n",
              "      <td>Carlyle Looks Toward Commercial Aerospace (Reu...</td>\n",
              "      <td>Reuters - Private investment firm Carlyle Grou...</td>\n",
              "      <td>Business News</td>\n",
              "      <td>Reuters  Private investment firm Carlyle Group...</td>\n",
              "    </tr>\n",
              "    <tr>\n",
              "      <th>2</th>\n",
              "      <td>Oil and Economy Cloud Stocks' Outlook (Reuters)</td>\n",
              "      <td>Reuters - Soaring crude prices plus worries\\ab...</td>\n",
              "      <td>Business News</td>\n",
              "      <td>Reuters  Soaring crude prices plus worriesabou...</td>\n",
              "    </tr>\n",
              "    <tr>\n",
              "      <th>3</th>\n",
              "      <td>Iraq Halts Oil Exports from Main Southern Pipe...</td>\n",
              "      <td>Reuters - Authorities have halted oil export\\f...</td>\n",
              "      <td>Business News</td>\n",
              "      <td>Reuters  Authorities have halted oil exportflo...</td>\n",
              "    </tr>\n",
              "    <tr>\n",
              "      <th>4</th>\n",
              "      <td>Oil prices soar to all-time record, posing new...</td>\n",
              "      <td>AFP - Tearaway world oil prices, toppling reco...</td>\n",
              "      <td>Business News</td>\n",
              "      <td>AFP  Tearaway world oil prices toppling record...</td>\n",
              "    </tr>\n",
              "  </tbody>\n",
              "</table>\n",
              "</div>"
            ],
            "text/plain": [
              "                                               Title  ...                                               Text\n",
              "0  Wall St. Bears Claw Back Into the Black (Reuters)  ...  Reuters  Shortsellers Wall Streets dwindlingba...\n",
              "1  Carlyle Looks Toward Commercial Aerospace (Reu...  ...  Reuters  Private investment firm Carlyle Group...\n",
              "2    Oil and Economy Cloud Stocks' Outlook (Reuters)  ...  Reuters  Soaring crude prices plus worriesabou...\n",
              "3  Iraq Halts Oil Exports from Main Southern Pipe...  ...  Reuters  Authorities have halted oil exportflo...\n",
              "4  Oil prices soar to all-time record, posing new...  ...  AFP  Tearaway world oil prices toppling record...\n",
              "\n",
              "[5 rows x 4 columns]"
            ]
          },
          "metadata": {
            "tags": []
          },
          "execution_count": 12
        }
      ]
    },
    {
      "cell_type": "markdown",
      "metadata": {
        "id": "ylOdDFAjkY7G"
      },
      "source": [
        "### Clean text"
      ]
    },
    {
      "cell_type": "markdown",
      "metadata": {
        "id": "tZBFx44Fi6ua"
      },
      "source": [
        "Hence, making use of nltk tokeniser, we clean our text:\n",
        "\n",
        "1. Lowercase our texts.\n",
        "\n",
        "2. Remove stopwords."
      ]
    },
    {
      "cell_type": "code",
      "metadata": {
        "id": "JmZscfdsDpBH"
      },
      "source": [
        "# data cleaning and remove stopwords\n",
        "\n",
        "def data_cleaner(text):        \n",
        "    lower_case = text.lower()\n",
        "    tokens=word_tokenize(lower_case)\n",
        "    return (\" \".join(tokens)).strip()\n",
        "\n",
        "def remove_stopwords (text):        \n",
        "    list1=[word for word in text.split() if word not in stopwords.words('english')]\n",
        "    return \" \".join(list1)\n",
        "\n",
        "train_data['Text'] = train_data['Text'].apply(lambda x: data_cleaner(x))\n",
        "test_data['Text'] = test_data['Text'].apply(lambda x: data_cleaner(x))\n",
        "\n",
        "train_data['Text'] = train_data['Text'].apply(lambda x: remove_stopwords(x))\n",
        "test_data['Text'] = test_data['Text'].apply(lambda x: remove_stopwords(x))"
      ],
      "execution_count": 13,
      "outputs": []
    },
    {
      "cell_type": "markdown",
      "metadata": {
        "id": "SuXZH2ZqjwhZ"
      },
      "source": [
        "### Tokenise"
      ]
    },
    {
      "cell_type": "markdown",
      "metadata": {
        "id": "NEDdAmdakhvN"
      },
      "source": [
        "We make use of Keras tokeniser to assign to each word a number."
      ]
    },
    {
      "cell_type": "code",
      "metadata": {
        "id": "vlxY52a3dGNx"
      },
      "source": [
        "#@title Tokeniser configuration\n",
        "\n",
        "max_len = 75#@param {type:\"integer\"}"
      ],
      "execution_count": 14,
      "outputs": []
    },
    {
      "cell_type": "code",
      "metadata": {
        "id": "aO03dJCrGTP8"
      },
      "source": [
        "tokeniser = Tokenizer()\n",
        "tokeniser.fit_on_texts(train_data['Text'])\n",
        "\n",
        "tokenised_text = tokeniser.texts_to_sequences(train_data['Text'])\n",
        "tokenised_text = pad_sequences(tokenised_text, maxlen=max_len)"
      ],
      "execution_count": 15,
      "outputs": []
    },
    {
      "cell_type": "code",
      "metadata": {
        "id": "Tx-UJnaiGm8l"
      },
      "source": [
        "encoded_labels = preprocessing.LabelEncoder()\n",
        "y = encoded_labels.fit_transform(train_data['label'])\n",
        "y = to_categorical(y)"
      ],
      "execution_count": 16,
      "outputs": []
    },
    {
      "cell_type": "code",
      "metadata": {
        "id": "z0HUzddeG_Ri"
      },
      "source": [
        "tokenised_text_test = tokeniser.texts_to_sequences(test_data['Text'])\n",
        "tokenised_text_test = pad_sequences(tokenised_text_test, maxlen=max_len)"
      ],
      "execution_count": 17,
      "outputs": []
    },
    {
      "cell_type": "code",
      "metadata": {
        "id": "8LfTxo-rHgzn"
      },
      "source": [
        "y_test = encoded_labels.transform(test_data['label'])\n",
        "y_test = to_categorical(y_test)"
      ],
      "execution_count": 18,
      "outputs": []
    },
    {
      "cell_type": "code",
      "metadata": {
        "id": "F7QPvHrVKycK"
      },
      "source": [
        "vocab_size = len(tokeniser.word_index) + 1"
      ],
      "execution_count": 19,
      "outputs": []
    },
    {
      "cell_type": "markdown",
      "metadata": {
        "id": "uWDqS0OJkp5x"
      },
      "source": [
        "We also export the dictionary word-to-index to a `json` file, this will be needed in order to convert a text to-be-classified in a format that the model can digest."
      ]
    },
    {
      "cell_type": "code",
      "metadata": {
        "id": "q4NdZrIiaKIu"
      },
      "source": [
        "# Export the ditionary word-to-index to a json file\n",
        "import json \n",
        "with open( 'word_dict.json' , 'w' ) as file:    \n",
        "    json.dump(tokeniser.word_index , file )"
      ],
      "execution_count": 20,
      "outputs": []
    },
    {
      "cell_type": "markdown",
      "metadata": {
        "id": "e2Esa71rIV7c"
      },
      "source": [
        "### Convert data to TensorFlow datasets"
      ]
    },
    {
      "cell_type": "markdown",
      "metadata": {
        "id": "NCH1Q6f9k56Z"
      },
      "source": [
        "We convert data to Tensorflow dataset, in order to feed the Keras model."
      ]
    },
    {
      "cell_type": "code",
      "metadata": {
        "id": "s0olDSVjHXuB"
      },
      "source": [
        "train_dataset = tf.data.Dataset.from_tensor_slices((tokenised_text, y))\n",
        "test_dataset = tf.data.Dataset.from_tensor_slices((tokenised_text_test, y_test))"
      ],
      "execution_count": 21,
      "outputs": []
    },
    {
      "cell_type": "markdown",
      "metadata": {
        "id": "chDp-zhlIdE6"
      },
      "source": [
        "# Building the model"
      ]
    },
    {
      "cell_type": "code",
      "metadata": {
        "id": "7iRIDaBKbfQP"
      },
      "source": [
        "#@title Model Parameters\n",
        "#@markdown Here we give a minimal set of parameters for model configuration.\n",
        "\n",
        "emb_dim = 64 #@param {type:\"integer\"}\n",
        "dropout_rate = 0.3#@param {type: \"number\"}\n",
        "n_labels = len(labels)\n",
        "\n",
        "learning_rate = 0.001#@param {type: \"number\"}\n",
        "\n",
        "loss = tf.keras.losses.CategoricalCrossentropy(from_logits=True)\n",
        "metric = tf.keras.metrics.CategoricalAccuracy('accuracy')\n",
        "opt = tf.keras.optimizers.Adam(learning_rate = learning_rate)"
      ],
      "execution_count": 22,
      "outputs": []
    },
    {
      "cell_type": "markdown",
      "metadata": {
        "id": "zQuGa5eNlAvC"
      },
      "source": [
        "We are now ready to build our model, making use of Keras `Sequential` object."
      ]
    },
    {
      "cell_type": "code",
      "metadata": {
        "id": "CpEGQMkZHyAf",
        "outputId": "bed37546-f088-4871-bf7b-24fc68c55a62",
        "colab": {
          "base_uri": "https://localhost:8080/",
          "height": 697
        }
      },
      "source": [
        "# build the model\n",
        "keras_model = Sequential()\n",
        "keras_model.add(Embedding(vocab_size, output_dim = emb_dim, input_length=max_len))\n",
        "keras_model.add(Dropout(0.3))\n",
        "keras_model.add(Conv1D(50, 3, activation='relu', padding='same', strides=1))\n",
        "keras_model.add(MaxPool1D())\n",
        "keras_model.add(Dropout(0.3))\n",
        "keras_model.add(Conv1D(100, 3, activation='relu', padding='same', strides=1))\n",
        "keras_model.add(MaxPool1D())\n",
        "keras_model.add(Dropout(0.3))\n",
        "keras_model.add(Conv1D(200, 3, activation='relu', padding='same', strides=1))\n",
        "keras_model.add(GlobalMaxPool1D())\n",
        "keras_model.add(Dropout(0.3))\n",
        "keras_model.add(Dense(100))\n",
        "keras_model.add(Activation('relu'))\n",
        "keras_model.add(Dropout(0.3))\n",
        "keras_model.add(Dense(n_labels))\n",
        "keras_model.add(Activation('softmax'))\n",
        "keras_model.compile(loss=loss, metrics=[metric], optimizer=opt)\n",
        "keras_model.summary()"
      ],
      "execution_count": 26,
      "outputs": [
        {
          "output_type": "stream",
          "text": [
            "Model: \"sequential_1\"\n",
            "_________________________________________________________________\n",
            "Layer (type)                 Output Shape              Param #   \n",
            "=================================================================\n",
            "embedding_1 (Embedding)      (None, 75, 64)            5327808   \n",
            "_________________________________________________________________\n",
            "dropout_5 (Dropout)          (None, 75, 64)            0         \n",
            "_________________________________________________________________\n",
            "conv1d_3 (Conv1D)            (None, 75, 50)            9650      \n",
            "_________________________________________________________________\n",
            "max_pooling1d_2 (MaxPooling1 (None, 37, 50)            0         \n",
            "_________________________________________________________________\n",
            "dropout_6 (Dropout)          (None, 37, 50)            0         \n",
            "_________________________________________________________________\n",
            "conv1d_4 (Conv1D)            (None, 37, 100)           15100     \n",
            "_________________________________________________________________\n",
            "max_pooling1d_3 (MaxPooling1 (None, 18, 100)           0         \n",
            "_________________________________________________________________\n",
            "dropout_7 (Dropout)          (None, 18, 100)           0         \n",
            "_________________________________________________________________\n",
            "conv1d_5 (Conv1D)            (None, 18, 200)           60200     \n",
            "_________________________________________________________________\n",
            "global_max_pooling1d_1 (Glob (None, 200)               0         \n",
            "_________________________________________________________________\n",
            "dropout_8 (Dropout)          (None, 200)               0         \n",
            "_________________________________________________________________\n",
            "dense_2 (Dense)              (None, 100)               20100     \n",
            "_________________________________________________________________\n",
            "activation_2 (Activation)    (None, 100)               0         \n",
            "_________________________________________________________________\n",
            "dropout_9 (Dropout)          (None, 100)               0         \n",
            "_________________________________________________________________\n",
            "dense_3 (Dense)              (None, 4)                 404       \n",
            "_________________________________________________________________\n",
            "activation_3 (Activation)    (None, 4)                 0         \n",
            "=================================================================\n",
            "Total params: 5,433,262\n",
            "Trainable params: 5,433,262\n",
            "Non-trainable params: 0\n",
            "_________________________________________________________________\n"
          ],
          "name": "stdout"
        }
      ]
    },
    {
      "cell_type": "markdown",
      "metadata": {
        "id": "j2aNBmVAlLXk"
      },
      "source": [
        "# Training"
      ]
    },
    {
      "cell_type": "markdown",
      "metadata": {
        "id": "YiE1kwqflSPI"
      },
      "source": [
        "We are now ready to launch the training, though the `fit` method, we set the numebr of epochs and launch the model."
      ]
    },
    {
      "cell_type": "code",
      "metadata": {
        "id": "gW4Mynh4LBOa",
        "outputId": "e8e715a2-81a0-4341-e560-45b9b13d7c09",
        "colab": {
          "base_uri": "https://localhost:8080/",
          "height": 238
        }
      },
      "source": [
        "#@title Model Training\n",
        "#@markdown We can move the slider to set number of epochs \n",
        "#@markdown and give a different batch size.\n",
        "\n",
        "number_of_epochs = 6 #@param {type: \"slider\", min: 1, max: 12}\n",
        "batch_size = 64 #@param [\"2\", \"8\", \"16\", \"32\", \"64\", \"128\", \"256\", \"512\"] {type:\"raw\", allow-input: true}\n",
        "\n",
        "# train dataset\n",
        "ds_train_encoded = train_dataset.shuffle(10000).batch(batch_size)\n",
        "\n",
        "# test dataset\n",
        "ds_test_encoded = test_dataset.batch(batch_size)\n",
        "\n",
        "keras_model.fit(ds_train_encoded, epochs=number_of_epochs, validation_data=ds_test_encoded)"
      ],
      "execution_count": 27,
      "outputs": [
        {
          "output_type": "stream",
          "text": [
            "Epoch 1/6\n",
            "1875/1875 [==============================] - 101s 54ms/step - loss: 0.4418 - acc: 0.8339 - val_loss: 0.3114 - val_acc: 0.8979\n",
            "Epoch 2/6\n",
            "1875/1875 [==============================] - 101s 54ms/step - loss: 0.2367 - acc: 0.9240 - val_loss: 0.2824 - val_acc: 0.9070\n",
            "Epoch 3/6\n",
            "1875/1875 [==============================] - 101s 54ms/step - loss: 0.1826 - acc: 0.9409 - val_loss: 0.2924 - val_acc: 0.9075\n",
            "Epoch 4/6\n",
            "1875/1875 [==============================] - 101s 54ms/step - loss: 0.1464 - acc: 0.9516 - val_loss: 0.3389 - val_acc: 0.9030\n",
            "Epoch 5/6\n",
            "1875/1875 [==============================] - 101s 54ms/step - loss: 0.1219 - acc: 0.9595 - val_loss: 0.3633 - val_acc: 0.9020\n",
            "Epoch 6/6\n",
            "1875/1875 [==============================] - 101s 54ms/step - loss: 0.1045 - acc: 0.9642 - val_loss: 0.3802 - val_acc: 0.8987\n"
          ],
          "name": "stdout"
        },
        {
          "output_type": "execute_result",
          "data": {
            "text/plain": [
              "<tensorflow.python.keras.callbacks.History at 0x7f040b60b978>"
            ]
          },
          "metadata": {
            "tags": []
          },
          "execution_count": 27
        }
      ]
    },
    {
      "cell_type": "markdown",
      "metadata": {
        "id": "YTAkbxmAkzXw"
      },
      "source": [
        "## Evaluation"
      ]
    },
    {
      "cell_type": "code",
      "metadata": {
        "id": "Ur72xoP8k2cy",
        "outputId": "2bd5c23c-c790-47f7-f845-15436ccdc513",
        "colab": {
          "base_uri": "https://localhost:8080/",
          "height": 221
        }
      },
      "source": [
        "y_pred = to_categorical(np.argmax(keras_model.predict(tokenised_text_test), axis=1))\n",
        "\n",
        "print(classification_report(y_test, y_pred, target_names=labels.values(), digits=4))"
      ],
      "execution_count": 46,
      "outputs": [
        {
          "output_type": "stream",
          "text": [
            "                         precision    recall  f1-score   support\n",
            "\n",
            "             World News     0.8517    0.8763    0.8638      1900\n",
            "            Sports News     0.8690    0.8800    0.8745      1900\n",
            "          Business News     0.9550    0.9611    0.9580      1900\n",
            "Science-Technology News     0.9215    0.8774    0.8989      1900\n",
            "\n",
            "              micro avg     0.8987    0.8987    0.8987      7600\n",
            "              macro avg     0.8993    0.8987    0.8988      7600\n",
            "           weighted avg     0.8993    0.8987    0.8988      7600\n",
            "            samples avg     0.8987    0.8987    0.8987      7600\n",
            "\n"
          ],
          "name": "stdout"
        }
      ]
    },
    {
      "cell_type": "markdown",
      "metadata": {
        "id": "TffY8C8amVJR"
      },
      "source": [
        "# Predictions"
      ]
    },
    {
      "cell_type": "markdown",
      "metadata": {
        "id": "aNaGZtuMmZKQ"
      },
      "source": [
        "Finally, we can now try to make predictions with our model.\n",
        "\n",
        "The function `encode` below takes a text stream and returns the sequence of word indices. \n",
        "\n",
        "The encoded text is the input of the `predict` method of our model."
      ]
    },
    {
      "cell_type": "code",
      "metadata": {
        "id": "EBRsoV-_Ykh5"
      },
      "source": [
        "def encode(text):\n",
        "  text = tokeniser.texts_to_sequences(text)\n",
        "  return pad_sequences(text, maxlen=max_len)"
      ],
      "execution_count": 47,
      "outputs": []
    },
    {
      "cell_type": "markdown",
      "metadata": {
        "id": "DIhV0Wjqmxx3"
      },
      "source": [
        "Here some examples. \n",
        "Feel free to add as many other sentences as you like."
      ]
    },
    {
      "cell_type": "code",
      "metadata": {
        "id": "s_yai4MLZRfu"
      },
      "source": [
        "additional_sentence = \"Apple iphone 12 is out\" #@param {type:\"string\"}\n",
        "\n",
        "my_sentences = ['President Bush wants the war in Iraq, again', \n",
        "                \"LeBron James wins the NBA championship with Los Angeles Lakers\", \n",
        "                \"Eni stock action value rise up to 14$\",\n",
        "                \"Futures in New York held near $41 a barrel after Saudi Oil Minister Prince Abdulaziz Bin Salman called on the OPEC+ alliance to be proactive in the face of uncertain demand. Yet a draft statement from the meeting made no mention of any changes to the current deal, which calls for production cuts to be eased from January. The market is also looking out for any signs that a stimulus deal can still be agreed in Washington ahead of the election while a resurgence in the pandemic threatens any recovery.\",\n",
        "                additional_sentence\n",
        "                ]\n",
        "\n",
        "encode(my_sentences);"
      ],
      "execution_count": 51,
      "outputs": []
    },
    {
      "cell_type": "markdown",
      "metadata": {
        "id": "GClE9Y94nUAo"
      },
      "source": [
        "`predict` method returns a vector of probablities."
      ]
    },
    {
      "cell_type": "code",
      "metadata": {
        "id": "t9fUlVDJZcik",
        "outputId": "d1e0e167-50b6-4555-c4c0-9a1920edf819",
        "colab": {
          "base_uri": "https://localhost:8080/",
          "height": 119
        }
      },
      "source": [
        "keras_model.predict(encode(my_sentences))"
      ],
      "execution_count": 52,
      "outputs": [
        {
          "output_type": "execute_result",
          "data": {
            "text/plain": [
              "array([[5.1124118e-02, 4.1489881e-02, 1.3321812e-03, 9.0605384e-01],\n",
              "       [3.4457003e-04, 1.1533969e-05, 9.6449429e-01, 3.5149582e-02],\n",
              "       [8.5264224e-01, 1.3034947e-01, 3.8947351e-04, 1.6618876e-02],\n",
              "       [9.9590838e-01, 1.0530444e-05, 2.0190484e-07, 4.0807966e-03],\n",
              "       [5.7841074e-02, 9.1692597e-01, 2.6895158e-04, 2.4964059e-02]],\n",
              "      dtype=float32)"
            ]
          },
          "metadata": {
            "tags": []
          },
          "execution_count": 52
        }
      ]
    },
    {
      "cell_type": "markdown",
      "metadata": {
        "id": "2vYthelGnbms"
      },
      "source": [
        "In order to get the predicted class, one can call the `argmax` function."
      ]
    },
    {
      "cell_type": "code",
      "metadata": {
        "id": "UAaREXccaZD6",
        "outputId": "0d10af1b-3612-496b-d0af-1eb9ffaa519a",
        "colab": {
          "base_uri": "https://localhost:8080/",
          "height": 207
        }
      },
      "source": [
        "for i, sen in enumerate(my_sentences):\n",
        "  print(i, sen)\n",
        "  print(encoded_labels.classes_[np.argmax(keras_model.predict(encode(my_sentences))[i])])"
      ],
      "execution_count": 53,
      "outputs": [
        {
          "output_type": "stream",
          "text": [
            "0 President Bush wants the war in Iraq, again\n",
            "World News\n",
            "1 LeBron James wins the NBA championship with Los Angeles Lakers\n",
            "Sports News\n",
            "2 Eni stock action value rise up to 14$\n",
            "Business News\n",
            "3 Futures in New York held near $41 a barrel after Saudi Oil Minister Prince Abdulaziz Bin Salman called on the OPEC+ alliance to be proactive in the face of uncertain demand. Yet a draft statement from the meeting made no mention of any changes to the current deal, which calls for production cuts to be eased from January. The market is also looking out for any signs that a stimulus deal can still be agreed in Washington ahead of the election while a resurgence in the pandemic threatens any recovery.\n",
            "Business News\n",
            "4 Apple iphone 12 is out\n",
            "Science-Technology News\n"
          ],
          "name": "stdout"
        }
      ]
    },
    {
      "cell_type": "markdown",
      "metadata": {
        "id": "dSStIitN7_bK"
      },
      "source": [
        "# Save model and export in JavaScript"
      ]
    },
    {
      "cell_type": "markdown",
      "metadata": {
        "id": "zXFZuCMOnk6i"
      },
      "source": [
        "In order to convert our model using Tensorflow.js, we have to save the trained model."
      ]
    },
    {
      "cell_type": "code",
      "metadata": {
        "id": "PLhmQHok7-sW"
      },
      "source": [
        "#save Keras model\n",
        "saved_model_path = \"modelCNN.h5\"\n",
        "\n",
        "keras_model.save(saved_model_path)"
      ],
      "execution_count": null,
      "outputs": []
    },
    {
      "cell_type": "markdown",
      "metadata": {
        "id": "ll0V2AVtnwho"
      },
      "source": [
        "Hence, we are ready to convert the saved model."
      ]
    },
    {
      "cell_type": "code",
      "metadata": {
        "id": "Ux3IC9uq8Qeh",
        "outputId": "c226a3c5-47e5-4b39-fb76-f95dcf4ef818",
        "colab": {
          "base_uri": "https://localhost:8080/",
          "height": 34
        }
      },
      "source": [
        "%%bash\n",
        "tensorflowjs_converter --input_format=keras modelCNN.h5 ./model/"
      ],
      "execution_count": null,
      "outputs": [
        {
          "output_type": "stream",
          "text": [
            "2020-10-19 18:11:42.511967: I tensorflow/stream_executor/platform/default/dso_loader.cc:48] Successfully opened dynamic library libcudart.so.10.1\n"
          ],
          "name": "stderr"
        }
      ]
    },
    {
      "cell_type": "markdown",
      "metadata": {
        "id": "PCV2uTkGn045"
      },
      "source": [
        "Since we have not only the model, but also weights files, we zip everything to make it ready to download."
      ]
    },
    {
      "cell_type": "code",
      "metadata": {
        "id": "6DTmN8L6_05O",
        "outputId": "a291cf3e-c862-4d8a-ad38-826ebc33819e",
        "colab": {
          "base_uri": "https://localhost:8080/",
          "height": 170
        }
      },
      "source": [
        "%%bash\n",
        "zip -r model.zip ./model"
      ],
      "execution_count": null,
      "outputs": [
        {
          "output_type": "stream",
          "text": [
            "  adding: model/ (stored 0%)\n",
            "  adding: model/model.json (deflated 83%)\n",
            "  adding: model/group1-shard6of6.bin (deflated 7%)\n",
            "  adding: model/group1-shard5of6.bin (deflated 7%)\n",
            "  adding: model/modelCNN.h5 (deflated 19%)\n",
            "  adding: model/group1-shard3of6.bin (deflated 7%)\n",
            "  adding: model/group1-shard1of6.bin (deflated 7%)\n",
            "  adding: model/group1-shard4of6.bin (deflated 7%)\n",
            "  adding: model/group1-shard2of6.bin (deflated 7%)\n"
          ],
          "name": "stdout"
        }
      ]
    }
  ]
}