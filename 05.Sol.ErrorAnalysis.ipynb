{
 "cells": [
  {
   "cell_type": "markdown",
   "metadata": {},
   "source": [
    "# Introduction to Deep Learning\n",
    "\n",
    "<p align=\"center\">\n",
    "    <img width=\"699\" alt=\"image\" src=\"https://user-images.githubusercontent.com/49638680/159042792-8510fbd1-c4ac-4a48-8320-bc6c1a49cdae.png\">\n",
    "</p>\n",
    "\n",
    "---"
   ]
  },
  {
   "cell_type": "markdown",
   "metadata": {},
   "source": [
    "![](https://miro.medium.com/max/1200/0*3I4P4pkL1xySQS9B.png)"
   ]
  },
  {
   "cell_type": "markdown",
   "metadata": {},
   "source": [
    "# How to Structure a Machine Learning project\n",
    "\n",
    "Here we study the best strategies to work on a big problem in machine learning applications."
   ]
  },
  {
   "cell_type": "markdown",
   "metadata": {},
   "source": [
    "[Here](https://jamboard.google.com/d/1z45e4QmQ0iZAVbgoVi4QxD7DjhW9sX8i2-1_TKKkmlo/edit?usp=sharing) a brief case of study for this lecture."
   ]
  },
  {
   "cell_type": "markdown",
   "metadata": {},
   "source": [
    "## Cross Validation and Parameter Choice"
   ]
  },
  {
   "cell_type": "markdown",
   "metadata": {},
   "source": [
    "![title](https://www.researchgate.net/publication/307087929/figure/fig6/AS:399685689856008@1472303902570/For-cross-validation-and-cross-testing-data-are-divided-into-two-separate-sets-only.png)"
   ]
  },
  {
   "cell_type": "markdown",
   "metadata": {},
   "source": [
    "## Cross validation"
   ]
  },
  {
   "cell_type": "markdown",
   "metadata": {},
   "source": [
    "In the previous discussion, we left the validation set a bit apart. This is the moment to cope with it.\n",
    "\n",
    "The train/test split may introduce an error, due to the fact that we may exclude data that are crucial for the algorithm. For example, think about a binary classification problem, in the case the slit completely excludes a class.\n",
    "\n",
    "This will result in overfitting, even though we’re trying to avoid it! This is where cross validation comes in."
   ]
  },
  {
   "cell_type": "markdown",
   "metadata": {},
   "source": [
    "In order to avoid this, we can perform something called __cross validation__. It is very similar to train/test split, but it is applied to more subsets. Meaning, we split our data into $k$ subsets, and train on $k-1$ one of those subset. What we do is to hold the last subset for test. We’re able to do it for each of the subsets.\n",
    "\n",
    "There are several cross validation methods, we are going to go over two of them: the first is _K-Folds Cross Validation_ and the second is _Leave One Out Cross Validation_ (LOOCV)."
   ]
  },
  {
   "cell_type": "markdown",
   "metadata": {},
   "source": [
    "### K-fold cross validation"
   ]
  },
  {
   "cell_type": "markdown",
   "metadata": {},
   "source": [
    "In $K$-Folds Cross Validation we split our data into $k$ different subsets (or folds). We use $k-1$ subsets to train our data and leave the last subset (or the last fold) as test data. We then average the model against each of the folds and then finalize our model. After that we test it against the test set."
   ]
  },
  {
   "cell_type": "markdown",
   "metadata": {},
   "source": [
    "![title](https://miro.medium.com/max/1400/1*J2B_bcbd1-s1kpWOu_FZrg.png)"
   ]
  },
  {
   "cell_type": "markdown",
   "metadata": {},
   "source": [
    "#### Example"
   ]
  },
  {
   "cell_type": "markdown",
   "metadata": {},
   "source": [
    "To have a concrete idea about how this works, we take an example directly from [sklearn documentation for $k$-fold](https://scikit-learn.org/stable/modules/generated/sklearn.model_selection.KFold.html)."
   ]
  },
  {
   "cell_type": "code",
   "execution_count": 1,
   "metadata": {},
   "outputs": [
    {
     "name": "stdout",
     "output_type": "stream",
     "text": [
      "KFold(n_splits=3, random_state=None, shuffle=False)\n"
     ]
    }
   ],
   "source": [
    "import numpy as np\n",
    "from sklearn.model_selection import KFold # import KFold\n",
    "\n",
    "X = np.array([[1, 2], [3, 4], [1, 2], [3, 4]]) # create an array\n",
    "y = np.array([1, 2, 3, 4]) # Create another array\n",
    "\n",
    "kf = KFold(n_splits=3) # Define the split - into 2 folds \n",
    "kf.get_n_splits(X) # returns the number of splitting iterations in the cross-validator\n",
    "\n",
    "print(kf)"
   ]
  },
  {
   "cell_type": "markdown",
   "metadata": {},
   "source": [
    "One can print out the folds."
   ]
  },
  {
   "cell_type": "code",
   "execution_count": 2,
   "metadata": {},
   "outputs": [
    {
     "name": "stdout",
     "output_type": "stream",
     "text": [
      "TRAIN: [2 3] TEST: [0 1]\n",
      "TRAIN: [0 1 3] TEST: [2]\n",
      "TRAIN: [0 1 2] TEST: [3]\n"
     ]
    }
   ],
   "source": [
    "for train_index, test_index in kf.split(X):\n",
    "    print('TRAIN:', train_index, 'TEST:', test_index)\n",
    "    X_train, X_test = X[train_index], X[test_index]\n",
    "    y_train, y_test = y[train_index], y[test_index]"
   ]
  },
  {
   "cell_type": "markdown",
   "metadata": {},
   "source": [
    "As one can see, the function split the original data into different subsets of the data. \n",
    "This is a very simple example, but it explains the concept pretty well."
   ]
  },
  {
   "cell_type": "markdown",
   "metadata": {},
   "source": [
    "## Leave One Out Cross Validation (LOOCV)"
   ]
  },
  {
   "cell_type": "markdown",
   "metadata": {},
   "source": [
    "Another method we want to analyse is the so-called [Leave One Out Cross Validation](https://scikit-learn.org/stable/modules/generated/sklearn.model_selection.LeaveOneOut.html)."
   ]
  },
  {
   "cell_type": "markdown",
   "metadata": {},
   "source": [
    "In this type of cross validation, the number of folds (subsets) equals to the number of observations we have in the dataset. We then average ALL of these folds and build our model with the average. We then test the model against the last fold. Because we would get a big number of training sets (equals to the number of samples), this method is very computationally expensive and should be used on small datasets. If the dataset is big, it would most likely be better to use a different method, like $k$-fold."
   ]
  },
  {
   "cell_type": "markdown",
   "metadata": {},
   "source": [
    "Again, let's take as example the one from [`sklearn` documentation](https://scikit-learn.org/stable/modules/generated/sklearn.model_selection.LeaveOneOut.html)."
   ]
  },
  {
   "cell_type": "code",
   "execution_count": 3,
   "metadata": {},
   "outputs": [
    {
     "data": {
      "text/plain": [
       "4"
      ]
     },
     "execution_count": 3,
     "metadata": {},
     "output_type": "execute_result"
    }
   ],
   "source": [
    "from sklearn.model_selection import LeaveOneOut # Import LeaveOneOut\n",
    "\n",
    "X = np.array([[1, 2], [3, 4], [5, 6], [7, 8]])\n",
    "y = np.array([1, 2, 3, 4])\n",
    "loo = LeaveOneOut()\n",
    "loo.get_n_splits(X)"
   ]
  },
  {
   "cell_type": "code",
   "execution_count": 4,
   "metadata": {},
   "outputs": [
    {
     "name": "stdout",
     "output_type": "stream",
     "text": [
      "TRAIN: [1 2 3] TEST: [0]\n",
      "X_train:  [[3 4]\n",
      " [5 6]\n",
      " [7 8]] X_test:  [[1 2]] y_train:  [2 3 4] y_test:  [1]\n",
      "=========================\n",
      "TRAIN: [0 2 3] TEST: [1]\n",
      "X_train:  [[1 2]\n",
      " [5 6]\n",
      " [7 8]] X_test:  [[3 4]] y_train:  [1 3 4] y_test:  [2]\n",
      "=========================\n",
      "TRAIN: [0 1 3] TEST: [2]\n",
      "X_train:  [[1 2]\n",
      " [3 4]\n",
      " [7 8]] X_test:  [[5 6]] y_train:  [1 2 4] y_test:  [3]\n",
      "=========================\n",
      "TRAIN: [0 1 2] TEST: [3]\n",
      "X_train:  [[1 2]\n",
      " [3 4]\n",
      " [5 6]] X_test:  [[7 8]] y_train:  [1 2 3] y_test:  [4]\n",
      "=========================\n"
     ]
    }
   ],
   "source": [
    "for train_index, test_index in loo.split(X):\n",
    "    print(\"TRAIN:\", train_index, \"TEST:\", test_index)\n",
    "    X_train, X_test = X[train_index], X[test_index]\n",
    "    y_train, y_test = y[train_index], y[test_index]\n",
    "    print('X_train: ', X_train, 'X_test: ', X_test, 'y_train: ', y_train, 'y_test: ', y_test)\n",
    "    print('='*25)"
   ]
  },
  {
   "cell_type": "markdown",
   "metadata": {},
   "source": [
    "## Further Cross Validation methods"
   ]
  },
  {
   "cell_type": "markdown",
   "metadata": {},
   "source": [
    "We presented two of the most used approaches to cross validation. However, one can check further methods on the [`sklearn` documentation webpage](https://scikit-learn.org/stable/modules/classes.html)."
   ]
  },
  {
   "cell_type": "markdown",
   "metadata": {},
   "source": [
    "## Working Example"
   ]
  },
  {
   "cell_type": "markdown",
   "metadata": {},
   "source": [
    "We want to use the knwon and loved iris dataset to build a neural network classifier. We will make use of cross-validation to choose hyperparameter values:\n",
    "1. how many layers\n",
    "2. how many hidden units\n",
    "3. dropout rate"
   ]
  },
  {
   "cell_type": "code",
   "execution_count": 5,
   "metadata": {},
   "outputs": [
    {
     "name": "stdout",
     "output_type": "stream",
     "text": [
      "Metal device set to: Apple M1 Pro\n",
      "\n",
      "systemMemory: 16.00 GB\n",
      "maxCacheSize: 5.33 GB\n",
      "\n",
      "------------------------------------------------------------------------\n",
      "Training for fold 1 ...\n",
      "Epoch 1/20\n"
     ]
    },
    {
     "name": "stderr",
     "output_type": "stream",
     "text": [
      "2022-06-28 10:32:25.768255: I tensorflow/core/common_runtime/pluggable_device/pluggable_device_factory.cc:305] Could not identify NUMA node of platform GPU ID 0, defaulting to 0. Your kernel may not have been built with NUMA support.\n",
      "2022-06-28 10:32:25.768359: I tensorflow/core/common_runtime/pluggable_device/pluggable_device_factory.cc:271] Created TensorFlow device (/job:localhost/replica:0/task:0/device:GPU:0 with 0 MB memory) -> physical PluggableDevice (device: 0, name: METAL, pci bus id: <undefined>)\n",
      "2022-06-28 10:32:25.850707: W tensorflow/core/platform/profile_utils/cpu_utils.cc:128] Failed to get CPU frequency: 0 Hz\n",
      "2022-06-28 10:32:26.029368: I tensorflow/core/grappler/optimizers/custom_graph_optimizer_registry.cc:113] Plugin optimizer for device_type GPU is enabled.\n"
     ]
    },
    {
     "name": "stdout",
     "output_type": "stream",
     "text": [
      "11/11 [==============================] - 1s 65ms/step - loss: 1.3997 - accuracy: 0.4020 - val_loss: 1.5312 - val_accuracy: 0.0000e+00\n",
      "Epoch 2/20\n",
      " 9/11 [=======================>......] - ETA: 0s - loss: 1.2657 - accuracy: 0.4556"
     ]
    },
    {
     "name": "stderr",
     "output_type": "stream",
     "text": [
      "2022-06-28 10:32:27.181591: I tensorflow/core/grappler/optimizers/custom_graph_optimizer_registry.cc:113] Plugin optimizer for device_type GPU is enabled.\n"
     ]
    },
    {
     "name": "stdout",
     "output_type": "stream",
     "text": [
      "11/11 [==============================] - 0s 10ms/step - loss: 1.2288 - accuracy: 0.4706 - val_loss: 1.5719 - val_accuracy: 0.0000e+00\n",
      "Epoch 3/20\n",
      "11/11 [==============================] - 0s 10ms/step - loss: 1.1039 - accuracy: 0.4118 - val_loss: 1.5085 - val_accuracy: 0.0000e+00\n",
      "Epoch 4/20\n",
      "11/11 [==============================] - 0s 10ms/step - loss: 1.0385 - accuracy: 0.4804 - val_loss: 1.4622 - val_accuracy: 0.0000e+00\n",
      "Epoch 5/20\n",
      "11/11 [==============================] - 0s 9ms/step - loss: 0.9965 - accuracy: 0.5000 - val_loss: 1.4172 - val_accuracy: 0.0000e+00\n",
      "Epoch 6/20\n",
      "11/11 [==============================] - 0s 10ms/step - loss: 0.9607 - accuracy: 0.5000 - val_loss: 1.3637 - val_accuracy: 0.0000e+00\n",
      "Epoch 7/20\n",
      "11/11 [==============================] - 0s 10ms/step - loss: 0.9161 - accuracy: 0.5588 - val_loss: 1.3513 - val_accuracy: 0.0000e+00\n",
      "Epoch 8/20\n",
      "11/11 [==============================] - 0s 9ms/step - loss: 0.8888 - accuracy: 0.5294 - val_loss: 1.3069 - val_accuracy: 0.0000e+00\n",
      "Epoch 9/20\n",
      "11/11 [==============================] - 0s 11ms/step - loss: 0.8606 - accuracy: 0.6471 - val_loss: 1.2884 - val_accuracy: 0.0000e+00\n",
      "Epoch 10/20\n",
      "11/11 [==============================] - 0s 10ms/step - loss: 0.8394 - accuracy: 0.6765 - val_loss: 1.2878 - val_accuracy: 0.0000e+00\n",
      "Epoch 11/20\n",
      "11/11 [==============================] - 0s 10ms/step - loss: 0.8055 - accuracy: 0.8039 - val_loss: 1.3143 - val_accuracy: 0.0000e+00\n",
      "Epoch 12/20\n",
      "11/11 [==============================] - 0s 11ms/step - loss: 0.7994 - accuracy: 0.7549 - val_loss: 1.3262 - val_accuracy: 0.0000e+00\n",
      "Epoch 13/20\n",
      "11/11 [==============================] - 0s 9ms/step - loss: 0.7759 - accuracy: 0.7745 - val_loss: 1.2703 - val_accuracy: 0.0000e+00\n",
      "Epoch 14/20\n",
      "11/11 [==============================] - 0s 10ms/step - loss: 0.7375 - accuracy: 0.8137 - val_loss: 1.2698 - val_accuracy: 0.0000e+00\n",
      "Epoch 15/20\n",
      "11/11 [==============================] - 0s 10ms/step - loss: 0.6992 - accuracy: 0.8137 - val_loss: 1.2849 - val_accuracy: 0.0000e+00\n",
      "Epoch 16/20\n",
      "11/11 [==============================] - 0s 10ms/step - loss: 0.7062 - accuracy: 0.8137 - val_loss: 1.2871 - val_accuracy: 0.0000e+00\n",
      "Epoch 17/20\n",
      "11/11 [==============================] - 0s 10ms/step - loss: 0.6962 - accuracy: 0.8039 - val_loss: 1.2666 - val_accuracy: 0.0000e+00\n",
      "Epoch 18/20\n",
      "11/11 [==============================] - 0s 11ms/step - loss: 0.6770 - accuracy: 0.7843 - val_loss: 1.2658 - val_accuracy: 0.0000e+00\n",
      "Epoch 19/20\n",
      "11/11 [==============================] - 0s 10ms/step - loss: 0.6792 - accuracy: 0.8137 - val_loss: 1.2534 - val_accuracy: 0.0000e+00\n",
      "Epoch 20/20\n",
      "11/11 [==============================] - 0s 9ms/step - loss: 0.6599 - accuracy: 0.8235 - val_loss: 1.2235 - val_accuracy: 0.0000e+00\n",
      "Score for fold 1: loss of 0.7627692222595215; accuracy of 63.63636255264282%\n",
      "------------------------------------------------------------------------\n",
      "Training for fold 2 ...\n",
      "Epoch 1/20\n",
      " 8/11 [====================>.........] - ETA: 0s - loss: 1.0247 - accuracy: 0.5750"
     ]
    },
    {
     "name": "stderr",
     "output_type": "stream",
     "text": [
      "2022-06-28 10:32:29.591174: I tensorflow/core/grappler/optimizers/custom_graph_optimizer_registry.cc:113] Plugin optimizer for device_type GPU is enabled.\n"
     ]
    },
    {
     "name": "stdout",
     "output_type": "stream",
     "text": [
      "11/11 [==============================] - 0s 20ms/step - loss: 1.0047 - accuracy: 0.5882 - val_loss: 1.0450 - val_accuracy: 0.0000e+00\n",
      "Epoch 2/20\n",
      "11/11 [==============================] - 0s 10ms/step - loss: 0.7956 - accuracy: 0.6078 - val_loss: 0.9187 - val_accuracy: 0.0000e+00\n",
      "Epoch 3/20\n",
      " 1/11 [=>............................] - ETA: 0s - loss: 0.9031 - accuracy: 0.5000"
     ]
    },
    {
     "name": "stderr",
     "output_type": "stream",
     "text": [
      "2022-06-28 10:32:29.804761: I tensorflow/core/grappler/optimizers/custom_graph_optimizer_registry.cc:113] Plugin optimizer for device_type GPU is enabled.\n"
     ]
    },
    {
     "name": "stdout",
     "output_type": "stream",
     "text": [
      "11/11 [==============================] - 0s 10ms/step - loss: 0.7421 - accuracy: 0.6863 - val_loss: 0.9626 - val_accuracy: 0.0000e+00\n",
      "Epoch 4/20\n",
      "11/11 [==============================] - 0s 12ms/step - loss: 0.6714 - accuracy: 0.7255 - val_loss: 0.8982 - val_accuracy: 0.0000e+00\n",
      "Epoch 5/20\n",
      "11/11 [==============================] - 0s 10ms/step - loss: 0.5501 - accuracy: 0.8039 - val_loss: 0.8772 - val_accuracy: 0.0000e+00\n",
      "Epoch 6/20\n",
      "11/11 [==============================] - 0s 10ms/step - loss: 0.5343 - accuracy: 0.8039 - val_loss: 0.7666 - val_accuracy: 0.0000e+00\n",
      "Epoch 7/20\n",
      "11/11 [==============================] - 0s 10ms/step - loss: 0.4965 - accuracy: 0.7647 - val_loss: 0.7957 - val_accuracy: 0.0000e+00\n",
      "Epoch 8/20\n",
      "11/11 [==============================] - 0s 9ms/step - loss: 0.4737 - accuracy: 0.7451 - val_loss: 0.7834 - val_accuracy: 0.0000e+00\n",
      "Epoch 9/20\n",
      "11/11 [==============================] - 0s 10ms/step - loss: 0.4591 - accuracy: 0.7843 - val_loss: 0.8796 - val_accuracy: 0.0000e+00\n",
      "Epoch 10/20\n",
      "11/11 [==============================] - 0s 10ms/step - loss: 0.4273 - accuracy: 0.8039 - val_loss: 0.9068 - val_accuracy: 0.0000e+00\n",
      "Epoch 11/20\n",
      "11/11 [==============================] - 0s 10ms/step - loss: 0.3952 - accuracy: 0.8137 - val_loss: 0.8631 - val_accuracy: 0.0000e+00\n",
      "Epoch 12/20\n",
      "11/11 [==============================] - 0s 10ms/step - loss: 0.3746 - accuracy: 0.8431 - val_loss: 0.8945 - val_accuracy: 0.0000e+00\n",
      "Epoch 13/20\n",
      "11/11 [==============================] - 0s 14ms/step - loss: 0.3521 - accuracy: 0.8333 - val_loss: 0.8435 - val_accuracy: 0.0385\n",
      "Epoch 14/20\n",
      "11/11 [==============================] - 0s 10ms/step - loss: 0.3668 - accuracy: 0.8431 - val_loss: 0.6989 - val_accuracy: 0.5000\n",
      "Epoch 15/20\n",
      "11/11 [==============================] - 0s 10ms/step - loss: 0.3146 - accuracy: 0.9216 - val_loss: 0.7812 - val_accuracy: 0.2308\n",
      "Epoch 16/20\n",
      "11/11 [==============================] - 0s 10ms/step - loss: 0.3005 - accuracy: 0.8725 - val_loss: 0.9367 - val_accuracy: 0.0000e+00\n",
      "Epoch 17/20\n",
      "11/11 [==============================] - 0s 10ms/step - loss: 0.2852 - accuracy: 0.9020 - val_loss: 0.7674 - val_accuracy: 0.3846\n",
      "Epoch 18/20\n",
      "11/11 [==============================] - 0s 10ms/step - loss: 0.2612 - accuracy: 0.9216 - val_loss: 0.8618 - val_accuracy: 0.1923\n",
      "Epoch 19/20\n",
      "11/11 [==============================] - 0s 9ms/step - loss: 0.2603 - accuracy: 0.8725 - val_loss: 0.8345 - val_accuracy: 0.2308\n",
      "Epoch 20/20\n",
      "11/11 [==============================] - 0s 10ms/step - loss: 0.2871 - accuracy: 0.8922 - val_loss: 0.8383 - val_accuracy: 0.2308\n",
      "Score for fold 2: loss of 0.22984279692173004; accuracy of 95.45454978942871%\n",
      "------------------------------------------------------------------------\n",
      "Training for fold 3 ...\n",
      "Epoch 1/20\n",
      " 8/11 [====================>.........] - ETA: 0s - loss: 0.9730 - accuracy: 0.5875"
     ]
    },
    {
     "name": "stderr",
     "output_type": "stream",
     "text": [
      "2022-06-28 10:32:32.164224: I tensorflow/core/grappler/optimizers/custom_graph_optimizer_registry.cc:113] Plugin optimizer for device_type GPU is enabled.\n"
     ]
    },
    {
     "name": "stdout",
     "output_type": "stream",
     "text": [
      "11/11 [==============================] - 0s 20ms/step - loss: 0.9226 - accuracy: 0.6078 - val_loss: 1.2283 - val_accuracy: 0.0000e+00\n",
      "Epoch 2/20\n",
      "11/11 [==============================] - 0s 10ms/step - loss: 0.7344 - accuracy: 0.7451 - val_loss: 1.4902 - val_accuracy: 0.0000e+00\n",
      "Epoch 3/20\n",
      " 1/11 [=>............................] - ETA: 0s - loss: 0.7087 - accuracy: 0.7000"
     ]
    },
    {
     "name": "stderr",
     "output_type": "stream",
     "text": [
      "2022-06-28 10:32:32.404467: I tensorflow/core/grappler/optimizers/custom_graph_optimizer_registry.cc:113] Plugin optimizer for device_type GPU is enabled.\n"
     ]
    },
    {
     "name": "stdout",
     "output_type": "stream",
     "text": [
      "11/11 [==============================] - 0s 11ms/step - loss: 0.6118 - accuracy: 0.7843 - val_loss: 1.5162 - val_accuracy: 0.0000e+00\n",
      "Epoch 4/20\n",
      "11/11 [==============================] - 0s 10ms/step - loss: 0.5378 - accuracy: 0.8333 - val_loss: 1.4040 - val_accuracy: 0.0000e+00\n",
      "Epoch 5/20\n",
      "11/11 [==============================] - 0s 10ms/step - loss: 0.4238 - accuracy: 0.8627 - val_loss: 1.3990 - val_accuracy: 0.0000e+00\n",
      "Epoch 6/20\n",
      "11/11 [==============================] - 0s 10ms/step - loss: 0.4427 - accuracy: 0.8627 - val_loss: 1.2952 - val_accuracy: 0.0000e+00\n",
      "Epoch 7/20\n",
      "11/11 [==============================] - 0s 10ms/step - loss: 0.3957 - accuracy: 0.8627 - val_loss: 1.2428 - val_accuracy: 0.0000e+00\n",
      "Epoch 8/20\n",
      "11/11 [==============================] - 0s 10ms/step - loss: 0.3886 - accuracy: 0.8725 - val_loss: 1.2636 - val_accuracy: 0.0000e+00\n",
      "Epoch 9/20\n",
      "11/11 [==============================] - 0s 11ms/step - loss: 0.3633 - accuracy: 0.8725 - val_loss: 1.0920 - val_accuracy: 0.0000e+00\n",
      "Epoch 10/20\n",
      "11/11 [==============================] - 0s 10ms/step - loss: 0.3240 - accuracy: 0.9118 - val_loss: 1.1191 - val_accuracy: 0.0000e+00\n",
      "Epoch 11/20\n",
      "11/11 [==============================] - 0s 10ms/step - loss: 0.3386 - accuracy: 0.8529 - val_loss: 1.2410 - val_accuracy: 0.0000e+00\n",
      "Epoch 12/20\n",
      "11/11 [==============================] - 0s 10ms/step - loss: 0.3015 - accuracy: 0.9020 - val_loss: 0.9763 - val_accuracy: 0.0000e+00\n",
      "Epoch 13/20\n",
      "11/11 [==============================] - 0s 10ms/step - loss: 0.3147 - accuracy: 0.8627 - val_loss: 1.0641 - val_accuracy: 0.0000e+00\n",
      "Epoch 14/20\n",
      "11/11 [==============================] - 0s 10ms/step - loss: 0.3048 - accuracy: 0.8922 - val_loss: 1.2362 - val_accuracy: 0.0000e+00\n",
      "Epoch 15/20\n",
      "11/11 [==============================] - 0s 10ms/step - loss: 0.2845 - accuracy: 0.8824 - val_loss: 0.9546 - val_accuracy: 0.0000e+00\n",
      "Epoch 16/20\n",
      "11/11 [==============================] - 0s 10ms/step - loss: 0.2679 - accuracy: 0.8922 - val_loss: 0.9337 - val_accuracy: 0.0000e+00\n",
      "Epoch 17/20\n",
      "11/11 [==============================] - 0s 10ms/step - loss: 0.2499 - accuracy: 0.9118 - val_loss: 1.1068 - val_accuracy: 0.0000e+00\n",
      "Epoch 18/20\n",
      "11/11 [==============================] - 0s 11ms/step - loss: 0.2358 - accuracy: 0.8922 - val_loss: 1.0688 - val_accuracy: 0.0000e+00\n",
      "Epoch 19/20\n",
      "11/11 [==============================] - 0s 9ms/step - loss: 0.2498 - accuracy: 0.9314 - val_loss: 0.7010 - val_accuracy: 0.5385\n",
      "Epoch 20/20\n",
      "11/11 [==============================] - 0s 10ms/step - loss: 0.2779 - accuracy: 0.8824 - val_loss: 0.7570 - val_accuracy: 0.4231\n",
      "Score for fold 3: loss of 0.36850738525390625; accuracy of 90.90909361839294%\n",
      "------------------------------------------------------------------------\n",
      "Training for fold 4 ...\n",
      "Epoch 1/20\n",
      " 8/11 [====================>.........] - ETA: 0s - loss: 1.0192 - accuracy: 0.5875"
     ]
    },
    {
     "name": "stderr",
     "output_type": "stream",
     "text": [
      "2022-06-28 10:32:34.849850: I tensorflow/core/grappler/optimizers/custom_graph_optimizer_registry.cc:113] Plugin optimizer for device_type GPU is enabled.\n"
     ]
    },
    {
     "name": "stdout",
     "output_type": "stream",
     "text": [
      "11/11 [==============================] - 1s 31ms/step - loss: 0.9863 - accuracy: 0.6311 - val_loss: 1.1402 - val_accuracy: 0.0000e+00\n",
      "Epoch 2/20\n",
      "11/11 [==============================] - 0s 13ms/step - loss: 0.6690 - accuracy: 0.7670 - val_loss: 1.3001 - val_accuracy: 0.0000e+00\n",
      "Epoch 3/20\n",
      " 1/11 [=>............................] - ETA: 0s - loss: 0.5254 - accuracy: 0.8000"
     ]
    },
    {
     "name": "stderr",
     "output_type": "stream",
     "text": [
      "2022-06-28 10:32:35.177822: I tensorflow/core/grappler/optimizers/custom_graph_optimizer_registry.cc:113] Plugin optimizer for device_type GPU is enabled.\n"
     ]
    },
    {
     "name": "stdout",
     "output_type": "stream",
     "text": [
      "11/11 [==============================] - 0s 10ms/step - loss: 0.5464 - accuracy: 0.8155 - val_loss: 1.2894 - val_accuracy: 0.0000e+00\n",
      "Epoch 4/20\n",
      "11/11 [==============================] - 0s 10ms/step - loss: 0.4888 - accuracy: 0.8641 - val_loss: 1.2220 - val_accuracy: 0.0000e+00\n",
      "Epoch 5/20\n",
      "11/11 [==============================] - 0s 11ms/step - loss: 0.4117 - accuracy: 0.8641 - val_loss: 1.2503 - val_accuracy: 0.0000e+00\n",
      "Epoch 6/20\n",
      "11/11 [==============================] - 0s 10ms/step - loss: 0.3941 - accuracy: 0.8738 - val_loss: 1.2833 - val_accuracy: 0.0000e+00\n",
      "Epoch 7/20\n",
      "11/11 [==============================] - 0s 11ms/step - loss: 0.3801 - accuracy: 0.8835 - val_loss: 1.2353 - val_accuracy: 0.0000e+00\n",
      "Epoch 8/20\n",
      "11/11 [==============================] - 0s 11ms/step - loss: 0.3371 - accuracy: 0.8932 - val_loss: 1.3018 - val_accuracy: 0.0000e+00\n",
      "Epoch 9/20\n",
      "11/11 [==============================] - 0s 14ms/step - loss: 0.3480 - accuracy: 0.8641 - val_loss: 1.2765 - val_accuracy: 0.0000e+00\n",
      "Epoch 10/20\n",
      "11/11 [==============================] - 0s 10ms/step - loss: 0.3210 - accuracy: 0.8738 - val_loss: 1.2528 - val_accuracy: 0.0000e+00\n",
      "Epoch 11/20\n",
      "11/11 [==============================] - 0s 11ms/step - loss: 0.3121 - accuracy: 0.8835 - val_loss: 1.3522 - val_accuracy: 0.0000e+00\n",
      "Epoch 12/20\n",
      "11/11 [==============================] - 0s 10ms/step - loss: 0.2624 - accuracy: 0.9320 - val_loss: 1.3420 - val_accuracy: 0.0000e+00\n",
      "Epoch 13/20\n",
      "11/11 [==============================] - 0s 10ms/step - loss: 0.2847 - accuracy: 0.8932 - val_loss: 1.1429 - val_accuracy: 0.0000e+00\n",
      "Epoch 14/20\n",
      "11/11 [==============================] - 0s 10ms/step - loss: 0.2386 - accuracy: 0.9223 - val_loss: 1.1415 - val_accuracy: 0.0000e+00\n",
      "Epoch 15/20\n",
      "11/11 [==============================] - 0s 10ms/step - loss: 0.2401 - accuracy: 0.9126 - val_loss: 1.1197 - val_accuracy: 0.0000e+00\n",
      "Epoch 16/20\n",
      "11/11 [==============================] - 0s 10ms/step - loss: 0.2668 - accuracy: 0.8544 - val_loss: 1.4986 - val_accuracy: 0.0000e+00\n",
      "Epoch 17/20\n",
      "11/11 [==============================] - 0s 10ms/step - loss: 0.2589 - accuracy: 0.8738 - val_loss: 0.8685 - val_accuracy: 0.1538\n",
      "Epoch 18/20\n",
      "11/11 [==============================] - 0s 10ms/step - loss: 0.2061 - accuracy: 0.9320 - val_loss: 0.9785 - val_accuracy: 0.0385\n",
      "Epoch 19/20\n",
      "11/11 [==============================] - 0s 10ms/step - loss: 0.2072 - accuracy: 0.9320 - val_loss: 0.9995 - val_accuracy: 0.0385\n",
      "Epoch 20/20\n",
      "11/11 [==============================] - 0s 11ms/step - loss: 0.2006 - accuracy: 0.9223 - val_loss: 1.0719 - val_accuracy: 0.0000e+00\n",
      "Score for fold 4: loss of 0.5355756282806396; accuracy of 57.14285969734192%\n",
      "------------------------------------------------------------------------\n",
      "Training for fold 5 ...\n",
      "Epoch 1/20\n",
      " 8/11 [====================>.........] - ETA: 0s - loss: 1.0011 - accuracy: 0.6000"
     ]
    },
    {
     "name": "stderr",
     "output_type": "stream",
     "text": [
      "2022-06-28 10:32:37.630459: I tensorflow/core/grappler/optimizers/custom_graph_optimizer_registry.cc:113] Plugin optimizer for device_type GPU is enabled.\n"
     ]
    },
    {
     "name": "stdout",
     "output_type": "stream",
     "text": [
      "11/11 [==============================] - 0s 20ms/step - loss: 0.9710 - accuracy: 0.6019 - val_loss: 1.1407 - val_accuracy: 0.0000e+00\n",
      "Epoch 2/20\n",
      "11/11 [==============================] - 0s 10ms/step - loss: 0.6833 - accuracy: 0.7476 - val_loss: 1.1885 - val_accuracy: 0.0000e+00\n",
      "Epoch 3/20\n",
      " 1/11 [=>............................] - ETA: 0s - loss: 0.8331 - accuracy: 0.6000"
     ]
    },
    {
     "name": "stderr",
     "output_type": "stream",
     "text": [
      "2022-06-28 10:32:37.850158: I tensorflow/core/grappler/optimizers/custom_graph_optimizer_registry.cc:113] Plugin optimizer for device_type GPU is enabled.\n"
     ]
    },
    {
     "name": "stdout",
     "output_type": "stream",
     "text": [
      "11/11 [==============================] - 0s 10ms/step - loss: 0.5696 - accuracy: 0.7573 - val_loss: 1.3304 - val_accuracy: 0.0000e+00\n",
      "Epoch 4/20\n",
      "11/11 [==============================] - 0s 10ms/step - loss: 0.4722 - accuracy: 0.8544 - val_loss: 1.0826 - val_accuracy: 0.0000e+00\n",
      "Epoch 5/20\n",
      "11/11 [==============================] - 0s 11ms/step - loss: 0.4349 - accuracy: 0.8544 - val_loss: 1.0297 - val_accuracy: 0.0000e+00\n",
      "Epoch 6/20\n",
      "11/11 [==============================] - 0s 12ms/step - loss: 0.4075 - accuracy: 0.8544 - val_loss: 1.2224 - val_accuracy: 0.0000e+00\n",
      "Epoch 7/20\n",
      "11/11 [==============================] - 0s 10ms/step - loss: 0.3647 - accuracy: 0.8641 - val_loss: 0.8961 - val_accuracy: 0.0000e+00\n",
      "Epoch 8/20\n",
      "11/11 [==============================] - 0s 10ms/step - loss: 0.3509 - accuracy: 0.8641 - val_loss: 1.0415 - val_accuracy: 0.0000e+00\n",
      "Epoch 9/20\n",
      "11/11 [==============================] - 0s 10ms/step - loss: 0.3440 - accuracy: 0.8641 - val_loss: 1.1110 - val_accuracy: 0.0000e+00\n",
      "Epoch 10/20\n",
      "11/11 [==============================] - 0s 10ms/step - loss: 0.3387 - accuracy: 0.8641 - val_loss: 1.0076 - val_accuracy: 0.0000e+00\n",
      "Epoch 11/20\n",
      "11/11 [==============================] - 0s 10ms/step - loss: 0.3249 - accuracy: 0.8738 - val_loss: 0.9925 - val_accuracy: 0.0000e+00\n",
      "Epoch 12/20\n",
      "11/11 [==============================] - 0s 10ms/step - loss: 0.2994 - accuracy: 0.8544 - val_loss: 0.9753 - val_accuracy: 0.0385\n",
      "Epoch 13/20\n",
      "11/11 [==============================] - 0s 10ms/step - loss: 0.2578 - accuracy: 0.8932 - val_loss: 1.0760 - val_accuracy: 0.0385\n",
      "Epoch 14/20\n",
      "11/11 [==============================] - 0s 10ms/step - loss: 0.2774 - accuracy: 0.8835 - val_loss: 1.1206 - val_accuracy: 0.0385\n",
      "Epoch 15/20\n",
      "11/11 [==============================] - 0s 11ms/step - loss: 0.2717 - accuracy: 0.8835 - val_loss: 0.9340 - val_accuracy: 0.0769\n",
      "Epoch 16/20\n",
      "11/11 [==============================] - 0s 10ms/step - loss: 0.2499 - accuracy: 0.8835 - val_loss: 1.0943 - val_accuracy: 0.0385\n",
      "Epoch 17/20\n",
      "11/11 [==============================] - 0s 10ms/step - loss: 0.2515 - accuracy: 0.9029 - val_loss: 0.7301 - val_accuracy: 0.4615\n",
      "Epoch 18/20\n",
      "11/11 [==============================] - 0s 10ms/step - loss: 0.2269 - accuracy: 0.9320 - val_loss: 0.8715 - val_accuracy: 0.2692\n",
      "Epoch 19/20\n",
      "11/11 [==============================] - 0s 10ms/step - loss: 0.2318 - accuracy: 0.9223 - val_loss: 0.8744 - val_accuracy: 0.2692\n",
      "Epoch 20/20\n",
      "11/11 [==============================] - 0s 10ms/step - loss: 0.2073 - accuracy: 0.9223 - val_loss: 0.7752 - val_accuracy: 0.4231\n",
      "Score for fold 5: loss of 0.3283432126045227; accuracy of 85.71428656578064%\n",
      "------------------------------------------------------------------------\n",
      "Training for fold 6 ...\n",
      "Epoch 1/20\n",
      " 7/11 [==================>...........] - ETA: 0s - loss: 1.0608 - accuracy: 0.5286"
     ]
    },
    {
     "name": "stderr",
     "output_type": "stream",
     "text": [
      "2022-06-28 10:32:40.226062: I tensorflow/core/grappler/optimizers/custom_graph_optimizer_registry.cc:113] Plugin optimizer for device_type GPU is enabled.\n"
     ]
    },
    {
     "name": "stdout",
     "output_type": "stream",
     "text": [
      "11/11 [==============================] - 0s 21ms/step - loss: 1.0081 - accuracy: 0.5631 - val_loss: 0.9525 - val_accuracy: 0.0000e+00\n",
      "Epoch 2/20\n",
      "11/11 [==============================] - 0s 10ms/step - loss: 0.6275 - accuracy: 0.7282 - val_loss: 0.9390 - val_accuracy: 0.0000e+00\n",
      "Epoch 3/20\n",
      " 1/11 [=>............................] - ETA: 0s - loss: 0.5121 - accuracy: 0.9000"
     ]
    },
    {
     "name": "stderr",
     "output_type": "stream",
     "text": [
      "2022-06-28 10:32:40.453829: I tensorflow/core/grappler/optimizers/custom_graph_optimizer_registry.cc:113] Plugin optimizer for device_type GPU is enabled.\n"
     ]
    },
    {
     "name": "stdout",
     "output_type": "stream",
     "text": [
      "11/11 [==============================] - 0s 10ms/step - loss: 0.5734 - accuracy: 0.7573 - val_loss: 0.8244 - val_accuracy: 0.0000e+00\n",
      "Epoch 4/20\n",
      "11/11 [==============================] - 0s 10ms/step - loss: 0.4690 - accuracy: 0.8350 - val_loss: 0.7784 - val_accuracy: 0.0000e+00\n",
      "Epoch 5/20\n",
      "11/11 [==============================] - 0s 10ms/step - loss: 0.4514 - accuracy: 0.8252 - val_loss: 0.8009 - val_accuracy: 0.0000e+00\n",
      "Epoch 6/20\n",
      "11/11 [==============================] - 0s 11ms/step - loss: 0.3965 - accuracy: 0.8350 - val_loss: 0.8415 - val_accuracy: 0.0000e+00\n",
      "Epoch 7/20\n",
      "11/11 [==============================] - 0s 14ms/step - loss: 0.3774 - accuracy: 0.8738 - val_loss: 0.7681 - val_accuracy: 0.1538\n",
      "Epoch 8/20\n",
      "11/11 [==============================] - 0s 10ms/step - loss: 0.3396 - accuracy: 0.8738 - val_loss: 0.7954 - val_accuracy: 0.1538\n",
      "Epoch 9/20\n",
      "11/11 [==============================] - 0s 10ms/step - loss: 0.3180 - accuracy: 0.9126 - val_loss: 0.7242 - val_accuracy: 0.4231\n",
      "Epoch 10/20\n",
      "11/11 [==============================] - 0s 12ms/step - loss: 0.2876 - accuracy: 0.9223 - val_loss: 0.7309 - val_accuracy: 0.4231\n",
      "Epoch 11/20\n",
      "11/11 [==============================] - 0s 10ms/step - loss: 0.2827 - accuracy: 0.8932 - val_loss: 0.6375 - val_accuracy: 0.5769\n",
      "Epoch 12/20\n",
      "11/11 [==============================] - 0s 10ms/step - loss: 0.2862 - accuracy: 0.8738 - val_loss: 0.7542 - val_accuracy: 0.4231\n",
      "Epoch 13/20\n",
      "11/11 [==============================] - 0s 11ms/step - loss: 0.2588 - accuracy: 0.9126 - val_loss: 0.6807 - val_accuracy: 0.5000\n",
      "Epoch 14/20\n",
      "11/11 [==============================] - 0s 11ms/step - loss: 0.2194 - accuracy: 0.9417 - val_loss: 0.7436 - val_accuracy: 0.4231\n",
      "Epoch 15/20\n",
      "11/11 [==============================] - 0s 10ms/step - loss: 0.2340 - accuracy: 0.9029 - val_loss: 0.6442 - val_accuracy: 0.5000\n",
      "Epoch 16/20\n",
      "11/11 [==============================] - 0s 10ms/step - loss: 0.2305 - accuracy: 0.9320 - val_loss: 0.5868 - val_accuracy: 0.6923\n",
      "Epoch 17/20\n",
      "11/11 [==============================] - 0s 10ms/step - loss: 0.1823 - accuracy: 0.9612 - val_loss: 0.7249 - val_accuracy: 0.5000\n",
      "Epoch 18/20\n",
      "11/11 [==============================] - 0s 10ms/step - loss: 0.1508 - accuracy: 0.9903 - val_loss: 0.5958 - val_accuracy: 0.6538\n",
      "Epoch 19/20\n",
      "11/11 [==============================] - 0s 12ms/step - loss: 0.1656 - accuracy: 0.9612 - val_loss: 0.6867 - val_accuracy: 0.5000\n",
      "Epoch 20/20\n",
      "11/11 [==============================] - 0s 9ms/step - loss: 0.1886 - accuracy: 0.9417 - val_loss: 0.5509 - val_accuracy: 0.7308\n",
      "Score for fold 6: loss of 0.12895329296588898; accuracy of 100.0%\n",
      "------------------------------------------------------------------------\n",
      "Training for fold 7 ...\n",
      "Epoch 1/20\n",
      " 8/11 [====================>.........] - ETA: 0s - loss: 1.0162 - accuracy: 0.5875"
     ]
    },
    {
     "name": "stderr",
     "output_type": "stream",
     "text": [
      "2022-06-28 10:32:42.874537: I tensorflow/core/grappler/optimizers/custom_graph_optimizer_registry.cc:113] Plugin optimizer for device_type GPU is enabled.\n"
     ]
    },
    {
     "name": "stdout",
     "output_type": "stream",
     "text": [
      "11/11 [==============================] - 0s 21ms/step - loss: 0.9770 - accuracy: 0.5922 - val_loss: 1.0878 - val_accuracy: 0.0000e+00\n",
      "Epoch 2/20\n",
      "11/11 [==============================] - 0s 11ms/step - loss: 0.6458 - accuracy: 0.7573 - val_loss: 1.2172 - val_accuracy: 0.0000e+00\n",
      "Epoch 3/20\n",
      " 1/11 [=>............................] - ETA: 0s - loss: 0.5572 - accuracy: 0.6000"
     ]
    },
    {
     "name": "stderr",
     "output_type": "stream",
     "text": [
      "2022-06-28 10:32:43.102455: I tensorflow/core/grappler/optimizers/custom_graph_optimizer_registry.cc:113] Plugin optimizer for device_type GPU is enabled.\n"
     ]
    },
    {
     "name": "stdout",
     "output_type": "stream",
     "text": [
      "11/11 [==============================] - 0s 10ms/step - loss: 0.5222 - accuracy: 0.7961 - val_loss: 1.2401 - val_accuracy: 0.0000e+00\n",
      "Epoch 4/20\n",
      "11/11 [==============================] - 0s 12ms/step - loss: 0.4623 - accuracy: 0.8350 - val_loss: 1.0573 - val_accuracy: 0.0000e+00\n",
      "Epoch 5/20\n",
      "11/11 [==============================] - 0s 11ms/step - loss: 0.3843 - accuracy: 0.8252 - val_loss: 0.8133 - val_accuracy: 0.0000e+00\n",
      "Epoch 6/20\n",
      "11/11 [==============================] - 0s 12ms/step - loss: 0.3654 - accuracy: 0.8738 - val_loss: 0.8503 - val_accuracy: 0.0000e+00\n",
      "Epoch 7/20\n",
      "11/11 [==============================] - 0s 12ms/step - loss: 0.3484 - accuracy: 0.8544 - val_loss: 0.8993 - val_accuracy: 0.0000e+00\n",
      "Epoch 8/20\n",
      "11/11 [==============================] - 0s 12ms/step - loss: 0.2765 - accuracy: 0.9417 - val_loss: 0.9480 - val_accuracy: 0.0000e+00\n",
      "Epoch 9/20\n",
      "11/11 [==============================] - 0s 15ms/step - loss: 0.2856 - accuracy: 0.8932 - val_loss: 0.8584 - val_accuracy: 0.1154\n",
      "Epoch 10/20\n",
      "11/11 [==============================] - 0s 11ms/step - loss: 0.2698 - accuracy: 0.8738 - val_loss: 0.7403 - val_accuracy: 0.3462\n",
      "Epoch 11/20\n",
      "11/11 [==============================] - 0s 11ms/step - loss: 0.2341 - accuracy: 0.9515 - val_loss: 0.7380 - val_accuracy: 0.3846\n",
      "Epoch 12/20\n",
      "11/11 [==============================] - 0s 12ms/step - loss: 0.2151 - accuracy: 0.9320 - val_loss: 0.9959 - val_accuracy: 0.0385\n",
      "Epoch 13/20\n",
      "11/11 [==============================] - 0s 11ms/step - loss: 0.2182 - accuracy: 0.9126 - val_loss: 0.7209 - val_accuracy: 0.4615\n",
      "Epoch 14/20\n",
      "11/11 [==============================] - 0s 11ms/step - loss: 0.2005 - accuracy: 0.9515 - val_loss: 0.9236 - val_accuracy: 0.2308\n",
      "Epoch 15/20\n",
      "11/11 [==============================] - 0s 11ms/step - loss: 0.1790 - accuracy: 0.9515 - val_loss: 0.7560 - val_accuracy: 0.3846\n",
      "Epoch 16/20\n",
      "11/11 [==============================] - 0s 10ms/step - loss: 0.1771 - accuracy: 0.9612 - val_loss: 0.8195 - val_accuracy: 0.3846\n",
      "Epoch 17/20\n",
      "11/11 [==============================] - 0s 10ms/step - loss: 0.1872 - accuracy: 0.9126 - val_loss: 0.8986 - val_accuracy: 0.2692\n",
      "Epoch 18/20\n",
      "11/11 [==============================] - 0s 10ms/step - loss: 0.1707 - accuracy: 0.9320 - val_loss: 0.6170 - val_accuracy: 0.6154\n",
      "Epoch 19/20\n",
      "11/11 [==============================] - 0s 12ms/step - loss: 0.1512 - accuracy: 0.9709 - val_loss: 0.7336 - val_accuracy: 0.5000\n",
      "Epoch 20/20\n",
      "11/11 [==============================] - 0s 10ms/step - loss: 0.1526 - accuracy: 0.9709 - val_loss: 0.6535 - val_accuracy: 0.6154\n",
      "Score for fold 7: loss of 0.3020519018173218; accuracy of 80.95238208770752%\n",
      "------------------------------------------------------------------------\n",
      "Score per fold\n",
      "------------------------------------------------------------------------\n",
      "> Fold 1 - Loss: 0.7627692222595215 - Accuracy: 63.63636255264282%\n",
      "------------------------------------------------------------------------\n",
      "> Fold 2 - Loss: 0.22984279692173004 - Accuracy: 95.45454978942871%\n",
      "------------------------------------------------------------------------\n",
      "> Fold 3 - Loss: 0.36850738525390625 - Accuracy: 90.90909361839294%\n",
      "------------------------------------------------------------------------\n",
      "> Fold 4 - Loss: 0.5355756282806396 - Accuracy: 57.14285969734192%\n",
      "------------------------------------------------------------------------\n",
      "> Fold 5 - Loss: 0.3283432126045227 - Accuracy: 85.71428656578064%\n",
      "------------------------------------------------------------------------\n",
      "> Fold 6 - Loss: 0.12895329296588898 - Accuracy: 100.0%\n",
      "------------------------------------------------------------------------\n",
      "> Fold 7 - Loss: 0.3020519018173218 - Accuracy: 80.95238208770752%\n",
      "------------------------------------------------------------------------\n",
      "Average scores for all folds:\n",
      "> Accuracy: 81.97279061589923 (+- 14.901513389059929)\n",
      "> Loss: 0.3794347771576473\n",
      "------------------------------------------------------------------------\n"
     ]
    }
   ],
   "source": [
    "import numpy as np\n",
    "from sklearn.datasets import load_iris\n",
    "from sklearn.model_selection import train_test_split, KFold\n",
    "from sklearn.preprocessing import LabelEncoder\n",
    "\n",
    "from tensorflow.keras.models import Sequential\n",
    "from tensorflow.keras.layers import Dense, Dropout\n",
    "from tensorflow.keras.losses import categorical_crossentropy\n",
    "from tensorflow.keras.optimizers import Adam\n",
    "from tensorflow.keras.utils import to_categorical\n",
    "import matplotlib.pyplot as plt\n",
    "\n",
    "%matplotlib inline\n",
    "%config InlineBackend.figure_format = \"retina\"\n",
    "\n",
    "# Model configuration\n",
    "batch_size = 10\n",
    "loss_function = categorical_crossentropy\n",
    "n_classes = 3\n",
    "n_epochs = 20\n",
    "n_folds = 7\n",
    "optimizer = Adam()\n",
    "validation_split = 0.2\n",
    "verbosity = 1\n",
    "\n",
    "# Load Iris data\n",
    "X=load_iris().data\n",
    "Y=load_iris().target\n",
    "\n",
    "# Encode class values as integers\n",
    "encoder = LabelEncoder()\n",
    "encoder.fit(Y)\n",
    "encoded_Y = encoder.transform(Y)\n",
    "# Convert integers to dummy variables (i.e. one hot encoded)\n",
    "Y = to_categorical(encoded_Y)\n",
    "\n",
    "## Train-Test split\n",
    "#X_train, X_test, Y_train, Y_test=train_test_split(X,Y,test_size=0.2)\n",
    "\n",
    "# Define per-fold score containers <-- these are new\n",
    "acc_per_fold = []\n",
    "loss_per_fold = []\n",
    "\n",
    "# Determine shape of the data\n",
    "input_shape = X.shape[1]\n",
    "\n",
    "# Define the K-fold Cross Validator\n",
    "kfold = KFold(n_splits=n_folds, shuffle=True)\n",
    "\n",
    "# K-fold Cross Validation model evaluation\n",
    "fold = 1\n",
    "for train, test in kfold.split(X, Y):\n",
    "\n",
    "    # Create the model\n",
    "    model = Sequential()\n",
    "    model.add(Dense(32, activation='relu', input_dim = input_shape))\n",
    "    model.add(Dropout(0.3))\n",
    "    model.add(Dense(8, activation='relu'))\n",
    "    model.add(Dense(n_classes, activation='softmax'))\n",
    "\n",
    "    # Compile the model\n",
    "    model.compile(loss=loss_function,\n",
    "                  optimizer=optimizer,\n",
    "                  metrics=['accuracy'])\n",
    "\n",
    "\n",
    "    # Generate a print\n",
    "    print('------------------------------------------------------------------------')\n",
    "    print(f'Training for fold {fold} ...')\n",
    "\n",
    "    # Fit data to model\n",
    "    history = model.fit(X[train], Y[train],\n",
    "              batch_size=batch_size,\n",
    "              epochs=n_epochs,\n",
    "              verbose=verbosity,\n",
    "              validation_split=validation_split)\n",
    "\n",
    "    # Generate generalization metrics\n",
    "    scores = model.evaluate(X[test], Y[test], verbose=0)\n",
    "    print(f'Score for fold {fold}: {model.metrics_names[0]} of {scores[0]}; {model.metrics_names[1]} of {scores[1]*100}%')\n",
    "    acc_per_fold.append(scores[1] * 100)\n",
    "    loss_per_fold.append(scores[0])\n",
    "\n",
    "    # Increase fold number\n",
    "    fold += 1\n",
    "\n",
    "# == Provide average scores ==\n",
    "print('------------------------------------------------------------------------')\n",
    "print('Score per fold')\n",
    "for i in range(0, len(acc_per_fold)):\n",
    "    print('------------------------------------------------------------------------')\n",
    "    print(f'> Fold {i+1} - Loss: {loss_per_fold[i]} - Accuracy: {acc_per_fold[i]}%')\n",
    "print('------------------------------------------------------------------------')\n",
    "print('Average scores for all folds:')\n",
    "print(f'> Accuracy: {np.mean(acc_per_fold)} (+- {np.std(acc_per_fold)})')\n",
    "print(f'> Loss: {np.mean(loss_per_fold)}')\n",
    "print('------------------------------------------------------------------------')"
   ]
  },
  {
   "cell_type": "markdown",
   "metadata": {},
   "source": [
    "### Exercises\n",
    "\n",
    "1. Change hyperparameters and check accuracy scores.\n",
    "2. (Harder) Write a script searching for the best hyperparameter configuration."
   ]
  },
  {
   "cell_type": "markdown",
   "metadata": {},
   "source": [
    "#### Hint for exercise 2\n",
    "\n",
    "Think about the hyperparameter search.\n",
    "Which kind of approach would you choose? A grid search or an exploration on a random set of points?\n",
    "\n",
    "[Answer here](https://analyticsindiamag.com/why-is-random-search-better-than-grid-search-for-machine-learning/#:~:text=One%20of%20the%20drawbacks%20of,aliasing%20around%20the%20right%20set.). Try to answer on your own before open the link."
   ]
  },
  {
   "cell_type": "markdown",
   "metadata": {},
   "source": [
    "### Click to visualise the discussion\n",
    "<details>\n",
    "  <summary>Click to expand!</summary>\n",
    "  \n",
    "    In <a href=https://www.jmlr.org/papers/volume13/bergstra12a/bergstra12a.pdf>this</a> great (and well written paper) the authors add a mathematical proof why random search is better than grid search for hyperparameter tuning.\n",
    "  \n",
    "</details>\n",
    "\n"
   ]
  }
 ],
 "metadata": {
  "kernelspec": {
   "display_name": "Python 3.10.4 ('dl_lectures')",
   "language": "python",
   "name": "python3"
  },
  "language_info": {
   "codemirror_mode": {
    "name": "ipython",
    "version": 3
   },
   "file_extension": ".py",
   "mimetype": "text/x-python",
   "name": "python",
   "nbconvert_exporter": "python",
   "pygments_lexer": "ipython3",
   "version": "3.10.4"
  },
  "vscode": {
   "interpreter": {
    "hash": "0061e9a2c2a5036d35157c5368def7054abdfc28729279d5931d907692112dc3"
   }
  }
 },
 "nbformat": 4,
 "nbformat_minor": 4
}
