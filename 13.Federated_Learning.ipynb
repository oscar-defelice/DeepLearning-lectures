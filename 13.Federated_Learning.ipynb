{
 "cells": [
  {
   "cell_type": "markdown",
   "metadata": {
    "id": "A2CL5G_padqG"
   },
   "source": [
    "![title](https://upload.wikimedia.org/wikipedia/commons/thumb/1/11/TensorFlowLogo.svg/1229px-TensorFlowLogo.svg.png)\n"
   ]
  },
  {
   "cell_type": "markdown",
   "metadata": {
    "id": "Fu9Z6fIJbRSw"
   },
   "source": [
    "# Federated Learning: Collaborative Machine Learning without Centralized Training Data\n",
    "\n",
    "We are going to analyse one of the most useful applications of Deep Learning.\n",
    "\n",
    "The problem to solve is the following:\n",
    "Imagine you have a dataset containing your private data on your personal device.\n",
    "And so a lot of people in the world.\n",
    "\n",
    "> How to exploit such value to train models that should be slightly different for anyone (my way of writing texts is different from anyone else) and also protect my privacy?\n",
    "\n",
    "![](https://miro.medium.com/max/4888/1*2lWjCr7FRAu-MblI_8shtw.png)\n",
    "\n",
    "Actualy the problem is quite complicated since we are looking for a way to \n",
    "\n",
    "1. Have a predictive model adapting to the single user experience.\n",
    "2. Have a general model that is a good predictor for the average user (you do not want a \"cold-start\" device.)\n",
    "3. Protect the user privacy, so you do not want Google to read your texts to train their predictive keyboards.\n",
    "4. Having always the SOTA model (or as close as possible).\n",
    "\n",
    "Interestingly such application has been introduced in a [blog post by Google AI](https://ai.googleblog.com/2017/04/federated-learning-collaborative.html) in 2017.\n",
    "\n",
    "The main idea of Federated Learning is to modify the data pipeline to train models in order to not rely on a single data source.\n",
    "\n",
    "Indeed, until now, we have seen that traditional machine learning involves a data pipeline to train a single model on a central server (on cloud, but can be your laptop as well), then we host the trained model in order to make predictions. \n",
    "The downside of this architecture is that all the data collected by local devices and sensors are sent back to the central server for processing, and subsequently returned back to the devices. This round-trip limits a model’s ability to learn in real-time. Furthermore we have a lot of data privacy issues.\n",
    "\n",
    "**Federated learning** (FL) in contrast, is an approach that downloads the current model and computes an updated model (fine tuning) at the device itself (ala edge computing) using local data. These locally trained models are then sent from the devices back to the central server where they are aggregated, i.e. averaging weights, and then a single consolidated and improved global model is sent back to the devices.\n",
    "\n",
    "![](https://miro.medium.com/max/1280/0*yI_rIRNAFTYDwFtK.png)\n",
    "\n",
    "_Your phone personalizes the model locally, based on your usage (A). Many users’ updates are aggregated (B) to form a consensus change (C) to the shared model, after which the procedure is repeated._\n",
    "\n",
    "\n",
    "In a more general sense, Federated Learning allows for machine learning algorithms to gain experience from a broad range of data sets located at different locations. The approach enables multiple organisations to collaborate on the development of models, but without needing to directly share secure data with each other. Over the course of several training iterations, the shared models get exposed to a significantly wider range of data than what any single organization possesses in-house. In other words, FL decentralizes machine learning by removing the need to pool data into a single location. Instead, the model is trained in multiple iterations at different locations.\n",
    "\n",
    "From Google AI original post:\n",
    "\n",
    "> _It works like this: your device downloads the current model, improves it by learning from data on your phone, and then summarizes the changes as a small focused update. Only this update to the model is sent to the cloud, using encrypted communication, where it is immediately averaged with other user updates to improve the shared model. All the training data remains on your device, and no individual updates are stored in the cloud._\n",
    "\n",
    "### Some references\n",
    "\n",
    "A recent paper, [“Federated Learning: Challenges, Methods, and Future Directions”](https://arxiv.org/pdf/1908.07873.pdf) (Aug. 2019) by a group of Carnegie Mellon University researchers established the fact that FL is an active and ongoing area of research and provided an extensive summary of recent work.\n",
    "\n",
    "There is also a paper that describes a scalable production system for FL for mobile devices, [“Towards Federated Learning at Scale: System Design”](https://arxiv.org/pdf/1902.01046.pdf) (Mar. 2019) which includes the resulting high-level design, overview of new challenges with solutions, and also some open problems with future directions.\n",
    "Here are several new available FL resources:\n",
    "\n",
    "* [TensorFlow Federated (TFF)](https://www.tensorflow.org/federated) and also on [GitHub](https://github.com/tensorflow/federated)\n",
    "* [Tensorflow Federated Tutorials](https://federated.withgoogle.com/)\n",
    "\n",
    "## This lecture\n",
    "\n",
    "In this lecture, we are going to explore the main idea of federated learning by comparing the performances of a traditional centralised model with the ones of a\n",
    "single client model learning and finally the federated learning ones.\n",
    "\n",
    "Schematically, we are going to study the case described in the picture below\n",
    "\n",
    "![](https://upload.wikimedia.org/wikipedia/commons/thumb/e/e2/Federated_learning_process_central_case.png/440px-Federated_learning_process_central_case.png)\n",
    "\n"
   ]
  },
  {
   "cell_type": "markdown",
   "metadata": {
    "id": "t8pP20JTmnSP"
   },
   "source": [
    "First, import libraries"
   ]
  },
  {
   "cell_type": "code",
   "execution_count": 1,
   "metadata": {
    "executionInfo": {
     "elapsed": 2477,
     "status": "ok",
     "timestamp": 1618326296207,
     "user": {
      "displayName": "Oscar de Felice",
      "photoUrl": "https://lh3.googleusercontent.com/a-/AOh14GjdeOMSP6Q8A3Dc45HnENnO-j0koHCgILLoTP0g=s64",
      "userId": "03848583468334096812"
     },
     "user_tz": -120
    },
    "id": "hVVyR4xpW7Np"
   },
   "outputs": [],
   "source": [
    "import numpy as np\n",
    "import pandas as pd\n",
    "import matplotlib.pyplot as plt\n",
    "%matplotlib inline\n",
    "%config InlineBackend.figure_format = \"retina\"\n",
    " \n",
    "from tensorflow.keras.datasets import mnist\n",
    "from tensorflow.keras.models import Sequential\n",
    "from tensorflow.keras.layers import Dense, Dropout, Activation"
   ]
  },
  {
   "cell_type": "markdown",
   "metadata": {
    "id": "ehSlmjGMlyhi"
   },
   "source": [
    "# Define the main functions"
   ]
  },
  {
   "cell_type": "markdown",
   "metadata": {
    "id": "5PLWIaL5msej"
   },
   "source": [
    "We are going here to define functions we will need later on.\n",
    "\n",
    "The dataset is the famous MNIST\n",
    "\n",
    "![](https://theanets.readthedocs.io/en/stable/_images/mnist-digits-small.png)\n",
    "\n",
    "We will simulate the following situation:\n",
    "\n",
    "* Three local clients.\n",
    "* Each of them will have access only to data referring to three different digits (for the last one four).\n",
    "* Local clients will train the same network architecture.\n",
    "\n",
    "### Load data\n",
    "\n",
    "We simply use the keras dataset and load the (not-so-much-loved) MNIST dataset."
   ]
  },
  {
   "cell_type": "code",
   "execution_count": 2,
   "metadata": {
    "executionInfo": {
     "elapsed": 1093,
     "status": "ok",
     "timestamp": 1618326300494,
     "user": {
      "displayName": "Oscar de Felice",
      "photoUrl": "https://lh3.googleusercontent.com/a-/AOh14GjdeOMSP6Q8A3Dc45HnENnO-j0koHCgILLoTP0g=s64",
      "userId": "03848583468334096812"
     },
     "user_tz": -120
    },
    "id": "mkd7EuP6W7Nu"
   },
   "outputs": [],
   "source": [
    "def load_data():\n",
    "    '''Download the MNIST dataset and pre-process data'''\n",
    "    (X_train, y_train), (X_test, y_test) = mnist.load_data()\n",
    "   \n",
    "    # reshape data for the feed forward neural network\n",
    "    X_train_reshaped = X_train.reshape(60000,784)\n",
    "    X_test_reshaped = X_test.reshape(10000,784)\n",
    "   \n",
    "    # scale data\n",
    "    X_train_scaled = X_train_reshaped/255\n",
    "    X_test_scaled = X_test_reshaped/255\n",
    "   \n",
    "    # create dummy variables for the target\n",
    "    y_train_dummies = np.array(pd.get_dummies(y_train))\n",
    "    y_test_dummies = np.array(pd.get_dummies(y_test))  \n",
    "   \n",
    "    return X_train_scaled, y_train_dummies, X_test_scaled, y_test_dummies"
   ]
  },
  {
   "cell_type": "markdown",
   "metadata": {
    "id": "G4gOs16WqvSw"
   },
   "source": [
    "We are now ready to distribute data to clients. This stage is necessary to simulate local clients. In reality one can imagine data coming from local sensors."
   ]
  },
  {
   "cell_type": "code",
   "execution_count": 3,
   "metadata": {
    "executionInfo": {
     "elapsed": 2041,
     "status": "ok",
     "timestamp": 1618326303046,
     "user": {
      "displayName": "Oscar de Felice",
      "photoUrl": "https://lh3.googleusercontent.com/a-/AOh14GjdeOMSP6Q8A3Dc45HnENnO-j0koHCgILLoTP0g=s64",
      "userId": "03848583468334096812"
     },
     "user_tz": -120
    },
    "id": "pHZcaf9fqtHr"
   },
   "outputs": [],
   "source": [
    "def data_to_clients(X_train,y_train):\n",
    "    '''Distribute data to clients'''\n",
    "    X_clients = []\n",
    "    y_clients = []\n",
    "   \n",
    "    y_train_argmax = np.argmax(y_train,axis=1)\n",
    "   \n",
    "    mask = [(y_train_argmax == 0) | (y_train_argmax == 1) | (y_train_argmax == 2),\n",
    "            (y_train_argmax == 3) | (y_train_argmax == 4) | (y_train_argmax == 5),\n",
    "            (y_train_argmax == 6) | (y_train_argmax == 7) | (y_train_argmax == 8) | (y_train_argmax == 9)]\n",
    "   \n",
    "    for i in range(3):\n",
    "        X_train_client = X_train[mask[i],:]\n",
    "        X_clients.append(X_train_client)\n",
    "     \n",
    "        y_train_client = y_train[mask[i],:]\n",
    "        y_clients.append(y_train_client)\n",
    "   \n",
    "    return X_clients, y_clients"
   ]
  },
  {
   "cell_type": "markdown",
   "metadata": {
    "id": "J_QbpqSnq_ah"
   },
   "source": [
    "Let's now define our model.\n",
    "\n",
    "The model architecture is kept simple for illustration purposes.\n",
    "We will make use of a fully-connected neural network with two hidden layers.\n",
    "\n",
    "![](images/MNIST_FL.png)\n",
    "\n",
    "Note that we set a function with an optional parameter `weights`. This will be useful to initialise weights of the network with the parameters from local clients."
   ]
  },
  {
   "cell_type": "code",
   "execution_count": 4,
   "metadata": {
    "executionInfo": {
     "elapsed": 1653,
     "status": "ok",
     "timestamp": 1618326303047,
     "user": {
      "displayName": "Oscar de Felice",
      "photoUrl": "https://lh3.googleusercontent.com/a-/AOh14GjdeOMSP6Q8A3Dc45HnENnO-j0koHCgILLoTP0g=s64",
      "userId": "03848583468334096812"
     },
     "user_tz": -120
    },
    "id": "LWFzeb7Vq9hv"
   },
   "outputs": [],
   "source": [
    "def net(X_train,y_train,X_test,y_test,\n",
    "        epochs,weights=None,verbose=1):\n",
    "    '''Create the Neural Network'''\n",
    "    \n",
    "    model = Sequential()\n",
    " \n",
    "    model.add(Dense(1000,input_shape=(784,)))\n",
    "    model.add(Activation('relu'))\n",
    " \n",
    "    model.add(Dense(1000))\n",
    "    model.add(Activation('relu'))\n",
    " \n",
    "    model.add(Dense(10))\n",
    "    model.add(Activation('sigmoid'))\n",
    " \n",
    "    \n",
    "    # compile model\n",
    "    model.compile(optimizer='adam',loss='categorical_crossentropy',metrics=['accuracy'])\n",
    " \n",
    "    if type(weights) == np.ndarray:\n",
    "        model.set_weights(weights)\n",
    "        #print('Initialize with FL weights')\n",
    " \n",
    "    # fit model\n",
    "    history = model.fit(X_train,y_train,\n",
    "          batch_size=128, epochs=epochs,\n",
    "          validation_data=(X_test,y_test),\n",
    "          verbose=0)\n",
    "    \n",
    "    y_pred = np.argmax(model.predict(X_test),axis=1)\n",
    "    y_test_argmax = np.argmax(y_test,axis=1)\n",
    "    acc = np.mean(y_pred == y_test_argmax)\n",
    " \n",
    "    if verbose==1:\n",
    "        print(f'Accuracy of the model: {acc:.3f}')\n",
    " \n",
    "    return model,model.get_weights(),history,acc"
   ]
  },
  {
   "cell_type": "markdown",
   "metadata": {
    "id": "ZMO_P7u9ud2P"
   },
   "source": [
    "Finally, let's define the federated learning core function.\n",
    "\n",
    "We perform the process described above different times (such number is controlled by the parameter `fl_iterations`.)\n",
    "\n",
    "Such funtions takes the trained clients models (actually we train the models inside the function), calculates the average of weights over the models and pass such values to a federated learning model.\n",
    "\n",
    "We measure accuracy over such \"aggregate\" model."
   ]
  },
  {
   "cell_type": "code",
   "execution_count": 5,
   "metadata": {
    "executionInfo": {
     "elapsed": 1142,
     "status": "ok",
     "timestamp": 1618326460942,
     "user": {
      "displayName": "Oscar de Felice",
      "photoUrl": "https://lh3.googleusercontent.com/a-/AOh14GjdeOMSP6Q8A3Dc45HnENnO-j0koHCgILLoTP0g=s64",
      "userId": "03848583468334096812"
     },
     "user_tz": -120
    },
    "id": "bKNU8ecdt_cD"
   },
   "outputs": [],
   "source": [
    "def federated(X_clients,y_clients,X_test,y_test,fl_iterations):\n",
    "    '''This function performs the Federated Learning'''\n",
    "    model_init = net(X_clients[0],y_clients[0],X_test,y_test,epochs=1,weights=False,verbose=0)\n",
    "    acc_fl = []\n",
    "   \n",
    "    for fl in range(fl_iterations):\n",
    "        print('Federated learning iteration: ',fl+1)\n",
    "        weights = np.array(model_init[1], dtype='object')*0   # initialize empty weights\n",
    "        \n",
    "        for i in range(len(X_clients)):\n",
    "            if fl == 0:\n",
    "                model_client = net(X_clients[i],y_clients[i],X_test,y_test,epochs=1,weights=False,verbose=0)\n",
    "            else:\n",
    "                model_client = net(X_clients[i],y_clients[i],X_test,y_test,epochs=1,weights=FL_weights,verbose=0)\n",
    "            weights = weights + np.array(model_client[1], dtype='object')\n",
    "        \n",
    "        # aggregate weights, computing the mean\n",
    "        FL_weights = weights/len(X_clients)\n",
    "     \n",
    "        # set aggregated weights\n",
    "        model_FL = model_client[0]\n",
    "        model_FL.set_weights(FL_weights)\n",
    "     \n",
    "        # compute predictions using aggregated weights\n",
    "        y_pred = np.argmax(model_FL.predict(X_test),axis=1)\n",
    "        y_test_argmax = np.argmax(y_test,axis=1)\n",
    "        acc = np.mean(y_pred == y_test_argmax)\n",
    "        print(\"Federated Accuracy: \", acc)\n",
    "        acc_fl.append(acc)\n",
    "   \n",
    "    return acc_fl"
   ]
  },
  {
   "cell_type": "markdown",
   "metadata": {
    "id": "ZnEhHtfjl0iO"
   },
   "source": [
    "# Run the simulations\n",
    "We are now ready to run the simulations over \n",
    "\n",
    "- centralized learning\n",
    "- single client learning\n",
    "- federated learning"
   ]
  },
  {
   "cell_type": "code",
   "execution_count": 6,
   "metadata": {
    "colab": {
     "base_uri": "https://localhost:8080/"
    },
    "executionInfo": {
     "elapsed": 184047,
     "status": "ok",
     "timestamp": 1618326646395,
     "user": {
      "displayName": "Oscar de Felice",
      "photoUrl": "https://lh3.googleusercontent.com/a-/AOh14GjdeOMSP6Q8A3Dc45HnENnO-j0koHCgILLoTP0g=s64",
      "userId": "03848583468334096812"
     },
     "user_tz": -120
    },
    "id": "IjkiZ3ub3J1b",
    "outputId": "da26f4da-e0e6-480b-90d3-f837203cb5ca"
   },
   "outputs": [
    {
     "name": "stdout",
     "output_type": "stream",
     "text": [
      "Centralized Machine Learning\n",
      "Accuracy of the model: 0.981\n",
      "Client 1\n",
      "Accuracy of the model: 0.314\n",
      "Client 2\n",
      "Accuracy of the model: 0.287\n",
      "Client 3\n",
      "Accuracy of the model: 0.393\n",
      "Federated learning iteration:  1\n",
      "Federated Accuracy:  0.4778\n",
      "Federated learning iteration:  2\n",
      "Federated Accuracy:  0.7966\n",
      "Federated learning iteration:  3\n",
      "Federated Accuracy:  0.8755\n",
      "Federated learning iteration:  4\n",
      "Federated Accuracy:  0.885\n",
      "Federated learning iteration:  5\n",
      "Federated Accuracy:  0.8912\n",
      "Federated learning iteration:  6\n",
      "Federated Accuracy:  0.9147\n",
      "Federated learning iteration:  7\n",
      "Federated Accuracy:  0.9072\n",
      "Federated learning iteration:  8\n",
      "Federated Accuracy:  0.9097\n",
      "Federated learning iteration:  9\n",
      "Federated Accuracy:  0.9219\n",
      "Federated learning iteration:  10\n",
      "Federated Accuracy:  0.9217\n",
      "Federated learning iteration:  11\n",
      "Federated Accuracy:  0.9197\n",
      "Federated learning iteration:  12\n",
      "Federated Accuracy:  0.9181\n",
      "Federated learning iteration:  13\n",
      "Federated Accuracy:  0.9315\n",
      "Federated learning iteration:  14\n",
      "Federated Accuracy:  0.9339\n",
      "Federated learning iteration:  15\n",
      "Federated Accuracy:  0.9235\n",
      "Federated learning iteration:  16\n",
      "Federated Accuracy:  0.932\n",
      "Federated learning iteration:  17\n",
      "Federated Accuracy:  0.9278\n",
      "Federated learning iteration:  18\n",
      "Federated Accuracy:  0.9313\n",
      "Federated learning iteration:  19\n",
      "Federated Accuracy:  0.9286\n",
      "Federated learning iteration:  20\n",
      "Federated Accuracy:  0.9431\n"
     ]
    }
   ],
   "source": [
    "# load the dataset\n",
    "(X_train, y_train, X_test, y_test) = load_data()\n",
    " \n",
    "# distributed data to clients\n",
    "X_clients, y_clients = data_to_clients(X_train,y_train)\n",
    " \n",
    "# centralized machine learning\n",
    "print('Centralized Machine Learning')\n",
    "centralized_learning = net(X_train,y_train,X_test,y_test,epochs=20)\n",
    "history_centralized = centralized_learning[2]\n",
    " \n",
    "# local client machine learning\n",
    "score_clients = []\n",
    "history_clients = []\n",
    "for i in range(len(X_clients)):\n",
    "    print('Client',i+1)\n",
    "    single_client_learning = net(X_clients[i],y_clients[i],X_test,y_test,epochs=20)\n",
    "    score_clients.append(single_client_learning[3])\n",
    "    history_clients.append(single_client_learning[2])\n",
    "\n",
    "# federated learning\n",
    "federated_learning = federated(X_clients,y_clients,X_test,y_test,fl_iterations=20)"
   ]
  },
  {
   "cell_type": "markdown",
   "metadata": {
    "id": "1FFUCkS4nA1H"
   },
   "source": [
    "# Show the results\n",
    "\n",
    "A simple data plot to show moldels accuracies."
   ]
  },
  {
   "cell_type": "code",
   "execution_count": 7,
   "metadata": {
    "colab": {
     "base_uri": "https://localhost:8080/",
     "height": 279
    },
    "executionInfo": {
     "elapsed": 1785,
     "status": "ok",
     "timestamp": 1618326650922,
     "user": {
      "displayName": "Oscar de Felice",
      "photoUrl": "https://lh3.googleusercontent.com/a-/AOh14GjdeOMSP6Q8A3Dc45HnENnO-j0koHCgILLoTP0g=s64",
      "userId": "03848583468334096812"
     },
     "user_tz": -120
    },
    "id": "obJA407glYk3",
    "outputId": "3e15ea2a-1289-459f-ff27-3001ffa7f921"
   },
   "outputs": [
    {
     "data": {
      "image/png": "[encoded data removed]",
      "text/plain": [
       "<Figure size 720x576 with 1 Axes>"
      ]
     },
     "metadata": {
      "image/png": {
       "height": 479,
       "width": 615
      },
      "needs_background": "light"
     },
     "output_type": "display_data"
    }
   ],
   "source": [
    "plt.figure(figsize=(10,8))\n",
    "plt.plot(history_centralized.history['val_accuracy'],label='Centralised learning')\n",
    "\n",
    "for i in range(len(X_clients)):\n",
    "    plt.plot(history_clients[i].history['val_accuracy'],label='Single client learning, client '+str(i+1))\n",
    "    \n",
    "plt.plot(federated_learning,label='Federated Learning')\n",
    "plt.xlabel('Number of epochs')\n",
    "plt.ylabel('Validation accuracy')\n",
    "plt.legend()\n",
    "plt.grid()\n",
    "plt.xticks(np.arange(0,21,1),np.arange(1,22,1))\n",
    "plt.xlim(0,19)\n",
    "plt.savefig('federated_learning_plot',dpi=300)\n",
    "plt.show()"
   ]
  },
  {
   "cell_type": "markdown",
   "metadata": {
    "id": "atTlt_Qhnvam"
   },
   "source": [
    "Let's comment these results.\n",
    "\n",
    "By using only local data, we get models with an accuracy between 30% and 40%. (they only have 3 or four digits data).\n",
    "The model will never predict correctly other digits as it has never seen them.\n",
    "\n",
    "Putting all data toghether (centralised model), we have a ~99% accuracy. However at the cost to transfer our data to a central server, with high risk for our privacy.\n",
    "\n",
    "Federated Learning here is the key: People share the model architecture and train models locally, by using only their data. After that, we only transfer trained parameters to a central server that aggregates them (averaging them for instance). Once the federated model has been built it can be deployed globally. Such a process can be iterated several times to increase accuracy.\n",
    "\n",
    "The final model has comparable performances to the centralised model ones! Without sharing of any data."
   ]
  }
 ],
 "metadata": {
  "accelerator": "GPU",
  "colab": {
   "collapsed_sections": [],
   "name": "13.Federated_Learning.ipynb",
   "provenance": [
    {
     "file_id": "12ksTXYVc3Yey_43A4lE5-PLrh-sh79Cm",
     "timestamp": 1613385003284
    }
   ]
  },
  "kernelspec": {
   "display_name": "lectures",
   "language": "python",
   "name": "lectures"
  },
  "language_info": {
   "codemirror_mode": {
    "name": "ipython",
    "version": 3
   },
   "file_extension": ".py",
   "mimetype": "text/x-python",
   "name": "python",
   "nbconvert_exporter": "python",
   "pygments_lexer": "ipython3",
   "version": "3.8.0"
  }
 },
 "nbformat": 4,
 "nbformat_minor": 4
}
