{
 "cells": [
  {
   "cell_type": "markdown",
   "metadata": {},
   "source": [
    "![](https://www.domsoria.com/wp-content/uploads/2019/11/keras.png)"
   ]
  },
  {
   "cell_type": "markdown",
   "metadata": {},
   "source": [
    "# Deep Neural Network for Image Classification: Application\n",
    "\n",
    "We will build a deep network, and apply it to cat vs non-cat classification. Hopefully, you will see an improvement in accuracy relative to your previous logistic regression implementation.  \n",
    "\n",
    "**After this assignment you will be able to:**\n",
    "- Build and apply a deep neural network to supervised learning. \n",
    "\n",
    "Let's get started!"
   ]
  },
  {
   "cell_type": "code",
   "execution_count": 1,
   "metadata": {},
   "outputs": [
    {
     "name": "stderr",
     "output_type": "stream",
     "text": [
      "Using TensorFlow backend.\n"
     ]
    }
   ],
   "source": [
    "# Import libraries\n",
    "import time\n",
    "import numpy as np\n",
    "import pandas as pd\n",
    "import h5py\n",
    "import matplotlib.pyplot as plt\n",
    "import scipy\n",
    "from PIL import Image\n",
    "from scipy import ndimage\n",
    "from utils.dnn_app_utils_v3 import *\n",
    "from sklearn.model_selection import train_test_split\n",
    "\n",
    "from keras.models import Sequential\n",
    "from keras.layers import Dense, Dropout\n",
    "from keras.utils import plot_model\n",
    "from keras import optimizers\n",
    "\n",
    "\n",
    "import skimage\n",
    "import imageio\n",
    "\n",
    "%matplotlib inline\n",
    "plt.rcParams['figure.figsize'] = (5.0, 4.0) # set default size of plots\n",
    "plt.rcParams['image.interpolation'] = 'nearest'\n",
    "plt.rcParams['image.cmap'] = 'gray'\n",
    "\n",
    "%load_ext autoreload\n",
    "%autoreload 2\n",
    "\n",
    "np.random.seed(1)"
   ]
  },
  {
   "cell_type": "markdown",
   "metadata": {},
   "source": [
    "## The dataset\n",
    "\n",
    "**Problem Statement**: You are given a dataset (\"data.h5\") containing:\n",
    "    - a training set of m_train images labelled as cat (1) or non-cat (0)\n",
    "    - a test set of m_test images labelled as cat and non-cat\n",
    "    - each image is of shape (num_px, num_px, 3) where 3 is for the 3 channels (RGB).\n",
    "\n",
    "Let's get more familiar with the dataset. Load the data by running the cell below."
   ]
  },
  {
   "cell_type": "code",
   "execution_count": 2,
   "metadata": {},
   "outputs": [],
   "source": [
    "train_x_orig, train_y, test_x_orig, test_y, classes = load_data()"
   ]
  },
  {
   "cell_type": "markdown",
   "metadata": {},
   "source": [
    "The following code will show you an image in the dataset. Feel free to change the index and re-run the cell multiple times to see other images. "
   ]
  },
  {
   "cell_type": "code",
   "execution_count": 3,
   "metadata": {},
   "outputs": [
    {
     "name": "stdout",
     "output_type": "stream",
     "text": [
      "y = 0. It's a non-cat picture.\n"
     ]
    },
    {
     "data": {
      "image/png": "[encoded data removed]",
      "text/plain": [
       "<Figure size 360x288 with 1 Axes>"
      ]
     },
     "metadata": {
      "needs_background": "light"
     },
     "output_type": "display_data"
    }
   ],
   "source": [
    "# Example of a picture\n",
    "index = 10\n",
    "plt.imshow(train_x_orig[index])\n",
    "print (\"y = \" + str(train_y[0,index]) + \". It's a \" + classes[train_y[0,index]].decode(\"utf-8\") +  \" picture.\")"
   ]
  },
  {
   "cell_type": "markdown",
   "metadata": {},
   "source": [
    "## The model\n",
    "\n",
    "**Problem Statement**: How to create a neural network model in Keras? \n",
    "\n",
    "Well, there are several ways. Let's try to get familiar with a very intuitive one.\n",
    "\n",
    "### A warm-up problem\n",
    "\n",
    "Before classifiyin a cat image, we can study a simpler problem: classify whether a patient may be result in having diabete. The dataset describes patient medical record data for Pima Indians and whether they had an onset of diabetes within five years.\n",
    "\n",
    "Attributes are numeric valued, so we can feed a neural network directly with them."
   ]
  },
  {
   "cell_type": "code",
   "execution_count": 4,
   "metadata": {},
   "outputs": [],
   "source": [
    "df = pd.read_csv('https://raw.githubusercontent.com/jbrownlee/Datasets/master/pima-indians-diabetes.data.csv', header=None)\n",
    "col_names = [   'NumberPregnant',\n",
    "                'PlasmaGlucoseConc',\n",
    "                'BloodPressure',\n",
    "                'TricepsSkinThickness',\n",
    "                'InsulinConc',\n",
    "                'BMI',\n",
    "                'DiabetesFunc',\n",
    "                'Age',\n",
    "                'Target']\n",
    "\n",
    "df.columns = col_names"
   ]
  },
  {
   "cell_type": "code",
   "execution_count": 5,
   "metadata": {},
   "outputs": [
    {
     "data": {
      "text/html": [
       "<div>\n",
       "<style scoped>\n",
       "    .dataframe tbody tr th:only-of-type {\n",
       "        vertical-align: middle;\n",
       "    }\n",
       "\n",
       "    .dataframe tbody tr th {\n",
       "        vertical-align: top;\n",
       "    }\n",
       "\n",
       "    .dataframe thead th {\n",
       "        text-align: right;\n",
       "    }\n",
       "</style>\n",
       "<table border=\"1\" class=\"dataframe\">\n",
       "  <thead>\n",
       "    <tr style=\"text-align: right;\">\n",
       "      <th></th>\n",
       "      <th>NumberPregnant</th>\n",
       "      <th>PlasmaGlucoseConc</th>\n",
       "      <th>BloodPressure</th>\n",
       "      <th>TricepsSkinThickness</th>\n",
       "      <th>InsulinConc</th>\n",
       "      <th>BMI</th>\n",
       "      <th>DiabetesFunc</th>\n",
       "      <th>Age</th>\n",
       "      <th>Target</th>\n",
       "    </tr>\n",
       "  </thead>\n",
       "  <tbody>\n",
       "    <tr>\n",
       "      <th>0</th>\n",
       "      <td>6</td>\n",
       "      <td>148</td>\n",
       "      <td>72</td>\n",
       "      <td>35</td>\n",
       "      <td>0</td>\n",
       "      <td>33.6</td>\n",
       "      <td>0.627</td>\n",
       "      <td>50</td>\n",
       "      <td>1</td>\n",
       "    </tr>\n",
       "    <tr>\n",
       "      <th>1</th>\n",
       "      <td>1</td>\n",
       "      <td>85</td>\n",
       "      <td>66</td>\n",
       "      <td>29</td>\n",
       "      <td>0</td>\n",
       "      <td>26.6</td>\n",
       "      <td>0.351</td>\n",
       "      <td>31</td>\n",
       "      <td>0</td>\n",
       "    </tr>\n",
       "    <tr>\n",
       "      <th>2</th>\n",
       "      <td>8</td>\n",
       "      <td>183</td>\n",
       "      <td>64</td>\n",
       "      <td>0</td>\n",
       "      <td>0</td>\n",
       "      <td>23.3</td>\n",
       "      <td>0.672</td>\n",
       "      <td>32</td>\n",
       "      <td>1</td>\n",
       "    </tr>\n",
       "    <tr>\n",
       "      <th>3</th>\n",
       "      <td>1</td>\n",
       "      <td>89</td>\n",
       "      <td>66</td>\n",
       "      <td>23</td>\n",
       "      <td>94</td>\n",
       "      <td>28.1</td>\n",
       "      <td>0.167</td>\n",
       "      <td>21</td>\n",
       "      <td>0</td>\n",
       "    </tr>\n",
       "    <tr>\n",
       "      <th>4</th>\n",
       "      <td>0</td>\n",
       "      <td>137</td>\n",
       "      <td>40</td>\n",
       "      <td>35</td>\n",
       "      <td>168</td>\n",
       "      <td>43.1</td>\n",
       "      <td>2.288</td>\n",
       "      <td>33</td>\n",
       "      <td>1</td>\n",
       "    </tr>\n",
       "    <tr>\n",
       "      <th>...</th>\n",
       "      <td>...</td>\n",
       "      <td>...</td>\n",
       "      <td>...</td>\n",
       "      <td>...</td>\n",
       "      <td>...</td>\n",
       "      <td>...</td>\n",
       "      <td>...</td>\n",
       "      <td>...</td>\n",
       "      <td>...</td>\n",
       "    </tr>\n",
       "    <tr>\n",
       "      <th>763</th>\n",
       "      <td>10</td>\n",
       "      <td>101</td>\n",
       "      <td>76</td>\n",
       "      <td>48</td>\n",
       "      <td>180</td>\n",
       "      <td>32.9</td>\n",
       "      <td>0.171</td>\n",
       "      <td>63</td>\n",
       "      <td>0</td>\n",
       "    </tr>\n",
       "    <tr>\n",
       "      <th>764</th>\n",
       "      <td>2</td>\n",
       "      <td>122</td>\n",
       "      <td>70</td>\n",
       "      <td>27</td>\n",
       "      <td>0</td>\n",
       "      <td>36.8</td>\n",
       "      <td>0.340</td>\n",
       "      <td>27</td>\n",
       "      <td>0</td>\n",
       "    </tr>\n",
       "    <tr>\n",
       "      <th>765</th>\n",
       "      <td>5</td>\n",
       "      <td>121</td>\n",
       "      <td>72</td>\n",
       "      <td>23</td>\n",
       "      <td>112</td>\n",
       "      <td>26.2</td>\n",
       "      <td>0.245</td>\n",
       "      <td>30</td>\n",
       "      <td>0</td>\n",
       "    </tr>\n",
       "    <tr>\n",
       "      <th>766</th>\n",
       "      <td>1</td>\n",
       "      <td>126</td>\n",
       "      <td>60</td>\n",
       "      <td>0</td>\n",
       "      <td>0</td>\n",
       "      <td>30.1</td>\n",
       "      <td>0.349</td>\n",
       "      <td>47</td>\n",
       "      <td>1</td>\n",
       "    </tr>\n",
       "    <tr>\n",
       "      <th>767</th>\n",
       "      <td>1</td>\n",
       "      <td>93</td>\n",
       "      <td>70</td>\n",
       "      <td>31</td>\n",
       "      <td>0</td>\n",
       "      <td>30.4</td>\n",
       "      <td>0.315</td>\n",
       "      <td>23</td>\n",
       "      <td>0</td>\n",
       "    </tr>\n",
       "  </tbody>\n",
       "</table>\n",
       "<p>768 rows × 9 columns</p>\n",
       "</div>"
      ],
      "text/plain": [
       "     NumberPregnant  PlasmaGlucoseConc  BloodPressure  TricepsSkinThickness  \\\n",
       "0                 6                148             72                    35   \n",
       "1                 1                 85             66                    29   \n",
       "2                 8                183             64                     0   \n",
       "3                 1                 89             66                    23   \n",
       "4                 0                137             40                    35   \n",
       "..              ...                ...            ...                   ...   \n",
       "763              10                101             76                    48   \n",
       "764               2                122             70                    27   \n",
       "765               5                121             72                    23   \n",
       "766               1                126             60                     0   \n",
       "767               1                 93             70                    31   \n",
       "\n",
       "     InsulinConc   BMI  DiabetesFunc  Age  Target  \n",
       "0              0  33.6         0.627   50       1  \n",
       "1              0  26.6         0.351   31       0  \n",
       "2              0  23.3         0.672   32       1  \n",
       "3             94  28.1         0.167   21       0  \n",
       "4            168  43.1         2.288   33       1  \n",
       "..           ...   ...           ...  ...     ...  \n",
       "763          180  32.9         0.171   63       0  \n",
       "764            0  36.8         0.340   27       0  \n",
       "765          112  26.2         0.245   30       0  \n",
       "766            0  30.1         0.349   47       1  \n",
       "767            0  30.4         0.315   23       0  \n",
       "\n",
       "[768 rows x 9 columns]"
      ]
     },
     "execution_count": 5,
     "metadata": {},
     "output_type": "execute_result"
    }
   ],
   "source": [
    "df"
   ]
  },
  {
   "cell_type": "markdown",
   "metadata": {},
   "source": [
    "Models in Keras are defined as a sequence of layers.\n",
    "\n",
    "We create a Sequential model and add layers one at a time until we are happy with our network architecture.\n",
    "The first thing to get right is to ensure the input layer has the right number of input features. This can be specified when creating the first layer with the `input_dim` argument and setting it to $8$ for the $8$ input variables.\n",
    "\n",
    "> How do we know the number of layers and their types?\n",
    "\n",
    "This is a very hard question. \n",
    "\n",
    "__Here__: In this example, we will use a fully-connected network structure with three layers."
   ]
  },
  {
   "cell_type": "markdown",
   "metadata": {},
   "source": [
    "#### Activation Functions"
   ]
  },
  {
   "cell_type": "markdown",
   "metadata": {},
   "source": [
    "Activation functions are functions used to get the output of a node\n",
    "\n",
    "![](https://miro.medium.com/max/2724/1*E7ulOdTP-yekFGIJ8H8eVw.png)\n",
    "\n",
    "it must be __non-linear__, indeed one can prove that a very deep network is equivalent to just one-node network if you use only linear activation functions.\n",
    "\n",
    "__Commonly used activation functions__"
   ]
  },
  {
   "cell_type": "markdown",
   "metadata": {},
   "source": [
    "![](https://miro.medium.com/max/1400/1*p_hyqAtyI8pbt2kEl6siOQ.png)"
   ]
  },
  {
   "cell_type": "markdown",
   "metadata": {},
   "source": [
    "**General notes**\n",
    "\n",
    "Briefly, functions that have a bit **flatter S** shape have better discriminatory power. The main reason why log-sigmoid and tanh are used is that their calculus derivatives, which are needed by the most common training algorithm back-propagation, are computationally convenient to compute.\n",
    "\n",
    "*For this problem*: we use a three-layers network, with `relu` activation for the first two layers' units, while `sigmoid` for the output layer."
   ]
  },
  {
   "cell_type": "code",
   "execution_count": 7,
   "metadata": {},
   "outputs": [
    {
     "name": "stdout",
     "output_type": "stream",
     "text": [
      "Model: \"diabete_model\"\n",
      "_________________________________________________________________\n",
      "Layer (type)                 Output Shape              Param #   \n",
      "=================================================================\n",
      "first_layer (Dense)          (None, 12)                108       \n",
      "_________________________________________________________________\n",
      "second_layer (Dense)         (None, 5)                 65        \n",
      "_________________________________________________________________\n",
      "output_layer (Dense)         (None, 1)                 6         \n",
      "=================================================================\n",
      "Total params: 179\n",
      "Trainable params: 179\n",
      "Non-trainable params: 0\n",
      "_________________________________________________________________\n"
     ]
    }
   ],
   "source": [
    "model = Sequential(name = 'diabete_model')\n",
    "model.add(Dense(units=12, input_dim=8, activation = 'relu', name = 'first_layer'))\n",
    "model.add(Dense(units=5, activation = 'relu', name = 'second_layer'))\n",
    "model.add(Dense(units=1, activation = 'sigmoid', name = 'output_layer'))\n",
    "\n",
    "model.compile(loss='binary_crossentropy', optimizer='adam', metrics=['accuracy'])\n",
    "model.summary()"
   ]
  },
  {
   "cell_type": "markdown",
   "metadata": {},
   "source": [
    "You can also visualise the model on a picture."
   ]
  },
  {
   "cell_type": "code",
   "execution_count": 8,
   "metadata": {},
   "outputs": [
    {
     "ename": "OSError",
     "evalue": "`pydot` failed to call GraphViz.Please install GraphViz (https://www.graphviz.org/) and ensure that its executables are in the $PATH.",
     "output_type": "error",
     "traceback": [
      "\u001b[0;31m---------------------------------------------------------------------------\u001b[0m",
      "\u001b[0;31mFileNotFoundError\u001b[0m                         Traceback (most recent call last)",
      "\u001b[0;32m/opt/conda/lib/python3.7/site-packages/pydot.py\u001b[0m in \u001b[0;36mcreate\u001b[0;34m(self, prog, format, encoding)\u001b[0m\n\u001b[1;32m   1914\u001b[0m                 \u001b[0marguments\u001b[0m\u001b[0;34m=\u001b[0m\u001b[0marguments\u001b[0m\u001b[0;34m,\u001b[0m\u001b[0;34m\u001b[0m\u001b[0;34m\u001b[0m\u001b[0m\n\u001b[0;32m-> 1915\u001b[0;31m                 \u001b[0mworking_dir\u001b[0m\u001b[0;34m=\u001b[0m\u001b[0mtmp_dir\u001b[0m\u001b[0;34m,\u001b[0m\u001b[0;34m\u001b[0m\u001b[0;34m\u001b[0m\u001b[0m\n\u001b[0m\u001b[1;32m   1916\u001b[0m             )\n",
      "\u001b[0;32m/opt/conda/lib/python3.7/site-packages/pydot.py\u001b[0m in \u001b[0;36mcall_graphviz\u001b[0;34m(program, arguments, working_dir, **kwargs)\u001b[0m\n\u001b[1;32m    135\u001b[0m         \u001b[0mstdout\u001b[0m\u001b[0;34m=\u001b[0m\u001b[0msubprocess\u001b[0m\u001b[0;34m.\u001b[0m\u001b[0mPIPE\u001b[0m\u001b[0;34m,\u001b[0m\u001b[0;34m\u001b[0m\u001b[0;34m\u001b[0m\u001b[0m\n\u001b[0;32m--> 136\u001b[0;31m         \u001b[0;34m**\u001b[0m\u001b[0mkwargs\u001b[0m\u001b[0;34m\u001b[0m\u001b[0;34m\u001b[0m\u001b[0m\n\u001b[0m\u001b[1;32m    137\u001b[0m     )\n",
      "\u001b[0;32m/opt/conda/lib/python3.7/subprocess.py\u001b[0m in \u001b[0;36m__init__\u001b[0;34m(self, args, bufsize, executable, stdin, stdout, stderr, preexec_fn, close_fds, shell, cwd, env, universal_newlines, startupinfo, creationflags, restore_signals, start_new_session, pass_fds, encoding, errors, text)\u001b[0m\n\u001b[1;32m    799\u001b[0m                                 \u001b[0merrread\u001b[0m\u001b[0;34m,\u001b[0m \u001b[0merrwrite\u001b[0m\u001b[0;34m,\u001b[0m\u001b[0;34m\u001b[0m\u001b[0;34m\u001b[0m\u001b[0m\n\u001b[0;32m--> 800\u001b[0;31m                                 restore_signals, start_new_session)\n\u001b[0m\u001b[1;32m    801\u001b[0m         \u001b[0;32mexcept\u001b[0m\u001b[0;34m:\u001b[0m\u001b[0;34m\u001b[0m\u001b[0;34m\u001b[0m\u001b[0m\n",
      "\u001b[0;32m/opt/conda/lib/python3.7/subprocess.py\u001b[0m in \u001b[0;36m_execute_child\u001b[0;34m(self, args, executable, preexec_fn, close_fds, pass_fds, cwd, env, startupinfo, creationflags, shell, p2cread, p2cwrite, c2pread, c2pwrite, errread, errwrite, restore_signals, start_new_session)\u001b[0m\n\u001b[1;32m   1550\u001b[0m                             \u001b[0merr_msg\u001b[0m \u001b[0;34m+=\u001b[0m \u001b[0;34m': '\u001b[0m \u001b[0;34m+\u001b[0m \u001b[0mrepr\u001b[0m\u001b[0;34m(\u001b[0m\u001b[0merr_filename\u001b[0m\u001b[0;34m)\u001b[0m\u001b[0;34m\u001b[0m\u001b[0;34m\u001b[0m\u001b[0m\n\u001b[0;32m-> 1551\u001b[0;31m                     \u001b[0;32mraise\u001b[0m \u001b[0mchild_exception_type\u001b[0m\u001b[0;34m(\u001b[0m\u001b[0merrno_num\u001b[0m\u001b[0;34m,\u001b[0m \u001b[0merr_msg\u001b[0m\u001b[0;34m,\u001b[0m \u001b[0merr_filename\u001b[0m\u001b[0;34m)\u001b[0m\u001b[0;34m\u001b[0m\u001b[0;34m\u001b[0m\u001b[0m\n\u001b[0m\u001b[1;32m   1552\u001b[0m                 \u001b[0;32mraise\u001b[0m \u001b[0mchild_exception_type\u001b[0m\u001b[0;34m(\u001b[0m\u001b[0merr_msg\u001b[0m\u001b[0;34m)\u001b[0m\u001b[0;34m\u001b[0m\u001b[0;34m\u001b[0m\u001b[0m\n",
      "\u001b[0;31mFileNotFoundError\u001b[0m: [Errno 2] No such file or directory: 'dot': 'dot'",
      "\nDuring handling of the above exception, another exception occurred:\n",
      "\u001b[0;31mFileNotFoundError\u001b[0m                         Traceback (most recent call last)",
      "\u001b[0;32m/opt/conda/lib/python3.7/site-packages/keras/utils/vis_utils.py\u001b[0m in \u001b[0;36m_check_pydot\u001b[0;34m()\u001b[0m\n\u001b[1;32m     27\u001b[0m         \u001b[0;31m# to check the pydot/graphviz installation.\u001b[0m\u001b[0;34m\u001b[0m\u001b[0;34m\u001b[0m\u001b[0;34m\u001b[0m\u001b[0m\n\u001b[0;32m---> 28\u001b[0;31m         \u001b[0mpydot\u001b[0m\u001b[0;34m.\u001b[0m\u001b[0mDot\u001b[0m\u001b[0;34m.\u001b[0m\u001b[0mcreate\u001b[0m\u001b[0;34m(\u001b[0m\u001b[0mpydot\u001b[0m\u001b[0;34m.\u001b[0m\u001b[0mDot\u001b[0m\u001b[0;34m(\u001b[0m\u001b[0;34m)\u001b[0m\u001b[0;34m)\u001b[0m\u001b[0;34m\u001b[0m\u001b[0;34m\u001b[0m\u001b[0m\n\u001b[0m\u001b[1;32m     29\u001b[0m     \u001b[0;32mexcept\u001b[0m \u001b[0mOSError\u001b[0m\u001b[0;34m:\u001b[0m\u001b[0;34m\u001b[0m\u001b[0;34m\u001b[0m\u001b[0m\n",
      "\u001b[0;32m/opt/conda/lib/python3.7/site-packages/pydot.py\u001b[0m in \u001b[0;36mcreate\u001b[0;34m(self, prog, format, encoding)\u001b[0m\n\u001b[1;32m   1921\u001b[0m                     prog=prog)\n\u001b[0;32m-> 1922\u001b[0;31m                 \u001b[0;32mraise\u001b[0m \u001b[0mOSError\u001b[0m\u001b[0;34m(\u001b[0m\u001b[0;34m*\u001b[0m\u001b[0margs\u001b[0m\u001b[0;34m)\u001b[0m\u001b[0;34m\u001b[0m\u001b[0;34m\u001b[0m\u001b[0m\n\u001b[0m\u001b[1;32m   1923\u001b[0m             \u001b[0;32melse\u001b[0m\u001b[0;34m:\u001b[0m\u001b[0;34m\u001b[0m\u001b[0;34m\u001b[0m\u001b[0m\n",
      "\u001b[0;31mFileNotFoundError\u001b[0m: [Errno 2] \"dot\" not found in path.",
      "\nDuring handling of the above exception, another exception occurred:\n",
      "\u001b[0;31mOSError\u001b[0m                                   Traceback (most recent call last)",
      "\u001b[0;32m<ipython-input-8-a17215f50655>\u001b[0m in \u001b[0;36m<module>\u001b[0;34m\u001b[0m\n\u001b[0;32m----> 1\u001b[0;31m \u001b[0mplot_model\u001b[0m\u001b[0;34m(\u001b[0m\u001b[0mmodel\u001b[0m\u001b[0;34m,\u001b[0m\u001b[0mshow_shapes\u001b[0m\u001b[0;34m=\u001b[0m\u001b[0;32mTrue\u001b[0m\u001b[0;34m,\u001b[0m \u001b[0mshow_layer_names\u001b[0m\u001b[0;34m=\u001b[0m\u001b[0;32mTrue\u001b[0m\u001b[0;34m,\u001b[0m \u001b[0mto_file\u001b[0m\u001b[0;34m=\u001b[0m\u001b[0;34m'model.png'\u001b[0m\u001b[0;34m)\u001b[0m\u001b[0;34m\u001b[0m\u001b[0;34m\u001b[0m\u001b[0m\n\u001b[0m",
      "\u001b[0;32m/opt/conda/lib/python3.7/site-packages/keras/utils/vis_utils.py\u001b[0m in \u001b[0;36mplot_model\u001b[0;34m(model, to_file, show_shapes, show_layer_names, rankdir, expand_nested, dpi)\u001b[0m\n\u001b[1;32m    238\u001b[0m     \"\"\"\n\u001b[1;32m    239\u001b[0m     dot = model_to_dot(model, show_shapes, show_layer_names, rankdir,\n\u001b[0;32m--> 240\u001b[0;31m                        expand_nested, dpi)\n\u001b[0m\u001b[1;32m    241\u001b[0m     \u001b[0m_\u001b[0m\u001b[0;34m,\u001b[0m \u001b[0mextension\u001b[0m \u001b[0;34m=\u001b[0m \u001b[0mos\u001b[0m\u001b[0;34m.\u001b[0m\u001b[0mpath\u001b[0m\u001b[0;34m.\u001b[0m\u001b[0msplitext\u001b[0m\u001b[0;34m(\u001b[0m\u001b[0mto_file\u001b[0m\u001b[0;34m)\u001b[0m\u001b[0;34m\u001b[0m\u001b[0;34m\u001b[0m\u001b[0m\n\u001b[1;32m    242\u001b[0m     \u001b[0;32mif\u001b[0m \u001b[0;32mnot\u001b[0m \u001b[0mextension\u001b[0m\u001b[0;34m:\u001b[0m\u001b[0;34m\u001b[0m\u001b[0;34m\u001b[0m\u001b[0m\n",
      "\u001b[0;32m/opt/conda/lib/python3.7/site-packages/keras/utils/vis_utils.py\u001b[0m in \u001b[0;36mmodel_to_dot\u001b[0;34m(model, show_shapes, show_layer_names, rankdir, expand_nested, dpi, subgraph)\u001b[0m\n\u001b[1;32m     77\u001b[0m     \u001b[0;32mfrom\u001b[0m \u001b[0;34m.\u001b[0m\u001b[0;34m.\u001b[0m\u001b[0mmodels\u001b[0m \u001b[0;32mimport\u001b[0m \u001b[0mSequential\u001b[0m\u001b[0;34m\u001b[0m\u001b[0;34m\u001b[0m\u001b[0m\n\u001b[1;32m     78\u001b[0m \u001b[0;34m\u001b[0m\u001b[0m\n\u001b[0;32m---> 79\u001b[0;31m     \u001b[0m_check_pydot\u001b[0m\u001b[0;34m(\u001b[0m\u001b[0;34m)\u001b[0m\u001b[0;34m\u001b[0m\u001b[0;34m\u001b[0m\u001b[0m\n\u001b[0m\u001b[1;32m     80\u001b[0m     \u001b[0;32mif\u001b[0m \u001b[0msubgraph\u001b[0m\u001b[0;34m:\u001b[0m\u001b[0;34m\u001b[0m\u001b[0;34m\u001b[0m\u001b[0m\n\u001b[1;32m     81\u001b[0m         \u001b[0mdot\u001b[0m \u001b[0;34m=\u001b[0m \u001b[0mpydot\u001b[0m\u001b[0;34m.\u001b[0m\u001b[0mCluster\u001b[0m\u001b[0;34m(\u001b[0m\u001b[0mstyle\u001b[0m\u001b[0;34m=\u001b[0m\u001b[0;34m'dashed'\u001b[0m\u001b[0;34m,\u001b[0m \u001b[0mgraph_name\u001b[0m\u001b[0;34m=\u001b[0m\u001b[0mmodel\u001b[0m\u001b[0;34m.\u001b[0m\u001b[0mname\u001b[0m\u001b[0;34m)\u001b[0m\u001b[0;34m\u001b[0m\u001b[0;34m\u001b[0m\u001b[0m\n",
      "\u001b[0;32m/opt/conda/lib/python3.7/site-packages/keras/utils/vis_utils.py\u001b[0m in \u001b[0;36m_check_pydot\u001b[0;34m()\u001b[0m\n\u001b[1;32m     29\u001b[0m     \u001b[0;32mexcept\u001b[0m \u001b[0mOSError\u001b[0m\u001b[0;34m:\u001b[0m\u001b[0;34m\u001b[0m\u001b[0;34m\u001b[0m\u001b[0m\n\u001b[1;32m     30\u001b[0m         raise OSError(\n\u001b[0;32m---> 31\u001b[0;31m             \u001b[0;34m'`pydot` failed to call GraphViz.'\u001b[0m\u001b[0;34m\u001b[0m\u001b[0;34m\u001b[0m\u001b[0m\n\u001b[0m\u001b[1;32m     32\u001b[0m             \u001b[0;34m'Please install GraphViz (https://www.graphviz.org/) '\u001b[0m\u001b[0;34m\u001b[0m\u001b[0;34m\u001b[0m\u001b[0m\n\u001b[1;32m     33\u001b[0m             'and ensure that its executables are in the $PATH.')\n",
      "\u001b[0;31mOSError\u001b[0m: `pydot` failed to call GraphViz.Please install GraphViz (https://www.graphviz.org/) and ensure that its executables are in the $PATH."
     ]
    }
   ],
   "source": [
    "plot_model(model,show_shapes=True, show_layer_names=True, to_file='model.png')"
   ]
  },
  {
   "cell_type": "markdown",
   "metadata": {},
   "source": [
    "`None` is there to indicate the number of training examples.\n",
    "As one can see the model takes in a tensor of shape `(None, 8)`, since we have $8$ features.\n",
    "\n",
    "We are now ready to prepare data to be fed in the model."
   ]
  },
  {
   "cell_type": "code",
   "execution_count": 13,
   "metadata": {},
   "outputs": [],
   "source": [
    "# Transform data into array\n",
    "X = df[df.columns[:8]].values\n",
    "Y = df[df.columns[-1]].values.reshape(-1,1)"
   ]
  },
  {
   "cell_type": "markdown",
   "metadata": {},
   "source": [
    "Split into train and test set"
   ]
  },
  {
   "cell_type": "code",
   "execution_count": 15,
   "metadata": {},
   "outputs": [],
   "source": [
    "X_train, X_test, Y_train, Y_test = train_test_split(X, Y, test_size=0.10, random_state=42)\n",
    "\n",
    "X_val = X_train[:28]\n",
    "Y_val = Y_train[:28]\n",
    "X_train = X_train[28:]\n",
    "Y_train = Y_train[28:]"
   ]
  },
  {
   "cell_type": "code",
   "execution_count": 16,
   "metadata": {},
   "outputs": [
    {
     "name": "stdout",
     "output_type": "stream",
     "text": [
      "# Fit model on training data\n",
      "Train on 663 samples, validate on 28 samples\n",
      "Epoch 1/150\n",
      "663/663 [==============================] - 0s 613us/step - loss: 26.5149 - accuracy: 0.6516 - val_loss: 11.1976 - val_accuracy: 0.7143\n",
      "Epoch 2/150\n",
      "663/663 [==============================] - 0s 98us/step - loss: 8.9021 - accuracy: 0.6275 - val_loss: 4.3651 - val_accuracy: 0.6071\n",
      "Epoch 3/150\n",
      "663/663 [==============================] - 0s 103us/step - loss: 3.6519 - accuracy: 0.6094 - val_loss: 2.0022 - val_accuracy: 0.6071\n",
      "Epoch 4/150\n",
      "663/663 [==============================] - 0s 89us/step - loss: 1.9000 - accuracy: 0.5716 - val_loss: 1.8062 - val_accuracy: 0.4286\n",
      "Epoch 5/150\n",
      "663/663 [==============================] - 0s 94us/step - loss: 1.5705 - accuracy: 0.5279 - val_loss: 1.5001 - val_accuracy: 0.5357\n",
      "Epoch 6/150\n",
      "663/663 [==============================] - 0s 131us/step - loss: 1.3967 - accuracy: 0.5611 - val_loss: 1.3386 - val_accuracy: 0.5000\n",
      "Epoch 7/150\n",
      "663/663 [==============================] - 0s 108us/step - loss: 1.3552 - accuracy: 0.5716 - val_loss: 1.2196 - val_accuracy: 0.5357\n",
      "Epoch 8/150\n",
      "663/663 [==============================] - 0s 110us/step - loss: 1.2058 - accuracy: 0.5732 - val_loss: 1.0877 - val_accuracy: 0.5714\n",
      "Epoch 9/150\n",
      "663/663 [==============================] - 0s 114us/step - loss: 1.1270 - accuracy: 0.5732 - val_loss: 1.1436 - val_accuracy: 0.5357\n",
      "Epoch 10/150\n",
      "663/663 [==============================] - 0s 118us/step - loss: 1.0381 - accuracy: 0.5747 - val_loss: 0.9698 - val_accuracy: 0.5357\n",
      "Epoch 11/150\n",
      "663/663 [==============================] - 0s 121us/step - loss: 0.9966 - accuracy: 0.5762 - val_loss: 0.9861 - val_accuracy: 0.5714\n",
      "Epoch 12/150\n",
      "663/663 [==============================] - 0s 124us/step - loss: 0.9776 - accuracy: 0.5822 - val_loss: 1.0940 - val_accuracy: 0.5357\n",
      "Epoch 13/150\n",
      "663/663 [==============================] - 0s 126us/step - loss: 0.9557 - accuracy: 0.5747 - val_loss: 0.8647 - val_accuracy: 0.6071\n",
      "Epoch 14/150\n",
      "663/663 [==============================] - 0s 125us/step - loss: 0.9165 - accuracy: 0.5867 - val_loss: 0.8199 - val_accuracy: 0.5714\n",
      "Epoch 15/150\n",
      "663/663 [==============================] - 0s 151us/step - loss: 0.8932 - accuracy: 0.6003 - val_loss: 0.7876 - val_accuracy: 0.5357\n",
      "Epoch 16/150\n",
      "663/663 [==============================] - 0s 166us/step - loss: 0.8825 - accuracy: 0.5988 - val_loss: 0.9439 - val_accuracy: 0.4643\n",
      "Epoch 17/150\n",
      "663/663 [==============================] - 0s 111us/step - loss: 0.8873 - accuracy: 0.5973 - val_loss: 0.7695 - val_accuracy: 0.6429\n",
      "Epoch 18/150\n",
      "663/663 [==============================] - 0s 113us/step - loss: 0.7907 - accuracy: 0.6154 - val_loss: 0.8979 - val_accuracy: 0.5714\n",
      "Epoch 19/150\n",
      "663/663 [==============================] - 0s 113us/step - loss: 0.8082 - accuracy: 0.5913 - val_loss: 0.7011 - val_accuracy: 0.6071\n",
      "Epoch 20/150\n",
      "663/663 [==============================] - 0s 120us/step - loss: 0.7849 - accuracy: 0.6169 - val_loss: 0.6822 - val_accuracy: 0.6071\n",
      "Epoch 21/150\n",
      "663/663 [==============================] - 0s 131us/step - loss: 0.7514 - accuracy: 0.6244 - val_loss: 0.7108 - val_accuracy: 0.5714\n",
      "Epoch 22/150\n",
      "663/663 [==============================] - 0s 116us/step - loss: 0.7478 - accuracy: 0.6380 - val_loss: 0.6554 - val_accuracy: 0.6429\n",
      "Epoch 23/150\n",
      "663/663 [==============================] - 0s 118us/step - loss: 0.7980 - accuracy: 0.6335 - val_loss: 0.7014 - val_accuracy: 0.5714\n",
      "Epoch 24/150\n",
      "663/663 [==============================] - 0s 116us/step - loss: 0.7315 - accuracy: 0.6335 - val_loss: 0.6467 - val_accuracy: 0.5714\n",
      "Epoch 25/150\n",
      "663/663 [==============================] - 0s 118us/step - loss: 0.7346 - accuracy: 0.6320 - val_loss: 0.6300 - val_accuracy: 0.6429\n",
      "Epoch 26/150\n",
      "663/663 [==============================] - 0s 118us/step - loss: 0.7390 - accuracy: 0.6335 - val_loss: 0.6457 - val_accuracy: 0.6786\n",
      "Epoch 27/150\n",
      "663/663 [==============================] - 0s 119us/step - loss: 0.7000 - accuracy: 0.6471 - val_loss: 0.6135 - val_accuracy: 0.6786\n",
      "Epoch 28/150\n",
      "663/663 [==============================] - 0s 119us/step - loss: 0.6918 - accuracy: 0.6425 - val_loss: 0.6185 - val_accuracy: 0.6429\n",
      "Epoch 29/150\n",
      "663/663 [==============================] - 0s 122us/step - loss: 0.7024 - accuracy: 0.6365 - val_loss: 0.6241 - val_accuracy: 0.6429\n",
      "Epoch 30/150\n",
      "663/663 [==============================] - 0s 122us/step - loss: 0.6737 - accuracy: 0.6380 - val_loss: 0.6160 - val_accuracy: 0.7143\n",
      "Epoch 31/150\n",
      "663/663 [==============================] - 0s 109us/step - loss: 0.7150 - accuracy: 0.6199 - val_loss: 0.6211 - val_accuracy: 0.7500\n",
      "Epoch 32/150\n",
      "663/663 [==============================] - 0s 120us/step - loss: 0.6538 - accuracy: 0.6501 - val_loss: 0.6466 - val_accuracy: 0.6429\n",
      "Epoch 33/150\n",
      "663/663 [==============================] - 0s 121us/step - loss: 0.7212 - accuracy: 0.6486 - val_loss: 0.6740 - val_accuracy: 0.6429\n",
      "Epoch 34/150\n",
      "663/663 [==============================] - 0s 119us/step - loss: 0.6544 - accuracy: 0.6652 - val_loss: 0.6052 - val_accuracy: 0.7143\n",
      "Epoch 35/150\n",
      "663/663 [==============================] - 0s 119us/step - loss: 0.6258 - accuracy: 0.6787 - val_loss: 0.5993 - val_accuracy: 0.7143\n",
      "Epoch 36/150\n",
      "663/663 [==============================] - 0s 119us/step - loss: 0.6269 - accuracy: 0.6878 - val_loss: 0.5988 - val_accuracy: 0.8214\n",
      "Epoch 37/150\n",
      "663/663 [==============================] - 0s 131us/step - loss: 0.6208 - accuracy: 0.6727 - val_loss: 0.5972 - val_accuracy: 0.7857\n",
      "Epoch 38/150\n",
      "663/663 [==============================] - 0s 151us/step - loss: 0.6298 - accuracy: 0.6697 - val_loss: 0.6165 - val_accuracy: 0.7143\n",
      "Epoch 39/150\n",
      "663/663 [==============================] - 0s 150us/step - loss: 0.5991 - accuracy: 0.6893 - val_loss: 0.5970 - val_accuracy: 0.7143\n",
      "Epoch 40/150\n",
      "663/663 [==============================] - 0s 159us/step - loss: 0.6075 - accuracy: 0.6727 - val_loss: 0.6047 - val_accuracy: 0.7500\n",
      "Epoch 41/150\n",
      "663/663 [==============================] - 0s 119us/step - loss: 0.5907 - accuracy: 0.6923 - val_loss: 0.6072 - val_accuracy: 0.7143\n",
      "Epoch 42/150\n",
      "663/663 [==============================] - 0s 119us/step - loss: 0.5852 - accuracy: 0.7074 - val_loss: 0.5790 - val_accuracy: 0.8571\n",
      "Epoch 43/150\n",
      "663/663 [==============================] - 0s 126us/step - loss: 0.6068 - accuracy: 0.7029 - val_loss: 0.6730 - val_accuracy: 0.6786\n",
      "Epoch 44/150\n",
      "663/663 [==============================] - 0s 109us/step - loss: 0.5760 - accuracy: 0.7119 - val_loss: 0.5682 - val_accuracy: 0.7857\n",
      "Epoch 45/150\n",
      "663/663 [==============================] - 0s 118us/step - loss: 0.5903 - accuracy: 0.7059 - val_loss: 0.6080 - val_accuracy: 0.7857\n",
      "Epoch 46/150\n",
      "663/663 [==============================] - 0s 158us/step - loss: 0.5852 - accuracy: 0.6817 - val_loss: 0.5894 - val_accuracy: 0.7857\n",
      "Epoch 47/150\n",
      "663/663 [==============================] - 0s 137us/step - loss: 0.6068 - accuracy: 0.6968 - val_loss: 0.5943 - val_accuracy: 0.7143\n",
      "Epoch 48/150\n",
      "663/663 [==============================] - 0s 122us/step - loss: 0.5882 - accuracy: 0.7014 - val_loss: 0.6089 - val_accuracy: 0.7500\n",
      "Epoch 49/150\n",
      "663/663 [==============================] - 0s 111us/step - loss: 0.5999 - accuracy: 0.6893 - val_loss: 0.6252 - val_accuracy: 0.7500\n",
      "Epoch 50/150\n",
      "663/663 [==============================] - 0s 116us/step - loss: 0.5952 - accuracy: 0.6848 - val_loss: 0.5638 - val_accuracy: 0.8214\n",
      "Epoch 51/150\n",
      "663/663 [==============================] - 0s 120us/step - loss: 0.5650 - accuracy: 0.7104 - val_loss: 0.5938 - val_accuracy: 0.8214\n",
      "Epoch 52/150\n",
      "663/663 [==============================] - 0s 115us/step - loss: 0.6242 - accuracy: 0.6757 - val_loss: 0.5777 - val_accuracy: 0.7857\n",
      "Epoch 53/150\n",
      "663/663 [==============================] - 0s 122us/step - loss: 0.5575 - accuracy: 0.7300 - val_loss: 0.6061 - val_accuracy: 0.7500\n",
      "Epoch 54/150\n",
      "663/663 [==============================] - 0s 117us/step - loss: 0.5931 - accuracy: 0.7014 - val_loss: 0.5935 - val_accuracy: 0.7857\n",
      "Epoch 55/150\n",
      "663/663 [==============================] - 0s 118us/step - loss: 0.6217 - accuracy: 0.6998 - val_loss: 0.5674 - val_accuracy: 0.7857\n",
      "Epoch 56/150\n",
      "663/663 [==============================] - 0s 142us/step - loss: 0.5686 - accuracy: 0.7225 - val_loss: 0.5654 - val_accuracy: 0.7143\n"
     ]
    },
    {
     "name": "stdout",
     "output_type": "stream",
     "text": [
      "Epoch 57/150\n",
      "663/663 [==============================] - 0s 114us/step - loss: 0.5725 - accuracy: 0.7074 - val_loss: 0.5784 - val_accuracy: 0.7857\n",
      "Epoch 58/150\n",
      "663/663 [==============================] - 0s 109us/step - loss: 0.7237 - accuracy: 0.6878 - val_loss: 0.5281 - val_accuracy: 0.7857\n",
      "Epoch 59/150\n",
      "663/663 [==============================] - 0s 114us/step - loss: 0.5936 - accuracy: 0.6817 - val_loss: 0.5562 - val_accuracy: 0.8571\n",
      "Epoch 60/150\n",
      "663/663 [==============================] - 0s 117us/step - loss: 0.5945 - accuracy: 0.7104 - val_loss: 0.7347 - val_accuracy: 0.7500\n",
      "Epoch 61/150\n",
      "663/663 [==============================] - 0s 119us/step - loss: 0.5959 - accuracy: 0.7044 - val_loss: 0.5416 - val_accuracy: 0.8214\n",
      "Epoch 62/150\n",
      "663/663 [==============================] - 0s 122us/step - loss: 0.5677 - accuracy: 0.7089 - val_loss: 0.5371 - val_accuracy: 0.8214\n",
      "Epoch 63/150\n",
      "663/663 [==============================] - 0s 117us/step - loss: 0.5563 - accuracy: 0.7255 - val_loss: 0.6926 - val_accuracy: 0.6786\n",
      "Epoch 64/150\n",
      "663/663 [==============================] - 0s 122us/step - loss: 0.5683 - accuracy: 0.7179 - val_loss: 0.5634 - val_accuracy: 0.7857\n",
      "Epoch 65/150\n",
      "663/663 [==============================] - 0s 115us/step - loss: 0.5756 - accuracy: 0.7164 - val_loss: 0.5616 - val_accuracy: 0.8214\n",
      "Epoch 66/150\n",
      "663/663 [==============================] - 0s 120us/step - loss: 0.5994 - accuracy: 0.7149 - val_loss: 0.5384 - val_accuracy: 0.7857\n",
      "Epoch 67/150\n",
      "663/663 [==============================] - 0s 118us/step - loss: 0.5411 - accuracy: 0.7149 - val_loss: 0.5584 - val_accuracy: 0.8214\n",
      "Epoch 68/150\n",
      "663/663 [==============================] - 0s 119us/step - loss: 0.5733 - accuracy: 0.7225 - val_loss: 0.5732 - val_accuracy: 0.8214\n",
      "Epoch 69/150\n",
      "663/663 [==============================] - 0s 117us/step - loss: 0.5807 - accuracy: 0.7225 - val_loss: 0.5424 - val_accuracy: 0.7857\n",
      "Epoch 70/150\n",
      "663/663 [==============================] - 0s 141us/step - loss: 0.5839 - accuracy: 0.7029 - val_loss: 0.6427 - val_accuracy: 0.7143\n",
      "Epoch 71/150\n",
      "663/663 [==============================] - 0s 141us/step - loss: 0.5584 - accuracy: 0.7195 - val_loss: 0.5673 - val_accuracy: 0.7143\n",
      "Epoch 72/150\n",
      "663/663 [==============================] - 0s 98us/step - loss: 0.5379 - accuracy: 0.7360 - val_loss: 0.5348 - val_accuracy: 0.7500\n",
      "Epoch 73/150\n",
      "663/663 [==============================] - 0s 135us/step - loss: 0.5428 - accuracy: 0.7345 - val_loss: 0.5360 - val_accuracy: 0.7857\n",
      "Epoch 74/150\n",
      "663/663 [==============================] - 0s 129us/step - loss: 0.5426 - accuracy: 0.7376 - val_loss: 0.5519 - val_accuracy: 0.7857\n",
      "Epoch 75/150\n",
      "663/663 [==============================] - 0s 113us/step - loss: 0.5406 - accuracy: 0.7360 - val_loss: 0.5347 - val_accuracy: 0.7500\n",
      "Epoch 76/150\n",
      "663/663 [==============================] - 0s 116us/step - loss: 0.5477 - accuracy: 0.7119 - val_loss: 0.6859 - val_accuracy: 0.6786\n",
      "Epoch 77/150\n",
      "663/663 [==============================] - 0s 115us/step - loss: 0.5650 - accuracy: 0.7149 - val_loss: 0.5368 - val_accuracy: 0.7857\n",
      "Epoch 78/150\n",
      "663/663 [==============================] - 0s 116us/step - loss: 0.5347 - accuracy: 0.7496 - val_loss: 0.5356 - val_accuracy: 0.7143\n",
      "Epoch 79/150\n",
      "663/663 [==============================] - 0s 116us/step - loss: 0.5640 - accuracy: 0.7149 - val_loss: 0.4989 - val_accuracy: 0.6786\n",
      "Epoch 80/150\n",
      "663/663 [==============================] - 0s 115us/step - loss: 0.5524 - accuracy: 0.7315 - val_loss: 0.5262 - val_accuracy: 0.7143\n",
      "Epoch 81/150\n",
      "663/663 [==============================] - 0s 116us/step - loss: 0.5282 - accuracy: 0.7451 - val_loss: 0.5518 - val_accuracy: 0.7500\n",
      "Epoch 82/150\n",
      "663/663 [==============================] - 0s 115us/step - loss: 0.5278 - accuracy: 0.7345 - val_loss: 0.5337 - val_accuracy: 0.7143\n",
      "Epoch 83/150\n",
      "663/663 [==============================] - 0s 127us/step - loss: 0.5295 - accuracy: 0.7421 - val_loss: 0.5603 - val_accuracy: 0.7500\n",
      "Epoch 84/150\n",
      "663/663 [==============================] - 0s 113us/step - loss: 0.5343 - accuracy: 0.7360 - val_loss: 0.5955 - val_accuracy: 0.7857\n",
      "Epoch 85/150\n",
      "663/663 [==============================] - 0s 114us/step - loss: 0.7821 - accuracy: 0.6667 - val_loss: 0.5716 - val_accuracy: 0.7143\n",
      "Epoch 86/150\n",
      "663/663 [==============================] - 0s 109us/step - loss: 0.5581 - accuracy: 0.7345 - val_loss: 0.4862 - val_accuracy: 0.7500\n",
      "Epoch 87/150\n",
      "663/663 [==============================] - 0s 115us/step - loss: 0.5103 - accuracy: 0.7391 - val_loss: 0.4773 - val_accuracy: 0.7500\n",
      "Epoch 88/150\n",
      "663/663 [==============================] - 0s 102us/step - loss: 0.5320 - accuracy: 0.7557 - val_loss: 0.5106 - val_accuracy: 0.7500\n",
      "Epoch 89/150\n",
      "663/663 [==============================] - 0s 111us/step - loss: 0.5347 - accuracy: 0.7360 - val_loss: 0.5606 - val_accuracy: 0.7857\n",
      "Epoch 90/150\n",
      "663/663 [==============================] - 0s 106us/step - loss: 0.5569 - accuracy: 0.7270 - val_loss: 0.4561 - val_accuracy: 0.8214\n",
      "Epoch 91/150\n",
      "663/663 [==============================] - 0s 106us/step - loss: 0.5609 - accuracy: 0.7466 - val_loss: 0.5644 - val_accuracy: 0.7143\n",
      "Epoch 92/150\n",
      "663/663 [==============================] - 0s 103us/step - loss: 0.5411 - accuracy: 0.7421 - val_loss: 0.4938 - val_accuracy: 0.7143\n",
      "Epoch 93/150\n",
      "663/663 [==============================] - 0s 107us/step - loss: 0.5138 - accuracy: 0.7421 - val_loss: 0.4469 - val_accuracy: 0.7500\n",
      "Epoch 94/150\n",
      "663/663 [==============================] - 0s 110us/step - loss: 0.5390 - accuracy: 0.7376 - val_loss: 0.5290 - val_accuracy: 0.7857\n",
      "Epoch 95/150\n",
      "663/663 [==============================] - 0s 110us/step - loss: 0.5035 - accuracy: 0.7481 - val_loss: 0.6300 - val_accuracy: 0.7143\n",
      "Epoch 96/150\n",
      "663/663 [==============================] - 0s 115us/step - loss: 0.5606 - accuracy: 0.7391 - val_loss: 0.4872 - val_accuracy: 0.7500\n",
      "Epoch 97/150\n",
      "663/663 [==============================] - 0s 115us/step - loss: 0.5535 - accuracy: 0.7315 - val_loss: 0.5215 - val_accuracy: 0.7500\n",
      "Epoch 98/150\n",
      "663/663 [==============================] - 0s 115us/step - loss: 0.5149 - accuracy: 0.7376 - val_loss: 0.4689 - val_accuracy: 0.7857\n",
      "Epoch 99/150\n",
      "663/663 [==============================] - 0s 136us/step - loss: 0.5197 - accuracy: 0.7541 - val_loss: 0.4752 - val_accuracy: 0.7500\n",
      "Epoch 100/150\n",
      "663/663 [==============================] - 0s 145us/step - loss: 0.5329 - accuracy: 0.7391 - val_loss: 0.4967 - val_accuracy: 0.7500\n",
      "Epoch 101/150\n",
      "663/663 [==============================] - 0s 128us/step - loss: 0.5485 - accuracy: 0.7300 - val_loss: 0.5251 - val_accuracy: 0.7143\n",
      "Epoch 102/150\n",
      "663/663 [==============================] - 0s 128us/step - loss: 0.5320 - accuracy: 0.7496 - val_loss: 0.5083 - val_accuracy: 0.7500\n",
      "Epoch 103/150\n",
      "663/663 [==============================] - 0s 118us/step - loss: 0.5028 - accuracy: 0.7572 - val_loss: 0.5875 - val_accuracy: 0.7143\n",
      "Epoch 104/150\n",
      "663/663 [==============================] - 0s 137us/step - loss: 0.5240 - accuracy: 0.7345 - val_loss: 0.4719 - val_accuracy: 0.7857\n",
      "Epoch 105/150\n",
      "663/663 [==============================] - 0s 145us/step - loss: 0.5433 - accuracy: 0.7436 - val_loss: 0.4877 - val_accuracy: 0.7500\n",
      "Epoch 106/150\n",
      "663/663 [==============================] - 0s 123us/step - loss: 0.5385 - accuracy: 0.7376 - val_loss: 0.5093 - val_accuracy: 0.7857\n",
      "Epoch 107/150\n",
      "663/663 [==============================] - 0s 120us/step - loss: 0.5183 - accuracy: 0.7466 - val_loss: 0.4917 - val_accuracy: 0.7143\n",
      "Epoch 108/150\n",
      "663/663 [==============================] - 0s 115us/step - loss: 0.5181 - accuracy: 0.7481 - val_loss: 0.4938 - val_accuracy: 0.8214\n",
      "Epoch 109/150\n",
      "663/663 [==============================] - 0s 137us/step - loss: 0.5030 - accuracy: 0.7451 - val_loss: 0.5089 - val_accuracy: 0.8214\n",
      "Epoch 110/150\n",
      "663/663 [==============================] - 0s 118us/step - loss: 0.5266 - accuracy: 0.7541 - val_loss: 0.5296 - val_accuracy: 0.7857\n",
      "Epoch 111/150\n",
      "663/663 [==============================] - 0s 121us/step - loss: 0.5031 - accuracy: 0.7662 - val_loss: 0.5182 - val_accuracy: 0.7143\n",
      "Epoch 112/150\n",
      "663/663 [==============================] - 0s 150us/step - loss: 0.5142 - accuracy: 0.7677 - val_loss: 0.5434 - val_accuracy: 0.8214\n",
      "Epoch 113/150\n"
     ]
    },
    {
     "name": "stdout",
     "output_type": "stream",
     "text": [
      "663/663 [==============================] - 0s 130us/step - loss: 0.5244 - accuracy: 0.7300 - val_loss: 0.5141 - val_accuracy: 0.7500\n",
      "Epoch 114/150\n",
      "663/663 [==============================] - 0s 126us/step - loss: 0.5372 - accuracy: 0.7526 - val_loss: 0.6278 - val_accuracy: 0.6786\n",
      "Epoch 115/150\n",
      "663/663 [==============================] - 0s 135us/step - loss: 0.5510 - accuracy: 0.7360 - val_loss: 0.5124 - val_accuracy: 0.7857\n",
      "Epoch 116/150\n",
      "663/663 [==============================] - 0s 116us/step - loss: 0.4983 - accuracy: 0.7587 - val_loss: 0.5104 - val_accuracy: 0.7857\n",
      "Epoch 117/150\n",
      "663/663 [==============================] - 0s 132us/step - loss: 0.5211 - accuracy: 0.7451 - val_loss: 0.5851 - val_accuracy: 0.7500\n",
      "Epoch 118/150\n",
      "663/663 [==============================] - 0s 116us/step - loss: 0.5304 - accuracy: 0.7526 - val_loss: 0.4870 - val_accuracy: 0.7857\n",
      "Epoch 119/150\n",
      "663/663 [==============================] - 0s 149us/step - loss: 0.5057 - accuracy: 0.7662 - val_loss: 0.5100 - val_accuracy: 0.7500\n",
      "Epoch 120/150\n",
      "663/663 [==============================] - 0s 128us/step - loss: 0.5147 - accuracy: 0.7526 - val_loss: 0.4704 - val_accuracy: 0.7857\n",
      "Epoch 121/150\n",
      "663/663 [==============================] - 0s 116us/step - loss: 0.5149 - accuracy: 0.7632 - val_loss: 0.5153 - val_accuracy: 0.8214\n",
      "Epoch 122/150\n",
      "663/663 [==============================] - 0s 116us/step - loss: 0.4964 - accuracy: 0.7617 - val_loss: 0.5315 - val_accuracy: 0.8214\n",
      "Epoch 123/150\n",
      "663/663 [==============================] - 0s 116us/step - loss: 0.5145 - accuracy: 0.7466 - val_loss: 0.4925 - val_accuracy: 0.7857\n",
      "Epoch 124/150\n",
      "663/663 [==============================] - 0s 115us/step - loss: 0.5342 - accuracy: 0.7451 - val_loss: 0.5257 - val_accuracy: 0.7143\n",
      "Epoch 125/150\n",
      "663/663 [==============================] - 0s 116us/step - loss: 0.4976 - accuracy: 0.7677 - val_loss: 0.4603 - val_accuracy: 0.7143\n",
      "Epoch 126/150\n",
      "663/663 [==============================] - 0s 115us/step - loss: 0.4914 - accuracy: 0.7632 - val_loss: 0.4858 - val_accuracy: 0.6786\n",
      "Epoch 127/150\n",
      "663/663 [==============================] - 0s 116us/step - loss: 0.5057 - accuracy: 0.7526 - val_loss: 0.5016 - val_accuracy: 0.7857\n",
      "Epoch 128/150\n",
      "663/663 [==============================] - 0s 115us/step - loss: 0.5247 - accuracy: 0.7647 - val_loss: 0.4600 - val_accuracy: 0.8214\n",
      "Epoch 129/150\n",
      "663/663 [==============================] - 0s 116us/step - loss: 0.4872 - accuracy: 0.7541 - val_loss: 0.4799 - val_accuracy: 0.7500\n",
      "Epoch 130/150\n",
      "663/663 [==============================] - 0s 123us/step - loss: 0.4922 - accuracy: 0.7602 - val_loss: 0.4563 - val_accuracy: 0.7857\n",
      "Epoch 131/150\n",
      "663/663 [==============================] - 0s 123us/step - loss: 0.4900 - accuracy: 0.7677 - val_loss: 0.4966 - val_accuracy: 0.7143\n",
      "Epoch 132/150\n",
      "663/663 [==============================] - 0s 114us/step - loss: 0.4998 - accuracy: 0.7632 - val_loss: 0.4761 - val_accuracy: 0.7857\n",
      "Epoch 133/150\n",
      "663/663 [==============================] - 0s 115us/step - loss: 0.5240 - accuracy: 0.7526 - val_loss: 0.5365 - val_accuracy: 0.7857\n",
      "Epoch 134/150\n",
      "663/663 [==============================] - 0s 105us/step - loss: 0.4943 - accuracy: 0.7738 - val_loss: 0.5016 - val_accuracy: 0.7500\n",
      "Epoch 135/150\n",
      "663/663 [==============================] - 0s 116us/step - loss: 0.5337 - accuracy: 0.7541 - val_loss: 0.5661 - val_accuracy: 0.6429\n",
      "Epoch 136/150\n",
      "663/663 [==============================] - 0s 114us/step - loss: 0.5163 - accuracy: 0.7481 - val_loss: 0.5444 - val_accuracy: 0.7143\n",
      "Epoch 137/150\n",
      "663/663 [==============================] - 0s 123us/step - loss: 0.5271 - accuracy: 0.7406 - val_loss: 0.5164 - val_accuracy: 0.6786\n",
      "Epoch 138/150\n",
      "663/663 [==============================] - 0s 125us/step - loss: 0.5190 - accuracy: 0.7511 - val_loss: 0.4949 - val_accuracy: 0.7500\n",
      "Epoch 139/150\n",
      "663/663 [==============================] - 0s 115us/step - loss: 0.4959 - accuracy: 0.7768 - val_loss: 0.4732 - val_accuracy: 0.7143\n",
      "Epoch 140/150\n",
      "663/663 [==============================] - 0s 116us/step - loss: 0.4960 - accuracy: 0.7602 - val_loss: 0.5095 - val_accuracy: 0.7143\n",
      "Epoch 141/150\n",
      "663/663 [==============================] - 0s 122us/step - loss: 0.5185 - accuracy: 0.7647 - val_loss: 0.5172 - val_accuracy: 0.7500\n",
      "Epoch 142/150\n",
      "663/663 [==============================] - 0s 100us/step - loss: 0.4798 - accuracy: 0.7677 - val_loss: 0.5577 - val_accuracy: 0.8214\n",
      "Epoch 143/150\n",
      "663/663 [==============================] - 0s 109us/step - loss: 0.5235 - accuracy: 0.7526 - val_loss: 0.4835 - val_accuracy: 0.8214\n",
      "Epoch 144/150\n",
      "663/663 [==============================] - 0s 124us/step - loss: 0.4986 - accuracy: 0.7541 - val_loss: 0.4844 - val_accuracy: 0.7500\n",
      "Epoch 145/150\n",
      "663/663 [==============================] - 0s 111us/step - loss: 0.4820 - accuracy: 0.7647 - val_loss: 0.5205 - val_accuracy: 0.7500\n",
      "Epoch 146/150\n",
      "663/663 [==============================] - 0s 109us/step - loss: 0.4953 - accuracy: 0.7572 - val_loss: 0.4439 - val_accuracy: 0.8929\n",
      "Epoch 147/150\n",
      "663/663 [==============================] - 0s 108us/step - loss: 0.4837 - accuracy: 0.7647 - val_loss: 0.5095 - val_accuracy: 0.8214\n",
      "Epoch 148/150\n",
      "663/663 [==============================] - 0s 126us/step - loss: 0.4935 - accuracy: 0.7692 - val_loss: 0.4700 - val_accuracy: 0.7857\n",
      "Epoch 149/150\n",
      "663/663 [==============================] - 0s 116us/step - loss: 0.4955 - accuracy: 0.7602 - val_loss: 0.5377 - val_accuracy: 0.7143\n",
      "Epoch 150/150\n",
      "663/663 [==============================] - 0s 116us/step - loss: 0.4954 - accuracy: 0.7572 - val_loss: 0.5458 - val_accuracy: 0.8214\n",
      "\n",
      "history dict: {'val_loss': [11.197582772799901, 4.36507933480399, 2.002151208264487, 1.8061543192182268, 1.500053005559104, 1.3386265209742956, 1.2196102738380432, 1.0877197640282767, 1.1435795979840415, 0.96977869953428, 0.9861029939992088, 1.0939943109239851, 0.864669429404395, 0.8199331547532763, 0.7876267731189728, 0.943884836775916, 0.769475200346538, 0.897908227784293, 0.7011118829250336, 0.6821799193109784, 0.7107877944196973, 0.6554126186030251, 0.701370290347508, 0.6466683787958962, 0.6299791208335331, 0.6457414712224688, 0.6135224125214985, 0.6184897933687482, 0.6241228325026376, 0.6159594655036926, 0.6211313562733787, 0.6465992203780583, 0.6740189364978245, 0.6051762018884931, 0.5992628846849714, 0.598771618945258, 0.5971980435507638, 0.6164777938808713, 0.5970303245953151, 0.6046995329005378, 0.607245215347835, 0.5790058757577624, 0.6729788056441716, 0.568180616412844, 0.6080009128366198, 0.5893763729504177, 0.594283470085689, 0.6088740016732898, 0.6251769065856934, 0.5638270825147629, 0.5937683667455401, 0.5776775734765189, 0.6060953438282013, 0.5935295437063489, 0.5673695802688599, 0.565411069563457, 0.5783926205975669, 0.5280796119144985, 0.5561668915407998, 0.7346790730953217, 0.5415564796754292, 0.5371016647134509, 0.6926436041082654, 0.5633607847349984, 0.5615950013910022, 0.538415402173996, 0.558352883372988, 0.5731997915676662, 0.5423726098878043, 0.6427033160414014, 0.5673037426812308, 0.5347964401756015, 0.535980612039566, 0.5519023324762072, 0.5347039997577667, 0.6859457067080906, 0.5368265509605408, 0.5356484310967582, 0.49890414093221935, 0.5261808271918978, 0.5518430471420288, 0.5336605033704213, 0.5602993198803493, 0.5955317403588977, 0.5716232125248227, 0.4861972821610315, 0.47732095633234295, 0.5105809654508319, 0.5605637239558356, 0.4561085807425635, 0.5644103714397976, 0.49377777108124327, 0.4469446539878845, 0.5290224467005048, 0.6300175998892102, 0.48719400593212675, 0.5214636112962451, 0.46892787516117096, 0.475247255393437, 0.4967498310974666, 0.5251463949680328, 0.5082745935235705, 0.5875092276505062, 0.4718506804534367, 0.4877110187496458, 0.5093376402344022, 0.49171485219682964, 0.49384466452257975, 0.5088852005345481, 0.5296302884817123, 0.5181721087012973, 0.5434162041970662, 0.5140938311815262, 0.6277649572917393, 0.5124198198318481, 0.5103991116796222, 0.5851048145975385, 0.4869842550584248, 0.5100435635873249, 0.47038884248052326, 0.515334393296923, 0.5314988706793103, 0.4924914560147694, 0.5257285045725959, 0.46026887212480816, 0.485775174839156, 0.5016319283417293, 0.459984968815531, 0.47994900175503324, 0.4563228487968445, 0.4966265027012144, 0.4760889006512506, 0.536506114261491, 0.5016150580985206, 0.5660844658102308, 0.5443566313811711, 0.5164078665631158, 0.49488229410988943, 0.4732045318399157, 0.5095171630382538, 0.5171764748437064, 0.5576527842453548, 0.4835480515445982, 0.4843715599605015, 0.5204640882355827, 0.4438914422477995, 0.5094709673098156, 0.4700334923607962, 0.5376975280897958, 0.5458413809537888], 'val_accuracy': [0.7142857313156128, 0.6071428656578064, 0.6071428656578064, 0.4285714328289032, 0.5357142686843872, 0.5, 0.5357142686843872, 0.5714285969734192, 0.5357142686843872, 0.5357142686843872, 0.5714285969734192, 0.5357142686843872, 0.6071428656578064, 0.5714285969734192, 0.5357142686843872, 0.4642857015132904, 0.6428571343421936, 0.5714285969734192, 0.6071428656578064, 0.6071428656578064, 0.5714285969734192, 0.6428571343421936, 0.5714285969734192, 0.5714285969734192, 0.6428571343421936, 0.6785714030265808, 0.6785714030265808, 0.6428571343421936, 0.6428571343421936, 0.7142857313156128, 0.75, 0.6428571343421936, 0.6428571343421936, 0.7142857313156128, 0.7142857313156128, 0.8214285969734192, 0.7857142686843872, 0.7142857313156128, 0.7142857313156128, 0.75, 0.7142857313156128, 0.8571428656578064, 0.6785714030265808, 0.7857142686843872, 0.7857142686843872, 0.7857142686843872, 0.7142857313156128, 0.75, 0.75, 0.8214285969734192, 0.8214285969734192, 0.7857142686843872, 0.75, 0.7857142686843872, 0.7857142686843872, 0.7142857313156128, 0.7857142686843872, 0.7857142686843872, 0.8571428656578064, 0.75, 0.8214285969734192, 0.8214285969734192, 0.6785714030265808, 0.7857142686843872, 0.8214285969734192, 0.7857142686843872, 0.8214285969734192, 0.8214285969734192, 0.7857142686843872, 0.7142857313156128, 0.7142857313156128, 0.75, 0.7857142686843872, 0.7857142686843872, 0.75, 0.6785714030265808, 0.7857142686843872, 0.7142857313156128, 0.6785714030265808, 0.7142857313156128, 0.75, 0.7142857313156128, 0.75, 0.7857142686843872, 0.7142857313156128, 0.75, 0.75, 0.75, 0.7857142686843872, 0.8214285969734192, 0.7142857313156128, 0.7142857313156128, 0.75, 0.7857142686843872, 0.7142857313156128, 0.75, 0.75, 0.7857142686843872, 0.75, 0.75, 0.7142857313156128, 0.75, 0.7142857313156128, 0.7857142686843872, 0.75, 0.7857142686843872, 0.7142857313156128, 0.8214285969734192, 0.8214285969734192, 0.7857142686843872, 0.7142857313156128, 0.8214285969734192, 0.75, 0.6785714030265808, 0.7857142686843872, 0.7857142686843872, 0.75, 0.7857142686843872, 0.75, 0.7857142686843872, 0.8214285969734192, 0.8214285969734192, 0.7857142686843872, 0.7142857313156128, 0.7142857313156128, 0.6785714030265808, 0.7857142686843872, 0.8214285969734192, 0.75, 0.7857142686843872, 0.7142857313156128, 0.7857142686843872, 0.7857142686843872, 0.75, 0.6428571343421936, 0.7142857313156128, 0.6785714030265808, 0.75, 0.7142857313156128, 0.7142857313156128, 0.75, 0.8214285969734192, 0.8214285969734192, 0.75, 0.75, 0.8928571343421936, 0.8214285969734192, 0.7857142686843872, 0.7142857313156128, 0.8214285969734192], 'loss': [26.514877087749866, 8.90209179963821, 3.651863686998865, 1.8999921217192735, 1.5704959010646353, 1.3966837157670908, 1.3551895154547369, 1.2057812066908875, 1.1269542068737484, 1.038110489848872, 0.996571093752733, 0.9775939839997443, 0.955723919480095, 0.9165218731396878, 0.8931854639207976, 0.8825197209060461, 0.8872634142772104, 0.7906563030288949, 0.808230778795202, 0.7849231208836152, 0.7514312079858996, 0.7478091136452659, 0.7979856482278528, 0.7315178361593508, 0.7346051335334778, 0.7389832885197025, 0.7000490602774497, 0.6918000753738581, 0.7023893740831637, 0.6737475409586865, 0.7150208705510849, 0.6537734929522777, 0.7212063874684128, 0.6544013290383697, 0.6258443534643942, 0.6268885121266407, 0.620777180022244, 0.6298078995304769, 0.5990562735639546, 0.6075441366452078, 0.5906807582482673, 0.5851975455093528, 0.6068348719163897, 0.5760444148273669, 0.5902633610803797, 0.585236095240393, 0.6068084428752709, 0.588240625991361, 0.5998770232743628, 0.5952240467790745, 0.5649728137173804, 0.6241982350881643, 0.5574820726255846, 0.5930822347803533, 0.6216872131752572, 0.5686324000987891, 0.5724509217710336, 0.7236784877730351, 0.5936283808128506, 0.5944930580226904, 0.5958978432605709, 0.5677376215993729, 0.5562998055962236, 0.5683457152875839, 0.5755620579014716, 0.599435171727681, 0.5410704105013636, 0.5732940515421814, 0.5807462749078443, 0.5839097799219157, 0.55841499576022, 0.5378731211386115, 0.5427593301593988, 0.5425830700099019, 0.5405644233679879, 0.5477134582234005, 0.5649682981036547, 0.534722725640235, 0.5640311908667983, 0.552363779525052, 0.5282274448673829, 0.5277502140308398, 0.5295204648784563, 0.5342988092255628, 0.7820933589748308, 0.5580596222147503, 0.5102582389592765, 0.5320057138508442, 0.5347116909145769, 0.5568638258749903, 0.5609438390573585, 0.5410511815080455, 0.5137596820814038, 0.5390405320024418, 0.5034822680921396, 0.560603761250437, 0.5535354769787277, 0.5148654683952418, 0.5196565414805577, 0.5329211713411869, 0.5485498180576399, 0.5320098664875663, 0.502798567305503, 0.5239568933462485, 0.5432557682106398, 0.5385305403224663, 0.5183484404155392, 0.5180882343609409, 0.5029637723891444, 0.5265552595729741, 0.5030770954503193, 0.5142330768690929, 0.5244361520892354, 0.5371617589421221, 0.5510022128239657, 0.4982898920819411, 0.5210605947185606, 0.5304396096757454, 0.5057239786442229, 0.5146959704960813, 0.5149051266108523, 0.49639437656686675, 0.5144757387954545, 0.5342144134986814, 0.49755172595539066, 0.49137091811965494, 0.5056860189362349, 0.5247423363397204, 0.48724575841948276, 0.49218362120301834, 0.4899803422964536, 0.49979223038995607, 0.5239805593569714, 0.4943050766422738, 0.533675061676477, 0.5163117021906609, 0.5271056555155356, 0.5189730168108128, 0.4958741880874648, 0.49604377977628694, 0.5185232339131886, 0.4797508751644808, 0.5234982333571663, 0.4985751793754946, 0.48201542593774754, 0.4952827638091005, 0.48373713212854724, 0.4934977895354074, 0.4954747705977427, 0.4953650099142464], 'accuracy': [0.65158373, 0.627451, 0.60935146, 0.57164407, 0.5279035, 0.561086, 0.57164407, 0.57315236, 0.57315236, 0.57466066, 0.57616895, 0.58220214, 0.57466066, 0.586727, 0.6003017, 0.5987934, 0.5972851, 0.61538464, 0.5912519, 0.61689293, 0.6244344, 0.6380091, 0.6334842, 0.6334842, 0.6319759, 0.6334842, 0.64705884, 0.64253396, 0.6365008, 0.6380091, 0.6199095, 0.65007544, 0.64856714, 0.6651584, 0.67873305, 0.6877828, 0.67269987, 0.6696833, 0.6892911, 0.67269987, 0.6923077, 0.70739067, 0.7028658, 0.71191555, 0.7058824, 0.68174964, 0.6968326, 0.7013575, 0.6892911, 0.68476623, 0.71040726, 0.67571646, 0.7300151, 0.7013575, 0.6998492, 0.7224736, 0.70739067, 0.6877828, 0.68174964, 0.71040726, 0.7043741, 0.70889896, 0.7254902, 0.71794873, 0.71644044, 0.71493214, 0.71493214, 0.7224736, 0.7224736, 0.7028658, 0.71945703, 0.7360483, 0.73454, 0.7375566, 0.7360483, 0.71191555, 0.71493214, 0.74962294, 0.71493214, 0.7315234, 0.74509805, 0.73454, 0.74208146, 0.7360483, 0.6666667, 0.73454, 0.7390649, 0.7556561, 0.7360483, 0.7269985, 0.74660635, 0.74208146, 0.74208146, 0.7375566, 0.74811465, 0.7390649, 0.7315234, 0.7375566, 0.7541478, 0.7390649, 0.7300151, 0.74962294, 0.7571644, 0.73454, 0.74358976, 0.7375566, 0.74660635, 0.74811465, 0.74509805, 0.7541478, 0.7662142, 0.7677225, 0.7300151, 0.75263953, 0.7360483, 0.7586727, 0.74509805, 0.75263953, 0.7662142, 0.75263953, 0.7631976, 0.7616893, 0.74660635, 0.74509805, 0.7677225, 0.7631976, 0.75263953, 0.7647059, 0.7541478, 0.760181, 0.7677225, 0.7631976, 0.75263953, 0.77375567, 0.7541478, 0.74811465, 0.74057317, 0.75113124, 0.77677226, 0.760181, 0.7647059, 0.7677225, 0.75263953, 0.7541478, 0.7647059, 0.7571644, 0.7647059, 0.7692308, 0.760181, 0.7571644]}\n"
     ]
    }
   ],
   "source": [
    "print('# Fit model on training data')\n",
    "history = model.fit(X_train, Y_train,\n",
    "                    batch_size=10,\n",
    "                    epochs=150,\n",
    "                    # We pass some validation for\n",
    "                    # monitoring validation loss and metrics\n",
    "                    # at the end of each epoch\n",
    "                    validation_data=(X_val, Y_val))\n",
    "\n",
    "print('\\nhistory dict:', history.history)"
   ]
  },
  {
   "cell_type": "markdown",
   "metadata": {},
   "source": [
    "#### Evaluate"
   ]
  },
  {
   "cell_type": "code",
   "execution_count": 17,
   "metadata": {},
   "outputs": [
    {
     "name": "stdout",
     "output_type": "stream",
     "text": [
      "\n",
      "# Evaluate on test data\n",
      "77/77 [==============================] - 0s 706us/step\n",
      "test loss, test acc: [0.5580088751656669, 0.7142857313156128]\n"
     ]
    }
   ],
   "source": [
    "# Evaluate the model on the test data using `evaluate`\n",
    "print('\\n# Evaluate on test data')\n",
    "results = model.evaluate(X_test, Y_test)\n",
    "print('test loss, test acc:', results)"
   ]
  },
  {
   "cell_type": "markdown",
   "metadata": {},
   "source": [
    "#### Predictions\n",
    "\n",
    "The number one question I get asked is:\n",
    "\n",
    "> After I train my model, how can I use it to make predictions on new data?\n",
    "\n",
    "this is a great question. "
   ]
  },
  {
   "cell_type": "code",
   "execution_count": 18,
   "metadata": {},
   "outputs": [],
   "source": [
    "# make probability predictions with the model\n",
    "new_patient = np.array([4.00e+00, 1.48e+02, 6.00e+01, 2.70e+01, 3.18e+02, 3.09e+01,\n",
    "       1.50e-01, 2.90e+01]).reshape(1,-1)\n",
    "\n",
    "prob_pred = model.predict(new_patient)\n",
    "\n",
    "prediction = round(float(prob_pred[[0]]))"
   ]
  },
  {
   "cell_type": "code",
   "execution_count": 19,
   "metadata": {},
   "outputs": [
    {
     "data": {
      "text/plain": [
       "0"
      ]
     },
     "execution_count": 19,
     "metadata": {},
     "output_type": "execute_result"
    }
   ],
   "source": [
    "prediction"
   ]
  },
  {
   "cell_type": "markdown",
   "metadata": {},
   "source": [
    "## Back to cats"
   ]
  },
  {
   "cell_type": "code",
   "execution_count": 20,
   "metadata": {},
   "outputs": [],
   "source": [
    "train_x_orig, train_y, test_x_orig, test_y, classes = load_data()"
   ]
  },
  {
   "cell_type": "code",
   "execution_count": 23,
   "metadata": {},
   "outputs": [
    {
     "name": "stdout",
     "output_type": "stream",
     "text": [
      "Number of training examples: 209\n",
      "Number of testing examples: 50\n",
      "Each image is of size: (64, 64, 3)\n",
      "train_x_orig shape: (209, 64, 64, 3)\n",
      "train_y shape: (1, 209)\n",
      "test_x_orig shape: (50, 64, 64, 3)\n",
      "test_y shape: (1, 50)\n"
     ]
    }
   ],
   "source": [
    "# Explore your dataset \n",
    "m_train = train_x_orig.shape[0]\n",
    "num_px = train_x_orig.shape[1]\n",
    "m_test = test_x_orig.shape[0]\n",
    "\n",
    "print (\"Number of training examples: \" + str(m_train))\n",
    "print (\"Number of testing examples: \" + str(m_test))\n",
    "print (\"Each image is of size: (\" + str(num_px) + \", \" + str(num_px) + \", 3)\")\n",
    "print (\"train_x_orig shape: \" + str(train_x_orig.shape))\n",
    "print (\"train_y shape: \" + str(train_y.shape))\n",
    "print (\"test_x_orig shape: \" + str(test_x_orig.shape))\n",
    "print (\"test_y shape: \" + str(test_y.shape))"
   ]
  },
  {
   "cell_type": "markdown",
   "metadata": {},
   "source": [
    "As usual, you reshape and standardize the images before feeding them to the network. The code is given in the cell below.\n",
    "\n",
    "<img src=\"images/imvectorkiank.png\" style=\"width:450px;height:300px;\">\n",
    "\n",
    "<caption><center> <u>Figure 1</u>: Image to vector conversion. <br> </center></caption>"
   ]
  },
  {
   "cell_type": "code",
   "execution_count": 24,
   "metadata": {},
   "outputs": [
    {
     "name": "stdout",
     "output_type": "stream",
     "text": [
      "train_x's shape: (209, 12288)\n",
      "test_x's shape: (50, 12288)\n"
     ]
    }
   ],
   "source": [
    "# Reshape the training and test examples \n",
    "train_x_flatten = train_x_orig.reshape(train_x_orig.shape[0], -1)   # The \"-1\" makes reshape flatten the remaining dimensions\n",
    "test_x_flatten = test_x_orig.reshape(test_x_orig.shape[0], -1)\n",
    "\n",
    "# Standardize data to have feature values between 0 and 1.\n",
    "train_x = (train_x_flatten/255.)\n",
    "test_x = (test_x_flatten/255.)\n",
    "\n",
    "print (\"train_x's shape: \" + str(train_x.shape))\n",
    "print (\"test_x's shape: \" + str(test_x.shape))\n"
   ]
  },
  {
   "cell_type": "markdown",
   "metadata": {},
   "source": [
    "$12,288$ equals $64 \\times 64 \\times 3$ which is the size of one reshaped image vector."
   ]
  },
  {
   "cell_type": "markdown",
   "metadata": {},
   "source": [
    "## The model"
   ]
  },
  {
   "cell_type": "markdown",
   "metadata": {},
   "source": [
    "Now that you are familiar with the dataset, it is time to build a deep neural network to distinguish cat images from non-cat images.\n",
    "\n",
    "You will build two different models:\n",
    "- A 2-layer neural network\n",
    "- An L-layer deep neural network\n",
    "\n",
    "You will then compare the performance of these models, and also try out different values for $L$. \n",
    "\n",
    "Let's look at the two architectures.\n",
    "\n",
    "### 2-layer neural network\n",
    "\n",
    "<img src=\"images/2layerNN_kiank.png\" style=\"width:650px;height:400px;\">\n",
    "<caption><center> <u>Figure 2</u>: 2-layer neural network. <br> The model can be summarized as: ***INPUT -> LINEAR -> RELU -> LINEAR -> SIGMOID -> OUTPUT***. </center></caption>\n",
    "\n",
    "<u>Detailed Architecture of figure 2</u>:\n",
    "- The input is a (64,64,3) image which is flattened to a vector of size $(12288,1)$. \n",
    "- The corresponding vector: $[x_0,x_1,...,x_{12287}]^T$ is then multiplied by the weight matrix $W^{[1]}$ of size $(n^{[1]}, 12288)$.\n",
    "- You then add a bias term and take its relu to get the following vector: $[a_0^{[1]}, a_1^{[1]},..., a_{n^{[1]}-1}^{[1]}]^T$.\n",
    "- You then repeat the same process.\n",
    "- You multiply the resulting vector by $W^{[2]}$ and add your intercept (bias). \n",
    "- Finally, you take the sigmoid of the result. If it is greater than 0.5, you classify it to be a cat.\n",
    "\n",
    "###  L-layer deep neural network\n",
    "\n",
    "It is hard to represent an L-layer deep neural network with the above representation. However, here is a simplified network representation:\n",
    "\n",
    "<img src=\"images/LlayerNN_kiank.png\" style=\"width:650px;height:400px;\">\n",
    "<caption><center> <u>Figure 3</u>: L-layer neural network. <br> The model can be summarized as: ***[LINEAR -> RELU] $\\times$ (L-1) -> LINEAR -> SIGMOID***</center></caption>\n",
    "\n",
    "<u>Detailed Architecture of figure 3</u>:\n",
    "- The input is a (64,64,3) image which is flattened to a vector of size (12288,1).\n",
    "- The corresponding vector: $[x_0,x_1,...,x_{12287}]^T$ is then multiplied by the weight matrix $W^{[1]}$ and then you add the intercept $b^{[1]}$. The result is called the linear unit.\n",
    "- Next, you take the relu of the linear unit. This process could be repeated several times for each $(W^{[l]}, b^{[l]})$ depending on the model architecture.\n",
    "- Finally, you take the sigmoid of the final linear unit. If it is greater than 0.5, you classify it to be a cat.\n",
    "\n",
    "### 3.3 - General methodology\n",
    "\n",
    "As usual you will follow the Keras/Deep Learning methodology to build the model:\n",
    "    1. Design the shape of your model\n",
    "    2. Add layers to your `Sequential model`\n",
    "    3. Train the parameters on the training set\n",
    "    4. Use learnt parameters to make predictions on new data.\n",
    "\n",
    "Let's now implement those two models!"
   ]
  },
  {
   "cell_type": "code",
   "execution_count": 27,
   "metadata": {},
   "outputs": [],
   "source": [
    "n_x = 12288     # num_px * num_px * 3"
   ]
  },
  {
   "cell_type": "code",
   "execution_count": 28,
   "metadata": {},
   "outputs": [],
   "source": [
    "def two_layer_model(n_units_1, n_units_2 = 1):\n",
    "    \"\"\"\n",
    "        function to define a two-layer neural network model.\n",
    "        \n",
    "        Parameters:\n",
    "        ----------\n",
    "            - n_units_1 : int\n",
    "                            number of hidden units of the first hidden layer.\n",
    "                            \n",
    "            - n_units_2 : int\n",
    "                            number of hidden units of the second hidden layer.\n",
    "                            \n",
    "        Return:\n",
    "        -------\n",
    "            - model : Keras model object.\n",
    "            \n",
    "    \"\"\"\n",
    "    \n",
    "    model = Sequential()\n",
    "    model.add(Dense(n_units_1, input_dim=n_x, activation = 'tanh', kernel_initializer='uniform', name = 'first_hidden_layer'))\n",
    "    model.add(Dense(n_units_2, activation = 'sigmoid', name = 'output_layer'))\n",
    "    \n",
    "    return model"
   ]
  },
  {
   "cell_type": "code",
   "execution_count": 29,
   "metadata": {},
   "outputs": [],
   "source": [
    "model = two_layer_model(7)"
   ]
  },
  {
   "cell_type": "code",
   "execution_count": 30,
   "metadata": {},
   "outputs": [
    {
     "name": "stdout",
     "output_type": "stream",
     "text": [
      "Model: \"sequential_2\"\n",
      "_________________________________________________________________\n",
      "Layer (type)                 Output Shape              Param #   \n",
      "=================================================================\n",
      "first_hidden_layer (Dense)   (None, 7)                 86023     \n",
      "_________________________________________________________________\n",
      "output_layer (Dense)         (None, 1)                 8         \n",
      "=================================================================\n",
      "Total params: 86,031\n",
      "Trainable params: 86,031\n",
      "Non-trainable params: 0\n",
      "_________________________________________________________________\n"
     ]
    }
   ],
   "source": [
    "opt = optimizers.Adam(lr = 1e-5)\n",
    "model.compile(loss='binary_crossentropy', optimizer=opt, metrics=['accuracy'])\n",
    "model.summary()"
   ]
  },
  {
   "cell_type": "code",
   "execution_count": 31,
   "metadata": {},
   "outputs": [],
   "source": [
    "train_y = train_y.T"
   ]
  },
  {
   "cell_type": "code",
   "execution_count": 32,
   "metadata": {
    "scrolled": false
   },
   "outputs": [
    {
     "name": "stdout",
     "output_type": "stream",
     "text": [
      "Epoch 1/100\n",
      "209/209 [==============================] - 0s 1ms/step - loss: 0.6701 - accuracy: 0.6316\n",
      "Epoch 2/100\n",
      "209/209 [==============================] - 0s 229us/step - loss: 0.6619 - accuracy: 0.6459\n",
      "Epoch 3/100\n",
      "209/209 [==============================] - 0s 226us/step - loss: 0.6566 - accuracy: 0.6411\n",
      "Epoch 4/100\n",
      "209/209 [==============================] - 0s 249us/step - loss: 0.6515 - accuracy: 0.6459\n",
      "Epoch 5/100\n",
      "209/209 [==============================] - 0s 228us/step - loss: 0.6448 - accuracy: 0.6507\n",
      "Epoch 6/100\n",
      "209/209 [==============================] - 0s 449us/step - loss: 0.6416 - accuracy: 0.6507\n",
      "Epoch 7/100\n",
      "209/209 [==============================] - 0s 209us/step - loss: 0.6365 - accuracy: 0.6507\n",
      "Epoch 8/100\n",
      "209/209 [==============================] - 0s 221us/step - loss: 0.6331 - accuracy: 0.6555\n",
      "Epoch 9/100\n",
      "209/209 [==============================] - 0s 252us/step - loss: 0.6299 - accuracy: 0.6555\n",
      "Epoch 10/100\n",
      "209/209 [==============================] - 0s 231us/step - loss: 0.6263 - accuracy: 0.6507\n",
      "Epoch 11/100\n",
      "209/209 [==============================] - 0s 262us/step - loss: 0.6233 - accuracy: 0.6603\n",
      "Epoch 12/100\n",
      "209/209 [==============================] - 0s 238us/step - loss: 0.6197 - accuracy: 0.6699\n",
      "Epoch 13/100\n",
      "209/209 [==============================] - 0s 236us/step - loss: 0.6174 - accuracy: 0.6651\n",
      "Epoch 14/100\n",
      "209/209 [==============================] - 0s 290us/step - loss: 0.6172 - accuracy: 0.6699\n",
      "Epoch 15/100\n",
      "209/209 [==============================] - 0s 232us/step - loss: 0.6087 - accuracy: 0.6699\n",
      "Epoch 16/100\n",
      "209/209 [==============================] - 0s 361us/step - loss: 0.6066 - accuracy: 0.6699\n",
      "Epoch 17/100\n",
      "209/209 [==============================] - 0s 226us/step - loss: 0.6037 - accuracy: 0.6746\n",
      "Epoch 18/100\n",
      "209/209 [==============================] - 0s 256us/step - loss: 0.5997 - accuracy: 0.6794\n",
      "Epoch 19/100\n",
      "209/209 [==============================] - 0s 237us/step - loss: 0.5977 - accuracy: 0.6842\n",
      "Epoch 20/100\n",
      "209/209 [==============================] - 0s 253us/step - loss: 0.5950 - accuracy: 0.6842\n",
      "Epoch 21/100\n",
      "209/209 [==============================] - 0s 244us/step - loss: 0.5896 - accuracy: 0.6938\n",
      "Epoch 22/100\n",
      "209/209 [==============================] - 0s 243us/step - loss: 0.5858 - accuracy: 0.6938\n",
      "Epoch 23/100\n",
      "209/209 [==============================] - 0s 213us/step - loss: 0.5852 - accuracy: 0.6890\n",
      "Epoch 24/100\n",
      "209/209 [==============================] - 0s 214us/step - loss: 0.5786 - accuracy: 0.6938\n",
      "Epoch 25/100\n",
      "209/209 [==============================] - 0s 368us/step - loss: 0.5760 - accuracy: 0.6986\n",
      "Epoch 26/100\n",
      "209/209 [==============================] - 0s 238us/step - loss: 0.5747 - accuracy: 0.6938\n",
      "Epoch 27/100\n",
      "209/209 [==============================] - 0s 239us/step - loss: 0.5742 - accuracy: 0.6842\n",
      "Epoch 28/100\n",
      "209/209 [==============================] - 0s 251us/step - loss: 0.5671 - accuracy: 0.7081\n",
      "Epoch 29/100\n",
      "209/209 [==============================] - 0s 235us/step - loss: 0.5626 - accuracy: 0.7081\n",
      "Epoch 30/100\n",
      "209/209 [==============================] - 0s 379us/step - loss: 0.5587 - accuracy: 0.7225\n",
      "Epoch 31/100\n",
      "209/209 [==============================] - 0s 239us/step - loss: 0.5571 - accuracy: 0.7177\n",
      "Epoch 32/100\n",
      "209/209 [==============================] - 0s 236us/step - loss: 0.5567 - accuracy: 0.7177\n",
      "Epoch 33/100\n",
      "209/209 [==============================] - 0s 284us/step - loss: 0.5500 - accuracy: 0.7225\n",
      "Epoch 34/100\n",
      "209/209 [==============================] - 0s 291us/step - loss: 0.5474 - accuracy: 0.7177\n",
      "Epoch 35/100\n",
      "209/209 [==============================] - 0s 229us/step - loss: 0.5438 - accuracy: 0.7368\n",
      "Epoch 36/100\n",
      "209/209 [==============================] - 0s 237us/step - loss: 0.5426 - accuracy: 0.7368\n",
      "Epoch 37/100\n",
      "209/209 [==============================] - 0s 259us/step - loss: 0.5400 - accuracy: 0.7368\n",
      "Epoch 38/100\n",
      "209/209 [==============================] - 0s 287us/step - loss: 0.5366 - accuracy: 0.7416\n",
      "Epoch 39/100\n",
      "209/209 [==============================] - 0s 285us/step - loss: 0.5371 - accuracy: 0.7416\n",
      "Epoch 40/100\n",
      "209/209 [==============================] - 0s 275us/step - loss: 0.5316 - accuracy: 0.7416\n",
      "Epoch 41/100\n",
      "209/209 [==============================] - 0s 193us/step - loss: 0.5297 - accuracy: 0.7416\n",
      "Epoch 42/100\n",
      "209/209 [==============================] - 0s 199us/step - loss: 0.5276 - accuracy: 0.7464\n",
      "Epoch 43/100\n",
      "209/209 [==============================] - 0s 236us/step - loss: 0.5261 - accuracy: 0.7464\n",
      "Epoch 44/100\n",
      "209/209 [==============================] - 0s 268us/step - loss: 0.5245 - accuracy: 0.7464\n",
      "Epoch 45/100\n",
      "209/209 [==============================] - 0s 270us/step - loss: 0.5239 - accuracy: 0.7368\n",
      "Epoch 46/100\n",
      "209/209 [==============================] - 0s 238us/step - loss: 0.5205 - accuracy: 0.7464\n",
      "Epoch 47/100\n",
      "209/209 [==============================] - 0s 245us/step - loss: 0.5182 - accuracy: 0.7416\n",
      "Epoch 48/100\n",
      "209/209 [==============================] - 0s 315us/step - loss: 0.5172 - accuracy: 0.7464\n",
      "Epoch 49/100\n",
      "209/209 [==============================] - 0s 213us/step - loss: 0.5146 - accuracy: 0.7656\n",
      "Epoch 50/100\n",
      "209/209 [==============================] - 0s 246us/step - loss: 0.5125 - accuracy: 0.7703\n",
      "Epoch 51/100\n",
      "209/209 [==============================] - 0s 238us/step - loss: 0.5108 - accuracy: 0.7656\n",
      "Epoch 52/100\n",
      "209/209 [==============================] - 0s 239us/step - loss: 0.5089 - accuracy: 0.7560\n",
      "Epoch 53/100\n",
      "209/209 [==============================] - 0s 255us/step - loss: 0.5079 - accuracy: 0.7656\n",
      "Epoch 54/100\n",
      "209/209 [==============================] - 0s 235us/step - loss: 0.5052 - accuracy: 0.7799\n",
      "Epoch 55/100\n",
      "209/209 [==============================] - 0s 257us/step - loss: 0.5069 - accuracy: 0.7895\n",
      "Epoch 56/100\n",
      "209/209 [==============================] - 0s 242us/step - loss: 0.5021 - accuracy: 0.7703\n",
      "Epoch 57/100\n",
      "209/209 [==============================] - 0s 285us/step - loss: 0.5022 - accuracy: 0.7799\n",
      "Epoch 58/100\n",
      "209/209 [==============================] - 0s 239us/step - loss: 0.4976 - accuracy: 0.7656\n",
      "Epoch 59/100\n",
      "209/209 [==============================] - 0s 238us/step - loss: 0.4964 - accuracy: 0.7751\n",
      "Epoch 60/100\n",
      "209/209 [==============================] - 0s 245us/step - loss: 0.4952 - accuracy: 0.7799\n",
      "Epoch 61/100\n",
      "209/209 [==============================] - 0s 241us/step - loss: 0.4934 - accuracy: 0.7990\n",
      "Epoch 62/100\n",
      "209/209 [==============================] - 0s 321us/step - loss: 0.4914 - accuracy: 0.7895\n",
      "Epoch 63/100\n",
      "209/209 [==============================] - 0s 237us/step - loss: 0.4911 - accuracy: 0.7895\n",
      "Epoch 64/100\n",
      "209/209 [==============================] - 0s 284us/step - loss: 0.4889 - accuracy: 0.7895\n",
      "Epoch 65/100\n",
      "209/209 [==============================] - 0s 243us/step - loss: 0.4868 - accuracy: 0.7943\n",
      "Epoch 66/100\n",
      "209/209 [==============================] - 0s 279us/step - loss: 0.4867 - accuracy: 0.8086\n",
      "Epoch 67/100\n",
      "209/209 [==============================] - 0s 293us/step - loss: 0.4885 - accuracy: 0.7895\n",
      "Epoch 68/100\n",
      "209/209 [==============================] - 0s 242us/step - loss: 0.4840 - accuracy: 0.7895\n",
      "Epoch 69/100\n",
      "209/209 [==============================] - 0s 233us/step - loss: 0.4844 - accuracy: 0.8086\n",
      "Epoch 70/100\n",
      "209/209 [==============================] - 0s 239us/step - loss: 0.4790 - accuracy: 0.8134\n",
      "Epoch 71/100\n",
      "209/209 [==============================] - 0s 387us/step - loss: 0.4833 - accuracy: 0.7703\n",
      "Epoch 72/100\n",
      "209/209 [==============================] - 0s 235us/step - loss: 0.4780 - accuracy: 0.8086\n",
      "Epoch 73/100\n",
      "209/209 [==============================] - 0s 280us/step - loss: 0.4777 - accuracy: 0.8086\n",
      "Epoch 74/100\n",
      "209/209 [==============================] - 0s 241us/step - loss: 0.4774 - accuracy: 0.7943\n",
      "Epoch 75/100\n",
      "209/209 [==============================] - 0s 294us/step - loss: 0.4711 - accuracy: 0.8038\n",
      "Epoch 76/100\n",
      "209/209 [==============================] - 0s 242us/step - loss: 0.4734 - accuracy: 0.8086\n",
      "Epoch 77/100\n",
      "209/209 [==============================] - 0s 283us/step - loss: 0.4723 - accuracy: 0.8086\n",
      "Epoch 78/100\n",
      "209/209 [==============================] - 0s 306us/step - loss: 0.4703 - accuracy: 0.8134\n",
      "Epoch 79/100\n"
     ]
    },
    {
     "name": "stdout",
     "output_type": "stream",
     "text": [
      "209/209 [==============================] - 0s 275us/step - loss: 0.4708 - accuracy: 0.8182\n",
      "Epoch 80/100\n",
      "209/209 [==============================] - 0s 313us/step - loss: 0.4685 - accuracy: 0.8086\n",
      "Epoch 81/100\n",
      "209/209 [==============================] - 0s 239us/step - loss: 0.4662 - accuracy: 0.8134\n",
      "Epoch 82/100\n",
      "209/209 [==============================] - 0s 264us/step - loss: 0.4657 - accuracy: 0.8134\n",
      "Epoch 83/100\n",
      "209/209 [==============================] - 0s 244us/step - loss: 0.4641 - accuracy: 0.8134\n",
      "Epoch 84/100\n",
      "209/209 [==============================] - 0s 259us/step - loss: 0.4634 - accuracy: 0.8230\n",
      "Epoch 85/100\n",
      "209/209 [==============================] - 0s 235us/step - loss: 0.4616 - accuracy: 0.8182\n",
      "Epoch 86/100\n",
      "209/209 [==============================] - 0s 287us/step - loss: 0.4592 - accuracy: 0.8086\n",
      "Epoch 87/100\n",
      "209/209 [==============================] - 0s 279us/step - loss: 0.4589 - accuracy: 0.8134\n",
      "Epoch 88/100\n",
      "209/209 [==============================] - 0s 258us/step - loss: 0.4589 - accuracy: 0.8230\n",
      "Epoch 89/100\n",
      "209/209 [==============================] - 0s 237us/step - loss: 0.4564 - accuracy: 0.8182\n",
      "Epoch 90/100\n",
      "209/209 [==============================] - 0s 237us/step - loss: 0.4553 - accuracy: 0.8230\n",
      "Epoch 91/100\n",
      "209/209 [==============================] - 0s 277us/step - loss: 0.4543 - accuracy: 0.8230\n",
      "Epoch 92/100\n",
      "209/209 [==============================] - 0s 236us/step - loss: 0.4534 - accuracy: 0.8230\n",
      "Epoch 93/100\n",
      "209/209 [==============================] - 0s 254us/step - loss: 0.4522 - accuracy: 0.8230\n",
      "Epoch 94/100\n",
      "209/209 [==============================] - 0s 256us/step - loss: 0.4513 - accuracy: 0.8134\n",
      "Epoch 95/100\n",
      "209/209 [==============================] - 0s 273us/step - loss: 0.4524 - accuracy: 0.8230\n",
      "Epoch 96/100\n",
      "209/209 [==============================] - 0s 239us/step - loss: 0.4481 - accuracy: 0.8230\n",
      "Epoch 97/100\n",
      "209/209 [==============================] - 0s 239us/step - loss: 0.4480 - accuracy: 0.8325\n",
      "Epoch 98/100\n",
      "209/209 [==============================] - 0s 242us/step - loss: 0.4478 - accuracy: 0.8278\n",
      "Epoch 99/100\n",
      "209/209 [==============================] - 0s 230us/step - loss: 0.4490 - accuracy: 0.8182\n",
      "Epoch 100/100\n",
      "209/209 [==============================] - 0s 189us/step - loss: 0.4446 - accuracy: 0.8325\n"
     ]
    },
    {
     "data": {
      "text/plain": [
       "<keras.callbacks.callbacks.History at 0x7f1fd80ead10>"
      ]
     },
     "execution_count": 32,
     "metadata": {},
     "output_type": "execute_result"
    }
   ],
   "source": [
    "model.fit(train_x, train_y, batch_size=10, epochs=100)"
   ]
  },
  {
   "cell_type": "code",
   "execution_count": 33,
   "metadata": {},
   "outputs": [
    {
     "data": {
      "text/plain": [
       "array([[0.55934215],\n",
       "       [0.6774594 ],\n",
       "       [0.5977086 ],\n",
       "       [0.4791226 ],\n",
       "       [0.40580872],\n",
       "       [0.6411737 ],\n",
       "       [0.25815654],\n",
       "       [0.5280326 ],\n",
       "       [0.6234493 ],\n",
       "       [0.666153  ],\n",
       "       [0.37929308],\n",
       "       [0.57415223],\n",
       "       [0.5881939 ],\n",
       "       [0.46419418],\n",
       "       [0.25762278],\n",
       "       [0.6889741 ],\n",
       "       [0.18933302],\n",
       "       [0.40388456],\n",
       "       [0.16961032],\n",
       "       [0.15058574],\n",
       "       [0.5452102 ],\n",
       "       [0.11841229],\n",
       "       [0.20114625],\n",
       "       [0.41173422],\n",
       "       [0.7034235 ],\n",
       "       [0.6678978 ],\n",
       "       [0.28612012],\n",
       "       [0.32489783],\n",
       "       [0.3291468 ],\n",
       "       [0.6873683 ],\n",
       "       [0.37210768],\n",
       "       [0.63446796],\n",
       "       [0.3068799 ],\n",
       "       [0.30183762],\n",
       "       [0.4433849 ],\n",
       "       [0.18931937],\n",
       "       [0.2744655 ],\n",
       "       [0.58281124],\n",
       "       [0.64260584],\n",
       "       [0.1528737 ],\n",
       "       [0.3973233 ],\n",
       "       [0.5588033 ],\n",
       "       [0.5003471 ],\n",
       "       [0.15222257],\n",
       "       [0.77896833],\n",
       "       [0.34125438],\n",
       "       [0.21920201],\n",
       "       [0.71752524],\n",
       "       [0.52818346],\n",
       "       [0.32509294]], dtype=float32)"
      ]
     },
     "execution_count": 33,
     "metadata": {},
     "output_type": "execute_result"
    }
   ],
   "source": [
    "# Predictions on test set\n",
    "model.predict(test_x)"
   ]
  },
  {
   "cell_type": "code",
   "execution_count": 34,
   "metadata": {},
   "outputs": [
    {
     "name": "stdout",
     "output_type": "stream",
     "text": [
      "50/50 [==============================] - 0s 933us/step\n",
      "\n",
      "# Evaluate\n"
     ]
    },
    {
     "data": {
      "text/plain": [
       "{'loss': 0.7103087782859803, 'accuracy': 0.6200000047683716}"
      ]
     },
     "execution_count": 34,
     "metadata": {},
     "output_type": "execute_result"
    }
   ],
   "source": [
    "res = model.evaluate(test_x, test_y.T)\n",
    "print('\\n# Evaluate')\n",
    "dict(zip(model.metrics_names, res))"
   ]
  },
  {
   "cell_type": "markdown",
   "metadata": {},
   "source": [
    "### L-layer model"
   ]
  },
  {
   "cell_type": "code",
   "execution_count": 35,
   "metadata": {},
   "outputs": [],
   "source": [
    "def L_layer_model(n_layers, n_units, n_x):\n",
    "    \"\"\"\n",
    "        function to define an L-layer neural network model.\n",
    "        \n",
    "        Parameters:\n",
    "        ----------\n",
    "            - n_layers : int\n",
    "                            number of hidden layers + output layer.\n",
    "                            \n",
    "            - n_units :  list of int\n",
    "                            number of hidden units of for each hidden layer.\n",
    "                            \n",
    "            - n_x : int\n",
    "                        number of input features.\n",
    "                            \n",
    "        Return:\n",
    "        -------\n",
    "            - model : Keras model object.\n",
    "            \n",
    "    \"\"\"\n",
    "    \n",
    "    model = Sequential()\n",
    "    model.add(Dense(n_units[0], input_dim = n_x, activation = 'relu',  kernel_initializer='uniform')) # first layer\n",
    "    for l in range(1,n_layers):\n",
    "        if l == n_layers-1:\n",
    "            model.add(Dropout(rate=0.5))\n",
    "            model.add(Dense(n_units[l], activation = 'sigmoid', name = 'output_layer')) # output layer\n",
    "        else:\n",
    "            model.add(Dense(n_units[l], activation = 'relu', name = 'hidden_layer_' + str(l)))\n",
    "        \n",
    "    return model"
   ]
  },
  {
   "cell_type": "code",
   "execution_count": 36,
   "metadata": {},
   "outputs": [],
   "source": [
    "n_layers = 3\n",
    "n_units = [10, 5, 1]\n",
    "\n",
    "model = L_layer_model(n_layers, n_units, n_x)"
   ]
  },
  {
   "cell_type": "code",
   "execution_count": 37,
   "metadata": {},
   "outputs": [
    {
     "name": "stdout",
     "output_type": "stream",
     "text": [
      "Model: \"sequential_3\"\n",
      "_________________________________________________________________\n",
      "Layer (type)                 Output Shape              Param #   \n",
      "=================================================================\n",
      "dense_1 (Dense)              (None, 10)                122890    \n",
      "_________________________________________________________________\n",
      "hidden_layer_1 (Dense)       (None, 5)                 55        \n",
      "_________________________________________________________________\n",
      "dropout_1 (Dropout)          (None, 5)                 0         \n",
      "_________________________________________________________________\n",
      "output_layer (Dense)         (None, 1)                 6         \n",
      "=================================================================\n",
      "Total params: 122,951\n",
      "Trainable params: 122,951\n",
      "Non-trainable params: 0\n",
      "_________________________________________________________________\n"
     ]
    }
   ],
   "source": [
    "opt = optimizers.Adam(lr=1e-4)\n",
    "model.compile(loss='binary_crossentropy', optimizer=opt, metrics=['accuracy'])\n",
    "model.summary()"
   ]
  },
  {
   "cell_type": "code",
   "execution_count": 38,
   "metadata": {},
   "outputs": [
    {
     "name": "stdout",
     "output_type": "stream",
     "text": [
      "Train on 167 samples, validate on 42 samples\n",
      "Epoch 1/150\n",
      "167/167 [==============================] - 1s 3ms/step - loss: 0.7154 - accuracy: 0.6287 - val_loss: 0.6223 - val_accuracy: 0.6905\n",
      "Epoch 2/150\n",
      "167/167 [==============================] - 0s 187us/step - loss: 0.6766 - accuracy: 0.6287 - val_loss: 0.6555 - val_accuracy: 0.6905\n",
      "Epoch 3/150\n",
      "167/167 [==============================] - 0s 158us/step - loss: 0.7177 - accuracy: 0.6287 - val_loss: 0.6448 - val_accuracy: 0.6905\n",
      "Epoch 4/150\n",
      "167/167 [==============================] - 0s 176us/step - loss: 0.7090 - accuracy: 0.6347 - val_loss: 0.6520 - val_accuracy: 0.6905\n",
      "Epoch 5/150\n",
      "167/167 [==============================] - 0s 146us/step - loss: 0.6763 - accuracy: 0.6587 - val_loss: 0.6544 - val_accuracy: 0.6667\n",
      "Epoch 6/150\n",
      "167/167 [==============================] - 0s 126us/step - loss: 0.6730 - accuracy: 0.6407 - val_loss: 0.6368 - val_accuracy: 0.6905\n",
      "Epoch 7/150\n",
      "167/167 [==============================] - 0s 145us/step - loss: 0.7003 - accuracy: 0.6228 - val_loss: 0.6055 - val_accuracy: 0.7143\n",
      "Epoch 8/150\n",
      "167/167 [==============================] - 0s 202us/step - loss: 0.6627 - accuracy: 0.6287 - val_loss: 0.6370 - val_accuracy: 0.7143\n",
      "Epoch 9/150\n",
      "167/167 [==============================] - 0s 180us/step - loss: 0.6472 - accuracy: 0.6527 - val_loss: 0.6376 - val_accuracy: 0.7143\n",
      "Epoch 10/150\n",
      "167/167 [==============================] - 0s 182us/step - loss: 0.6551 - accuracy: 0.6527 - val_loss: 0.6263 - val_accuracy: 0.7143\n",
      "Epoch 11/150\n",
      "167/167 [==============================] - 0s 173us/step - loss: 0.6689 - accuracy: 0.6407 - val_loss: 0.6232 - val_accuracy: 0.7143\n",
      "Epoch 12/150\n",
      "167/167 [==============================] - 0s 174us/step - loss: 0.6668 - accuracy: 0.6407 - val_loss: 0.6296 - val_accuracy: 0.7143\n",
      "Epoch 13/150\n",
      "167/167 [==============================] - 0s 168us/step - loss: 0.6596 - accuracy: 0.6527 - val_loss: 0.6416 - val_accuracy: 0.7143\n",
      "Epoch 14/150\n",
      "167/167 [==============================] - 0s 188us/step - loss: 0.6733 - accuracy: 0.6647 - val_loss: 0.6431 - val_accuracy: 0.7143\n",
      "Epoch 15/150\n",
      "167/167 [==============================] - 0s 202us/step - loss: 0.6592 - accuracy: 0.6527 - val_loss: 0.6411 - val_accuracy: 0.6905\n",
      "Epoch 16/150\n",
      "167/167 [==============================] - 0s 201us/step - loss: 0.6745 - accuracy: 0.6467 - val_loss: 0.6227 - val_accuracy: 0.7143\n",
      "Epoch 17/150\n",
      "167/167 [==============================] - 0s 211us/step - loss: 0.6527 - accuracy: 0.6287 - val_loss: 0.6186 - val_accuracy: 0.7143\n",
      "Epoch 18/150\n",
      "167/167 [==============================] - 0s 178us/step - loss: 0.6520 - accuracy: 0.6407 - val_loss: 0.6352 - val_accuracy: 0.7143\n",
      "Epoch 19/150\n",
      "167/167 [==============================] - 0s 209us/step - loss: 0.6523 - accuracy: 0.6467 - val_loss: 0.6372 - val_accuracy: 0.7143\n",
      "Epoch 20/150\n",
      "167/167 [==============================] - 0s 201us/step - loss: 0.6511 - accuracy: 0.6707 - val_loss: 0.6264 - val_accuracy: 0.7143\n",
      "Epoch 21/150\n",
      "167/167 [==============================] - 0s 224us/step - loss: 0.6340 - accuracy: 0.6707 - val_loss: 0.6166 - val_accuracy: 0.7143\n",
      "Epoch 22/150\n",
      "167/167 [==============================] - 0s 171us/step - loss: 0.6408 - accuracy: 0.6467 - val_loss: 0.6204 - val_accuracy: 0.7143\n",
      "Epoch 23/150\n",
      "167/167 [==============================] - 0s 184us/step - loss: 0.6551 - accuracy: 0.6527 - val_loss: 0.6320 - val_accuracy: 0.6905\n",
      "Epoch 24/150\n",
      "167/167 [==============================] - 0s 182us/step - loss: 0.6437 - accuracy: 0.6407 - val_loss: 0.6255 - val_accuracy: 0.6905\n",
      "Epoch 25/150\n",
      "167/167 [==============================] - 0s 195us/step - loss: 0.6245 - accuracy: 0.6527 - val_loss: 0.5891 - val_accuracy: 0.7143\n",
      "Epoch 26/150\n",
      "167/167 [==============================] - 0s 197us/step - loss: 0.6425 - accuracy: 0.6647 - val_loss: 0.6003 - val_accuracy: 0.7143\n",
      "Epoch 27/150\n",
      "167/167 [==============================] - 0s 201us/step - loss: 0.6456 - accuracy: 0.6587 - val_loss: 0.5982 - val_accuracy: 0.7143\n",
      "Epoch 28/150\n",
      "167/167 [==============================] - 0s 205us/step - loss: 0.6449 - accuracy: 0.6527 - val_loss: 0.5955 - val_accuracy: 0.6905\n",
      "Epoch 29/150\n",
      "167/167 [==============================] - 0s 208us/step - loss: 0.6129 - accuracy: 0.6707 - val_loss: 0.5911 - val_accuracy: 0.6905\n",
      "Epoch 30/150\n",
      "167/167 [==============================] - 0s 205us/step - loss: 0.6185 - accuracy: 0.6647 - val_loss: 0.5989 - val_accuracy: 0.7143\n",
      "Epoch 31/150\n",
      "167/167 [==============================] - 0s 200us/step - loss: 0.6314 - accuracy: 0.6766 - val_loss: 0.6085 - val_accuracy: 0.7143\n",
      "Epoch 32/150\n",
      "167/167 [==============================] - 0s 198us/step - loss: 0.6155 - accuracy: 0.6647 - val_loss: 0.5962 - val_accuracy: 0.7143\n",
      "Epoch 33/150\n",
      "167/167 [==============================] - 0s 194us/step - loss: 0.6448 - accuracy: 0.6407 - val_loss: 0.6119 - val_accuracy: 0.6905\n",
      "Epoch 34/150\n",
      "167/167 [==============================] - 0s 198us/step - loss: 0.6326 - accuracy: 0.6647 - val_loss: 0.6099 - val_accuracy: 0.6905\n",
      "Epoch 35/150\n",
      "167/167 [==============================] - 0s 196us/step - loss: 0.6147 - accuracy: 0.6766 - val_loss: 0.6040 - val_accuracy: 0.7143\n",
      "Epoch 36/150\n",
      "167/167 [==============================] - 0s 196us/step - loss: 0.6204 - accuracy: 0.7066 - val_loss: 0.6200 - val_accuracy: 0.6667\n",
      "Epoch 37/150\n",
      "167/167 [==============================] - 0s 203us/step - loss: 0.6309 - accuracy: 0.6707 - val_loss: 0.6038 - val_accuracy: 0.7143\n",
      "Epoch 38/150\n",
      "167/167 [==============================] - 0s 212us/step - loss: 0.6028 - accuracy: 0.6587 - val_loss: 0.6001 - val_accuracy: 0.7143\n",
      "Epoch 39/150\n",
      "167/167 [==============================] - 0s 190us/step - loss: 0.6313 - accuracy: 0.6707 - val_loss: 0.6129 - val_accuracy: 0.6905\n",
      "Epoch 40/150\n",
      "167/167 [==============================] - 0s 179us/step - loss: 0.6071 - accuracy: 0.6527 - val_loss: 0.6055 - val_accuracy: 0.7143\n",
      "Epoch 41/150\n",
      "167/167 [==============================] - 0s 205us/step - loss: 0.5807 - accuracy: 0.6647 - val_loss: 0.5994 - val_accuracy: 0.6905\n",
      "Epoch 42/150\n",
      "167/167 [==============================] - 0s 192us/step - loss: 0.5837 - accuracy: 0.6647 - val_loss: 0.6032 - val_accuracy: 0.7143\n",
      "Epoch 43/150\n",
      "167/167 [==============================] - 0s 192us/step - loss: 0.5806 - accuracy: 0.6886 - val_loss: 0.6032 - val_accuracy: 0.7143\n",
      "Epoch 44/150\n",
      "167/167 [==============================] - 0s 193us/step - loss: 0.6087 - accuracy: 0.6946 - val_loss: 0.6020 - val_accuracy: 0.6905\n",
      "Epoch 45/150\n",
      "167/167 [==============================] - 0s 193us/step - loss: 0.5525 - accuracy: 0.6647 - val_loss: 0.6003 - val_accuracy: 0.7143\n",
      "Epoch 46/150\n",
      "167/167 [==============================] - 0s 201us/step - loss: 0.5743 - accuracy: 0.6707 - val_loss: 0.5986 - val_accuracy: 0.6905\n",
      "Epoch 47/150\n",
      "167/167 [==============================] - 0s 196us/step - loss: 0.5660 - accuracy: 0.6647 - val_loss: 0.5993 - val_accuracy: 0.7143\n",
      "Epoch 48/150\n",
      "167/167 [==============================] - 0s 195us/step - loss: 0.5829 - accuracy: 0.7066 - val_loss: 0.6030 - val_accuracy: 0.7143\n",
      "Epoch 49/150\n",
      "167/167 [==============================] - 0s 206us/step - loss: 0.5739 - accuracy: 0.6826 - val_loss: 0.6071 - val_accuracy: 0.6905\n",
      "Epoch 50/150\n",
      "167/167 [==============================] - 0s 216us/step - loss: 0.5798 - accuracy: 0.6766 - val_loss: 0.6475 - val_accuracy: 0.5238\n",
      "Epoch 51/150\n",
      "167/167 [==============================] - 0s 209us/step - loss: 0.6042 - accuracy: 0.6587 - val_loss: 0.6117 - val_accuracy: 0.6667\n",
      "Epoch 52/150\n",
      "167/167 [==============================] - 0s 196us/step - loss: 0.5784 - accuracy: 0.6707 - val_loss: 0.6251 - val_accuracy: 0.6905\n",
      "Epoch 53/150\n",
      "167/167 [==============================] - 0s 197us/step - loss: 0.5887 - accuracy: 0.6707 - val_loss: 0.6082 - val_accuracy: 0.6667\n",
      "Epoch 54/150\n",
      "167/167 [==============================] - 0s 196us/step - loss: 0.5767 - accuracy: 0.6946 - val_loss: 0.6087 - val_accuracy: 0.6667\n",
      "Epoch 55/150\n",
      "167/167 [==============================] - 0s 239us/step - loss: 0.5996 - accuracy: 0.7305 - val_loss: 0.6129 - val_accuracy: 0.6667\n",
      "Epoch 56/150\n",
      "167/167 [==============================] - 0s 183us/step - loss: 0.5647 - accuracy: 0.6527 - val_loss: 0.6170 - val_accuracy: 0.6905\n"
     ]
    },
    {
     "name": "stdout",
     "output_type": "stream",
     "text": [
      "Epoch 57/150\n",
      "167/167 [==============================] - 0s 174us/step - loss: 0.5317 - accuracy: 0.6766 - val_loss: 0.6137 - val_accuracy: 0.6905\n",
      "Epoch 58/150\n",
      "167/167 [==============================] - 0s 176us/step - loss: 0.5553 - accuracy: 0.7365 - val_loss: 0.6078 - val_accuracy: 0.6429\n",
      "Epoch 59/150\n",
      "167/167 [==============================] - 0s 195us/step - loss: 0.5717 - accuracy: 0.7066 - val_loss: 0.6044 - val_accuracy: 0.6905\n",
      "Epoch 60/150\n",
      "167/167 [==============================] - 0s 200us/step - loss: 0.6090 - accuracy: 0.6946 - val_loss: 0.6028 - val_accuracy: 0.6905\n",
      "Epoch 61/150\n",
      "167/167 [==============================] - 0s 191us/step - loss: 0.5703 - accuracy: 0.7006 - val_loss: 0.6159 - val_accuracy: 0.6905\n",
      "Epoch 62/150\n",
      "167/167 [==============================] - 0s 236us/step - loss: 0.5475 - accuracy: 0.7126 - val_loss: 0.6076 - val_accuracy: 0.6667\n",
      "Epoch 63/150\n",
      "167/167 [==============================] - 0s 184us/step - loss: 0.5662 - accuracy: 0.6886 - val_loss: 0.6109 - val_accuracy: 0.6429\n",
      "Epoch 64/150\n",
      "167/167 [==============================] - 0s 184us/step - loss: 0.5375 - accuracy: 0.6946 - val_loss: 0.6110 - val_accuracy: 0.6905\n",
      "Epoch 65/150\n",
      "167/167 [==============================] - 0s 179us/step - loss: 0.5507 - accuracy: 0.7006 - val_loss: 0.6113 - val_accuracy: 0.6905\n",
      "Epoch 66/150\n",
      "167/167 [==============================] - 0s 175us/step - loss: 0.5499 - accuracy: 0.6946 - val_loss: 0.6096 - val_accuracy: 0.6905\n",
      "Epoch 67/150\n",
      "167/167 [==============================] - 0s 177us/step - loss: 0.5438 - accuracy: 0.7186 - val_loss: 0.6115 - val_accuracy: 0.6905\n",
      "Epoch 68/150\n",
      "167/167 [==============================] - 0s 185us/step - loss: 0.5270 - accuracy: 0.6946 - val_loss: 0.6100 - val_accuracy: 0.6667\n",
      "Epoch 69/150\n",
      "167/167 [==============================] - 0s 178us/step - loss: 0.5456 - accuracy: 0.6707 - val_loss: 0.6079 - val_accuracy: 0.6905\n",
      "Epoch 70/150\n",
      "167/167 [==============================] - 0s 176us/step - loss: 0.5688 - accuracy: 0.6946 - val_loss: 0.6060 - val_accuracy: 0.6905\n",
      "Epoch 71/150\n",
      "167/167 [==============================] - 0s 177us/step - loss: 0.5373 - accuracy: 0.7186 - val_loss: 0.6035 - val_accuracy: 0.6667\n",
      "Epoch 72/150\n",
      "167/167 [==============================] - 0s 194us/step - loss: 0.5331 - accuracy: 0.7246 - val_loss: 0.6107 - val_accuracy: 0.6667\n",
      "Epoch 73/150\n",
      "167/167 [==============================] - 0s 200us/step - loss: 0.5087 - accuracy: 0.7126 - val_loss: 0.6109 - val_accuracy: 0.6905\n",
      "Epoch 74/150\n",
      "167/167 [==============================] - 0s 283us/step - loss: 0.5268 - accuracy: 0.7066 - val_loss: 0.6113 - val_accuracy: 0.6905\n",
      "Epoch 75/150\n",
      "167/167 [==============================] - 0s 207us/step - loss: 0.5722 - accuracy: 0.6766 - val_loss: 0.6114 - val_accuracy: 0.6905\n",
      "Epoch 76/150\n",
      "167/167 [==============================] - 0s 190us/step - loss: 0.5048 - accuracy: 0.7485 - val_loss: 0.6092 - val_accuracy: 0.6905\n",
      "Epoch 77/150\n",
      "167/167 [==============================] - 0s 194us/step - loss: 0.5150 - accuracy: 0.7305 - val_loss: 0.6149 - val_accuracy: 0.6905\n",
      "Epoch 78/150\n",
      "167/167 [==============================] - 0s 215us/step - loss: 0.5223 - accuracy: 0.7305 - val_loss: 0.6149 - val_accuracy: 0.6190\n",
      "Epoch 79/150\n",
      "167/167 [==============================] - 0s 166us/step - loss: 0.5330 - accuracy: 0.7126 - val_loss: 0.6149 - val_accuracy: 0.6667\n",
      "Epoch 80/150\n",
      "167/167 [==============================] - 0s 177us/step - loss: 0.5217 - accuracy: 0.7126 - val_loss: 0.6143 - val_accuracy: 0.6667\n",
      "Epoch 81/150\n",
      "167/167 [==============================] - 0s 178us/step - loss: 0.5605 - accuracy: 0.7066 - val_loss: 0.6099 - val_accuracy: 0.6667\n",
      "Epoch 82/150\n",
      "167/167 [==============================] - 0s 202us/step - loss: 0.5047 - accuracy: 0.7246 - val_loss: 0.6104 - val_accuracy: 0.6667\n",
      "Epoch 83/150\n",
      "167/167 [==============================] - 0s 183us/step - loss: 0.5111 - accuracy: 0.7365 - val_loss: 0.6235 - val_accuracy: 0.6667\n",
      "Epoch 84/150\n",
      "167/167 [==============================] - 0s 181us/step - loss: 0.5476 - accuracy: 0.7365 - val_loss: 0.6210 - val_accuracy: 0.6429\n",
      "Epoch 85/150\n",
      "167/167 [==============================] - 0s 176us/step - loss: 0.5157 - accuracy: 0.7365 - val_loss: 0.6265 - val_accuracy: 0.6667\n",
      "Epoch 86/150\n",
      "167/167 [==============================] - 0s 188us/step - loss: 0.5140 - accuracy: 0.7126 - val_loss: 0.6236 - val_accuracy: 0.6905\n",
      "Epoch 87/150\n",
      "167/167 [==============================] - 0s 205us/step - loss: 0.5346 - accuracy: 0.7186 - val_loss: 0.6171 - val_accuracy: 0.6667\n",
      "Epoch 88/150\n",
      "167/167 [==============================] - 0s 208us/step - loss: 0.5280 - accuracy: 0.7365 - val_loss: 0.6268 - val_accuracy: 0.6429\n",
      "Epoch 89/150\n",
      "167/167 [==============================] - 0s 208us/step - loss: 0.5249 - accuracy: 0.7605 - val_loss: 0.6381 - val_accuracy: 0.6429\n",
      "Epoch 90/150\n",
      "167/167 [==============================] - 0s 169us/step - loss: 0.4770 - accuracy: 0.7725 - val_loss: 0.6319 - val_accuracy: 0.6429\n",
      "Epoch 91/150\n",
      "167/167 [==============================] - 0s 176us/step - loss: 0.5156 - accuracy: 0.7305 - val_loss: 0.6231 - val_accuracy: 0.6429\n",
      "Epoch 92/150\n",
      "167/167 [==============================] - 0s 188us/step - loss: 0.5236 - accuracy: 0.7126 - val_loss: 0.6288 - val_accuracy: 0.6429\n",
      "Epoch 93/150\n",
      "167/167 [==============================] - 0s 191us/step - loss: 0.5086 - accuracy: 0.7425 - val_loss: 0.6323 - val_accuracy: 0.6429\n",
      "Epoch 94/150\n",
      "167/167 [==============================] - 0s 195us/step - loss: 0.5353 - accuracy: 0.7305 - val_loss: 0.6379 - val_accuracy: 0.6429\n",
      "Epoch 95/150\n",
      "167/167 [==============================] - 0s 189us/step - loss: 0.5029 - accuracy: 0.7305 - val_loss: 0.6471 - val_accuracy: 0.6190\n",
      "Epoch 96/150\n",
      "167/167 [==============================] - 0s 196us/step - loss: 0.5068 - accuracy: 0.7365 - val_loss: 0.6400 - val_accuracy: 0.6429\n",
      "Epoch 97/150\n",
      "167/167 [==============================] - 0s 189us/step - loss: 0.4979 - accuracy: 0.7665 - val_loss: 0.6334 - val_accuracy: 0.6667\n",
      "Epoch 98/150\n",
      "167/167 [==============================] - 0s 188us/step - loss: 0.5215 - accuracy: 0.7305 - val_loss: 0.6326 - val_accuracy: 0.6667\n",
      "Epoch 99/150\n",
      "167/167 [==============================] - 0s 189us/step - loss: 0.4754 - accuracy: 0.7725 - val_loss: 0.6323 - val_accuracy: 0.6905\n",
      "Epoch 100/150\n",
      "167/167 [==============================] - 0s 190us/step - loss: 0.4985 - accuracy: 0.7605 - val_loss: 0.6408 - val_accuracy: 0.6667\n",
      "Epoch 101/150\n",
      "167/167 [==============================] - 0s 193us/step - loss: 0.5240 - accuracy: 0.7246 - val_loss: 0.6397 - val_accuracy: 0.6667\n",
      "Epoch 102/150\n",
      "167/167 [==============================] - 0s 238us/step - loss: 0.4861 - accuracy: 0.7545 - val_loss: 0.6270 - val_accuracy: 0.6190\n",
      "Epoch 103/150\n",
      "167/167 [==============================] - 0s 199us/step - loss: 0.4900 - accuracy: 0.7665 - val_loss: 0.6358 - val_accuracy: 0.7143\n",
      "Epoch 104/150\n",
      "167/167 [==============================] - 0s 199us/step - loss: 0.4817 - accuracy: 0.7605 - val_loss: 0.6468 - val_accuracy: 0.6429\n",
      "Epoch 105/150\n",
      "167/167 [==============================] - 0s 193us/step - loss: 0.4759 - accuracy: 0.7545 - val_loss: 0.6406 - val_accuracy: 0.6905\n",
      "Epoch 106/150\n",
      "167/167 [==============================] - 0s 200us/step - loss: 0.4782 - accuracy: 0.7725 - val_loss: 0.6367 - val_accuracy: 0.6667\n",
      "Epoch 107/150\n",
      "167/167 [==============================] - 0s 189us/step - loss: 0.4603 - accuracy: 0.7784 - val_loss: 0.6381 - val_accuracy: 0.6667\n",
      "Epoch 108/150\n",
      "167/167 [==============================] - 0s 234us/step - loss: 0.4865 - accuracy: 0.7365 - val_loss: 0.6383 - val_accuracy: 0.6905\n",
      "Epoch 109/150\n",
      "167/167 [==============================] - 0s 203us/step - loss: 0.4593 - accuracy: 0.7725 - val_loss: 0.6429 - val_accuracy: 0.6429\n",
      "Epoch 110/150\n",
      "167/167 [==============================] - 0s 203us/step - loss: 0.5013 - accuracy: 0.7365 - val_loss: 0.6415 - val_accuracy: 0.6429\n",
      "Epoch 111/150\n",
      "167/167 [==============================] - 0s 191us/step - loss: 0.4680 - accuracy: 0.7425 - val_loss: 0.6445 - val_accuracy: 0.6429\n",
      "Epoch 112/150\n",
      "167/167 [==============================] - 0s 207us/step - loss: 0.4745 - accuracy: 0.7784 - val_loss: 0.6438 - val_accuracy: 0.6190\n",
      "Epoch 113/150\n"
     ]
    },
    {
     "name": "stdout",
     "output_type": "stream",
     "text": [
      "167/167 [==============================] - 0s 200us/step - loss: 0.4778 - accuracy: 0.7665 - val_loss: 0.6443 - val_accuracy: 0.6190\n",
      "Epoch 114/150\n",
      "167/167 [==============================] - 0s 200us/step - loss: 0.4411 - accuracy: 0.7545 - val_loss: 0.6453 - val_accuracy: 0.6667\n",
      "Epoch 115/150\n",
      "167/167 [==============================] - 0s 217us/step - loss: 0.4840 - accuracy: 0.7605 - val_loss: 0.6459 - val_accuracy: 0.6429\n",
      "Epoch 116/150\n",
      "167/167 [==============================] - 0s 195us/step - loss: 0.4482 - accuracy: 0.7425 - val_loss: 0.6520 - val_accuracy: 0.6190\n",
      "Epoch 117/150\n",
      "167/167 [==============================] - 0s 255us/step - loss: 0.4729 - accuracy: 0.7485 - val_loss: 0.6490 - val_accuracy: 0.6190\n",
      "Epoch 118/150\n",
      "167/167 [==============================] - 0s 210us/step - loss: 0.4775 - accuracy: 0.7605 - val_loss: 0.6384 - val_accuracy: 0.6190\n",
      "Epoch 119/150\n",
      "167/167 [==============================] - 0s 256us/step - loss: 0.4559 - accuracy: 0.7485 - val_loss: 0.6493 - val_accuracy: 0.6429\n",
      "Epoch 120/150\n",
      "167/167 [==============================] - 0s 241us/step - loss: 0.4842 - accuracy: 0.7485 - val_loss: 0.6556 - val_accuracy: 0.6190\n",
      "Epoch 121/150\n",
      "167/167 [==============================] - 0s 229us/step - loss: 0.4595 - accuracy: 0.7725 - val_loss: 0.6695 - val_accuracy: 0.5714\n",
      "Epoch 122/150\n",
      "167/167 [==============================] - 0s 345us/step - loss: 0.4618 - accuracy: 0.7305 - val_loss: 0.6583 - val_accuracy: 0.5952\n",
      "Epoch 123/150\n",
      "167/167 [==============================] - 0s 237us/step - loss: 0.5244 - accuracy: 0.7246 - val_loss: 0.6572 - val_accuracy: 0.6429\n",
      "Epoch 124/150\n",
      "167/167 [==============================] - 0s 245us/step - loss: 0.4650 - accuracy: 0.7485 - val_loss: 0.6554 - val_accuracy: 0.5952\n",
      "Epoch 125/150\n",
      "167/167 [==============================] - 0s 276us/step - loss: 0.4760 - accuracy: 0.7425 - val_loss: 0.6650 - val_accuracy: 0.6190\n",
      "Epoch 126/150\n",
      "167/167 [==============================] - 0s 198us/step - loss: 0.4647 - accuracy: 0.7365 - val_loss: 0.6579 - val_accuracy: 0.6190\n",
      "Epoch 127/150\n",
      "167/167 [==============================] - 0s 199us/step - loss: 0.4558 - accuracy: 0.7784 - val_loss: 0.6502 - val_accuracy: 0.6429\n",
      "Epoch 128/150\n",
      "167/167 [==============================] - 0s 224us/step - loss: 0.4724 - accuracy: 0.7964 - val_loss: 0.6584 - val_accuracy: 0.6429\n",
      "Epoch 129/150\n",
      "167/167 [==============================] - 0s 185us/step - loss: 0.4559 - accuracy: 0.7425 - val_loss: 0.6647 - val_accuracy: 0.6429\n",
      "Epoch 130/150\n",
      "167/167 [==============================] - 0s 187us/step - loss: 0.4822 - accuracy: 0.7365 - val_loss: 0.6516 - val_accuracy: 0.6429\n",
      "Epoch 131/150\n",
      "167/167 [==============================] - 0s 184us/step - loss: 0.4355 - accuracy: 0.7844 - val_loss: 0.6466 - val_accuracy: 0.6429\n",
      "Epoch 132/150\n",
      "167/167 [==============================] - 0s 187us/step - loss: 0.4912 - accuracy: 0.7485 - val_loss: 0.6487 - val_accuracy: 0.6190\n",
      "Epoch 133/150\n",
      "167/167 [==============================] - 0s 237us/step - loss: 0.4391 - accuracy: 0.7725 - val_loss: 0.6530 - val_accuracy: 0.6667\n",
      "Epoch 134/150\n",
      "167/167 [==============================] - 0s 180us/step - loss: 0.4537 - accuracy: 0.7485 - val_loss: 0.6480 - val_accuracy: 0.6190\n",
      "Epoch 135/150\n",
      "167/167 [==============================] - 0s 206us/step - loss: 0.4276 - accuracy: 0.7784 - val_loss: 0.6565 - val_accuracy: 0.6667\n",
      "Epoch 136/150\n",
      "167/167 [==============================] - 0s 205us/step - loss: 0.4422 - accuracy: 0.7725 - val_loss: 0.6642 - val_accuracy: 0.6667\n",
      "Epoch 137/150\n",
      "167/167 [==============================] - 0s 196us/step - loss: 0.4252 - accuracy: 0.7844 - val_loss: 0.6723 - val_accuracy: 0.6190\n",
      "Epoch 138/150\n",
      "167/167 [==============================] - 0s 195us/step - loss: 0.4445 - accuracy: 0.7605 - val_loss: 0.6779 - val_accuracy: 0.6667\n",
      "Epoch 139/150\n",
      "167/167 [==============================] - 0s 188us/step - loss: 0.4872 - accuracy: 0.7725 - val_loss: 0.6502 - val_accuracy: 0.6190\n",
      "Epoch 140/150\n",
      "167/167 [==============================] - 0s 190us/step - loss: 0.4624 - accuracy: 0.7665 - val_loss: 0.6560 - val_accuracy: 0.6190\n",
      "Epoch 141/150\n",
      "167/167 [==============================] - 0s 207us/step - loss: 0.4331 - accuracy: 0.7844 - val_loss: 0.6625 - val_accuracy: 0.6667\n",
      "Epoch 142/150\n",
      "167/167 [==============================] - 0s 206us/step - loss: 0.4775 - accuracy: 0.7365 - val_loss: 0.6601 - val_accuracy: 0.6429\n",
      "Epoch 143/150\n",
      "167/167 [==============================] - 0s 211us/step - loss: 0.4327 - accuracy: 0.7246 - val_loss: 0.6611 - val_accuracy: 0.6190\n",
      "Epoch 144/150\n",
      "167/167 [==============================] - 0s 201us/step - loss: 0.4626 - accuracy: 0.7425 - val_loss: 0.6747 - val_accuracy: 0.5952\n",
      "Epoch 145/150\n",
      "167/167 [==============================] - 0s 197us/step - loss: 0.4580 - accuracy: 0.7305 - val_loss: 0.6818 - val_accuracy: 0.5952\n",
      "Epoch 146/150\n",
      "167/167 [==============================] - 0s 191us/step - loss: 0.4528 - accuracy: 0.7485 - val_loss: 0.6780 - val_accuracy: 0.5952\n",
      "Epoch 147/150\n",
      "167/167 [==============================] - 0s 166us/step - loss: 0.4069 - accuracy: 0.7425 - val_loss: 0.6787 - val_accuracy: 0.6429\n",
      "Epoch 148/150\n",
      "167/167 [==============================] - 0s 169us/step - loss: 0.4546 - accuracy: 0.7725 - val_loss: 0.6676 - val_accuracy: 0.6429\n",
      "Epoch 149/150\n",
      "167/167 [==============================] - 0s 313us/step - loss: 0.4173 - accuracy: 0.7964 - val_loss: 0.6740 - val_accuracy: 0.5238\n",
      "Epoch 150/150\n",
      "167/167 [==============================] - 0s 234us/step - loss: 0.4752 - accuracy: 0.7365 - val_loss: 0.6612 - val_accuracy: 0.6190\n"
     ]
    }
   ],
   "source": [
    "history = model.fit(train_x, train_y, batch_size=32, epochs=150, validation_split=0.2)"
   ]
  },
  {
   "cell_type": "markdown",
   "metadata": {},
   "source": [
    "## Learning Curves"
   ]
  },
  {
   "cell_type": "markdown",
   "metadata": {},
   "source": [
    "__Question__: How to use Learning Curves to Diagnose Machine Learning Model Performance?"
   ]
  },
  {
   "cell_type": "markdown",
   "metadata": {},
   "source": [
    "This lecture aim is to define and study an important tool for diagnostic of a machine learning algorithm: __learning curves__.\n",
    "\n",
    "> A learning curve is a plot of model learning performance over experience or time.\n",
    "\n",
    "In other words, one can say that _Learning Curves_ provide a mathematical representation of the learning process that takes place as task repetition occurs."
   ]
  },
  {
   "cell_type": "markdown",
   "metadata": {},
   "source": [
    "The model can be evaluated on the training dataset and on a hold out validation dataset after each update during training and plots of the measured performance can created to show learning curves.\n",
    "\n",
    "Reviewing learning curves of models during training can be used to diagnose problems with learning, such as an underfit or overfit model, as well as whether the training and validation datasets are suitably representative."
   ]
  },
  {
   "cell_type": "markdown",
   "metadata": {},
   "source": [
    "An interesting, but quite technical, reading may be found [here](https://www.sciencedirect.com/science/article/abs/pii/S016981411100062X)."
   ]
  },
  {
   "cell_type": "markdown",
   "metadata": {},
   "source": [
    "First of all we need to choose a way to parametrise the learning performance. \n",
    "This is done through a metric. One can be, for instance, the learning accuracy, or precision, etc."
   ]
  },
  {
   "cell_type": "code",
   "execution_count": 41,
   "metadata": {},
   "outputs": [
    {
     "name": "stdout",
     "output_type": "stream",
     "text": [
      "dict_keys(['val_loss', 'val_accuracy', 'loss', 'accuracy'])\n"
     ]
    },
    {
     "data": {
      "image/png": "[encoded data removed]",
      "text/plain": [
       "<Figure size 1080x720 with 1 Axes>"
      ]
     },
     "metadata": {
      "needs_background": "light"
     },
     "output_type": "display_data"
    },
    {
     "data": {
      "image/png": "[encoded data removed]",
      "text/plain": [
       "<Figure size 1080x720 with 1 Axes>"
      ]
     },
     "metadata": {
      "needs_background": "light"
     },
     "output_type": "display_data"
    }
   ],
   "source": [
    "print(history.history.keys())\n",
    "\n",
    "plt.figure(figsize=(15,10))\n",
    "\n",
    "# summarize history for accuracy\n",
    "plt.plot(history.history['accuracy'])\n",
    "plt.plot(history.history['val_accuracy'])\n",
    "plt.title('model accuracy')\n",
    "plt.ylabel('accuracy')\n",
    "plt.xlabel('epoch')\n",
    "plt.legend(['train', 'val'], loc='upper left')\n",
    "plt.show()\n",
    "\n",
    "plt.figure(figsize=(15,10))\n",
    "# summarize history for loss\n",
    "plt.plot(history.history['loss'])\n",
    "plt.plot(history.history['val_loss'])\n",
    "plt.title('model loss')\n",
    "plt.ylabel('loss')\n",
    "plt.xlabel('epoch')\n",
    "plt.legend(['train', 'val'], loc='upper left')\n",
    "plt.show()"
   ]
  },
  {
   "cell_type": "code",
   "execution_count": 42,
   "metadata": {
    "scrolled": true
   },
   "outputs": [
    {
     "name": "stdout",
     "output_type": "stream",
     "text": [
      "50/50 [==============================] - 0s 620us/step\n",
      "\n",
      "# Evaluate\n"
     ]
    },
    {
     "data": {
      "text/plain": [
       "{'loss': 0.6102779996395111, 'accuracy': 0.6399999856948853}"
      ]
     },
     "execution_count": 42,
     "metadata": {},
     "output_type": "execute_result"
    }
   ],
   "source": [
    "res = model.evaluate(test_x, test_y.T)\n",
    "print('\\n# Evaluate')\n",
    "dict(zip(model.metrics_names, res))"
   ]
  },
  {
   "cell_type": "markdown",
   "metadata": {},
   "source": [
    "## Test with your picture"
   ]
  },
  {
   "cell_type": "code",
   "execution_count": 43,
   "metadata": {},
   "outputs": [
    {
     "name": "stdout",
     "output_type": "stream",
     "text": [
      "y = 0.5239598, your L-layer model predicts a \"cat\" picture.\n"
     ]
    },
    {
     "data": {
      "image/png": "[encoded data removed]",
      "text/plain": [
       "<Figure size 360x288 with 1 Axes>"
      ]
     },
     "metadata": {
      "needs_background": "light"
     },
     "output_type": "display_data"
    }
   ],
   "source": [
    "my_image = \"Giampiero.jpeg\" # change this to the name of your image file \n",
    "my_label_y = [1] # the true class of your image (1 -> cat, 0 -> non-cat)\n",
    "\n",
    "fname = \"images/\" + my_image\n",
    "image = np.array(imageio.imread(fname))\n",
    "image = image/255.\n",
    "my_image = skimage.transform.resize(image, (num_px,num_px)).reshape((1, num_px*num_px*3))\n",
    "my_predicted_image = model.predict(my_image)\n",
    "\n",
    "plt.imshow(image)\n",
    "print (\"y = \" + str(np.squeeze(my_predicted_image)) + \", your L-layer model predicts a \\\"\" + classes[int(np.round(my_predicted_image)),].decode(\"utf-8\") +  \"\\\" picture.\")"
   ]
  },
  {
   "cell_type": "code",
   "execution_count": null,
   "metadata": {},
   "outputs": [],
   "source": []
  }
 ],
 "metadata": {
  "kernelspec": {
   "display_name": "Python 3",
   "language": "python",
   "name": "python3"
  },
  "language_info": {
   "codemirror_mode": {
    "name": "ipython",
    "version": 3
   },
   "file_extension": ".py",
   "mimetype": "text/x-python",
   "name": "python",
   "nbconvert_exporter": "python",
   "pygments_lexer": "ipython3",
   "version": "3.7.6"
  }
 },
 "nbformat": 4,
 "nbformat_minor": 4
}
